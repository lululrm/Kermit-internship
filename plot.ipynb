{
 "cells": [
  {
   "cell_type": "code",
   "execution_count": 1,
   "id": "8ac79230",
   "metadata": {},
   "outputs": [],
   "source": [
    "import pandas as pd\n",
    "import numpy as np\n",
    "import matplotlib.pyplot as plt\n",
    "import seaborn as sns\n",
    "from sklearn.decomposition import PCA\n",
    "from sklearn.preprocessing import StandardScaler\n",
    "import plotly.express as px\n",
    "import plotly.graph_objects as go"
   ]
  },
  {
   "cell_type": "code",
   "execution_count": 2,
   "id": "83a6ee3f",
   "metadata": {},
   "outputs": [
    {
     "data": {
      "text/html": [
       "<div>\n",
       "<style scoped>\n",
       "    .dataframe tbody tr th:only-of-type {\n",
       "        vertical-align: middle;\n",
       "    }\n",
       "\n",
       "    .dataframe tbody tr th {\n",
       "        vertical-align: top;\n",
       "    }\n",
       "\n",
       "    .dataframe thead th {\n",
       "        text-align: right;\n",
       "    }\n",
       "</style>\n",
       "<table border=\"1\" class=\"dataframe\">\n",
       "  <thead>\n",
       "    <tr style=\"text-align: right;\">\n",
       "      <th></th>\n",
       "      <th>species</th>\n",
       "      <th>am</th>\n",
       "      <th>Wwi</th>\n",
       "      <th>Ri</th>\n",
       "      <th>Wwb</th>\n",
       "      <th>Li</th>\n",
       "      <th>ab</th>\n",
       "    </tr>\n",
       "  </thead>\n",
       "  <tbody>\n",
       "    <tr>\n",
       "      <th>0</th>\n",
       "      <td>Symsagittifera_roscoffensis</td>\n",
       "      <td>-2.263097</td>\n",
       "      <td>-2.681943</td>\n",
       "      <td>0.018237</td>\n",
       "      <td>-1.610842</td>\n",
       "      <td>-2.223594</td>\n",
       "      <td>-0.870294</td>\n",
       "    </tr>\n",
       "    <tr>\n",
       "      <th>1</th>\n",
       "      <td>Aequipecten_opercularis</td>\n",
       "      <td>-0.059093</td>\n",
       "      <td>-0.275378</td>\n",
       "      <td>1.639591</td>\n",
       "      <td>-2.351822</td>\n",
       "      <td>-0.854880</td>\n",
       "      <td>-1.373181</td>\n",
       "    </tr>\n",
       "    <tr>\n",
       "      <th>2</th>\n",
       "      <td>Mimachlamys_varia</td>\n",
       "      <td>-0.400497</td>\n",
       "      <td>-0.622221</td>\n",
       "      <td>1.639591</td>\n",
       "      <td>-2.351822</td>\n",
       "      <td>-0.944853</td>\n",
       "      <td>-1.373181</td>\n",
       "    </tr>\n",
       "    <tr>\n",
       "      <th>3</th>\n",
       "      <td>Mytilus_edulis</td>\n",
       "      <td>0.778895</td>\n",
       "      <td>-0.231961</td>\n",
       "      <td>1.392184</td>\n",
       "      <td>-2.764869</td>\n",
       "      <td>-0.464663</td>\n",
       "      <td>-3.043736</td>\n",
       "    </tr>\n",
       "    <tr>\n",
       "      <th>4</th>\n",
       "      <td>Panopea_abbreviata</td>\n",
       "      <td>2.507146</td>\n",
       "      <td>0.675057</td>\n",
       "      <td>2.385215</td>\n",
       "      <td>-1.703486</td>\n",
       "      <td>-0.074446</td>\n",
       "      <td>-1.876068</td>\n",
       "    </tr>\n",
       "  </tbody>\n",
       "</table>\n",
       "</div>"
      ],
      "text/plain": [
       "                       species        am       Wwi        Ri       Wwb  \\\n",
       "0  Symsagittifera_roscoffensis -2.263097 -2.681943  0.018237 -1.610842   \n",
       "1      Aequipecten_opercularis -0.059093 -0.275378  1.639591 -2.351822   \n",
       "2            Mimachlamys_varia -0.400497 -0.622221  1.639591 -2.351822   \n",
       "3               Mytilus_edulis  0.778895 -0.231961  1.392184 -2.764869   \n",
       "4           Panopea_abbreviata  2.507146  0.675057  2.385215 -1.703486   \n",
       "\n",
       "         Li        ab  \n",
       "0 -2.223594 -0.870294  \n",
       "1 -0.854880 -1.373181  \n",
       "2 -0.944853 -1.373181  \n",
       "3 -0.464663 -3.043736  \n",
       "4 -0.074446 -1.876068  "
      ]
     },
     "metadata": {},
     "output_type": "display_data"
    },
    {
     "data": {
      "text/html": [
       "<div>\n",
       "<style scoped>\n",
       "    .dataframe tbody tr th:only-of-type {\n",
       "        vertical-align: middle;\n",
       "    }\n",
       "\n",
       "    .dataframe tbody tr th {\n",
       "        vertical-align: top;\n",
       "    }\n",
       "\n",
       "    .dataframe thead th {\n",
       "        text-align: right;\n",
       "    }\n",
       "</style>\n",
       "<table border=\"1\" class=\"dataframe\">\n",
       "  <thead>\n",
       "    <tr style=\"text-align: right;\">\n",
       "      <th></th>\n",
       "      <th>ID</th>\n",
       "      <th>ecozone</th>\n",
       "      <th>gender</th>\n",
       "      <th>reproduction</th>\n",
       "      <th>embryo</th>\n",
       "    </tr>\n",
       "  </thead>\n",
       "  <tbody>\n",
       "    <tr>\n",
       "      <th>0</th>\n",
       "      <td>Symsagittifera_roscoffensis</td>\n",
       "      <td>M</td>\n",
       "      <td>H</td>\n",
       "      <td>O</td>\n",
       "      <td>M</td>\n",
       "    </tr>\n",
       "    <tr>\n",
       "      <th>1</th>\n",
       "      <td>Aequipecten_opercularis</td>\n",
       "      <td>M</td>\n",
       "      <td>H</td>\n",
       "      <td>O</td>\n",
       "      <td>M</td>\n",
       "    </tr>\n",
       "    <tr>\n",
       "      <th>2</th>\n",
       "      <td>Mimachlamys_varia</td>\n",
       "      <td>M</td>\n",
       "      <td>H</td>\n",
       "      <td>O</td>\n",
       "      <td>M</td>\n",
       "    </tr>\n",
       "    <tr>\n",
       "      <th>3</th>\n",
       "      <td>Mytilus_edulis</td>\n",
       "      <td>M</td>\n",
       "      <td>D</td>\n",
       "      <td>O</td>\n",
       "      <td>M</td>\n",
       "    </tr>\n",
       "    <tr>\n",
       "      <th>4</th>\n",
       "      <td>Panopea_abbreviata</td>\n",
       "      <td>M</td>\n",
       "      <td>D</td>\n",
       "      <td>O</td>\n",
       "      <td>M</td>\n",
       "    </tr>\n",
       "  </tbody>\n",
       "</table>\n",
       "</div>"
      ],
      "text/plain": [
       "                            ID ecozone gender reproduction embryo\n",
       "0  Symsagittifera_roscoffensis       M      H            O      M\n",
       "1      Aequipecten_opercularis       M      H            O      M\n",
       "2            Mimachlamys_varia       M      H            O      M\n",
       "3               Mytilus_edulis       M      D            O      M\n",
       "4           Panopea_abbreviata       M      D            O      M"
      ]
     },
     "metadata": {},
     "output_type": "display_data"
    }
   ],
   "source": [
    "# Load the dataset\n",
    "df_life = pd.read_csv('data/lifehistory_df.csv')\n",
    "df_basiceco = pd.read_csv('data/basicecodf.csv')\n",
    "\n",
    "display(df_life.head())\n",
    "display(df_basiceco.head())"
   ]
  },
  {
   "cell_type": "code",
   "execution_count": 3,
   "id": "4f10c755",
   "metadata": {},
   "outputs": [
    {
     "data": {
      "text/html": [
       "<div>\n",
       "<style scoped>\n",
       "    .dataframe tbody tr th:only-of-type {\n",
       "        vertical-align: middle;\n",
       "    }\n",
       "\n",
       "    .dataframe tbody tr th {\n",
       "        vertical-align: top;\n",
       "    }\n",
       "\n",
       "    .dataframe thead th {\n",
       "        text-align: right;\n",
       "    }\n",
       "</style>\n",
       "<table border=\"1\" class=\"dataframe\">\n",
       "  <thead>\n",
       "    <tr style=\"text-align: right;\">\n",
       "      <th></th>\n",
       "      <th>species</th>\n",
       "      <th>PC1</th>\n",
       "      <th>PC2</th>\n",
       "    </tr>\n",
       "  </thead>\n",
       "  <tbody>\n",
       "    <tr>\n",
       "      <th>0</th>\n",
       "      <td>Symsagittifera_roscoffensis</td>\n",
       "      <td>-4.332599</td>\n",
       "      <td>-1.319409</td>\n",
       "    </tr>\n",
       "    <tr>\n",
       "      <th>1</th>\n",
       "      <td>Aequipecten_opercularis</td>\n",
       "      <td>-2.418778</td>\n",
       "      <td>1.949067</td>\n",
       "    </tr>\n",
       "    <tr>\n",
       "      <th>2</th>\n",
       "      <td>Mimachlamys_varia</td>\n",
       "      <td>-2.773367</td>\n",
       "      <td>1.725362</td>\n",
       "    </tr>\n",
       "    <tr>\n",
       "      <th>3</th>\n",
       "      <td>Mytilus_edulis</td>\n",
       "      <td>-2.602300</td>\n",
       "      <td>2.953991</td>\n",
       "    </tr>\n",
       "    <tr>\n",
       "      <th>4</th>\n",
       "      <td>Panopea_abbreviata</td>\n",
       "      <td>-0.460463</td>\n",
       "      <td>3.460949</td>\n",
       "    </tr>\n",
       "  </tbody>\n",
       "</table>\n",
       "</div>"
      ],
      "text/plain": [
       "                       species       PC1       PC2\n",
       "0  Symsagittifera_roscoffensis -4.332599 -1.319409\n",
       "1      Aequipecten_opercularis -2.418778  1.949067\n",
       "2            Mimachlamys_varia -2.773367  1.725362\n",
       "3               Mytilus_edulis -2.602300  2.953991\n",
       "4           Panopea_abbreviata -0.460463  3.460949"
      ]
     },
     "execution_count": 3,
     "metadata": {},
     "output_type": "execute_result"
    }
   ],
   "source": [
    "features = df_life[['am', 'Wwi', 'Ri', 'Wwb', 'Li', 'ab']]\n",
    "\n",
    "X = StandardScaler().fit_transform(features)\n",
    "\n",
    "pca = PCA(n_components=2)\n",
    "principal_components = pca.fit_transform(X)\n",
    "\n",
    "pca_df = pd.DataFrame(data=principal_components, columns=['PC1', 'PC2'])\n",
    "final_df = pd.concat([ df_life[['species']], pca_df], axis = 1)\n",
    "final_df.head()"
   ]
  },
  {
   "cell_type": "code",
   "execution_count": 4,
   "id": "721f99fe",
   "metadata": {},
   "outputs": [
    {
     "name": "stdout",
     "output_type": "stream",
     "text": [
      "PC1: 47.39%\n",
      "PC2: 37.59%\n"
     ]
    }
   ],
   "source": [
    "explained_variance = pca.explained_variance_ratio_\n",
    "\n",
    "pc1_var = explained_variance[0] * 100\n",
    "pc2_var = explained_variance[1] * 100\n",
    "\n",
    "print(f\"PC1: {pc1_var:.2f}%\")\n",
    "print(f\"PC2: {pc2_var:.2f}%\")"
   ]
  },
  {
   "cell_type": "code",
   "execution_count": 5,
   "id": "9508d065",
   "metadata": {},
   "outputs": [
    {
     "data": {
      "text/html": [
       "<div>\n",
       "<style scoped>\n",
       "    .dataframe tbody tr th:only-of-type {\n",
       "        vertical-align: middle;\n",
       "    }\n",
       "\n",
       "    .dataframe tbody tr th {\n",
       "        vertical-align: top;\n",
       "    }\n",
       "\n",
       "    .dataframe thead th {\n",
       "        text-align: right;\n",
       "    }\n",
       "</style>\n",
       "<table border=\"1\" class=\"dataframe\">\n",
       "  <thead>\n",
       "    <tr style=\"text-align: right;\">\n",
       "      <th></th>\n",
       "      <th>species</th>\n",
       "      <th>PC1</th>\n",
       "      <th>PC2</th>\n",
       "      <th>Wwi</th>\n",
       "      <th>Ri</th>\n",
       "      <th>ecozone</th>\n",
       "      <th>gender</th>\n",
       "      <th>reproduction</th>\n",
       "      <th>embryo</th>\n",
       "    </tr>\n",
       "  </thead>\n",
       "  <tbody>\n",
       "    <tr>\n",
       "      <th>0</th>\n",
       "      <td>Symsagittifera_roscoffensis</td>\n",
       "      <td>-4.332599</td>\n",
       "      <td>-1.319409</td>\n",
       "      <td>-2.681943</td>\n",
       "      <td>0.018237</td>\n",
       "      <td>M</td>\n",
       "      <td>H</td>\n",
       "      <td>O</td>\n",
       "      <td>M</td>\n",
       "    </tr>\n",
       "    <tr>\n",
       "      <th>1</th>\n",
       "      <td>Aequipecten_opercularis</td>\n",
       "      <td>-2.418778</td>\n",
       "      <td>1.949067</td>\n",
       "      <td>-0.275378</td>\n",
       "      <td>1.639591</td>\n",
       "      <td>M</td>\n",
       "      <td>H</td>\n",
       "      <td>O</td>\n",
       "      <td>M</td>\n",
       "    </tr>\n",
       "    <tr>\n",
       "      <th>2</th>\n",
       "      <td>Mimachlamys_varia</td>\n",
       "      <td>-2.773367</td>\n",
       "      <td>1.725362</td>\n",
       "      <td>-0.622221</td>\n",
       "      <td>1.639591</td>\n",
       "      <td>M</td>\n",
       "      <td>H</td>\n",
       "      <td>O</td>\n",
       "      <td>M</td>\n",
       "    </tr>\n",
       "    <tr>\n",
       "      <th>3</th>\n",
       "      <td>Mytilus_edulis</td>\n",
       "      <td>-2.602300</td>\n",
       "      <td>2.953991</td>\n",
       "      <td>-0.231961</td>\n",
       "      <td>1.392184</td>\n",
       "      <td>M</td>\n",
       "      <td>D</td>\n",
       "      <td>O</td>\n",
       "      <td>M</td>\n",
       "    </tr>\n",
       "    <tr>\n",
       "      <th>4</th>\n",
       "      <td>Panopea_abbreviata</td>\n",
       "      <td>-0.460463</td>\n",
       "      <td>3.460949</td>\n",
       "      <td>0.675057</td>\n",
       "      <td>2.385215</td>\n",
       "      <td>M</td>\n",
       "      <td>D</td>\n",
       "      <td>O</td>\n",
       "      <td>M</td>\n",
       "    </tr>\n",
       "  </tbody>\n",
       "</table>\n",
       "</div>"
      ],
      "text/plain": [
       "                       species       PC1       PC2       Wwi        Ri  \\\n",
       "0  Symsagittifera_roscoffensis -4.332599 -1.319409 -2.681943  0.018237   \n",
       "1      Aequipecten_opercularis -2.418778  1.949067 -0.275378  1.639591   \n",
       "2            Mimachlamys_varia -2.773367  1.725362 -0.622221  1.639591   \n",
       "3               Mytilus_edulis -2.602300  2.953991 -0.231961  1.392184   \n",
       "4           Panopea_abbreviata -0.460463  3.460949  0.675057  2.385215   \n",
       "\n",
       "  ecozone gender reproduction embryo  \n",
       "0       M      H            O      M  \n",
       "1       M      H            O      M  \n",
       "2       M      H            O      M  \n",
       "3       M      D            O      M  \n",
       "4       M      D            O      M  "
      ]
     },
     "execution_count": 5,
     "metadata": {},
     "output_type": "execute_result"
    }
   ],
   "source": [
    "final_df['Wwi'] = df_life['Wwi']\n",
    "final_df['Ri'] = df_life['Ri']\n",
    "\n",
    "final_df['ecozone'] = df_basiceco['ecozone']\n",
    "final_df['gender'] = df_basiceco['gender']\n",
    "final_df['reproduction'] = df_basiceco['reproduction']\n",
    "final_df['embryo'] = df_basiceco['embryo']\n",
    "\n",
    "final_df.head()"
   ]
  },
  {
   "cell_type": "code",
   "execution_count": 6,
   "id": "24cd4491",
   "metadata": {},
   "outputs": [],
   "source": [
    "loadings = pca.components_.T * np.sqrt(explained_variance)"
   ]
  },
  {
   "cell_type": "code",
   "execution_count": 7,
   "id": "55bb5661",
   "metadata": {},
   "outputs": [
    {
     "data": {
      "application/vnd.plotly.v1+json": {
       "config": {
        "plotlyServerURL": "https://plot.ly"
       },
       "data": [
        {
         "hovertemplate": "<b>%{hovertext}</b><br><br>color=M<br>PC1=%{x}<br>PC2=%{y}<br>size=%{marker.size}<extra></extra>",
         "hovertext": [
          "Symsagittifera_roscoffensis",
          "Aequipecten_opercularis",
          "Mimachlamys_varia",
          "Mytilus_edulis",
          "Panopea_abbreviata",
          "Tridacna_gigas",
          "Donax_trunculus",
          "Teredo_navalis",
          "Callista_chione",
          "Chamelea_gallina",
          "Dosinia_exoleta",
          "Phorcus_lineatus",
          "Urosalpinx_cinerea",
          "Aplysia_californica",
          "Cuthona_nana",
          "Nautilus_pompilius",
          "Phoronis_pallida",
          "Phoronis_psammophila",
          "Branchotenthes_octohamatus",
          "Hyperoche_medusarum",
          "Fenneropenaeus_chinensis",
          "Palaemonetes_pugio",
          "Palaemon_elegans",
          "Paralithodes_camtschaticus",
          "Pagurus_bernhardus",
          "Cancer_pagurus",
          "Macrocheira_kaempferi",
          "Chionoecetes_opilio",
          "Dissodactylus_primitivus",
          "Amphiura_filiformis",
          "Clypeaster_subdepressus",
          "Holothuria_scabra",
          "Stichopus_vastus",
          "Branchiostoma_floridae",
          "Ascidiella_aspersa",
          "Boltenia_echinata",
          "Styela_plicata",
          "Hemiscyllium_ocellatum",
          "Orectolobus_halei",
          "Orectolobus_hutchinsi",
          "Orectolobus_maculatus",
          "Orectolobus_ornatus",
          "Poroderma_africanum",
          "Scyliorhinus_canicula",
          "Triakis_scyllium",
          "Triakis_semifasciata",
          "Galeorhinus_galeus",
          "Hemitriakis_japanica",
          "Carcharhinus_leucas",
          "Galeocerdo_cuvier",
          "Negaprion_brevirostris",
          "Loxodon_macrorhinus",
          "Scoliodon_laticaudus",
          "Carcharias_taurus",
          "Lamna_ditropis",
          "Lamna_nasus",
          "Isurus_oxyrinchus",
          "Carcharodon_carcharias",
          "Mitsukurina_owstoni",
          "Deania_calceus",
          "Centroscymnus_plunketi",
          "Dalatias_licha",
          "Leucoraja_naevus",
          "Raja_clavata",
          "Raja_montagui",
          "Torpedo_marmorata",
          "Rhinobatos_productus",
          "Mobula_birostris",
          "Acipenser_medirostris",
          "Acipenser_transmontanus",
          "Huso_huso",
          "Elops_saurus",
          "Halosauropsis_macrochir",
          "Anguilla_anguilla",
          "Congresox_talabonoides",
          "Muraenesox_bagio",
          "Muraenesox_cinereus",
          "Coilia_nasus",
          "Setipinna_phasa",
          "Setipinna_taty",
          "Thryssa_aestuaria",
          "Thryssa_hamiltonii",
          "Thryssa_setirostris",
          "Anchoa_hepsetus",
          "Anchoa_mitchilli",
          "Anchoa_panamensis",
          "Cetengraulis_edentulus",
          "Cetengraulis_mysticetus",
          "Encrasicholina_devisi",
          "Encrasicholina_heteroloba",
          "Encrasicholina_punctifer",
          "Encrasicholina_purpurea",
          "Engraulis_anchoita",
          "Engraulis_australis",
          "Engraulis_capensis",
          "Engraulis_mordax",
          "Engraulis_ringens",
          "Lycengraulis_grossidens",
          "Stolephorus_carpentariae",
          "Stolephorus_commersonnii",
          "Stolephorus_indicus",
          "Stolephorus_insularis",
          "Stolephorus_nelsoni",
          "Stolephorus_waitei",
          "Ilisha_africana",
          "Pellona_ditchela",
          "Pellona_harroweri",
          "Dussumieria_acuta",
          "Clupea_bentincki",
          "Clupea_pallasii",
          "Strangomera_bentincki",
          "Brevoortia_patronus",
          "Brevoortia_tyrannus",
          "Sardina_pilchardus",
          "Pellonula_leonensis",
          "Anodontostoma_chacunda",
          "Amblygaster_sirm",
          "Escualosa_thoracata",
          "Konosirus_punctatus",
          "Sardinella_aurita",
          "Sardinella_albella",
          "Sardinella_brasiliensis",
          "Sardinella_fimbriata",
          "Sardinella_gibbosa",
          "Sardinella_lemuru",
          "Sardinella_longiceps",
          "Sardinella_maderensis",
          "Sardinella_melanura",
          "Sardinella_sindensis",
          "Sardinella_tawilis",
          "Sardinella_zunasi",
          "Harengula_clupeola",
          "Harengula_humeralis",
          "Harengula_jaguana",
          "Cnidoglanis_macrocephalus",
          "Plotosus_lineatus",
          "Osmerus_dentex",
          "Allocyttus_niger",
          "Allocyttus_verrucosus",
          "Pseudocyttus_maculatus",
          "Arctogadus_glacialis",
          "Gadus_chalcogrammus",
          "Gadus_macrocephalus",
          "Melanogrammus_aeglefinus",
          "Merlangius_merlangus",
          "Pollachius_virens",
          "Macruronus_novaezelandiae",
          "Merluccius_merluccius",
          "Urophycis_tenuis",
          "Myripristis_amaena",
          "Myripristis_murdjan",
          "Neoniphon_sammara",
          "Sargocentron_diadema",
          "Sargocentron_microstoma",
          "Sargocentron_rubrum",
          "Ostorhinchus_doederleini",
          "Trypauchen_vagina",
          "Aphia_minuta",
          "Glossogobius_giuris",
          "Gobius_ophiocephalus",
          "Gobius_vittatus",
          "Istigobius_decoratus",
          "Istigobius_goldmanni",
          "Rhinogobiops_nicholsii",
          "Sufflogobius_bibarbatus",
          "Trimma_benjamini",
          "Trimma_nasa",
          "Valenciennea_strigata",
          "Zosterisessor_ophiocephalus",
          "Acanthogobius_flavimanus",
          "Crystallogobius_linearis",
          "Deltentosteus_quadrimaculatus",
          "Gobionellus_microdon",
          "Lepidogobius_lepidus",
          "Pomatoschistus_microps",
          "Pomatoschistus_minutus",
          "Rhinogobius_brunneus",
          "Rhinogobius_giurinus",
          "Boleophthalmus_pectinirostris",
          "Parapocryptes_serperaster",
          "Hippocampus_erectus",
          "Hippocampus_guttulatus",
          "Hippocampus_hippocampus",
          "Hippocampus_kuda",
          "Hippocampus_reidi",
          "Hippocampus_whitei",
          "Hippocampus_zosterae",
          "Phycodurus_eques",
          "Phyllopteryx_taeniolatus",
          "Syngnathoides_biaculeatus",
          "Syngnathus_abaster",
          "Syngnathus_fuscus",
          "Syngnathus_taenionotus",
          "Macroramphosus_scolopax",
          "Macroramphosus_gracilis",
          "Arripis_georgianus",
          "Pomatomus_saltatrix",
          "Rastrelliger_brachysoma",
          "Rastrelliger_faughni",
          "Rastrelliger_kanagurta",
          "Scomber_colias",
          "Scomber_japonicus",
          "Acanthocybium_solandri",
          "Scomberomorus_maculatus",
          "Scomberomorus_munroi",
          "Scomberomorus_niphonius",
          "Scomberomorus_queenslandicus",
          "Gymnosarda_unicolor",
          "Sarda_chiliensis",
          "Sarda_orientalis",
          "Sarda_sarda",
          "Allothunnus_fallai",
          "Auxis_rochei",
          "Auxis_thazard",
          "Euthynnus_affinis",
          "Euthynnus_alletteratus",
          "Katsuwonus_pelamis",
          "Thunnus_alalunga",
          "Thunnus_albacares",
          "Thunnus_obesus",
          "Aphanopus_carbo",
          "Aphanopus_intermedius",
          "Lepturacanthus_savala",
          "Trichiurus_lepturus",
          "Trichiurus_lepturus_japonicus",
          "Ariomma_indica",
          "Hyperoglyphe_antarctica",
          "Psenopsis_anomala",
          "Seriolella_punctata",
          "Alepes_djedaba",
          "Alepes_kleinii",
          "Atropus_atropos",
          "Atule_mate",
          "Caranx_crysos",
          "Caranx_hippos",
          "Caranx_ignobilis",
          "Caranx_lugubris",
          "Caranx_melampygus",
          "Caranx_senegallus",
          "Caranx_tille",
          "Chloroscombrus_chrysurus",
          "Decapterus_kurroides",
          "Decapterus_macarellus",
          "Decapterus_macrosoma",
          "Decapterus_maruadsi",
          "Decapterus_punctatus",
          "Decapterus_russelli",
          "Decapterus_tabl",
          "Flavocaranx_bajad",
          "Gnathanodon_speciosus",
          "Megalaspis_cordyla",
          "Parastromateus_niger",
          "Pseudocaranx_dentex",
          "Selar_crumenophthalmus",
          "Selaroides_leptolepis",
          "Trachurus_indicus",
          "Trachurus_japonicus",
          "Trachurus_lathami",
          "Trachurus_mediterraneus",
          "Trachurus_murphyi",
          "Trachurus_novaezelandiae",
          "Trachurus_picturatus",
          "Trachurus_symmetricus",
          "Elagatis_bipinnulata",
          "Mene_maculata",
          "Rachycentron_canadum",
          "Kajikia_audax",
          "Tetrapturus_pfluegeri",
          "Centropomus_parallelus",
          "Lates_calcarifer",
          "Lates_longispinis",
          "Psettodes_erumei",
          "Cyclopsetta_chittendeni",
          "Cyclopsetta_querna",
          "Etropus_crossotus",
          "Atheresthes_evermanni",
          "Hippoglossus_stenolepis",
          "Hippoglossoides_platessoides",
          "Cleisthenes_pinetorum",
          "Eopsetta_jordani",
          "Isopsetta_isolepis",
          "Glyptocephalus_kitaharae",
          "Glyptocephalus_stelleri",
          "Microstomus_kitt",
          "Microstomus_pacificus",
          "Parophrys_vetulus",
          "Platichthys_flesus",
          "Pseudopleuronectes_americanus",
          "Pseudopleuronectes_yokohamae",
          "Verasper_moseri",
          "Verasper_variegatus",
          "Rhombosolea_leporina",
          "Rhombosolea_plebeia",
          "Lepidorhombus_whiffiagonis",
          "Lepidorhombus_boscii",
          "Scophthalmus_rhombus",
          "Cynoglossus_canariensis",
          "Cynoglossus_joyneri",
          "Cynoglossus_puncticeps",
          "Cynoglossus_semifasciatus",
          "Cynoglossus_senegalensis",
          "Cynoglossus_zanzibarensis",
          "Symphurus_plagiusa",
          "Dicologlossa_cuneata",
          "Monochirus_hispidus",
          "Pegusa_lascaris",
          "Acanthoclinus_littoreus",
          "Acanthochromis_polyacanthus",
          "Amphiprion_ocellaris",
          "Chromis_ternatensis",
          "Chromis_verater",
          "Chromis_viridis",
          "Chrysiptera_biocellata",
          "Dascyllus_albisella",
          "Dascyllus_aruanus",
          "Dascyllus_reticulatus",
          "Holacanthus_passer",
          "Hypsypops_rubicundus",
          "Parma_microlepis",
          "Plectroglyphidodon_dickii",
          "Pomacentrus_amboinensis",
          "Pomacentrus_coelestis",
          "Pomacentrus_moluccensis",
          "Pomacentrus_wardi",
          "Pycnochromis_margaritifer",
          "Stegastes_acapulcoensis",
          "Stegastes_arcifrons",
          "Stegastes_beebei",
          "Stegastes_flavilatus",
          "Stegastes_fuscus",
          "Stegastes_nigricans",
          "Stegastes_planifrons",
          "Stegastes_rectifraenum",
          "Pseudochromis_flavivertex",
          "Pseudochromis_fuscus",
          "Heterostichus_rostratus",
          "Acyrtops_beryllinus",
          "Atherina_presbyter",
          "Atherinella_brasiliensis",
          "Membras_martinica",
          "Ablennes_hians",
          "Tylosurus_acus",
          "Tylosurus_crocodilus",
          "Cololabis_saira",
          "Cheilopogon_cyanopterus",
          "Chriodorus_atherinoides",
          "Hemiramphus_convexus",
          "Fundulus_heteroclitus",
          "Eucinostomus_argenteus",
          "Eucinostomus_gula",
          "Ammodytes_americanus",
          "Ammodytes_personatus",
          "Ammodytes_tobianus",
          "Hyperoplus_lanceolatus",
          "Achoerodus_gouldii",
          "Morone_saxatilis",
          "Platax_orbicularis",
          "Argyrosomus_japonicus",
          "Atrobucca_nibe",
          "Cynoscion_leiarchus",
          "Cynoscion_regalis",
          "Larimichthys_polyactis",
          "Menticirrhus_americanus",
          "Menticirrhus_saxatilis",
          "Menticirrhus_undulatus",
          "Pennahia_argentata",
          "Protonibea_diacanthus",
          "Roncador_stearnsii",
          "Emmelichthys_nitidus",
          "Deveximentum_ruconius",
          "Equulites_elongatus",
          "Equulites_leuciscus",
          "Equulites_lineolatus",
          "Eubleekeria_splendens",
          "Gazza_minuta",
          "Karalla_dussumieri",
          "Karalla_daura",
          "Leiognathus_bindus",
          "Leiognathus_brevirostris",
          "Nuchequula_blochii",
          "Nuchequula_gerreoides",
          "Photopectoralis_bindus",
          "Secutor_insidiator",
          "Centropyge_bicolor",
          "Centropyge_loriculus",
          "Pomadasys_argenteus",
          "Pomadasys_argyreus",
          "Pomadasys_incisus",
          "Pomadasys_kaakan",
          "Pomadasys_maculatus",
          "Pomadasys_striatus",
          "Pomadasys_stridens",
          "Pristipomoides_auricilla",
          "Pristipomoides_filamentosus",
          "Pristipomoides_flavipinnis",
          "Pristipomoides_macrophthalmus",
          "Pristipomoides_sieboldii",
          "Pristipomoides_zonatus",
          "Lutjanus_adetii",
          "Lutjanus_alexandrei",
          "Lutjanus_apodus",
          "Lutjanus_argentiventris",
          "Lutjanus_bohar",
          "Lutjanus_fulvus",
          "Lutjanus_johnii",
          "Lutjanus_kasmira",
          "Lutjanus_lutjanus",
          "Lutjanus_synagris",
          "Lutjanus_vitta",
          "Ocyurus_chrysurus",
          "Lobotes_surinamensis",
          "Sillago_aeolus",
          "Sillago_burrus",
          "Sillago_ciliata",
          "Sillago_flindersi",
          "Sillago_japonica",
          "Sillago_schomburgkii",
          "Sillago_sihama",
          "Sillago_vittata",
          "Boops_boops",
          "Dentex_congoensis",
          "Lithognathus_mormyrus",
          "Pagellus_acarne",
          "Pagellus_bellottii",
          "Pagellus_bogaraveo",
          "Acanthopagrus_arabicus",
          "Acanthopagrus_australis",
          "Archosargus_probatocephalus",
          "Diplodus_annularis",
          "Diplodus_cervinus",
          "Diplodus_sargus",
          "Diplodus_vulgaris",
          "Evynnis_ehrenbergii",
          "Evynnis_tumifrons",
          "Pagrus_major",
          "Parargyrops_edita",
          "Siganus_fuscescens",
          "Siganus_guttatus",
          "Siganus_lineatus",
          "Siganus_luridus",
          "Siganus_rivulatus",
          "Siganus_spinus",
          "Latridopsis_ciliaris",
          "Latris_lineata",
          "Aethaloperca_rogaa",
          "Anyperodon_leucogrammicus",
          "Cephalopholis_argus",
          "Cephalopholis_cruentata",
          "Cephalopholis_fulva",
          "Cephalopholis_microprion",
          "Cephalopholis_miniata",
          "Epinephelus_coioides",
          "Epinephelus_cyanopodus",
          "Epinephelus_drummondhayi",
          "Epinephelus_fuscoguttatus",
          "Epinephelus_howlandi",
          "Epinephelus_itajara",
          "Epinephelus_labriformis",
          "Epinephelus_maculatus",
          "Epinephelus_malabaricus",
          "Epinephelus_polyphekadion",
          "Epinephelus_quoyanus",
          "Plectropomus_leopardus",
          "Plectropomus_maculatus",
          "Plectropomus_pessuliferus",
          "Variola_louti",
          "Centropristis_striata",
          "Diplectrum_formosum",
          "Diplectrum_macropoma",
          "Diplectrum_pacificum",
          "Paralabrax_auroguttatus",
          "Paralabrax_clathratus",
          "Dolloidraco_longedorsalis",
          "Neodraco_skottsbergi",
          "Gerlachea_australis",
          "Chaenocephalus_aceratus",
          "Chaenodraco_wilsoni",
          "Champsocephalus_gunnari",
          "Chionobathyscus_dewitti",
          "Chionodraco_hamatus",
          "Chionodraco_myersi",
          "Chionodraco_rastrospinosus",
          "Cryodraco_antarcticus",
          "Pagetopsis_maculatus",
          "Pseudochaenichthys_georgianus",
          "Aethotaxis_mitopteryx",
          "Dissostichus_eleginoides",
          "Dissostichus_mawsoni",
          "Gobionotothen_gibberifrons",
          "Indonotothenia_cyanobrancha",
          "Lepidonotothen_squamifrons",
          "Lindbergichthys_nudifrons",
          "Notothenia_neglecta",
          "Nototheniops_larseni",
          "Paranotothenia_magellanica",
          "Pagothenia_borchgrevinki",
          "Trematomus_bernacchii",
          "Trematomus_eulepidotus",
          "Trematomus_hansoni",
          "Trematomus_lepidorhinus",
          "Trematomus_loennbergii",
          "Trematomus_newnesi",
          "Trematomus_nicolai",
          "Trematomus_pennellii",
          "Trematomus_scotti",
          "Ambiserrula_jugosa",
          "Platycephalus_caeruleopunctatus",
          "Platycephalus_richardsoni",
          "Ratabulus_diversidens",
          "Rogadius_asper",
          "Peristedion_cataphractum",
          "Bellator_gymnostethus",
          "Prionotus_albirostris",
          "Prionotus_carolinus",
          "Prionotus_punctatus",
          "Prionotus_stephanophrys",
          "Eutrigla_gurnardus",
          "Trigla_lyra",
          "Lepidotrigla_argus",
          "Lepidotrigla_cavillone",
          "Dendrochirus_brachypterus",
          "Pontinus_kuhlii",
          "Scorpaena_elongata",
          "Scorpaena_guttata",
          "Scorpaena_loppei",
          "Scorpaena_maderensis",
          "Scorpaena_notata",
          "Scorpaena_porcus",
          "Scorpaena_scrofa",
          "Anoplopoma_fimbria",
          "Erilepis_zonifer",
          "Anarhichas_minor",
          "Zoarces_americanus",
          "Zaprora_silenus",
          "Ulvaria_subbifurcata",
          "Gasterosteus_aculeatus",
          "Pungitius_pungitius",
          "Pleurogrammus_azonus",
          "Pleurogrammus_monopterygius",
          "Careproctus_reinhardti",
          "Liparis_gibbus",
          "Liparis_inquilinus",
          "Liparis_pulchellus",
          "Aspidophoroides_monopterygius",
          "Blepsias_cirrhosus",
          "Caretta_caretta",
          "Lepidochelys_kempii",
          "Eretmochelys_imbricata",
          "Fratercula_arctica",
          "Diomedea_exulans"
         ],
         "legendgroup": "M",
         "marker": {
          "color": "#636efa",
          "size": {
           "bdata": "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",
           "dtype": "f8"
          },
          "sizemode": "area",
          "sizeref": 0.02259691198253261,
          "symbol": "circle"
         },
         "mode": "markers",
         "name": "M",
         "showlegend": true,
         "type": "scattergl",
         "x": {
          "bdata": "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",
          "dtype": "f8"
         },
         "xaxis": "x",
         "y": {
          "bdata": "8Q4knUwc9b/XziOaYC//P64dfdIUm/s/q1pFxsWhB0A+c9D+BbALQKQqBdKA5hFAc5m5Cckw2j+062IODqT9P/mHksiazAFA07t+qkBx9z84NhAYI1v4P9nAS/W2A9q/F8Uwaq0q9r/VyhlkWYP+P2d/aN3vJvO/bFK1SH7EA8ALavOr8WPjv18/hr1obeS/3nyaqQrO6L8HxC2591Tiv72SSXacO/U/FaKc00bO+r+/iTaJUAzyv2F0jIj9TOE/vaFDlQyG+b/zh8vxUb/tP6qKMz8jRQBAmliarsce378vPTLdj8f9v0lGwzObBM4/Jw5erXH6AUDBo++oOjgIQBlyyrOoyQZAZizpLBFMkr98Osxck5XzPwPTj4Ed6O2/F2x42G+T9D+9hPoKei/yv7twyWSYvu6/6IL7xRCs9r9AbyMhzw3iv2oCq9ozEOq/4+DxNxu1+L9HhBOUNS34v3+PmqE+xfi/ZmQJjPgr9b9dkqyZBzP0v+1Eyh+i3Pi/H8zVNmfc8r9X7FGjNs7xv3S95+Er5PO/EkeB+6YkA8ASDJhuiln4v2oChodrbtI/VAkbB6g6+r/Zk/R8pRfzv4fwjRSBYfa/Lnv6NXRd8b8kdXqr59f5v5g3CZB8AADAgrUl2KZp/7/gZxvs3YP7vzR88AYgzfO/Nq3erqTE7r8S6z7YxmL0v02or6v2HPO/mHc9JNPr9r9U7zPaaTL1v5EfO/3Fg/0/fk2R/kjjA0At+ZgEOwQHQKdeURzSZQJA+nkB+jIM6T8HqG/ggG4DQAIWxh9PRv4/ipRMwOLR+z/mvgMI3jLyP6d5DN0RC+o/RDvtvj5J6D+UK5NYFtzDP0k8Kzfgaam/cGNbnxt24z/aCOX54NfMP2pXQwWbe9E/YLUFCOzPd7++BwSJZCTgP64gV1Fon90/S1bh0O8r5z/L0sNIrirGv2EwIABE4dS/8wLlhEHbvD8GMhC6dxXqv8WWFg8dudS/8LCr5ujr2T9KRZ8u6PXkP3kprOnTY+4/p2F4Sjfadr8Kk+/+5YDSP3bIUO6/5em/p8AtpS+Zhr9t/XTOpvLhP8wdnHyomOq/791vz1Nj278RM4oFKKzSvzqJkykm9dM/vUzDZFOy0T9j8Wht+iqtv6GD+4CLWts/vculyUVGkz/cotsid+PqP1yhcL4fhdU/9PRlR6tq7j+TP5wisAj0P6CvZEBVtOo/jvXwwFXdzL85YLpdKh3xP+3izivt1PA/Y2RJEDRu0L/L48W1PzzaP8frxeoEzus/cPRSdMQN5D9exZRaNuPtP5RxjQIDMeM/Q5HBPEJ/8j9SDQPU93blPxX+c+8CQu4/bTYkzApO6j/9AhZ2/Y3jP3exQEcv1Nk/Fq8whUR1xD9HmjvblvbiPw8Q36oMK8U/jB5VzcUS3z+j0YtpoZPQP4P6fM2aU7c/BfY6UeJV1D+Ypm7BgfbdP7yj7p9MRug/BsqbObME4T+ImiwLWVDvP4MDx1DXEN2/r3nWAyg3+z9SkkTN6c79PytHw78yFPo/5+j6PWU4AECxM2AZTvcBQMEzZqu6egFAVA7CWfPSAUDmurG+sLkEQAqUAfFTn/Y/FSv06J6W/j8iaATNM4r3PzMwI32BPtk/AYtUAer95D+DC2WVudP3P+7/PHizBtq/4hH1Kho8xz+tgAivIdTwv7WbGLnbKvc/mNjc6SKO5D8cWyT1NzHnv2UpTUVrf8+/0y11i0Q+8r/OxQLa/mjVPwkzt6V37OE/Z33PPUUp/r8ZUsVcltABwJ2XAgfIsNk/zxGyXKh26T8m2cC3Qx+jvxhoZDDsWvu/t7Jqesj55L+Lh8DnTu3nPze1ar77P+W/JlLdNC4657/6ND6yoPLov1ubovkDrem/FYGIRiJc5b+nOUqXQkbcP/JN51q/18c/I8YjV3Hf8b/LWgq/4K3ivzSmzQa1FvC/MV4PMLsW4r+RrL4rukTmv87abjUTBfm/378evrpU+L+cgiVI4rTcv40+YJ0QNNu/XFVm1cnB77/dX63LrHP3v07QIq7WIua/M70MCd0k/r97gRWlQ1mvP6dUKXJnoqI/RFzkYf517D+GTtOF24oDQM0QRxQ4U+s/HJGY4bi30T+Z0HJMNHbwP281qUMNyv0/mVaoXlZpAUAGVXMjWScHQMQEEpamNwRApzf5HOjo/z/1Z0FORef8P+naj6HwKQBAAZ3pXNZQCkC4f1TksXH9P5eUjOg/A/0/xWZcpR61/T+qEQyRetoCQGG8XUQuAPY/sMd+xn6f/T+UmUnvEkL9P6bwOePQmAFAqsnIMoBICEDND9NT/ToGQJTxvBKG6wtA4EKKRm3AC0BkLmQEqCb/P7nKbD5YD/k/SS4+7Y248z+A4LfprIwAQO9OmLY3m/8/pwZ1X95M5D9eltJQ2PgBQHxxfnpwxtW/oRFwHcyh0T8pai9D4CzyPxj4+qlswN4/B2pLlnGv9j8AU9zIZvrtP8PyT/w1Qv0/wyDdiQG29T/Mt+xD3OMHQPThS/JuawBAt/tnRRbfA0DoSsjzs+MAQAXEJrSQMf8/86p8AzrJ9D+QH+F1HTLwP8EuGxhXMvI/1eRh/nYe7j91+kkwhlzrP5hHRhO35OM/hAi6+2+d8T9OC3ZRf9nxP8WJFcKt2vk/krUrjq9vAEB1VcwbMRT3P0M6S6kv6Ps/JZ7Pm/M4AEAEgNR6KFz8PwZ/pojWkN8/7JJN8VYC6j/QO4e1RUXzP0xWThHqYu0/ZM4+U9aEAEA7FmiY1Tj4P8RW/8v42PU/tQCBGp828j/z6ZZnVUYAQMUywMyBkAFAcuF9xF8n8D+tcZ9umFcFQFdm22nUuAlAT3dVssONB0C+VCCgT7j3PzMbaRjRWQtA3hXmOKWd/z/Db8l1NRv+P2MRWFO7Qes/lxTiLmmS8D+lI8NCKK3vP7+T7XBgRvk/eM0NEQM/A0A/Q2CyR17UPyGnDZ+4cuE/7RcLaH/f+T/caLNq01YBQLMlUOTYEfM/f/DUNHZt9j+1wvgAaKf7P/C9OM+iNvI/vBENMXjt8z8q8buEwaT7P9mYJpyKTfY/5soUDTWn+T9bFZ92u2b0P16mokWfivs/oslRaNk49T+InOIB/gDyP/kRIu1Ed/g/wbi6M5SG8D8+/s92vtf7P0M6r/x5Nv0/DwUP/Rs1+T/PZWRJD1jzPw6lUiUII90/UfFpIKdK8z+ThJ6I9dbxP6084MIU1/E/63jpRoTf7T+yPnp6RW6yP1YTGWX0b+o/DNNyaT2BkL+3rJ8UBY7ev5l0xY4V5NS/5zOj6+NQ1z/2DgsCC9rkP47e8pxL3MA/feEi+FCZx79psJnlpxfaP7M1r3/RytW/+C5mjU1m178fWD4TcWz2P45jObjEEPE/9a1KJpidrb81yDf+LrPYP9ErtnMVK82/6FONXNMi7L8GIv5OF3rjvwGcBNAKv+q/SvLmWd+h1D+Z4DNZbkPmPxjYdOM5j+A/5M4a8dJx4z8T54VhDCbCP28HblxiR9Q/f/z29fB/4T/rqqtgwW/WP46TTR6EG9k/ZDxohEKS379U9ytlkSvRv+bymn4pL9M/w1y3BqNiAsDX+/ZbKdzcv7A0tb2A8dq/7T2z0OFbob8p3Ej+8T76P2VRBW0tF/k/6cSz8G5A+z84GrzBCV/iP2gOF49beOc/fjdxnkZu4D/VZIjvJ1zZP4aNUGLVePG/Z3+VZM3u7z+wqjrsUyvxP7jKDDM4Wae/e1biD4XR2L8hTUJbQpHAvw07/6K0udY/Jqabe+9eAEDiDL6byvkIQCh2xub8LgRA3IEM+X9wBECMekfaIOj9PwllY4vK5gNAtUUVnq52BEAm6nXAcN3zPyuoHXSfGfQ/w2Ryw1T38j8YFfvnAPb8P14siwnan/o/7iPBTLj8B0DiJ/h/OiH+P4/ZTJGE+O4/fYwYVvX8zL+E7mCFMxyxv943tHfIVeU/0Um5Ru8pwD/hBMpjVHHvP7mlS4eXYOo/so+10lKH0j/2QzEIHobZP2c6O+2RV9U/zCuEvXJp1D/cqF9yq1fAP1ypdW2U3No/8znIE5WbsD+z2QUjc+zRP0UDVyf0u8K/lf/1NDXTy7+YgPQnarj7P5YoLicpz/k/o5hsZoHQ8z9/it816qIFQPvtEhGVkvg/mAXA1iHh2D9xIIcxUYzrP/oh8yH8DPw/3mOjZk/6A0DEIhrjNrEAQMCGUwbdjfQ/cj1Ci5cQA0DIH/mMttf/P6PxsSMr//8/iCZgkgLn8z9/kSGmaKD+P0Mtokqvm/o/LH6CXCZFA0CKu95mrer1P7uwReSAw/8/8EcDRoSoAED4aNEkLq/wP0ww16OmFgBAUUkGX45D/z/fyuBRbkT7Px9Sw+dyywhAUCuPGiOW7j8bvKq4MiD1P68ygWx2Efg/yiqCoDcF8D939sbplEXsPxDQ/VUuLvM/D5WPd+6+8D8M+A1ohrDwP9IliQ8oH+8/eoPe5/0W/D/K2aQJ9536PxYQUF6FAfg/UdqBAOua+D9+jox+Bf/7P+aBYuiZ2Pk/+6CBC1UsAEC/53WoZmMCQHXlq+kbKvE/rK2F3R0r/T+W7SSblY35P6SNX+J7H/k/hEYXHr8J8T/ra38yRyTuPxi8eRh9hwFAQg5EOPiz5j+0ZGlCven5P99KYKDBDfw/CXjbokHb+z80ePMWJnnrP0fRsSXgEvU/9mMzFRhp9T9H1bG+D5v9P89zkZgfLgJAuvqYA5h8/j8v1CCyUHH/P+A3lLZOpPs/zAUpCtdK9T/Ajv1Oprb2P56iyVIPCO0/zUBJxsAd9j+IM3N2eFsBQB4LIf+UOgVAmTb3pglXAUB2/EO/H8gDQKQxAmGw+f8/XfdjKwK+DEDldImJ7Mf4PxAHQRb+n/k/V7g8Ek90B0AW6XpEANkBQOEJuoObfPc/vdlFk06xAECDCRPoUAADQI4GzeJopAVAVjyNraG5AUDq1ybaKLv9PzqEQ8e+jOY/CwuoXRiX4j+4nb/AJ+3tPzpgpR7RfABA9ALY9i/t/j+TuzhtEhj7vxGfqo1jDAHAbm9I59xp8L9nIdEUR1uzP3sBEusc3eq/uURj5GUHub/LvaXvbBa+Pz/NL61glt2/kUWl3oMX378urxiLQP7Sv0PuJz0tysc/HCNAxGFG778XQUQXisu6PxhZGCvOVeG/Jr5IvzSi9z8wA2lRnUn4Pz2ZgbaTzeA/YF9LS7qrzb8xMUrXRljkP4Q3OHU95+y/Oj53FCebzj/ds8AotBvjv1D7aDR+9OU/bo6GNio26L8Etq3ES2niv05F10pKF9G/z2LSLdHc5b/SAxXBAQvMv/xmKEGxj82/pEAX+DH96r/ymvLRcrLEv3k+WQ/L7dy/HwgEPR3p479CrrjTs+DTPypLATtSIvo/GKFXhJbG/D8JXvcUFoj5P7iGgMVfXe8/w5zRFRsp6D+OB9A27c+nPwuO1qigPNM/tT6wdyaA7z/jKfMbxgDzP1ohN2IwX+0//0bHbaSx9T+nipg+AhDxP2arEA5Gtbw/XvCUNRVP0T/1WrO/jHXuPzINJttMGvU/PmG2ngcS6j+jrsg2MjHoP9CWB8uzr8e/TarO1NZXwb+oO5WFY8TMPxWEvzWtCOE/nuwer1rX5j/AySyyH+/+P4uOBoshGP4/kO0cAfkmzj8Czx4HtHC2v60Jm1XY6fg/BX+tMEpA6L80bmJDheTxv6v/yIBOdfS/DlQWBnTi4T/ateofwhGoP3I9gjrTEfG/MBlQr9Bh5L9kxH/s6R7qv98BJXW1SdE/NUqj1+ra6b/nKveGXWvzv15qYzdQcsG/ywa+Wvz23b+ZeCwT+X7Zv++AqfcLSwHA1xwp0bCu+b8=",
          "dtype": "f8"
         },
         "yaxis": "y"
        },
        {
         "hovertemplate": "<b>%{hovertext}</b><br><br>color=T<br>PC1=%{x}<br>PC2=%{y}<br>size=%{marker.size}<extra></extra>",
         "hovertext": [
          "Galatea_paradoxa",
          "Mytilopsis_sallei",
          "Actinonaias_ligamentina",
          "Stagnicola_palustris",
          "Biomphalaria_glabrata",
          "Planorbis_planorbis",
          "Helix_pomatia",
          "Aspidiophorus_polystictos",
          "Bimastos_rubidus",
          "Dendrobaena_octaedra",
          "Lumbricus_rubellus",
          "Eisenia_andrei",
          "Eisenia_fetida",
          "Schmidtea_polychroa",
          "Baikaiobia_guttata",
          "Caenorhabditis_elegans",
          "Macrobiotus_hufelandii",
          "Hypsibius_convergens",
          "Ramazzottius_oberhaeuseri",
          "Milnesium_tardigradum",
          "Smeringurus_mesaensis",
          "Aglaoctenus_lagotis",
          "Eulimnadia_texana",
          "Asellus_aquaticus",
          "Porcellio_scaber",
          "Gammarus_fossarum",
          "Gammarus_pulex",
          "Gammarus_roeselii",
          "Macrobrachium_rosenbergii",
          "Astacus_astacus",
          "Pacifastacus_leniusculus",
          "Procambarus_virginalis",
          "Birgus_latro",
          "Acipenser_baerii",
          "Acipenser_oxyrinchus",
          "Acipenser_ruthenus",
          "Scaphirhynchus_albus",
          "Scaphirhynchus_suttkusi",
          "Scaphirhynchus_platorynchus",
          "Heterotis_niloticus",
          "Cyphomyrus_discorhynchus",
          "Marcusenius_macrolepidotus",
          "Marcusenius_pongolensis",
          "Mormyrops_anguilloides",
          "Mormyrus_kannume",
          "Mormyrus_longirostris",
          "Petrocephalus_bovei",
          "Gymnarchus_niloticus",
          "Coilia_brachygnathus",
          "Coilia_dussumieri",
          "Coilia_mystus",
          "Coilia_ramcarati",
          "Anchoviella_guianensis",
          "Dussumieria_hasseltii",
          "Potamalosa_richmondia",
          "Alosa_pseudoharengus",
          "Nematalosa_vlaminghi",
          "Dorosoma_cepedianum",
          "Carassius_auratus",
          "Cirrhinus_cirrhosus",
          "Labeo_altivelis",
          "Labeo_calbasu",
          "Labeo_catla",
          "Labeo_coubie",
          "Labeo_niloticus",
          "Labeo_rohita",
          "Labeo_senegalensis",
          "Enteromius_liberiensis",
          "Labeobarbus_bynni",
          "Engraulicypris_sardella",
          "Neobola_stellae",
          "Rastrineobola_argentea",
          "Rhodeus_amarus",
          "Rhodeus_ocellatus",
          "Rhodeus_sericeus",
          "Abbottina_rivularis",
          "Gobio_gobio",
          "Hemibarbus_labeo",
          "Chrosomus_neogaeus",
          "Gila_intermedia",
          "Ptychocheilus_oregonensis",
          "Siphateles_bicolor",
          "Alburnus_alburnus",
          "Alburnus_baliki",
          "Alburnoides_bipunctatus",
          "Abramis_brama",
          "Achondrostoma_arcasii",
          "Oregonichthys_crameri",
          "Dionda_diaboli",
          "Pimephales_vigilax",
          "Chasmistes_brevirostris",
          "Chasmistes_cujus",
          "Chasmistes_liorus",
          "Glaniopsis_hanitschi",
          "Citharinus_citharus",
          "Alestes_baremoze",
          "Alestes_dentex",
          "Brycinus_leuciscus",
          "Brycinus_macrolepidotus",
          "Brycinus_nurse",
          "Brycinus_sadleri",
          "Hydrocynus_forskahlii",
          "Micralestes_acutidens",
          "Hepsetus_odoe",
          "Hoplias_malabaricus",
          "Myloplus_rhomboidalis",
          "Piaractus_brachypomus",
          "Semaprochilodus_taeniurus",
          "Semaprochilodus_insignis",
          "Curimata_knerii",
          "Potamorhina_latior",
          "Psectrogaster_rutiloides",
          "Brycon_amazonicus",
          "Brycon_melanopterus",
          "Brycon_moorei",
          "Brycon_opalinus",
          "Astyanax_bimaculatus",
          "Astyanax_eigenmanniorum",
          "Astyanax_mexicanus",
          "Gymnocharacinus_bergii",
          "Hyphessobrycon_pulchripinnis",
          "Moenkhausia_dichroura",
          "Moenkhausia_pittieri",
          "Odontostilbe_paraguayensis",
          "Oligosarcus_hepsetus",
          "Paracheirodon_innesi",
          "Psalidodon_fasciatus",
          "Triportheus_albus",
          "Triportheus_angulatus",
          "Triportheus_elongatus",
          "Gymnotus_carapo",
          "Corydoras_aeneus",
          "Hypostomus_albopunctatus",
          "Loricariichthys_anus",
          "Eremophilus_mutisii",
          "Trichomycterus_itacarambiensis",
          "Pterodoras_granulosus",
          "Synodontis_batensoda",
          "Synodontis_clarias",
          "Synodontis_membranaceus",
          "Synodontis_nebulosus",
          "Synodontis_schall",
          "Synodontis_zambezensis",
          "Phalacronotus_micronemus",
          "Silurus_glanis",
          "Silurus_triostegus",
          "Wallago_attu",
          "Clarias_agboyiensis",
          "Clarias_anguillaris",
          "Clarias_batrachus",
          "Heteropneustes_fossilis",
          "Bagrus_bajad",
          "Coreobagrus_ichikawai",
          "Hemibagrus_baramensis",
          "Mystus_cavasius",
          "Pseudobagrus_vachellii",
          "Auchenoglanis_occidentalis",
          "Chrysichthys_auratus",
          "Chrysichthys_nigrodigitatus",
          "Chrysichthys_walkeri",
          "Pangasianodon_hypophthalmus",
          "Pangasius_pangasius",
          "Hypophthalmus_edentatus",
          "Iheringichthys_labrosus",
          "Pseudoplatystoma_corruscans",
          "Pseudoplatystoma_fasciatum",
          "Pseudoplatystoma_punctifer",
          "Pseudoplatystoma_tigrinum",
          "Parailia_pellucida",
          "Schilbe_intermedius",
          "Schilbe_mandibularis",
          "Schilbe_uranoscopus",
          "Ictalurus_punctatus",
          "Pylodictis_olivaris",
          "Ameiurus_catus",
          "Ameiurus_melas",
          "Ameiurus_nebulosus",
          "Noturus_baileyi",
          "Noturus_phaeus",
          "Coregonus_kiyi",
          "Coregonus_muksun",
          "Thymallus_baicalensis",
          "Thymallus_nigrescens",
          "Brachymystax_lenok",
          "Oncorhynchus_clarkii_stomias",
          "Oncorhynchus_gilae",
          "Salmo_lourosensis",
          "Salmo_marmoratus",
          "Salmo_obtusirostris",
          "Salvelinus_willoughbii",
          "Esox_lucius",
          "Esox_masquinongy",
          "Esox_niger",
          "Umbra_limi",
          "Umbra_krameri",
          "Chologaster_cornuta",
          "Forbesichthys_agassizii",
          "Typhlichthys_subterraneus",
          "Amblyopsis_spelaea",
          "Amblyopsis_rosae",
          "Gobiosoma_bosc",
          "Rhinogobius_cliffordpopei",
          "Stigmatogobius_pleurostigma",
          "Anabas_testudineus",
          "Channa_argus",
          "Channa_punctata",
          "Betta_splendens",
          "Osphronemus_goramy",
          "Pristolepis_fasciata",
          "Pristolepis_grootii",
          "Lates_angustifrons",
          "Lates_mariae",
          "Lates_niloticus",
          "Lates_stappersii",
          "Cichla_intermedia",
          "Cichla_monoculus",
          "Cichla_orinocensis",
          "Cichla_temensis",
          "Acarichthys_heckelii",
          "Coptodon_guineensis",
          "Menidia_extensa",
          "Melanotaenia_boesemani",
          "Oryzias_latipes",
          "Fundulopanchax_gardneri",
          "Fundulus_julisia",
          "Fundulus_luciae",
          "Crenichthys_baileyi",
          "Aphanius_iberus",
          "Cyprinodon_bovinus",
          "Cyprinodon_elegans",
          "Cyprinodon_macularius",
          "Cyprinodon_nevadensis",
          "Gambusia_puncticulata",
          "Gambusia_punctata",
          "Gambusia_holbrooki",
          "Heterandria_formosa",
          "Girardinus_metallicus",
          "Girardinus_uninotatus",
          "Girardinus_creolus",
          "Girardinus_denticulatus",
          "Girardinus_microdactylus",
          "Girardinus_falcatus",
          "Quintana_atrizona",
          "Limia_vittata",
          "Poecilia_latipinna",
          "Poecilia_reticulata",
          "Xiphophorus_maculatus",
          "Morone_chrysops",
          "Morone_mississippiensis",
          "Plagioscion_squamosissimus",
          "Pomoxis_nigromaculatus",
          "Micropterus_dolomieu",
          "Micropterus_salmoides",
          "Lepomis_cyanellus",
          "Lepomis_gulosus",
          "Elassoma_zonatum",
          "Maccullochella_ikei",
          "Maccullochella_peelii",
          "Macquaria_ambigua",
          "Macquaria_novemaculeata",
          "Nannoperca_vittata",
          "Nannatherina_balstoni",
          "Percichthys_trucha",
          "Siniperca_chuatsi",
          "Ammocrypta_pellucida",
          "Nothonotus_bellus",
          "Etheostoma_perlongum",
          "Etheostoma_pyrrhogaster",
          "Etheostoma_tetrazonum",
          "Etheostoma_trisella",
          "Etheostoma_zonistium",
          "Sander_vitreus",
          "Gymnocephalus_cernuus",
          "Percilia_irwini",
          "Culaea_inconstans",
          "Apeltes_quadracus",
          "Andrias_davidianus",
          "Hynobius_kimurae",
          "Hynobius_quelpaertensis",
          "Hynobius_tokyoensis",
          "Hynobius_yangi",
          "Pachyhynobius_shangchengensis",
          "Ranodon_sibiricus",
          "Onychodactylus_japonicus",
          "Bolitoglossa_mexicana",
          "Bolitoglossa_subpalmata",
          "Eurycea_bislineata",
          "Eurycea_longicauda",
          "Gyrinophilus_gulolineatus",
          "Gyrinophilus_palleucus",
          "Aneides_aeneus",
          "Desmognathus_brimleyorum",
          "Desmognathus_fuscus",
          "Desmognathus_monticola",
          "Desmognathus_ochrophaeus",
          "Desmognathus_ocoee",
          "Desmognathus_quadramaculatus",
          "Ensatina_eschscholtzii",
          "Phaeognathus_hubrichti",
          "Plethodon_cinereus",
          "Plethodon_kentucki",
          "Speleomantes_ambrosii",
          "Speleomantes_imperialis",
          "Amphiuma_means",
          "Rhyacotriton_variegatus",
          "Ambystoma_maculatum",
          "Ambystoma_mexicanum",
          "Ambystoma_opacum",
          "Ambystoma_texanum",
          "Salamandrina_perspicillata",
          "Chioglossa_lusitanica",
          "Salamandra_lanzai",
          "Echinotriton_andersoni",
          "Lissotriton_boscai",
          "Lissotriton_helveticus",
          "Lissotriton_vulgaris",
          "Neurergus_crocatus",
          "Calotriton_asper",
          "Triturus_cristatus",
          "Triturus_dobrogicus",
          "Triturus_karelinii",
          "Triturus_marmoratus",
          "Cynops_pyrrhogaster",
          "Paramesotriton_hongkongensis",
          "Necturus_maculosus",
          "Ascaphus_truei",
          "Alytes_cisternasii",
          "Alytes_muletensis",
          "Alytes_obstetricans",
          "Bombina_bombina",
          "Bombina_maxima",
          "Bombina_orientalis",
          "Bombina_variegata",
          "Fejervarya_limnocharis",
          "Fejervarya_multistriata",
          "Hoplobatrachus_tigerinus",
          "Xenopus_laevis",
          "Pelobates_cultripes",
          "Pelobates_syriacus",
          "Pelobates_varaldii",
          "Eleutherodactylus_coqui",
          "Argenteohyla_siemersi",
          "Hyla_arborea",
          "Trachycephalus_resinifictrix",
          "Anaxyrus_americanus",
          "Anaxyrus_boreas",
          "Anaxyrus_californicus",
          "Anaxyrus_fowleri",
          "Bufo_bufo",
          "Bufo_gargarizans",
          "Bufotes_latastii",
          "Bufotes_viridis",
          "Bufotes_zamdaensis",
          "Epidalea_calamita",
          "Nimbaphrynoides_occidentalis",
          "Rhaebo_blombergi",
          "Sclerophrys_pentoni",
          "Strauchbufo_raddei",
          "Mannophryne_trinitatis",
          "Ceratophrys_stolzmanni",
          "Hyperolius_viridiflavus",
          "Dyscophus_antongilii",
          "Pyxicephalus_adspersus",
          "Euphlyctis_hexadactylus",
          "Nanorana_parkeri",
          "Chiromantis_petersii",
          "Chiromantis_rufescens",
          "Kurixalus_eiffingeri",
          "Kurixalus_idiootocus",
          "Rhacophorus_moltrechti",
          "Zhangixalus_omeimontis",
          "Amolops_mantzorum",
          "Lithobates_catesbeianus",
          "Lithobates_chiricahuensis",
          "Lithobates_clamitans",
          "Pelophylax_bedriagae",
          "Pelophylax_caralitanus",
          "Pelophylax_epeiroticus",
          "Pelophylax_nigromaculatus",
          "Pelophylax_ridibundus",
          "Pelophylax_perezi",
          "Pelophylax_porosus",
          "Pelophylax_saharicus",
          "Rana_arvalis",
          "Rana_chensinensis",
          "Rana_dalmatina",
          "Rana_iberica",
          "Rana_italica",
          "Rana_latastei",
          "Rana_macrocnemis",
          "Rana_muscosa",
          "Rana_sakuraii",
          "Rana_tagoi",
          "Rana_temporaria",
          "Sylvirana_nigrovittata",
          "Correlophus_ciliatus",
          "Eublepharis_macularius",
          "Hemidactylus_turcicus",
          "Heteronotia_binoei",
          "Heteronotia_binoei_3N1A",
          "Heteronotia_binoei_3N1B",
          "Heteronotia_binoei_EA6",
          "Heteronotia_binoei_SM6",
          "Chioninia_coctei",
          "Ctenotus_pantherinus",
          "Eulamprus_quoyii",
          "Egernia_cunninghami",
          "Egernia_striolata",
          "Scincella_lateralis",
          "Xantusia_vigilis",
          "Gerrhosaurus_validus",
          "Smaug_giganteus",
          "Holcosus_quadrilineatus",
          "Pholidoscelis_exsul",
          "Salvator_merianae",
          "Gallotia_atlantica",
          "Gallotia_bravoana",
          "Gallotia_caesaris",
          "Gallotia_galloti",
          "Gallotia_intermedia",
          "Gallotia_simonyi",
          "Gallotia_stehlini",
          "Eremias_argus",
          "Eremias_suphani",
          "Apathya_cappadocica",
          "Iberolacerta_horvathi",
          "Lacerta_schreiberi",
          "Podarcis_muralis_Castanet",
          "Zootoca_vivipara",
          "Varanus_bengalensis",
          "Varanus_komodoensis",
          "Varanus_niloticus",
          "Furcifer_pardalis",
          "Ctenophorus_ornatus",
          "Ctenophorus_adelaidensis",
          "Pogona_barbata",
          "Anolis_acutus",
          "Anolis_carolinensis",
          "Anolis_gundlachi",
          "Anolis_opalinus",
          "Anolis_sagrei",
          "Basiliscus_basiliscus",
          "Basiliscus_plumifrons",
          "Basiliscus_vittatus",
          "Dipsosaurus_dorsalis",
          "Gambelia_sila",
          "Sceloporus_magister",
          "Sceloporus_occidentalis",
          "Sceloporus_undulatus",
          "Boa_constrictor",
          "Boa_imperator",
          "Eunectes_murinus",
          "Eunectes_notaeus",
          "Apodora_papuana",
          "Morelia_spilota",
          "Python_regius",
          "Python_sebae",
          "Python_molurus",
          "Simalia_amethistina",
          "Vipera_aspis",
          "Bitis_gabonica",
          "Bitis_arietans",
          "Crotalus_horridus",
          "Crotalus_lepidus",
          "Crotalus_oreganus",
          "Crotalus_pricei",
          "Natrix_natrix",
          "Natrix_maura",
          "Thamnophis_butleri",
          "Thamnophis_saurita",
          "Thamnophis_sirtalis",
          "Coluber_constrictor",
          "Orthriophis_taeniurus",
          "Pantherophis_guttatus",
          "Heterodon_nasicus",
          "Heterodon_platirhinos",
          "Podocnemis_unifilis",
          "Chelus_fimbriata",
          "Elseya_dentata",
          "Emydura_macquarii",
          "Hydromedusa_maximiliani",
          "Apalone_spinifera",
          "Dermatemys_mawii",
          "Claudius_angustatus",
          "Sternotherus_minor",
          "Emydoidea_blandingii",
          "Glyptemys_insculpta",
          "Graptemys_oculifera",
          "Graptemys_pseudogeographica",
          "Pseudemys_concinna",
          "Pseudemys_nelsoni",
          "Gopherus_agassizii",
          "Gopherus_morafkai",
          "Gopherus_polyphemus",
          "Aldabrachelys_gigantea",
          "Chelonoidis_niger",
          "Geochelone_elegans",
          "Malacochersus_tornieri",
          "Stigmochelys_pardalis",
          "Testudo_hermanni",
          "Batagur_affinis",
          "Cuora_flavomarginata",
          "Alligator_sinensis",
          "Caiman_latirostris",
          "Melanosuchus_niger",
          "Paleosuchus_palpebrosus",
          "Paleosuchus_trigonatus",
          "Crocodylus_johnsoni",
          "Crocodylus_mindorensis",
          "Crocodylus_porosus",
          "Crocodylus_siamensis",
          "Crocodylus_palustris",
          "Crocodylus_niloticus",
          "Crocodylus_moreletii",
          "Crocodylus_rhombifer",
          "Crocodylus_acutus",
          "Osteolaemus_tetraspis",
          "Struthio_camelus",
          "Rhynchotus_rufescens",
          "Rhea_americana",
          "Apteryx_mantelli",
          "Dromaius_novaehollandiae",
          "Gallus_gallus",
          "Podilymbus_podiceps",
          "Phoeniconaias_minor",
          "Columba_livia",
          "Mesitornis_variegatus",
          "Pterocles_alchata",
          "Tauraco_erythrolophus",
          "Cuculus_canorus",
          "Ardeotis_kori",
          "Opisthocomus_hoazin",
          "Gallinula_chloropus",
          "Larus_argentatus",
          "Larus_fuscus",
          "Podargus_strigoides",
          "Aegotheles_cristatus",
          "Apus_apus",
          "Archilochus_alexandri",
          "Rhynochetos_jubatus",
          "Gavia_immer",
          "Pygoscelis_adeliae",
          "Ciconia_ciconia",
          "Pelecanus_onocrotalus",
          "Tyto_alba",
          "Strix_occidentalis",
          "Urocolius_macrourus",
          "Leptosomus_discolor",
          "Euptilotis_neoxenus",
          "Bucorvus_leadbeateri",
          "Todiramphus_cinnamominus",
          "Ramphastos_toco",
          "Cariama_cristata",
          "Forpus_passerinus",
          "Melopsittacus_undulatus",
          "Toxostoma_curvirostre",
          "Ornithorhynchus_anatinus",
          "Tachyglossus_aculeatus"
         ],
         "legendgroup": "T",
         "marker": {
          "color": "#EF553B",
          "size": {
           "bdata": "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",
           "dtype": "f8"
          },
          "sizemode": "area",
          "sizeref": 0.02259691198253261,
          "symbol": "circle"
         },
         "mode": "markers",
         "name": "T",
         "showlegend": true,
         "type": "scattergl",
         "x": {
          "bdata": "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",
          "dtype": "f8"
         },
         "xaxis": "x",
         "y": {
          "bdata": "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",
          "dtype": "f8"
         },
         "yaxis": "y"
        }
       ],
       "layout": {
        "annotations": [
         {
          "arrowcolor": "black",
          "arrowhead": 2,
          "arrowsize": 2,
          "ax": 0,
          "axref": "x",
          "ay": 0,
          "ayref": "y",
          "showarrow": true,
          "x": 1.1698123614453788,
          "xanchor": "right",
          "y": 0.339132086299944,
          "yanchor": "top"
         },
         {
          "font": {
           "size": 12
          },
          "showarrow": false,
          "text": "am",
          "x": 1.4037748337344544,
          "xanchor": "center",
          "y": 0.4069585035599328,
          "yanchor": "middle"
         },
         {
          "arrowcolor": "black",
          "arrowhead": 2,
          "arrowsize": 2,
          "ax": 0,
          "axref": "x",
          "ay": 0,
          "ayref": "y",
          "showarrow": true,
          "x": 1.1544692797371652,
          "xanchor": "right",
          "y": 0.9037273292471601,
          "yanchor": "top"
         },
         {
          "font": {
           "size": 12
          },
          "showarrow": false,
          "text": "Wwi",
          "x": 1.3853631356845981,
          "xanchor": "center",
          "y": 1.0844727950965922,
          "yanchor": "middle"
         },
         {
          "arrowcolor": "black",
          "arrowhead": 2,
          "arrowsize": 2,
          "ax": 0,
          "axref": "x",
          "ay": 0,
          "ayref": "y",
          "showarrow": true,
          "x": -0.4244876365133017,
          "xanchor": "right",
          "y": 1.3800244916711597,
          "yanchor": "top"
         },
         {
          "font": {
           "size": 12
          },
          "showarrow": false,
          "text": "Ri",
          "x": -0.509385163815962,
          "xanchor": "center",
          "y": 1.6560293900053915,
          "yanchor": "middle"
         },
         {
          "arrowcolor": "black",
          "arrowhead": 2,
          "arrowsize": 2,
          "ax": 0,
          "axref": "x",
          "ay": 0,
          "ayref": "y",
          "showarrow": true,
          "x": 1.2007165557036252,
          "xanchor": "right",
          "y": -0.7707971668342869,
          "yanchor": "top"
         },
         {
          "font": {
           "size": 12
          },
          "showarrow": false,
          "text": "Wwb",
          "x": 1.4408598668443502,
          "xanchor": "center",
          "y": -0.9249566002011442,
          "yanchor": "middle"
         },
         {
          "arrowcolor": "black",
          "arrowhead": 2,
          "arrowsize": 2,
          "ax": 0,
          "axref": "x",
          "ay": 0,
          "ayref": "y",
          "showarrow": true,
          "x": 1.1378779765435094,
          "xanchor": "right",
          "y": 0.8632869816822398,
          "yanchor": "top"
         },
         {
          "font": {
           "size": 12
          },
          "showarrow": false,
          "text": "Li",
          "x": 1.3654535718522112,
          "xanchor": "center",
          "y": 1.0359443780186877,
          "yanchor": "middle"
         },
         {
          "arrowcolor": "black",
          "arrowhead": 2,
          "arrowsize": 2,
          "ax": 0,
          "axref": "x",
          "ay": 0,
          "ayref": "y",
          "showarrow": true,
          "x": 0.9280953366128412,
          "xanchor": "right",
          "y": -0.9816333510539413,
          "yanchor": "top"
         },
         {
          "font": {
           "size": 12
          },
          "showarrow": false,
          "text": "ab",
          "x": 1.1137144039354094,
          "xanchor": "center",
          "y": -1.1779600212647297,
          "yanchor": "middle"
         }
        ],
        "legend": {
         "itemsizing": "constant",
         "title": {
          "text": "Ecozone"
         },
         "tracegroupgap": 0
        },
        "margin": {
         "t": 60
        },
        "template": {
         "data": {
          "bar": [
           {
            "error_x": {
             "color": "#2a3f5f"
            },
            "error_y": {
             "color": "#2a3f5f"
            },
            "marker": {
             "line": {
              "color": "#E5ECF6",
              "width": 0.5
             },
             "pattern": {
              "fillmode": "overlay",
              "size": 10,
              "solidity": 0.2
             }
            },
            "type": "bar"
           }
          ],
          "barpolar": [
           {
            "marker": {
             "line": {
              "color": "#E5ECF6",
              "width": 0.5
             },
             "pattern": {
              "fillmode": "overlay",
              "size": 10,
              "solidity": 0.2
             }
            },
            "type": "barpolar"
           }
          ],
          "carpet": [
           {
            "aaxis": {
             "endlinecolor": "#2a3f5f",
             "gridcolor": "white",
             "linecolor": "white",
             "minorgridcolor": "white",
             "startlinecolor": "#2a3f5f"
            },
            "baxis": {
             "endlinecolor": "#2a3f5f",
             "gridcolor": "white",
             "linecolor": "white",
             "minorgridcolor": "white",
             "startlinecolor": "#2a3f5f"
            },
            "type": "carpet"
           }
          ],
          "choropleth": [
           {
            "colorbar": {
             "outlinewidth": 0,
             "ticks": ""
            },
            "type": "choropleth"
           }
          ],
          "contour": [
           {
            "colorbar": {
             "outlinewidth": 0,
             "ticks": ""
            },
            "colorscale": [
             [
              0,
              "#0d0887"
             ],
             [
              0.1111111111111111,
              "#46039f"
             ],
             [
              0.2222222222222222,
              "#7201a8"
             ],
             [
              0.3333333333333333,
              "#9c179e"
             ],
             [
              0.4444444444444444,
              "#bd3786"
             ],
             [
              0.5555555555555556,
              "#d8576b"
             ],
             [
              0.6666666666666666,
              "#ed7953"
             ],
             [
              0.7777777777777778,
              "#fb9f3a"
             ],
             [
              0.8888888888888888,
              "#fdca26"
             ],
             [
              1,
              "#f0f921"
             ]
            ],
            "type": "contour"
           }
          ],
          "contourcarpet": [
           {
            "colorbar": {
             "outlinewidth": 0,
             "ticks": ""
            },
            "type": "contourcarpet"
           }
          ],
          "heatmap": [
           {
            "colorbar": {
             "outlinewidth": 0,
             "ticks": ""
            },
            "colorscale": [
             [
              0,
              "#0d0887"
             ],
             [
              0.1111111111111111,
              "#46039f"
             ],
             [
              0.2222222222222222,
              "#7201a8"
             ],
             [
              0.3333333333333333,
              "#9c179e"
             ],
             [
              0.4444444444444444,
              "#bd3786"
             ],
             [
              0.5555555555555556,
              "#d8576b"
             ],
             [
              0.6666666666666666,
              "#ed7953"
             ],
             [
              0.7777777777777778,
              "#fb9f3a"
             ],
             [
              0.8888888888888888,
              "#fdca26"
             ],
             [
              1,
              "#f0f921"
             ]
            ],
            "type": "heatmap"
           }
          ],
          "histogram": [
           {
            "marker": {
             "pattern": {
              "fillmode": "overlay",
              "size": 10,
              "solidity": 0.2
             }
            },
            "type": "histogram"
           }
          ],
          "histogram2d": [
           {
            "colorbar": {
             "outlinewidth": 0,
             "ticks": ""
            },
            "colorscale": [
             [
              0,
              "#0d0887"
             ],
             [
              0.1111111111111111,
              "#46039f"
             ],
             [
              0.2222222222222222,
              "#7201a8"
             ],
             [
              0.3333333333333333,
              "#9c179e"
             ],
             [
              0.4444444444444444,
              "#bd3786"
             ],
             [
              0.5555555555555556,
              "#d8576b"
             ],
             [
              0.6666666666666666,
              "#ed7953"
             ],
             [
              0.7777777777777778,
              "#fb9f3a"
             ],
             [
              0.8888888888888888,
              "#fdca26"
             ],
             [
              1,
              "#f0f921"
             ]
            ],
            "type": "histogram2d"
           }
          ],
          "histogram2dcontour": [
           {
            "colorbar": {
             "outlinewidth": 0,
             "ticks": ""
            },
            "colorscale": [
             [
              0,
              "#0d0887"
             ],
             [
              0.1111111111111111,
              "#46039f"
             ],
             [
              0.2222222222222222,
              "#7201a8"
             ],
             [
              0.3333333333333333,
              "#9c179e"
             ],
             [
              0.4444444444444444,
              "#bd3786"
             ],
             [
              0.5555555555555556,
              "#d8576b"
             ],
             [
              0.6666666666666666,
              "#ed7953"
             ],
             [
              0.7777777777777778,
              "#fb9f3a"
             ],
             [
              0.8888888888888888,
              "#fdca26"
             ],
             [
              1,
              "#f0f921"
             ]
            ],
            "type": "histogram2dcontour"
           }
          ],
          "mesh3d": [
           {
            "colorbar": {
             "outlinewidth": 0,
             "ticks": ""
            },
            "type": "mesh3d"
           }
          ],
          "parcoords": [
           {
            "line": {
             "colorbar": {
              "outlinewidth": 0,
              "ticks": ""
             }
            },
            "type": "parcoords"
           }
          ],
          "pie": [
           {
            "automargin": true,
            "type": "pie"
           }
          ],
          "scatter": [
           {
            "fillpattern": {
             "fillmode": "overlay",
             "size": 10,
             "solidity": 0.2
            },
            "type": "scatter"
           }
          ],
          "scatter3d": [
           {
            "line": {
             "colorbar": {
              "outlinewidth": 0,
              "ticks": ""
             }
            },
            "marker": {
             "colorbar": {
              "outlinewidth": 0,
              "ticks": ""
             }
            },
            "type": "scatter3d"
           }
          ],
          "scattercarpet": [
           {
            "marker": {
             "colorbar": {
              "outlinewidth": 0,
              "ticks": ""
             }
            },
            "type": "scattercarpet"
           }
          ],
          "scattergeo": [
           {
            "marker": {
             "colorbar": {
              "outlinewidth": 0,
              "ticks": ""
             }
            },
            "type": "scattergeo"
           }
          ],
          "scattergl": [
           {
            "marker": {
             "colorbar": {
              "outlinewidth": 0,
              "ticks": ""
             }
            },
            "type": "scattergl"
           }
          ],
          "scattermap": [
           {
            "marker": {
             "colorbar": {
              "outlinewidth": 0,
              "ticks": ""
             }
            },
            "type": "scattermap"
           }
          ],
          "scattermapbox": [
           {
            "marker": {
             "colorbar": {
              "outlinewidth": 0,
              "ticks": ""
             }
            },
            "type": "scattermapbox"
           }
          ],
          "scatterpolar": [
           {
            "marker": {
             "colorbar": {
              "outlinewidth": 0,
              "ticks": ""
             }
            },
            "type": "scatterpolar"
           }
          ],
          "scatterpolargl": [
           {
            "marker": {
             "colorbar": {
              "outlinewidth": 0,
              "ticks": ""
             }
            },
            "type": "scatterpolargl"
           }
          ],
          "scatterternary": [
           {
            "marker": {
             "colorbar": {
              "outlinewidth": 0,
              "ticks": ""
             }
            },
            "type": "scatterternary"
           }
          ],
          "surface": [
           {
            "colorbar": {
             "outlinewidth": 0,
             "ticks": ""
            },
            "colorscale": [
             [
              0,
              "#0d0887"
             ],
             [
              0.1111111111111111,
              "#46039f"
             ],
             [
              0.2222222222222222,
              "#7201a8"
             ],
             [
              0.3333333333333333,
              "#9c179e"
             ],
             [
              0.4444444444444444,
              "#bd3786"
             ],
             [
              0.5555555555555556,
              "#d8576b"
             ],
             [
              0.6666666666666666,
              "#ed7953"
             ],
             [
              0.7777777777777778,
              "#fb9f3a"
             ],
             [
              0.8888888888888888,
              "#fdca26"
             ],
             [
              1,
              "#f0f921"
             ]
            ],
            "type": "surface"
           }
          ],
          "table": [
           {
            "cells": {
             "fill": {
              "color": "#EBF0F8"
             },
             "line": {
              "color": "white"
             }
            },
            "header": {
             "fill": {
              "color": "#C8D4E3"
             },
             "line": {
              "color": "white"
             }
            },
            "type": "table"
           }
          ]
         },
         "layout": {
          "annotationdefaults": {
           "arrowcolor": "#2a3f5f",
           "arrowhead": 0,
           "arrowwidth": 1
          },
          "autotypenumbers": "strict",
          "coloraxis": {
           "colorbar": {
            "outlinewidth": 0,
            "ticks": ""
           }
          },
          "colorscale": {
           "diverging": [
            [
             0,
             "#8e0152"
            ],
            [
             0.1,
             "#c51b7d"
            ],
            [
             0.2,
             "#de77ae"
            ],
            [
             0.3,
             "#f1b6da"
            ],
            [
             0.4,
             "#fde0ef"
            ],
            [
             0.5,
             "#f7f7f7"
            ],
            [
             0.6,
             "#e6f5d0"
            ],
            [
             0.7,
             "#b8e186"
            ],
            [
             0.8,
             "#7fbc41"
            ],
            [
             0.9,
             "#4d9221"
            ],
            [
             1,
             "#276419"
            ]
           ],
           "sequential": [
            [
             0,
             "#0d0887"
            ],
            [
             0.1111111111111111,
             "#46039f"
            ],
            [
             0.2222222222222222,
             "#7201a8"
            ],
            [
             0.3333333333333333,
             "#9c179e"
            ],
            [
             0.4444444444444444,
             "#bd3786"
            ],
            [
             0.5555555555555556,
             "#d8576b"
            ],
            [
             0.6666666666666666,
             "#ed7953"
            ],
            [
             0.7777777777777778,
             "#fb9f3a"
            ],
            [
             0.8888888888888888,
             "#fdca26"
            ],
            [
             1,
             "#f0f921"
            ]
           ],
           "sequentialminus": [
            [
             0,
             "#0d0887"
            ],
            [
             0.1111111111111111,
             "#46039f"
            ],
            [
             0.2222222222222222,
             "#7201a8"
            ],
            [
             0.3333333333333333,
             "#9c179e"
            ],
            [
             0.4444444444444444,
             "#bd3786"
            ],
            [
             0.5555555555555556,
             "#d8576b"
            ],
            [
             0.6666666666666666,
             "#ed7953"
            ],
            [
             0.7777777777777778,
             "#fb9f3a"
            ],
            [
             0.8888888888888888,
             "#fdca26"
            ],
            [
             1,
             "#f0f921"
            ]
           ]
          },
          "colorway": [
           "#636efa",
           "#EF553B",
           "#00cc96",
           "#ab63fa",
           "#FFA15A",
           "#19d3f3",
           "#FF6692",
           "#B6E880",
           "#FF97FF",
           "#FECB52"
          ],
          "font": {
           "color": "#2a3f5f"
          },
          "geo": {
           "bgcolor": "white",
           "lakecolor": "white",
           "landcolor": "#E5ECF6",
           "showlakes": true,
           "showland": true,
           "subunitcolor": "white"
          },
          "hoverlabel": {
           "align": "left"
          },
          "hovermode": "closest",
          "mapbox": {
           "style": "light"
          },
          "paper_bgcolor": "white",
          "plot_bgcolor": "#E5ECF6",
          "polar": {
           "angularaxis": {
            "gridcolor": "white",
            "linecolor": "white",
            "ticks": ""
           },
           "bgcolor": "#E5ECF6",
           "radialaxis": {
            "gridcolor": "white",
            "linecolor": "white",
            "ticks": ""
           }
          },
          "scene": {
           "xaxis": {
            "backgroundcolor": "#E5ECF6",
            "gridcolor": "white",
            "gridwidth": 2,
            "linecolor": "white",
            "showbackground": true,
            "ticks": "",
            "zerolinecolor": "white"
           },
           "yaxis": {
            "backgroundcolor": "#E5ECF6",
            "gridcolor": "white",
            "gridwidth": 2,
            "linecolor": "white",
            "showbackground": true,
            "ticks": "",
            "zerolinecolor": "white"
           },
           "zaxis": {
            "backgroundcolor": "#E5ECF6",
            "gridcolor": "white",
            "gridwidth": 2,
            "linecolor": "white",
            "showbackground": true,
            "ticks": "",
            "zerolinecolor": "white"
           }
          },
          "shapedefaults": {
           "line": {
            "color": "#2a3f5f"
           }
          },
          "ternary": {
           "aaxis": {
            "gridcolor": "white",
            "linecolor": "white",
            "ticks": ""
           },
           "baxis": {
            "gridcolor": "white",
            "linecolor": "white",
            "ticks": ""
           },
           "bgcolor": "#E5ECF6",
           "caxis": {
            "gridcolor": "white",
            "linecolor": "white",
            "ticks": ""
           }
          },
          "title": {
           "x": 0.05
          },
          "xaxis": {
           "automargin": true,
           "gridcolor": "white",
           "linecolor": "white",
           "ticks": "",
           "title": {
            "standoff": 15
           },
           "zerolinecolor": "white",
           "zerolinewidth": 2
          },
          "yaxis": {
           "automargin": true,
           "gridcolor": "white",
           "linecolor": "white",
           "ticks": "",
           "title": {
            "standoff": 15
           },
           "zerolinecolor": "white",
           "zerolinewidth": 2
          }
         }
        },
        "title": {
         "text": "Biplot of Life History traits colored by ecozone and size by Wwi"
        },
        "xaxis": {
         "anchor": "y",
         "domain": [
          0,
          1
         ],
         "title": {
          "text": "PC1 (47.4%)"
         }
        },
        "yaxis": {
         "anchor": "x",
         "domain": [
          0,
          1
         ],
         "title": {
          "text": "PC2 (37.6%)"
         }
        }
       }
      }
     },
     "metadata": {},
     "output_type": "display_data"
    }
   ],
   "source": [
    "x_range = principal_components[:, 0].max() - principal_components[:, 0].min()\n",
    "y_range = principal_components[:, 1].max() - principal_components[:, 1].min()\n",
    "\n",
    "scale = 0.3 * np.mean([x_range, y_range])\n",
    "scaled_loadings = loadings * scale\n",
    "\n",
    "#color\n",
    "size_variable = final_df[\"Wwi\"] - final_df[\"Wwi\"].min() + 0.1  # +0.1 évite les zéros\n",
    "\n",
    "fig = px.scatter(\n",
    "    pca_df, \n",
    "    x=\"PC1\", \n",
    "    y=\"PC2\", \n",
    "    color=final_df['ecozone'],\n",
    "    color_continuous_scale=\"Viridis\", \n",
    "    hover_name=final_df[\"species\"],\n",
    "    size=size_variable,\n",
    "    )\n",
    "\n",
    "for i, feature in enumerate(features):\n",
    "    x = scaled_loadings[i, 0]\n",
    "    y = scaled_loadings[i, 1]\n",
    "\n",
    "    fig.add_annotation(\n",
    "        ax=0, ay=0,\n",
    "        axref=\"x\", ayref=\"y\",\n",
    "        x=scaled_loadings[i, 0],\n",
    "        y=scaled_loadings[i, 1],\n",
    "        showarrow=True,\n",
    "        arrowsize=2,\n",
    "        arrowhead=2,\n",
    "        xanchor=\"right\",\n",
    "        yanchor=\"top\",\n",
    "        arrowcolor=\"black\",\n",
    "    )\n",
    "\n",
    "    fig.add_annotation(\n",
    "        x=x * 1.2,  \n",
    "        y=y * 1.2,\n",
    "        text=feature,\n",
    "        showarrow=False,\n",
    "        font=dict(size=12),\n",
    "        xanchor=\"center\",\n",
    "        yanchor=\"middle\",\n",
    "    )\n",
    "\n",
    "fig.update_layout(\n",
    "    title=\"Biplot of Life History traits colored by ecozone and size by Wwi\",\n",
    "    xaxis_title=f\"PC1 ({pc1_var:.1f}%)\",\n",
    "    yaxis_title=f\"PC2 ({pc2_var:.1f}%)\",\n",
    "    legend_title=\"Ecozone\",\n",
    ")\n",
    "\n",
    "fig.show()\n",
    "fig.write_html(\"biplot2.html\")\n"
   ]
  }
 ],
 "metadata": {
  "kernelspec": {
   "display_name": ".venv",
   "language": "python",
   "name": "python3"
  },
  "language_info": {
   "codemirror_mode": {
    "name": "ipython",
    "version": 3
   },
   "file_extension": ".py",
   "mimetype": "text/x-python",
   "name": "python",
   "nbconvert_exporter": "python",
   "pygments_lexer": "ipython3",
   "version": "3.12.10"
  }
 },
 "nbformat": 4,
 "nbformat_minor": 5
}

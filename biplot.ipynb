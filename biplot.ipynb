{
 "cells": [
  {
   "cell_type": "code",
   "execution_count": 2,
   "id": "8ac79230",
   "metadata": {},
   "outputs": [],
   "source": [
    "import pandas as pd\n",
    "import numpy as np\n",
    "import matplotlib.pyplot as plt\n",
    "import seaborn as sns\n",
    "from sklearn.decomposition import PCA\n",
    "from sklearn.preprocessing import StandardScaler\n",
    "\n",
    "import plotly.express as px\n",
    "import plotly.graph_objects as go"
   ]
  },
  {
   "cell_type": "code",
   "execution_count": 20,
   "id": "83a6ee3f",
   "metadata": {},
   "outputs": [
    {
     "data": {
      "text/html": [
       "<div>\n",
       "<style scoped>\n",
       "    .dataframe tbody tr th:only-of-type {\n",
       "        vertical-align: middle;\n",
       "    }\n",
       "\n",
       "    .dataframe tbody tr th {\n",
       "        vertical-align: top;\n",
       "    }\n",
       "\n",
       "    .dataframe thead th {\n",
       "        text-align: right;\n",
       "    }\n",
       "</style>\n",
       "<table border=\"1\" class=\"dataframe\">\n",
       "  <thead>\n",
       "    <tr style=\"text-align: right;\">\n",
       "      <th></th>\n",
       "      <th>species</th>\n",
       "      <th>am</th>\n",
       "      <th>Wwi</th>\n",
       "      <th>Ri</th>\n",
       "      <th>Wwb</th>\n",
       "      <th>Li</th>\n",
       "      <th>ab</th>\n",
       "    </tr>\n",
       "  </thead>\n",
       "  <tbody>\n",
       "    <tr>\n",
       "      <th>0</th>\n",
       "      <td>Symsagittifera_roscoffensis</td>\n",
       "      <td>-2.263097</td>\n",
       "      <td>-2.681943</td>\n",
       "      <td>0.018237</td>\n",
       "      <td>-1.610842</td>\n",
       "      <td>-2.223594</td>\n",
       "      <td>-0.870294</td>\n",
       "    </tr>\n",
       "    <tr>\n",
       "      <th>1</th>\n",
       "      <td>Aequipecten_opercularis</td>\n",
       "      <td>-0.059093</td>\n",
       "      <td>-0.275378</td>\n",
       "      <td>1.639591</td>\n",
       "      <td>-2.351822</td>\n",
       "      <td>-0.854880</td>\n",
       "      <td>-1.373181</td>\n",
       "    </tr>\n",
       "    <tr>\n",
       "      <th>2</th>\n",
       "      <td>Mimachlamys_varia</td>\n",
       "      <td>-0.400497</td>\n",
       "      <td>-0.622221</td>\n",
       "      <td>1.639591</td>\n",
       "      <td>-2.351822</td>\n",
       "      <td>-0.944853</td>\n",
       "      <td>-1.373181</td>\n",
       "    </tr>\n",
       "    <tr>\n",
       "      <th>3</th>\n",
       "      <td>Mytilus_edulis</td>\n",
       "      <td>0.778895</td>\n",
       "      <td>-0.231961</td>\n",
       "      <td>1.392184</td>\n",
       "      <td>-2.764869</td>\n",
       "      <td>-0.464663</td>\n",
       "      <td>-3.043736</td>\n",
       "    </tr>\n",
       "    <tr>\n",
       "      <th>4</th>\n",
       "      <td>Panopea_abbreviata</td>\n",
       "      <td>2.507146</td>\n",
       "      <td>0.675057</td>\n",
       "      <td>2.385215</td>\n",
       "      <td>-1.703486</td>\n",
       "      <td>-0.074446</td>\n",
       "      <td>-1.876068</td>\n",
       "    </tr>\n",
       "  </tbody>\n",
       "</table>\n",
       "</div>"
      ],
      "text/plain": [
       "                       species        am       Wwi        Ri       Wwb  \\\n",
       "0  Symsagittifera_roscoffensis -2.263097 -2.681943  0.018237 -1.610842   \n",
       "1      Aequipecten_opercularis -0.059093 -0.275378  1.639591 -2.351822   \n",
       "2            Mimachlamys_varia -0.400497 -0.622221  1.639591 -2.351822   \n",
       "3               Mytilus_edulis  0.778895 -0.231961  1.392184 -2.764869   \n",
       "4           Panopea_abbreviata  2.507146  0.675057  2.385215 -1.703486   \n",
       "\n",
       "         Li        ab  \n",
       "0 -2.223594 -0.870294  \n",
       "1 -0.854880 -1.373181  \n",
       "2 -0.944853 -1.373181  \n",
       "3 -0.464663 -3.043736  \n",
       "4 -0.074446 -1.876068  "
      ]
     },
     "metadata": {},
     "output_type": "display_data"
    },
    {
     "data": {
      "text/html": [
       "<div>\n",
       "<style scoped>\n",
       "    .dataframe tbody tr th:only-of-type {\n",
       "        vertical-align: middle;\n",
       "    }\n",
       "\n",
       "    .dataframe tbody tr th {\n",
       "        vertical-align: top;\n",
       "    }\n",
       "\n",
       "    .dataframe thead th {\n",
       "        text-align: right;\n",
       "    }\n",
       "</style>\n",
       "<table border=\"1\" class=\"dataframe\">\n",
       "  <thead>\n",
       "    <tr style=\"text-align: right;\">\n",
       "      <th></th>\n",
       "      <th>ID</th>\n",
       "      <th>ecozone</th>\n",
       "      <th>gender</th>\n",
       "      <th>reproduction</th>\n",
       "      <th>embryo</th>\n",
       "    </tr>\n",
       "  </thead>\n",
       "  <tbody>\n",
       "    <tr>\n",
       "      <th>0</th>\n",
       "      <td>Symsagittifera_roscoffensis</td>\n",
       "      <td>M</td>\n",
       "      <td>H</td>\n",
       "      <td>O</td>\n",
       "      <td>M</td>\n",
       "    </tr>\n",
       "    <tr>\n",
       "      <th>1</th>\n",
       "      <td>Aequipecten_opercularis</td>\n",
       "      <td>M</td>\n",
       "      <td>H</td>\n",
       "      <td>O</td>\n",
       "      <td>M</td>\n",
       "    </tr>\n",
       "    <tr>\n",
       "      <th>2</th>\n",
       "      <td>Mimachlamys_varia</td>\n",
       "      <td>M</td>\n",
       "      <td>H</td>\n",
       "      <td>O</td>\n",
       "      <td>M</td>\n",
       "    </tr>\n",
       "    <tr>\n",
       "      <th>3</th>\n",
       "      <td>Mytilus_edulis</td>\n",
       "      <td>M</td>\n",
       "      <td>D</td>\n",
       "      <td>O</td>\n",
       "      <td>M</td>\n",
       "    </tr>\n",
       "    <tr>\n",
       "      <th>4</th>\n",
       "      <td>Panopea_abbreviata</td>\n",
       "      <td>M</td>\n",
       "      <td>D</td>\n",
       "      <td>O</td>\n",
       "      <td>M</td>\n",
       "    </tr>\n",
       "  </tbody>\n",
       "</table>\n",
       "</div>"
      ],
      "text/plain": [
       "                            ID ecozone gender reproduction embryo\n",
       "0  Symsagittifera_roscoffensis       M      H            O      M\n",
       "1      Aequipecten_opercularis       M      H            O      M\n",
       "2            Mimachlamys_varia       M      H            O      M\n",
       "3               Mytilus_edulis       M      D            O      M\n",
       "4           Panopea_abbreviata       M      D            O      M"
      ]
     },
     "metadata": {},
     "output_type": "display_data"
    }
   ],
   "source": [
    "# Load the dataset\n",
    "df_life = pd.read_csv('data/lifehistory_df.csv')\n",
    "df_basiceco = pd.read_csv('data/basicecodf.csv')\n",
    "df_species = pd.read_csv(\"data/species.csv\")\n",
    "df_food = pd.read_csv(\"data/fooddf.csv\")\n",
    "df_habitat = pd.read_csv(\"data/habitatdf.csv\")\n",
    "\n",
    "\n",
    "display(df_life.head())\n",
    "display(df_basiceco.head())"
   ]
  },
  {
   "cell_type": "code",
   "execution_count": 4,
   "id": "4f10c755",
   "metadata": {},
   "outputs": [
    {
     "data": {
      "text/html": [
       "<div>\n",
       "<style scoped>\n",
       "    .dataframe tbody tr th:only-of-type {\n",
       "        vertical-align: middle;\n",
       "    }\n",
       "\n",
       "    .dataframe tbody tr th {\n",
       "        vertical-align: top;\n",
       "    }\n",
       "\n",
       "    .dataframe thead th {\n",
       "        text-align: right;\n",
       "    }\n",
       "</style>\n",
       "<table border=\"1\" class=\"dataframe\">\n",
       "  <thead>\n",
       "    <tr style=\"text-align: right;\">\n",
       "      <th></th>\n",
       "      <th>species</th>\n",
       "      <th>PC1</th>\n",
       "      <th>PC2</th>\n",
       "    </tr>\n",
       "  </thead>\n",
       "  <tbody>\n",
       "    <tr>\n",
       "      <th>0</th>\n",
       "      <td>Symsagittifera_roscoffensis</td>\n",
       "      <td>-4.332599</td>\n",
       "      <td>-1.319409</td>\n",
       "    </tr>\n",
       "    <tr>\n",
       "      <th>1</th>\n",
       "      <td>Aequipecten_opercularis</td>\n",
       "      <td>-2.418778</td>\n",
       "      <td>1.949067</td>\n",
       "    </tr>\n",
       "    <tr>\n",
       "      <th>2</th>\n",
       "      <td>Mimachlamys_varia</td>\n",
       "      <td>-2.773367</td>\n",
       "      <td>1.725362</td>\n",
       "    </tr>\n",
       "    <tr>\n",
       "      <th>3</th>\n",
       "      <td>Mytilus_edulis</td>\n",
       "      <td>-2.602300</td>\n",
       "      <td>2.953991</td>\n",
       "    </tr>\n",
       "    <tr>\n",
       "      <th>4</th>\n",
       "      <td>Panopea_abbreviata</td>\n",
       "      <td>-0.460463</td>\n",
       "      <td>3.460949</td>\n",
       "    </tr>\n",
       "  </tbody>\n",
       "</table>\n",
       "</div>"
      ],
      "text/plain": [
       "                       species       PC1       PC2\n",
       "0  Symsagittifera_roscoffensis -4.332599 -1.319409\n",
       "1      Aequipecten_opercularis -2.418778  1.949067\n",
       "2            Mimachlamys_varia -2.773367  1.725362\n",
       "3               Mytilus_edulis -2.602300  2.953991\n",
       "4           Panopea_abbreviata -0.460463  3.460949"
      ]
     },
     "execution_count": 4,
     "metadata": {},
     "output_type": "execute_result"
    }
   ],
   "source": [
    "features = df_life[['am', 'Wwi', 'Ri', 'Wwb', 'Li', 'ab']]\n",
    "\n",
    "X = StandardScaler().fit_transform(features)\n",
    "\n",
    "pca = PCA(n_components=2)\n",
    "principal_components = pca.fit_transform(X)\n",
    "\n",
    "pca_df = pd.DataFrame(data=principal_components, columns=['PC1', 'PC2'])\n",
    "final_df = pd.concat([ df_life[['species']], pca_df], axis = 1)\n",
    "final_df.head()"
   ]
  },
  {
   "cell_type": "code",
   "execution_count": 5,
   "id": "721f99fe",
   "metadata": {},
   "outputs": [
    {
     "name": "stdout",
     "output_type": "stream",
     "text": [
      "PC1: 47.39%\n",
      "PC2: 37.59%\n"
     ]
    }
   ],
   "source": [
    "explained_variance = pca.explained_variance_ratio_\n",
    "\n",
    "pc1_var = explained_variance[0] * 100\n",
    "pc2_var = explained_variance[1] * 100\n",
    "\n",
    "print(f\"PC1: {pc1_var:.2f}%\")\n",
    "print(f\"PC2: {pc2_var:.2f}%\")"
   ]
  },
  {
   "cell_type": "code",
   "execution_count": 27,
   "id": "9508d065",
   "metadata": {},
   "outputs": [
    {
     "data": {
      "text/html": [
       "<div>\n",
       "<style scoped>\n",
       "    .dataframe tbody tr th:only-of-type {\n",
       "        vertical-align: middle;\n",
       "    }\n",
       "\n",
       "    .dataframe tbody tr th {\n",
       "        vertical-align: top;\n",
       "    }\n",
       "\n",
       "    .dataframe thead th {\n",
       "        text-align: right;\n",
       "    }\n",
       "</style>\n",
       "<table border=\"1\" class=\"dataframe\">\n",
       "  <thead>\n",
       "    <tr style=\"text-align: right;\">\n",
       "      <th></th>\n",
       "      <th>species</th>\n",
       "      <th>PC1</th>\n",
       "      <th>PC2</th>\n",
       "      <th>Wwi</th>\n",
       "      <th>Ri</th>\n",
       "      <th>am</th>\n",
       "      <th>ecozone</th>\n",
       "      <th>gender</th>\n",
       "      <th>reproduction</th>\n",
       "      <th>embryo</th>\n",
       "      <th>food</th>\n",
       "      <th>order</th>\n",
       "      <th>class</th>\n",
       "      <th>phylum</th>\n",
       "      <th>habitat</th>\n",
       "      <th>Wwb</th>\n",
       "      <th>Li</th>\n",
       "      <th>ab</th>\n",
       "    </tr>\n",
       "  </thead>\n",
       "  <tbody>\n",
       "    <tr>\n",
       "      <th>0</th>\n",
       "      <td>Symsagittifera_roscoffensis</td>\n",
       "      <td>-4.332599</td>\n",
       "      <td>-1.319409</td>\n",
       "      <td>-2.681943</td>\n",
       "      <td>0.018237</td>\n",
       "      <td>-2.263097</td>\n",
       "      <td>M</td>\n",
       "      <td>H</td>\n",
       "      <td>O</td>\n",
       "      <td>M</td>\n",
       "      <td>BA</td>\n",
       "      <td>Acoela</td>\n",
       "      <td>Acoelomorpha</td>\n",
       "      <td>Xenacoelomorpha</td>\n",
       "      <td>M</td>\n",
       "      <td>-1.610842</td>\n",
       "      <td>-2.223594</td>\n",
       "      <td>-0.870294</td>\n",
       "    </tr>\n",
       "    <tr>\n",
       "      <th>1</th>\n",
       "      <td>Aequipecten_opercularis</td>\n",
       "      <td>-2.418778</td>\n",
       "      <td>1.949067</td>\n",
       "      <td>-0.275378</td>\n",
       "      <td>1.639591</td>\n",
       "      <td>-0.059093</td>\n",
       "      <td>M</td>\n",
       "      <td>H</td>\n",
       "      <td>O</td>\n",
       "      <td>M</td>\n",
       "      <td>P</td>\n",
       "      <td>Pectinida</td>\n",
       "      <td>Bivalvia</td>\n",
       "      <td>Mollusca</td>\n",
       "      <td>M</td>\n",
       "      <td>-2.351822</td>\n",
       "      <td>-0.854880</td>\n",
       "      <td>-1.373181</td>\n",
       "    </tr>\n",
       "    <tr>\n",
       "      <th>2</th>\n",
       "      <td>Mimachlamys_varia</td>\n",
       "      <td>-2.773367</td>\n",
       "      <td>1.725362</td>\n",
       "      <td>-0.622221</td>\n",
       "      <td>1.639591</td>\n",
       "      <td>-0.400497</td>\n",
       "      <td>M</td>\n",
       "      <td>H</td>\n",
       "      <td>O</td>\n",
       "      <td>M</td>\n",
       "      <td>P</td>\n",
       "      <td>Pectinida</td>\n",
       "      <td>Bivalvia</td>\n",
       "      <td>Mollusca</td>\n",
       "      <td>M</td>\n",
       "      <td>-2.351822</td>\n",
       "      <td>-0.944853</td>\n",
       "      <td>-1.373181</td>\n",
       "    </tr>\n",
       "    <tr>\n",
       "      <th>3</th>\n",
       "      <td>Mytilus_edulis</td>\n",
       "      <td>-2.602300</td>\n",
       "      <td>2.953991</td>\n",
       "      <td>-0.231961</td>\n",
       "      <td>1.392184</td>\n",
       "      <td>0.778895</td>\n",
       "      <td>M</td>\n",
       "      <td>D</td>\n",
       "      <td>O</td>\n",
       "      <td>M</td>\n",
       "      <td>P</td>\n",
       "      <td>Mytiloida</td>\n",
       "      <td>Bivalvia</td>\n",
       "      <td>Mollusca</td>\n",
       "      <td>M</td>\n",
       "      <td>-2.764869</td>\n",
       "      <td>-0.464663</td>\n",
       "      <td>-3.043736</td>\n",
       "    </tr>\n",
       "    <tr>\n",
       "      <th>4</th>\n",
       "      <td>Panopea_abbreviata</td>\n",
       "      <td>-0.460463</td>\n",
       "      <td>3.460949</td>\n",
       "      <td>0.675057</td>\n",
       "      <td>2.385215</td>\n",
       "      <td>2.507146</td>\n",
       "      <td>M</td>\n",
       "      <td>D</td>\n",
       "      <td>O</td>\n",
       "      <td>M</td>\n",
       "      <td>H</td>\n",
       "      <td>Adapedonta</td>\n",
       "      <td>Bivalvia</td>\n",
       "      <td>Mollusca</td>\n",
       "      <td>M</td>\n",
       "      <td>-1.703486</td>\n",
       "      <td>-0.074446</td>\n",
       "      <td>-1.876068</td>\n",
       "    </tr>\n",
       "  </tbody>\n",
       "</table>\n",
       "</div>"
      ],
      "text/plain": [
       "                       species       PC1       PC2       Wwi        Ri  \\\n",
       "0  Symsagittifera_roscoffensis -4.332599 -1.319409 -2.681943  0.018237   \n",
       "1      Aequipecten_opercularis -2.418778  1.949067 -0.275378  1.639591   \n",
       "2            Mimachlamys_varia -2.773367  1.725362 -0.622221  1.639591   \n",
       "3               Mytilus_edulis -2.602300  2.953991 -0.231961  1.392184   \n",
       "4           Panopea_abbreviata -0.460463  3.460949  0.675057  2.385215   \n",
       "\n",
       "         am ecozone gender reproduction embryo food       order         class  \\\n",
       "0 -2.263097       M      H            O      M   BA      Acoela  Acoelomorpha   \n",
       "1 -0.059093       M      H            O      M    P   Pectinida      Bivalvia   \n",
       "2 -0.400497       M      H            O      M    P   Pectinida      Bivalvia   \n",
       "3  0.778895       M      D            O      M    P   Mytiloida      Bivalvia   \n",
       "4  2.507146       M      D            O      M    H  Adapedonta      Bivalvia   \n",
       "\n",
       "            phylum habitat       Wwb        Li        ab  \n",
       "0  Xenacoelomorpha       M -1.610842 -2.223594 -0.870294  \n",
       "1         Mollusca       M -2.351822 -0.854880 -1.373181  \n",
       "2         Mollusca       M -2.351822 -0.944853 -1.373181  \n",
       "3         Mollusca       M -2.764869 -0.464663 -3.043736  \n",
       "4         Mollusca       M -1.703486 -0.074446 -1.876068  "
      ]
     },
     "execution_count": 27,
     "metadata": {},
     "output_type": "execute_result"
    }
   ],
   "source": [
    "final_df['Wwi'] = df_life['Wwi']\n",
    "final_df['Ri'] = df_life['Ri']\n",
    "final_df['am'] = df_life['am']\n",
    "final_df['Wwb'] = df_life['Wwb']\n",
    "final_df['Li'] = df_life['Li']\n",
    "final_df['ab'] = df_life['ab']\n",
    "\n",
    "final_df['ecozone'] = df_basiceco['ecozone']\n",
    "final_df['habitat'] = df_habitat['adult']\n",
    "final_df['gender'] = df_basiceco['gender']\n",
    "final_df['reproduction'] = df_basiceco['reproduction']\n",
    "final_df['embryo'] = df_basiceco['embryo']\n",
    "final_df['food'] = df_food['adult']\n",
    "final_df['order'] = df_species['Order']  \n",
    "final_df['class'] = df_species['Class'] \n",
    "final_df['phylum'] = df_species['Phylum']\n",
    "\n",
    "final_df.head()"
   ]
  },
  {
   "cell_type": "code",
   "execution_count": 7,
   "id": "24cd4491",
   "metadata": {},
   "outputs": [],
   "source": [
    "loadings = pca.components_.T * np.sqrt(explained_variance)\n",
    "\n",
    "x_range = principal_components[:, 0].max() - principal_components[:, 0].min()\n",
    "y_range = principal_components[:, 1].max() - principal_components[:, 1].min()\n",
    "\n",
    "scale = 0.3 * np.mean([x_range, y_range])\n",
    "scaled_loadings = loadings * scale\n"
   ]
  },
  {
   "cell_type": "code",
   "execution_count": 35,
   "id": "55bb5661",
   "metadata": {},
   "outputs": [
    {
     "data": {
      "application/vnd.plotly.v1+json": {
       "config": {
        "plotlyServerURL": "https://plot.ly"
       },
       "data": [
        {
         "hovertemplate": "<b>%{hovertext}</b><br><br>PC1=%{x}<br>PC2=%{y}<br>size=%{marker.size}<br>color=%{marker.color}<extra></extra>",
         "hovertext": [
          "Symsagittifera_roscoffensis",
          "Aequipecten_opercularis",
          "Mimachlamys_varia",
          "Mytilus_edulis",
          "Panopea_abbreviata",
          "Tridacna_gigas",
          "Donax_trunculus",
          "Galatea_paradoxa",
          "Mytilopsis_sallei",
          "Teredo_navalis",
          "Callista_chione",
          "Chamelea_gallina",
          "Dosinia_exoleta",
          "Actinonaias_ligamentina",
          "Phorcus_lineatus",
          "Urosalpinx_cinerea",
          "Aplysia_californica",
          "Cuthona_nana",
          "Stagnicola_palustris",
          "Biomphalaria_glabrata",
          "Planorbis_planorbis",
          "Helix_pomatia",
          "Nautilus_pompilius",
          "Aspidiophorus_polystictos",
          "Phoronis_pallida",
          "Phoronis_psammophila",
          "Bimastos_rubidus",
          "Dendrobaena_octaedra",
          "Lumbricus_rubellus",
          "Eisenia_andrei",
          "Eisenia_fetida",
          "Schmidtea_polychroa",
          "Baikaiobia_guttata",
          "Branchotenthes_octohamatus",
          "Caenorhabditis_elegans",
          "Macrobiotus_hufelandii",
          "Hypsibius_convergens",
          "Ramazzottius_oberhaeuseri",
          "Milnesium_tardigradum",
          "Smeringurus_mesaensis",
          "Aglaoctenus_lagotis",
          "Eulimnadia_texana",
          "Asellus_aquaticus",
          "Porcellio_scaber",
          "Gammarus_fossarum",
          "Gammarus_pulex",
          "Gammarus_roeselii",
          "Hyperoche_medusarum",
          "Fenneropenaeus_chinensis",
          "Palaemonetes_pugio",
          "Palaemon_elegans",
          "Macrobrachium_rosenbergii",
          "Astacus_astacus",
          "Pacifastacus_leniusculus",
          "Procambarus_virginalis",
          "Paralithodes_camtschaticus",
          "Pagurus_bernhardus",
          "Birgus_latro",
          "Cancer_pagurus",
          "Macrocheira_kaempferi",
          "Chionoecetes_opilio",
          "Dissodactylus_primitivus",
          "Amphiura_filiformis",
          "Clypeaster_subdepressus",
          "Holothuria_scabra",
          "Stichopus_vastus",
          "Branchiostoma_floridae",
          "Ascidiella_aspersa",
          "Boltenia_echinata",
          "Styela_plicata",
          "Hemiscyllium_ocellatum",
          "Orectolobus_halei",
          "Orectolobus_hutchinsi",
          "Orectolobus_maculatus",
          "Orectolobus_ornatus",
          "Poroderma_africanum",
          "Scyliorhinus_canicula",
          "Triakis_scyllium",
          "Triakis_semifasciata",
          "Galeorhinus_galeus",
          "Hemitriakis_japanica",
          "Carcharhinus_leucas",
          "Galeocerdo_cuvier",
          "Negaprion_brevirostris",
          "Loxodon_macrorhinus",
          "Scoliodon_laticaudus",
          "Carcharias_taurus",
          "Lamna_ditropis",
          "Lamna_nasus",
          "Isurus_oxyrinchus",
          "Carcharodon_carcharias",
          "Mitsukurina_owstoni",
          "Deania_calceus",
          "Centroscymnus_plunketi",
          "Dalatias_licha",
          "Leucoraja_naevus",
          "Raja_clavata",
          "Raja_montagui",
          "Torpedo_marmorata",
          "Rhinobatos_productus",
          "Mobula_birostris",
          "Acipenser_baerii",
          "Acipenser_medirostris",
          "Acipenser_oxyrinchus",
          "Acipenser_ruthenus",
          "Acipenser_transmontanus",
          "Huso_huso",
          "Scaphirhynchus_albus",
          "Scaphirhynchus_suttkusi",
          "Scaphirhynchus_platorynchus",
          "Elops_saurus",
          "Halosauropsis_macrochir",
          "Anguilla_anguilla",
          "Congresox_talabonoides",
          "Muraenesox_bagio",
          "Muraenesox_cinereus",
          "Heterotis_niloticus",
          "Cyphomyrus_discorhynchus",
          "Marcusenius_macrolepidotus",
          "Marcusenius_pongolensis",
          "Mormyrops_anguilloides",
          "Mormyrus_kannume",
          "Mormyrus_longirostris",
          "Petrocephalus_bovei",
          "Gymnarchus_niloticus",
          "Coilia_brachygnathus",
          "Coilia_dussumieri",
          "Coilia_mystus",
          "Coilia_nasus",
          "Coilia_ramcarati",
          "Setipinna_phasa",
          "Setipinna_taty",
          "Thryssa_aestuaria",
          "Thryssa_hamiltonii",
          "Thryssa_setirostris",
          "Anchoa_hepsetus",
          "Anchoa_mitchilli",
          "Anchoa_panamensis",
          "Anchoviella_guianensis",
          "Cetengraulis_edentulus",
          "Cetengraulis_mysticetus",
          "Encrasicholina_devisi",
          "Encrasicholina_heteroloba",
          "Encrasicholina_punctifer",
          "Encrasicholina_purpurea",
          "Engraulis_anchoita",
          "Engraulis_australis",
          "Engraulis_capensis",
          "Engraulis_mordax",
          "Engraulis_ringens",
          "Lycengraulis_grossidens",
          "Stolephorus_carpentariae",
          "Stolephorus_commersonnii",
          "Stolephorus_indicus",
          "Stolephorus_insularis",
          "Stolephorus_nelsoni",
          "Stolephorus_waitei",
          "Ilisha_africana",
          "Pellona_ditchela",
          "Pellona_harroweri",
          "Dussumieria_acuta",
          "Dussumieria_hasseltii",
          "Clupea_bentincki",
          "Clupea_pallasii",
          "Potamalosa_richmondia",
          "Strangomera_bentincki",
          "Alosa_pseudoharengus",
          "Brevoortia_patronus",
          "Brevoortia_tyrannus",
          "Sardina_pilchardus",
          "Pellonula_leonensis",
          "Anodontostoma_chacunda",
          "Nematalosa_vlaminghi",
          "Amblygaster_sirm",
          "Dorosoma_cepedianum",
          "Escualosa_thoracata",
          "Konosirus_punctatus",
          "Sardinella_aurita",
          "Sardinella_albella",
          "Sardinella_brasiliensis",
          "Sardinella_fimbriata",
          "Sardinella_gibbosa",
          "Sardinella_lemuru",
          "Sardinella_longiceps",
          "Sardinella_maderensis",
          "Sardinella_melanura",
          "Sardinella_sindensis",
          "Sardinella_tawilis",
          "Sardinella_zunasi",
          "Harengula_clupeola",
          "Harengula_humeralis",
          "Harengula_jaguana",
          "Carassius_auratus",
          "Cirrhinus_cirrhosus",
          "Labeo_altivelis",
          "Labeo_calbasu",
          "Labeo_catla",
          "Labeo_coubie",
          "Labeo_niloticus",
          "Labeo_rohita",
          "Labeo_senegalensis",
          "Enteromius_liberiensis",
          "Labeobarbus_bynni",
          "Engraulicypris_sardella",
          "Neobola_stellae",
          "Rastrineobola_argentea",
          "Rhodeus_amarus",
          "Rhodeus_ocellatus",
          "Rhodeus_sericeus",
          "Abbottina_rivularis",
          "Gobio_gobio",
          "Hemibarbus_labeo",
          "Chrosomus_neogaeus",
          "Gila_intermedia",
          "Ptychocheilus_oregonensis",
          "Siphateles_bicolor",
          "Alburnus_alburnus",
          "Alburnus_baliki",
          "Alburnoides_bipunctatus",
          "Abramis_brama",
          "Achondrostoma_arcasii",
          "Oregonichthys_crameri",
          "Dionda_diaboli",
          "Pimephales_vigilax",
          "Chasmistes_brevirostris",
          "Chasmistes_cujus",
          "Chasmistes_liorus",
          "Glaniopsis_hanitschi",
          "Citharinus_citharus",
          "Alestes_baremoze",
          "Alestes_dentex",
          "Brycinus_leuciscus",
          "Brycinus_macrolepidotus",
          "Brycinus_nurse",
          "Brycinus_sadleri",
          "Hydrocynus_forskahlii",
          "Micralestes_acutidens",
          "Hepsetus_odoe",
          "Hoplias_malabaricus",
          "Myloplus_rhomboidalis",
          "Piaractus_brachypomus",
          "Semaprochilodus_taeniurus",
          "Semaprochilodus_insignis",
          "Curimata_knerii",
          "Potamorhina_latior",
          "Psectrogaster_rutiloides",
          "Brycon_amazonicus",
          "Brycon_melanopterus",
          "Brycon_moorei",
          "Brycon_opalinus",
          "Astyanax_bimaculatus",
          "Astyanax_eigenmanniorum",
          "Astyanax_mexicanus",
          "Gymnocharacinus_bergii",
          "Hyphessobrycon_pulchripinnis",
          "Moenkhausia_dichroura",
          "Moenkhausia_pittieri",
          "Odontostilbe_paraguayensis",
          "Oligosarcus_hepsetus",
          "Paracheirodon_innesi",
          "Psalidodon_fasciatus",
          "Triportheus_albus",
          "Triportheus_angulatus",
          "Triportheus_elongatus",
          "Gymnotus_carapo",
          "Corydoras_aeneus",
          "Hypostomus_albopunctatus",
          "Loricariichthys_anus",
          "Eremophilus_mutisii",
          "Trichomycterus_itacarambiensis",
          "Pterodoras_granulosus",
          "Synodontis_batensoda",
          "Synodontis_clarias",
          "Synodontis_membranaceus",
          "Synodontis_nebulosus",
          "Synodontis_schall",
          "Synodontis_zambezensis",
          "Phalacronotus_micronemus",
          "Silurus_glanis",
          "Silurus_triostegus",
          "Wallago_attu",
          "Clarias_agboyiensis",
          "Clarias_anguillaris",
          "Clarias_batrachus",
          "Cnidoglanis_macrocephalus",
          "Plotosus_lineatus",
          "Heteropneustes_fossilis",
          "Bagrus_bajad",
          "Coreobagrus_ichikawai",
          "Hemibagrus_baramensis",
          "Mystus_cavasius",
          "Pseudobagrus_vachellii",
          "Auchenoglanis_occidentalis",
          "Chrysichthys_auratus",
          "Chrysichthys_nigrodigitatus",
          "Chrysichthys_walkeri",
          "Pangasianodon_hypophthalmus",
          "Pangasius_pangasius",
          "Hypophthalmus_edentatus",
          "Iheringichthys_labrosus",
          "Pseudoplatystoma_corruscans",
          "Pseudoplatystoma_fasciatum",
          "Pseudoplatystoma_punctifer",
          "Pseudoplatystoma_tigrinum",
          "Parailia_pellucida",
          "Schilbe_intermedius",
          "Schilbe_mandibularis",
          "Schilbe_uranoscopus",
          "Ictalurus_punctatus",
          "Pylodictis_olivaris",
          "Ameiurus_catus",
          "Ameiurus_melas",
          "Ameiurus_nebulosus",
          "Noturus_baileyi",
          "Noturus_phaeus",
          "Coregonus_kiyi",
          "Coregonus_muksun",
          "Thymallus_baicalensis",
          "Thymallus_nigrescens",
          "Brachymystax_lenok",
          "Oncorhynchus_clarkii_stomias",
          "Oncorhynchus_gilae",
          "Salmo_lourosensis",
          "Salmo_marmoratus",
          "Salmo_obtusirostris",
          "Salvelinus_willoughbii",
          "Esox_lucius",
          "Esox_masquinongy",
          "Esox_niger",
          "Umbra_limi",
          "Umbra_krameri",
          "Osmerus_dentex",
          "Chologaster_cornuta",
          "Forbesichthys_agassizii",
          "Typhlichthys_subterraneus",
          "Amblyopsis_spelaea",
          "Amblyopsis_rosae",
          "Allocyttus_niger",
          "Allocyttus_verrucosus",
          "Pseudocyttus_maculatus",
          "Arctogadus_glacialis",
          "Gadus_chalcogrammus",
          "Gadus_macrocephalus",
          "Melanogrammus_aeglefinus",
          "Merlangius_merlangus",
          "Pollachius_virens",
          "Macruronus_novaezelandiae",
          "Merluccius_merluccius",
          "Urophycis_tenuis",
          "Myripristis_amaena",
          "Myripristis_murdjan",
          "Neoniphon_sammara",
          "Sargocentron_diadema",
          "Sargocentron_microstoma",
          "Sargocentron_rubrum",
          "Ostorhinchus_doederleini",
          "Trypauchen_vagina",
          "Aphia_minuta",
          "Glossogobius_giuris",
          "Gobiosoma_bosc",
          "Gobius_ophiocephalus",
          "Gobius_vittatus",
          "Istigobius_decoratus",
          "Istigobius_goldmanni",
          "Rhinogobiops_nicholsii",
          "Sufflogobius_bibarbatus",
          "Trimma_benjamini",
          "Trimma_nasa",
          "Valenciennea_strigata",
          "Zosterisessor_ophiocephalus",
          "Acanthogobius_flavimanus",
          "Crystallogobius_linearis",
          "Deltentosteus_quadrimaculatus",
          "Gobionellus_microdon",
          "Lepidogobius_lepidus",
          "Pomatoschistus_microps",
          "Pomatoschistus_minutus",
          "Rhinogobius_brunneus",
          "Rhinogobius_cliffordpopei",
          "Rhinogobius_giurinus",
          "Stigmatogobius_pleurostigma",
          "Boleophthalmus_pectinirostris",
          "Parapocryptes_serperaster",
          "Hippocampus_erectus",
          "Hippocampus_guttulatus",
          "Hippocampus_hippocampus",
          "Hippocampus_kuda",
          "Hippocampus_reidi",
          "Hippocampus_whitei",
          "Hippocampus_zosterae",
          "Phycodurus_eques",
          "Phyllopteryx_taeniolatus",
          "Syngnathoides_biaculeatus",
          "Syngnathus_abaster",
          "Syngnathus_fuscus",
          "Syngnathus_taenionotus",
          "Macroramphosus_scolopax",
          "Macroramphosus_gracilis",
          "Arripis_georgianus",
          "Pomatomus_saltatrix",
          "Rastrelliger_brachysoma",
          "Rastrelliger_faughni",
          "Rastrelliger_kanagurta",
          "Scomber_colias",
          "Scomber_japonicus",
          "Acanthocybium_solandri",
          "Scomberomorus_maculatus",
          "Scomberomorus_munroi",
          "Scomberomorus_niphonius",
          "Scomberomorus_queenslandicus",
          "Gymnosarda_unicolor",
          "Sarda_chiliensis",
          "Sarda_orientalis",
          "Sarda_sarda",
          "Allothunnus_fallai",
          "Auxis_rochei",
          "Auxis_thazard",
          "Euthynnus_affinis",
          "Euthynnus_alletteratus",
          "Katsuwonus_pelamis",
          "Thunnus_alalunga",
          "Thunnus_albacares",
          "Thunnus_obesus",
          "Aphanopus_carbo",
          "Aphanopus_intermedius",
          "Lepturacanthus_savala",
          "Trichiurus_lepturus",
          "Trichiurus_lepturus_japonicus",
          "Ariomma_indica",
          "Hyperoglyphe_antarctica",
          "Psenopsis_anomala",
          "Seriolella_punctata",
          "Anabas_testudineus",
          "Channa_argus",
          "Channa_punctata",
          "Betta_splendens",
          "Osphronemus_goramy",
          "Pristolepis_fasciata",
          "Pristolepis_grootii",
          "Alepes_djedaba",
          "Alepes_kleinii",
          "Atropus_atropos",
          "Atule_mate",
          "Caranx_crysos",
          "Caranx_hippos",
          "Caranx_ignobilis",
          "Caranx_lugubris",
          "Caranx_melampygus",
          "Caranx_senegallus",
          "Caranx_tille",
          "Chloroscombrus_chrysurus",
          "Decapterus_kurroides",
          "Decapterus_macarellus",
          "Decapterus_macrosoma",
          "Decapterus_maruadsi",
          "Decapterus_punctatus",
          "Decapterus_russelli",
          "Decapterus_tabl",
          "Flavocaranx_bajad",
          "Gnathanodon_speciosus",
          "Megalaspis_cordyla",
          "Parastromateus_niger",
          "Pseudocaranx_dentex",
          "Selar_crumenophthalmus",
          "Selaroides_leptolepis",
          "Trachurus_indicus",
          "Trachurus_japonicus",
          "Trachurus_lathami",
          "Trachurus_mediterraneus",
          "Trachurus_murphyi",
          "Trachurus_novaezelandiae",
          "Trachurus_picturatus",
          "Trachurus_symmetricus",
          "Elagatis_bipinnulata",
          "Mene_maculata",
          "Rachycentron_canadum",
          "Kajikia_audax",
          "Tetrapturus_pfluegeri",
          "Centropomus_parallelus",
          "Lates_angustifrons",
          "Lates_calcarifer",
          "Lates_longispinis",
          "Lates_mariae",
          "Lates_niloticus",
          "Lates_stappersii",
          "Psettodes_erumei",
          "Cyclopsetta_chittendeni",
          "Cyclopsetta_querna",
          "Etropus_crossotus",
          "Atheresthes_evermanni",
          "Hippoglossus_stenolepis",
          "Hippoglossoides_platessoides",
          "Cleisthenes_pinetorum",
          "Eopsetta_jordani",
          "Isopsetta_isolepis",
          "Glyptocephalus_kitaharae",
          "Glyptocephalus_stelleri",
          "Microstomus_kitt",
          "Microstomus_pacificus",
          "Parophrys_vetulus",
          "Platichthys_flesus",
          "Pseudopleuronectes_americanus",
          "Pseudopleuronectes_yokohamae",
          "Verasper_moseri",
          "Verasper_variegatus",
          "Rhombosolea_leporina",
          "Rhombosolea_plebeia",
          "Lepidorhombus_whiffiagonis",
          "Lepidorhombus_boscii",
          "Scophthalmus_rhombus",
          "Cynoglossus_canariensis",
          "Cynoglossus_joyneri",
          "Cynoglossus_puncticeps",
          "Cynoglossus_semifasciatus",
          "Cynoglossus_senegalensis",
          "Cynoglossus_zanzibarensis",
          "Symphurus_plagiusa",
          "Dicologlossa_cuneata",
          "Monochirus_hispidus",
          "Pegusa_lascaris",
          "Acanthoclinus_littoreus",
          "Acanthochromis_polyacanthus",
          "Amphiprion_ocellaris",
          "Chromis_ternatensis",
          "Chromis_verater",
          "Chromis_viridis",
          "Chrysiptera_biocellata",
          "Dascyllus_albisella",
          "Dascyllus_aruanus",
          "Dascyllus_reticulatus",
          "Holacanthus_passer",
          "Hypsypops_rubicundus",
          "Parma_microlepis",
          "Plectroglyphidodon_dickii",
          "Pomacentrus_amboinensis",
          "Pomacentrus_coelestis",
          "Pomacentrus_moluccensis",
          "Pomacentrus_wardi",
          "Pycnochromis_margaritifer",
          "Stegastes_acapulcoensis",
          "Stegastes_arcifrons",
          "Stegastes_beebei",
          "Stegastes_flavilatus",
          "Stegastes_fuscus",
          "Stegastes_nigricans",
          "Stegastes_planifrons",
          "Stegastes_rectifraenum",
          "Pseudochromis_flavivertex",
          "Pseudochromis_fuscus",
          "Cichla_intermedia",
          "Cichla_monoculus",
          "Cichla_orinocensis",
          "Cichla_temensis",
          "Acarichthys_heckelii",
          "Coptodon_guineensis",
          "Heterostichus_rostratus",
          "Acyrtops_beryllinus",
          "Atherina_presbyter",
          "Atherinella_brasiliensis",
          "Menidia_extensa",
          "Membras_martinica",
          "Melanotaenia_boesemani",
          "Oryzias_latipes",
          "Ablennes_hians",
          "Tylosurus_acus",
          "Tylosurus_crocodilus",
          "Cololabis_saira",
          "Cheilopogon_cyanopterus",
          "Chriodorus_atherinoides",
          "Hemiramphus_convexus",
          "Fundulopanchax_gardneri",
          "Fundulus_julisia",
          "Fundulus_heteroclitus",
          "Fundulus_luciae",
          "Crenichthys_baileyi",
          "Aphanius_iberus",
          "Cyprinodon_bovinus",
          "Cyprinodon_elegans",
          "Cyprinodon_macularius",
          "Cyprinodon_nevadensis",
          "Gambusia_puncticulata",
          "Gambusia_punctata",
          "Gambusia_holbrooki",
          "Heterandria_formosa",
          "Girardinus_metallicus",
          "Girardinus_uninotatus",
          "Girardinus_creolus",
          "Girardinus_denticulatus",
          "Girardinus_microdactylus",
          "Girardinus_falcatus",
          "Quintana_atrizona",
          "Limia_vittata",
          "Poecilia_latipinna",
          "Poecilia_reticulata",
          "Xiphophorus_maculatus",
          "Eucinostomus_argenteus",
          "Eucinostomus_gula",
          "Ammodytes_americanus",
          "Ammodytes_personatus",
          "Ammodytes_tobianus",
          "Hyperoplus_lanceolatus",
          "Achoerodus_gouldii",
          "Morone_chrysops",
          "Morone_mississippiensis",
          "Morone_saxatilis",
          "Platax_orbicularis",
          "Argyrosomus_japonicus",
          "Atrobucca_nibe",
          "Cynoscion_leiarchus",
          "Cynoscion_regalis",
          "Larimichthys_polyactis",
          "Menticirrhus_americanus",
          "Menticirrhus_saxatilis",
          "Menticirrhus_undulatus",
          "Pennahia_argentata",
          "Plagioscion_squamosissimus",
          "Protonibea_diacanthus",
          "Roncador_stearnsii",
          "Emmelichthys_nitidus",
          "Deveximentum_ruconius",
          "Equulites_elongatus",
          "Equulites_leuciscus",
          "Equulites_lineolatus",
          "Eubleekeria_splendens",
          "Gazza_minuta",
          "Karalla_dussumieri",
          "Karalla_daura",
          "Leiognathus_bindus",
          "Leiognathus_brevirostris",
          "Nuchequula_blochii",
          "Nuchequula_gerreoides",
          "Photopectoralis_bindus",
          "Secutor_insidiator",
          "Centropyge_bicolor",
          "Centropyge_loriculus",
          "Pomadasys_argenteus",
          "Pomadasys_argyreus",
          "Pomadasys_incisus",
          "Pomadasys_kaakan",
          "Pomadasys_maculatus",
          "Pomadasys_striatus",
          "Pomadasys_stridens",
          "Pristipomoides_auricilla",
          "Pristipomoides_filamentosus",
          "Pristipomoides_flavipinnis",
          "Pristipomoides_macrophthalmus",
          "Pristipomoides_sieboldii",
          "Pristipomoides_zonatus",
          "Lutjanus_adetii",
          "Lutjanus_alexandrei",
          "Lutjanus_apodus",
          "Lutjanus_argentiventris",
          "Lutjanus_bohar",
          "Lutjanus_fulvus",
          "Lutjanus_johnii",
          "Lutjanus_kasmira",
          "Lutjanus_lutjanus",
          "Lutjanus_synagris",
          "Lutjanus_vitta",
          "Ocyurus_chrysurus",
          "Lobotes_surinamensis",
          "Sillago_aeolus",
          "Sillago_burrus",
          "Sillago_ciliata",
          "Sillago_flindersi",
          "Sillago_japonica",
          "Sillago_schomburgkii",
          "Sillago_sihama",
          "Sillago_vittata",
          "Boops_boops",
          "Dentex_congoensis",
          "Lithognathus_mormyrus",
          "Pagellus_acarne",
          "Pagellus_bellottii",
          "Pagellus_bogaraveo",
          "Acanthopagrus_arabicus",
          "Acanthopagrus_australis",
          "Archosargus_probatocephalus",
          "Diplodus_annularis",
          "Diplodus_cervinus",
          "Diplodus_sargus",
          "Diplodus_vulgaris",
          "Evynnis_ehrenbergii",
          "Evynnis_tumifrons",
          "Pagrus_major",
          "Parargyrops_edita",
          "Siganus_fuscescens",
          "Siganus_guttatus",
          "Siganus_lineatus",
          "Siganus_luridus",
          "Siganus_rivulatus",
          "Siganus_spinus",
          "Pomoxis_nigromaculatus",
          "Micropterus_dolomieu",
          "Micropterus_salmoides",
          "Lepomis_cyanellus",
          "Lepomis_gulosus",
          "Elassoma_zonatum",
          "Latridopsis_ciliaris",
          "Latris_lineata",
          "Maccullochella_ikei",
          "Maccullochella_peelii",
          "Macquaria_ambigua",
          "Macquaria_novemaculeata",
          "Nannoperca_vittata",
          "Nannatherina_balstoni",
          "Percichthys_trucha",
          "Siniperca_chuatsi",
          "Aethaloperca_rogaa",
          "Anyperodon_leucogrammicus",
          "Cephalopholis_argus",
          "Cephalopholis_cruentata",
          "Cephalopholis_fulva",
          "Cephalopholis_microprion",
          "Cephalopholis_miniata",
          "Epinephelus_coioides",
          "Epinephelus_cyanopodus",
          "Epinephelus_drummondhayi",
          "Epinephelus_fuscoguttatus",
          "Epinephelus_howlandi",
          "Epinephelus_itajara",
          "Epinephelus_labriformis",
          "Epinephelus_maculatus",
          "Epinephelus_malabaricus",
          "Epinephelus_polyphekadion",
          "Epinephelus_quoyanus",
          "Plectropomus_leopardus",
          "Plectropomus_maculatus",
          "Plectropomus_pessuliferus",
          "Variola_louti",
          "Centropristis_striata",
          "Diplectrum_formosum",
          "Diplectrum_macropoma",
          "Diplectrum_pacificum",
          "Paralabrax_auroguttatus",
          "Paralabrax_clathratus",
          "Ammocrypta_pellucida",
          "Nothonotus_bellus",
          "Etheostoma_perlongum",
          "Etheostoma_pyrrhogaster",
          "Etheostoma_tetrazonum",
          "Etheostoma_trisella",
          "Etheostoma_zonistium",
          "Sander_vitreus",
          "Gymnocephalus_cernuus",
          "Percilia_irwini",
          "Dolloidraco_longedorsalis",
          "Neodraco_skottsbergi",
          "Gerlachea_australis",
          "Chaenocephalus_aceratus",
          "Chaenodraco_wilsoni",
          "Champsocephalus_gunnari",
          "Chionobathyscus_dewitti",
          "Chionodraco_hamatus",
          "Chionodraco_myersi",
          "Chionodraco_rastrospinosus",
          "Cryodraco_antarcticus",
          "Pagetopsis_maculatus",
          "Pseudochaenichthys_georgianus",
          "Aethotaxis_mitopteryx",
          "Dissostichus_eleginoides",
          "Dissostichus_mawsoni",
          "Gobionotothen_gibberifrons",
          "Indonotothenia_cyanobrancha",
          "Lepidonotothen_squamifrons",
          "Lindbergichthys_nudifrons",
          "Notothenia_neglecta",
          "Nototheniops_larseni",
          "Paranotothenia_magellanica",
          "Pagothenia_borchgrevinki",
          "Trematomus_bernacchii",
          "Trematomus_eulepidotus",
          "Trematomus_hansoni",
          "Trematomus_lepidorhinus",
          "Trematomus_loennbergii",
          "Trematomus_newnesi",
          "Trematomus_nicolai",
          "Trematomus_pennellii",
          "Trematomus_scotti",
          "Ambiserrula_jugosa",
          "Platycephalus_caeruleopunctatus",
          "Platycephalus_richardsoni",
          "Ratabulus_diversidens",
          "Rogadius_asper",
          "Peristedion_cataphractum",
          "Bellator_gymnostethus",
          "Prionotus_albirostris",
          "Prionotus_carolinus",
          "Prionotus_punctatus",
          "Prionotus_stephanophrys",
          "Eutrigla_gurnardus",
          "Trigla_lyra",
          "Lepidotrigla_argus",
          "Lepidotrigla_cavillone",
          "Dendrochirus_brachypterus",
          "Pontinus_kuhlii",
          "Scorpaena_elongata",
          "Scorpaena_guttata",
          "Scorpaena_loppei",
          "Scorpaena_maderensis",
          "Scorpaena_notata",
          "Scorpaena_porcus",
          "Scorpaena_scrofa",
          "Anoplopoma_fimbria",
          "Erilepis_zonifer",
          "Anarhichas_minor",
          "Zoarces_americanus",
          "Zaprora_silenus",
          "Ulvaria_subbifurcata",
          "Gasterosteus_aculeatus",
          "Pungitius_pungitius",
          "Culaea_inconstans",
          "Apeltes_quadracus",
          "Pleurogrammus_azonus",
          "Pleurogrammus_monopterygius",
          "Careproctus_reinhardti",
          "Liparis_gibbus",
          "Liparis_inquilinus",
          "Liparis_pulchellus",
          "Aspidophoroides_monopterygius",
          "Blepsias_cirrhosus",
          "Andrias_davidianus",
          "Hynobius_kimurae",
          "Hynobius_quelpaertensis",
          "Hynobius_tokyoensis",
          "Hynobius_yangi",
          "Pachyhynobius_shangchengensis",
          "Ranodon_sibiricus",
          "Onychodactylus_japonicus",
          "Bolitoglossa_mexicana",
          "Bolitoglossa_subpalmata",
          "Eurycea_bislineata",
          "Eurycea_longicauda",
          "Gyrinophilus_gulolineatus",
          "Gyrinophilus_palleucus",
          "Aneides_aeneus",
          "Desmognathus_brimleyorum",
          "Desmognathus_fuscus",
          "Desmognathus_monticola",
          "Desmognathus_ochrophaeus",
          "Desmognathus_ocoee",
          "Desmognathus_quadramaculatus",
          "Ensatina_eschscholtzii",
          "Phaeognathus_hubrichti",
          "Plethodon_cinereus",
          "Plethodon_kentucki",
          "Speleomantes_ambrosii",
          "Speleomantes_imperialis",
          "Amphiuma_means",
          "Rhyacotriton_variegatus",
          "Ambystoma_maculatum",
          "Ambystoma_mexicanum",
          "Ambystoma_opacum",
          "Ambystoma_texanum",
          "Salamandrina_perspicillata",
          "Chioglossa_lusitanica",
          "Salamandra_lanzai",
          "Echinotriton_andersoni",
          "Lissotriton_boscai",
          "Lissotriton_helveticus",
          "Lissotriton_vulgaris",
          "Neurergus_crocatus",
          "Calotriton_asper",
          "Triturus_cristatus",
          "Triturus_dobrogicus",
          "Triturus_karelinii",
          "Triturus_marmoratus",
          "Cynops_pyrrhogaster",
          "Paramesotriton_hongkongensis",
          "Necturus_maculosus",
          "Ascaphus_truei",
          "Alytes_cisternasii",
          "Alytes_muletensis",
          "Alytes_obstetricans",
          "Bombina_bombina",
          "Bombina_maxima",
          "Bombina_orientalis",
          "Bombina_variegata",
          "Fejervarya_limnocharis",
          "Fejervarya_multistriata",
          "Hoplobatrachus_tigerinus",
          "Xenopus_laevis",
          "Pelobates_cultripes",
          "Pelobates_syriacus",
          "Pelobates_varaldii",
          "Eleutherodactylus_coqui",
          "Argenteohyla_siemersi",
          "Hyla_arborea",
          "Trachycephalus_resinifictrix",
          "Anaxyrus_americanus",
          "Anaxyrus_boreas",
          "Anaxyrus_californicus",
          "Anaxyrus_fowleri",
          "Bufo_bufo",
          "Bufo_gargarizans",
          "Bufotes_latastii",
          "Bufotes_viridis",
          "Bufotes_zamdaensis",
          "Epidalea_calamita",
          "Nimbaphrynoides_occidentalis",
          "Rhaebo_blombergi",
          "Sclerophrys_pentoni",
          "Strauchbufo_raddei",
          "Mannophryne_trinitatis",
          "Ceratophrys_stolzmanni",
          "Hyperolius_viridiflavus",
          "Dyscophus_antongilii",
          "Pyxicephalus_adspersus",
          "Euphlyctis_hexadactylus",
          "Nanorana_parkeri",
          "Chiromantis_petersii",
          "Chiromantis_rufescens",
          "Kurixalus_eiffingeri",
          "Kurixalus_idiootocus",
          "Rhacophorus_moltrechti",
          "Zhangixalus_omeimontis",
          "Amolops_mantzorum",
          "Lithobates_catesbeianus",
          "Lithobates_chiricahuensis",
          "Lithobates_clamitans",
          "Pelophylax_bedriagae",
          "Pelophylax_caralitanus",
          "Pelophylax_epeiroticus",
          "Pelophylax_nigromaculatus",
          "Pelophylax_ridibundus",
          "Pelophylax_perezi",
          "Pelophylax_porosus",
          "Pelophylax_saharicus",
          "Rana_arvalis",
          "Rana_chensinensis",
          "Rana_dalmatina",
          "Rana_iberica",
          "Rana_italica",
          "Rana_latastei",
          "Rana_macrocnemis",
          "Rana_muscosa",
          "Rana_sakuraii",
          "Rana_tagoi",
          "Rana_temporaria",
          "Sylvirana_nigrovittata",
          "Correlophus_ciliatus",
          "Eublepharis_macularius",
          "Hemidactylus_turcicus",
          "Heteronotia_binoei",
          "Heteronotia_binoei_3N1A",
          "Heteronotia_binoei_3N1B",
          "Heteronotia_binoei_EA6",
          "Heteronotia_binoei_SM6",
          "Chioninia_coctei",
          "Ctenotus_pantherinus",
          "Eulamprus_quoyii",
          "Egernia_cunninghami",
          "Egernia_striolata",
          "Scincella_lateralis",
          "Xantusia_vigilis",
          "Gerrhosaurus_validus",
          "Smaug_giganteus",
          "Holcosus_quadrilineatus",
          "Pholidoscelis_exsul",
          "Salvator_merianae",
          "Gallotia_atlantica",
          "Gallotia_bravoana",
          "Gallotia_caesaris",
          "Gallotia_galloti",
          "Gallotia_intermedia",
          "Gallotia_simonyi",
          "Gallotia_stehlini",
          "Eremias_argus",
          "Eremias_suphani",
          "Apathya_cappadocica",
          "Iberolacerta_horvathi",
          "Lacerta_schreiberi",
          "Podarcis_muralis_Castanet",
          "Zootoca_vivipara",
          "Varanus_bengalensis",
          "Varanus_komodoensis",
          "Varanus_niloticus",
          "Furcifer_pardalis",
          "Ctenophorus_ornatus",
          "Ctenophorus_adelaidensis",
          "Pogona_barbata",
          "Anolis_acutus",
          "Anolis_carolinensis",
          "Anolis_gundlachi",
          "Anolis_opalinus",
          "Anolis_sagrei",
          "Basiliscus_basiliscus",
          "Basiliscus_plumifrons",
          "Basiliscus_vittatus",
          "Dipsosaurus_dorsalis",
          "Gambelia_sila",
          "Sceloporus_magister",
          "Sceloporus_occidentalis",
          "Sceloporus_undulatus",
          "Boa_constrictor",
          "Boa_imperator",
          "Eunectes_murinus",
          "Eunectes_notaeus",
          "Apodora_papuana",
          "Morelia_spilota",
          "Python_regius",
          "Python_sebae",
          "Python_molurus",
          "Simalia_amethistina",
          "Vipera_aspis",
          "Bitis_gabonica",
          "Bitis_arietans",
          "Crotalus_horridus",
          "Crotalus_lepidus",
          "Crotalus_oreganus",
          "Crotalus_pricei",
          "Natrix_natrix",
          "Natrix_maura",
          "Thamnophis_butleri",
          "Thamnophis_saurita",
          "Thamnophis_sirtalis",
          "Coluber_constrictor",
          "Orthriophis_taeniurus",
          "Pantherophis_guttatus",
          "Heterodon_nasicus",
          "Heterodon_platirhinos",
          "Podocnemis_unifilis",
          "Chelus_fimbriata",
          "Elseya_dentata",
          "Emydura_macquarii",
          "Hydromedusa_maximiliani",
          "Apalone_spinifera",
          "Dermatemys_mawii",
          "Claudius_angustatus",
          "Sternotherus_minor",
          "Caretta_caretta",
          "Lepidochelys_kempii",
          "Eretmochelys_imbricata",
          "Emydoidea_blandingii",
          "Glyptemys_insculpta",
          "Graptemys_oculifera",
          "Graptemys_pseudogeographica",
          "Pseudemys_concinna",
          "Pseudemys_nelsoni",
          "Gopherus_agassizii",
          "Gopherus_morafkai",
          "Gopherus_polyphemus",
          "Aldabrachelys_gigantea",
          "Chelonoidis_niger",
          "Geochelone_elegans",
          "Malacochersus_tornieri",
          "Stigmochelys_pardalis",
          "Testudo_hermanni",
          "Batagur_affinis",
          "Cuora_flavomarginata",
          "Alligator_sinensis",
          "Caiman_latirostris",
          "Melanosuchus_niger",
          "Paleosuchus_palpebrosus",
          "Paleosuchus_trigonatus",
          "Crocodylus_johnsoni",
          "Crocodylus_mindorensis",
          "Crocodylus_porosus",
          "Crocodylus_siamensis",
          "Crocodylus_palustris",
          "Crocodylus_niloticus",
          "Crocodylus_moreletii",
          "Crocodylus_rhombifer",
          "Crocodylus_acutus",
          "Osteolaemus_tetraspis",
          "Struthio_camelus",
          "Rhynchotus_rufescens",
          "Rhea_americana",
          "Apteryx_mantelli",
          "Dromaius_novaehollandiae",
          "Gallus_gallus",
          "Podilymbus_podiceps",
          "Phoeniconaias_minor",
          "Columba_livia",
          "Mesitornis_variegatus",
          "Pterocles_alchata",
          "Tauraco_erythrolophus",
          "Cuculus_canorus",
          "Ardeotis_kori",
          "Opisthocomus_hoazin",
          "Gallinula_chloropus",
          "Fratercula_arctica",
          "Larus_argentatus",
          "Larus_fuscus",
          "Podargus_strigoides",
          "Aegotheles_cristatus",
          "Apus_apus",
          "Archilochus_alexandri",
          "Rhynochetos_jubatus",
          "Gavia_immer",
          "Diomedea_exulans",
          "Pygoscelis_adeliae",
          "Ciconia_ciconia",
          "Pelecanus_onocrotalus",
          "Tyto_alba",
          "Strix_occidentalis",
          "Urocolius_macrourus",
          "Leptosomus_discolor",
          "Euptilotis_neoxenus",
          "Bucorvus_leadbeateri",
          "Todiramphus_cinnamominus",
          "Ramphastos_toco",
          "Cariama_cristata",
          "Forpus_passerinus",
          "Melopsittacus_undulatus",
          "Toxostoma_curvirostre",
          "Ornithorhynchus_anatinus",
          "Tachyglossus_aculeatus"
         ],
         "legendgroup": "",
         "marker": {
          "color": {
           "bdata": "DhEAZHPZ678mSTDljPj1vyZJMOWM+PW/EnhTCZJZCMDEiWAYYAT+v7DTfUgmEQDAys/4RqFD8b8mSTDljPj1v4OFYD8DDgfANVdE1okL0r+SQRn5Ogr1v5JBGfk6CvW/mhUIvxTz7r84zo7bgMOjP6ekeoRCbfu/1+pxf+NR7j9BFk9XR07Kv153GSEpCNM/nOiECa6/sr9X50of/g6PvyG1f+BqVaa/2guxcJ9k3T8h8kXD874CQCZJMOWM+PW/Jkkw5Yz49b8mSTDljPj1v18wTKvi0dY/ILM0SAV59j8okj6PgnvnP18wTKvi0dY/2guxcJ9k3T8J2pGFqfjGP9fqcX/jUe4/NVdE1okL0r/mI8d7fokDwMG2tIkQveE/K6iK/8GC2r/g9GpktBHPv7QoT7Hctt2/CfiKOiw8A0CBx1CHe4XZP8SJYBhgBP6/yqKiZcN0vj9iOOWbGYLmP+uA0LUjyOk/oZa8iHqP5T/v68AVRae6vzVXRNaJC9K/ys/4RqFD8b9edxkhKQjTP0EWT1dHTsq/XncZISkI0z948eDNB/j8Pxbfpq6w2fQ/IqFqCcNX7D84CSOPrScDQAn4ijosPANAJG4ZdN5T4T+I+vYfx+UAQEEWT1dHTsq/CfiKOiw8A0A8juOHNtvRPyZJMOWM+PW/ys/4RqFD8b/EiWAYYAT+v8SJYBhgBP6/CGRKUW9h87/EiWAYYAT+v09p2TQrsrY/FJufoDL5AcB6iEumD1/7Pwn4ijosPANAMOXaeYAKA0B6iEumD1/7PzDl2nmACgNAOkZoeB7KAEAZP/qJxhgCQAn4ijosPANACfiKOiw8A0A2txLvPEADQGQ90MwowABAIfJFw/O+AkDgZx/HQxkFQDa3Eu88QANAtLHnbjYBA0BztL0Mu7/5PyoHuR72ye4/lFOWJMmUAUAmfdz/kT8BQOBnH8dDGQVAIURWY2SmAkDVV5GwgIcOQBz8t/fERQVAB9U+o4ucCUAJ+Io6LDwDQEaPr+SpHPs/kJmjoNhW/D+QmaOg2Fb8Pxjt6elVMQJARo+v5Kkc+z9blwISZlgDQOTWnuGHKec/XncZISkI0z+0KE+x3Lbdv58fP/uZg9e/zoiyAQHCvz84zo7bgMOjP14bPqw3Ts0/nx8/+5mD17/PRjQ8OKvmvwhkSlFvYfO/v8UDo2VXwT9kX5LZPan3v153GSEpCNM/ssWOwWl0wb8LiIuacqbQP3YV+An4stS/XncZISkI0z9edxkhKQjTP1fnSh/+Do+/CdqRhan4xj89v0+UHkzVP1fnSh/+Do+/LAUtMPMyxD/PRjQ8OKvmvzVXRNaJC9K/NVdE1okL0r/PRjQ8OKvmvw03juj9/Ni/z0Y0PDir5r9UHpEnnG/iv1QekSecb+K/ys/4RqFD8b/Kz/hGoUPxv8rP+EahQ/G/z0Y0PDir5r/PRjQ8OKvmv8rP+EahQ/G/Jkkw5Yz49b8OEQBkc9nrv8rP+EahQ/G/ys/4RqFD8b/Kz/hGoUPxv8rP+EahQ/G/ys/4RqFD8b9UHpEnnG/iv89GNDw4q+a/z0Y0PDir5r/PRjQ8OKvmv1QekSecb+K/z0Y0PDir5r/Kz/hGoUPxv8rP+EahQ/G/ys/4RqFD8b/Kz/hGoUPxv8rP+EahQ/G/ys/4RqFD8b/PRjQ8OKvmv9msglFrHem/K6iK/8GC2r/Kz/hGoUPxv89GNDw4q+a/X0itt7h74D9Padk0K7K2P9msglFrHem/VB6RJ5xv4r9Kbsmozqjtv89GNDw4q+a/ssWOwWl0wb+fHz/7mYPXv1QekSecb+K/ys/4RqFD8b+aFQi/FPPuv8rP+EahQ/G/N+KAklAa8b/Kz/hGoUPxvyG1f+BqVaa/DhEAZHPZ67/Kz/hGoUPxvyZJMOWM+PW/DhEAZHPZ678mSTDljPj1vw4RAGRz2eu/Jkkw5Yz49b9UHpEnnG/ivw4RAGRz2eu/DhEAZHPZ678OEQBkc9nrvw4RAGRz2eu/nOiECa6/sr9UHpEnnG/iv1QekSecb+K/Jkkw5Yz49b/PRjQ8OKvmv5zohAmuv7K/tChPsdy23b8mSTDljPj1vw4RAGRz2eu/DhEAZHPZ67/Kz/hGoUPxvw4RAGRz2eu/NVdE1okL0r8rqIr/wYLav1QekSecb+K/4PRqZLQRz7/g9GpktBHPv41W+eyFR8w/jVb57IVHzD+NVvnshUfMP09p2TQrsrY/T2nZNCuytj+c6IQJrr+yv1fnSh/+Do+/VB6RJ5xv4r9BFk9XR07Kv7QoT7Hctt2/DhEAZHPZ679BFk9XR07Kv0EWT1dHTsq/V+dKH/4Oj78J2pGFqfjGP3YV+An4stS/V+dKH/4Oj7+tMsTWwHTkvzjOjtuAw6M/nOiECa6/sr81V0TWiQvSv3TkWMs+ZrA/z0Y0PDir5r/ZrIJRax3pv9msglFrHem/rTLE1sB05L/ZrIJRax3pv9msglFrHem/VB6RJ5xv4r/ZrIJRax3pv1QekSecb+K/2ayCUWsd6b/lmqOCHgb1vzjOjtuAw6M/vGvE/IHb97+8a8T8gdv3v7xrxPyB2/e/nx8/+5mD17+fHz/7mYPXvyuoiv/Bgtq/vGvE/IHb97+0KE+x3Lbdv2kQKXp0T/m/vGvE/IHb9792FfgJ+LLUv0YPIPSIv9+/2ayCUWsd6b+fHz/7mYPXv89GNDw4q+a/vGvE/IHb97+fHz/7mYPXv1QekSecb+K/z0Y0PDir5r9UHpEnnG/iv3YV+An4stS/DhEAZHPZ67/Kz/hGoUPxv8rP+EahQ/G/IbV/4GpVpr/Kz/hGoUPxv1QekSecb+K/nx8/+5mD179GDyD0iL/fv0YPIPSIv9+/MQohwiQ54L81V0TWiQvSv3YV+An4stS/NVdE1okL0r+fHz/7mYPXvzVXRNaJC9K/nx8/+5mD17+fHz/7mYPXv7QoT7Hctt2/V+dKH/4Oj7+0KE+x3Lbdv2kQKXp0T/m/aRApenRP+b9pECl6dE/5vwROZr9aFew/NVdE1okL0r8OEQBkc9nrv+/rwBVFp7q/C4iLmnKm0D9X50of/g6PvzEKIcIkOeC/MQohwiQ54L/v68AVRae6v0EWT1dHTsq/tChPsdy23b+0KE+x3Lbdv+VySf/zgv6/5XJJ//OC/r92FfgJ+LLUv60yxNbAdOS/nOiECa6/sr+c6IQJrr+yvzVXRNaJC9K/NVdE1okL0r/crN1e4pPgv9ys3V7ik+C/3KzdXuKT4L/crN1e4pPgv41W+eyFR8w/K6iK/8GC2r+yxY7BaXTBv9msglFrHem/V+dKH/4Oj7+/xQOjZVfBP3YV+An4stS/MBE4MXl8+j+jR3yT9UD9P09p2TQrsrY/T2nZNCuytj8qB7ke9snuP9UQICEqzPE/0xeuGcmC8T/i1kPUELPvP9Nzjdnns/E/z+QGj69J8D8SrP8jl6DzP1fnSh/+Do+/QRZPV0dOyr9UHpEnnG/iv7QoT7Hctt2/gcdQh3uF2T9fSK23uHvgP4o29Ot70M0/Zma6TClQ4z/wWHNtBUv0P3LLYAv3cv0/kJmjoNhW/D/k1p7hhynnPwd//KUZBe8/IqFqCcNX7D/gFlASNlrtPzVXRNaJC9K/z53LP24k4j9X50of/g6PvzVXRNaJC9K/NVdE1okL0r8IZEpRb2Hzv0EWT1dHTsq/nx8/+5mD178Xd055pkvuvxd3TnmmS+6/F3dOeaZL7r9Kbsmozqjtv7nFQJRlKPC/mhUIvxTz7r/PRjQ8OKvmv1QekSecb+K/nOiECa6/sr/PRjQ8OKvmvw4RAGRz2eu/nx8/+5mD17/crN1e4pPgv89GNDw4q+a/VB6RJ5xv4r8OEQBkc9nrv1QekSecb+K/VB6RJ5xv4r9UHpEnnG/ivxd3TnmmS+6/tChPsdy23b8kbhl03lPhP5zohAmuv7K/nOiECa6/sr/PRjQ8OKvmv4KG4nBcxsW/dhX4Cfiy1L+c6IQJrr+yv58fP/uZg9e/nx8/+5mD17+fHz/7mYPXv7QoT7Hctt2/K6iK/8GC2r8rqIr/wYLav6nYflFyQ9M/Pb9PlB5M1T+en/nrF3XXP1HIX0phf9s/OM6O24DDoz+Bx1CHe4XZP0EWT1dHTsq/np/56xd11z/D98TH0NXlP8P3xMfQ1eU/Z677zOvt4j9nrvvM6+3iP9MXrhnJgvE/3KzdXuKT4L/crN1e4pPgv58fP/uZg9e/UNfTNJY09r/OAqDRunzyv9msglFrHem/2ayCUWsd6b8mSTDljPj1vyZJMOWM+PW/mhUIvxTz7r8dGKMlh8n9v60yxNbAdOS/QRZPV0dOyr+tMsTWwHTkv8rP+EahQ/G/z0Y0PDir5r/PRjQ8OKvmv5oVCL8U8+6/mhUIvxTz7r/Kz/hGoUPxv8rP+EahQ/G/VB6RJ5xv4r9UHpEnnG/iv7Z/qGUk6fy/Jkkw5Yz49b+6Mv12ed35v9JkjvlBgP+/78miEpwv8L+yxY7BaXTBv+/JohKcL/C/78miEpwv8L/vyaISnC/wv58fP/uZg9e/jVb57IVHzD/JxzFTlASJP8M/FEY5gNg/ys/4RqFD8b9pECl6dE/5v8SJYBhgBP6/CGRKUW9h878OEQBkc9nrv9ys3V7ik+C/3KzdXuKT4L9UHpEnnG/iv1QekSecb+K/DhEAZHPZ67+0KE+x3Lbdv1QekSecb+K/NVdE1okL0r8d7WSqeLfqv1QekSecb+K/pe3lRdeD8L8rqIr/wYLav1QekSecb+K/tChPsdy23b81V0TWiQvSv9msglFrHem/2ayCUWsd6b/ZrIJRax3pv7QoT7Hctt2/2ayCUWsd6b+0KE+x3Lbdv89GNDw4q+a/3KzdXuKT4L+0KE+x3Lbdv6Xt5UXXg/C/K6iK/8GC2r/OAqDRunzyv7QoT7Hctt2/QRZPV0dOyr9X50of/g6Pv0EWT1dHTsq/h/UODpLm+79BFk9XR07Kv0EWT1dHTsq/PI7jhzbb0T+LMJomexz6v9msglFrHem/VB6RJ5xv4r+le7Hhvtvov7QoT7Hctt2/z0Y0PDir5r9edxkhKQjTP58fP/uZg9e/Fj94MlHd9L8WP3gyUd30vxY/eDJR3fS/Fj94MlHd9L+fHz/7mYPXv1QekSecb+K/NVdE1okL0r81V0TWiQvSv89GNDw4q+a/T2nZNCuytj9Padk0K7K2PzjOjtuAw6M/C4iLmnKm0D+9BmlDrzeLP7y8k6ydxv2/nx8/+5mD17+fHz/7mYPXv60yxNbAdOS/7y7RBX0u6j+9BmlDrzeLP7QoT7Hctt2/JG4ZdN5T4T9BFk9XR07Kv2I45ZsZguY/C4iLmnKm0D8rqIr/wYLavyuoiv/Bgtq/tChPsdy23b+0KE+x3Lbdvz2/T5QeTNU/ucVAlGUo8L8mSTDljPj1vxXYkA1gqPG/ys/4RqFD8b+fHz/7mYPXv7/FA6NlV8E/CGRKUW9h878mSTDljPj1v7kty5A7ybw/Jkkw5Yz49b+5LcuQO8m8P7/FA6NlV8E/K6iK/8GC2r8OEQBkc9nrvw4RAGRz2eu/nx8/+5mD17+fHz/7mYPXv58fP/uZg9e/nx8/+5mD17+fHz/7mYPXv58fP/uZg9e/nOiECa6/sr/DPxRGOYDYP+jyh4HnUOW/DhEAZHPZ678OEQBkc9nrv0EWT1dHTsq/V+dKH/4Oj7/o8oeB51Dlv1QekSecb+K/VB6RJ5xv4r9UHpEnnG/iv1QekSecb+K/VB6RJ5xv4r8OEQBkc9nrv1QekSecb+K/VB6RJ5xv4r8OEQBkc9nrvw4RAGRz2eu/RiPhAPDv1r9GI+EA8O/Wv0Yj4QDw79a/CGRKUW9h87/Kz/hGoUPxv1QekSecb+K/T2nZNCuytj+/xQOjZVfBP0SrxtvUNt8/OM6O24DDoz9UHpEnnG/iv9ys3V7ik+C/dhX4Cfiy1L+yxY7BaXTBvw4RAGRz2eu/DhEAZHPZ678OEQBkc9nrv60yxNbAdOS/DhEAZHPZ678mSTDljPj1vyZJMOWM+PW/OM6O24DDoz+HARSO1Z7Vv2eu+8zr7eI/OM6O24DDoz9UHpEnnG/iv58fP/uZg9e/VB6RJ5xv4r/PRjQ8OKvmv0EWT1dHTsq/QRZPV0dOyr8kbhl03lPhPyRuGXTeU+E/Z677zOvt4j9iOOWbGYLmPyRuGXTeU+E/JG4ZdN5T4T8kbhl03lPhPyRuGXTeU+E/JG4ZdN5T4T/aC7Fwn2TdPyRuGXTeU+E/JG4ZdN5T4T9Eq8bb1DbfPyRuGXTeU+E/UchfSmF/2z8IZEpRb2HzvwhkSlFvYfO/sHIhz39t5D+wciHPf23kPwuIi5pyptA/C4iLmnKm0D/g9GpktBHPvyZJMOWM+PW/z0Y0PDir5r8IZEpRb2Hzv8SJYBhgBP6/DhEAZHPZ67/ZrIJRax3pv7xrxPyB2/e/vGvE/IHb97/mmK+zD/Xhv1QekSecb+K/VB6RJ5xv4r/PRjQ8OKvmvw4RAGRz2eu/2ayCUWsd6b8IZEpRb2Hzv89GNDw4q+a/pRkD7RYkmj9Kbsmozqjtv84CoNG6fPK/DhEAZHPZ678aN51I+Brov8rP+EahQ/G/Sm7JqM6o7b/ZrIJRax3pvw4RAGRz2eu/zgKg0bp88r8OEQBkc9nrv84CoNG6fPK/zgKg0bp88r/Kz/hGoUPxv8rP+EahQ/G/dhX4Cfiy1L+fHz/7mYPXv9msglFrHem/ucVAlGUo8L+0KE+x3Lbdvy/tVVFtF/2/DhEAZHPZ679wAG/m7UnZvw4RAGRz2eu/z0Y0PDir5r/PRjQ8OKvmv89GNDw4q+a/dhX4Cfiy1L/PRjQ8OKvmv89GNDw4q+a/z0Y0PDir5r/crN1e4pPgv9ys3V7ik+C/K6iK/8GC2r8d7WSqeLfqv9msglFrHem/VB6RJ5xv4r+EqKzWo60AwFQekSecb+K/bmbTGodt8b8v7VVRbRf9v7QoT7Hctt2/xIlgGGAE/r8OEQBkc9nrv8rP+EahQ/G/nx8/+5mD17+tMsTWwHTkv9msglFrHem/tChPsdy23b/ZrIJRax3pv89GNDw4q+a/DhEAZHPZ678OEQBkc9nrv2CevszCFfi/Jkkw5Yz49b8OEQBkc9nrv+/rwBVFp7q/rTLE1sB05L+tMsTWwHTkv1dL7PFqEPi/DhEAZHPZ678OEQBkc9nrvw4RAGRz2eu/DhEAZHPZ679BFk9XR07Kv0EWT1dHTsq/4PRqZLQRz79BFk9XR07Kv8rP+EahQ/G/CGRKUW9h878IZEpRb2Hzv0EWT1dHTsq/xkDfJWNf67/Kz/hGoUPxvwhkSlFvYfO/z0Y0PDir5r/Kz/hGoUPxvyZJMOWM+PW/aRApenRP+b+0KE+x3Lbdv58fP/uZg9e/nx8/+5mD17+5LcuQO8m8P7QoT7Hctt2/zDy1KbX4+r/crN1e4pPgvzjOjtuAw6M/QRZPV0dOyr/PRjQ8OKvmv8SJYBhgBP6/z0Y0PDir5r/PRjQ8OKvmv58fP/uZg9e/rTLE1sB05L+tMsTWwHTkvyuoiv/Bgtq/4PRqZLQRz7/PRjQ8OKvmv89GNDw4q+a/z0Y0PDir5r9UHpEnnG/iv5oVCL8U8+6/CGRKUW9h87/PRjQ8OKvmv60yxNbAdOS/mhUIvxTz7r/PRjQ8OKvmv89GNDw4q+a/nx8/+5mD17+fHz/7mYPXv8rP+EahQ/G/z0Y0PDir5r+tMsTWwHTkv7QoT7Hctt2/3KzdXuKT4L+tMsTWwHTkv58fP/uZg9e/gobicFzGxb/PRjQ8OKvmvzVXRNaJC9K/VB6RJ5xv4r+0KE+x3Lbdv7LFjsFpdMG/Z677zOvt4j+cbsHOZf7dv09p2TQrsrY/T2nZNCuytj+yxY7BaXTBv5I9xOC5Jfw/c4c6lO5LAEAq7uKf9h34P9MXrhnJgvE/MZHlt7Q39j9jSOmgYNj2P2I45ZsZguY/MZHlt7Q39j+fofgq2Y31P9HcIgHgTPM/0dwiAeBM8z9jSOmgYNj2P9MXrhnJgvE/Y0jpoGDY9j/y/JOt5hn0P/L8k63mGfQ/Kge5HvbJ7j9xHVM0s1j7P9MXrhnJgvE/cljeTJyO+T+iZ+OSgBb2P/L8k63mGfQ/YjjlmxmC5j9jSOmgYNj2P2NI6aBg2PY/Y0jpoGDY9j9jSOmgYNj2P+QhZswEnvI/5CFmzASe8j9jSOmgYNj2P+QhZswEnvI/Y0jpoGDY9j9jSOmgYNj2P1QekSecb+K/K6iK/8GC2r8rqIr/wYLavyuoiv/Bgtq/z0Y0PDir5r+fHz/7mYPXv0EWT1dHTsq/ssWOwWl0wb9wAG/m7UnZv3AAb+btSdm/NVdE1okL0r/PRjQ8OKvmv58fP/uZg9e/nx8/+5mD17+fHz/7mYPXvwhkSlFvYfO/dhX4Cfiy1L9Padk0K7K2P09p2TQrsrY/jVb57IVHzD+yxY7BaXTBv09p2TQrsrY/T2nZNCuytj+en/nrF3XXP3TkWMs+ZrA/1+pxf+NR7j8ZP/qJxhgCQF+ujnluZvU/sHIhz39t5D9iOOWbGYLmP58fP/uZg9e/3KzdXuKT4L/v68AVRae6v1QekSecb+K/6zzt9rqb6T8oXuMfJIj9P6aNFMI2gPA/po0UwjaA8D9Padk0K7K2P5zohAmuv7K/z+QGj69J8D/P5AaPr0nwP6aNFMI2gPA/0xeuGcmC8T9iOOWbGYLmP+s87fa6m+k/YjjlmxmC5j/k1p7hhynnPzGR5be0N/Y/GHFyP9b9+z/LqXt2xhPyP0aPr+SpHPs/svc8bcK18D+y9zxtwrXwP09p2TQrsrY/T2nZNCuytj8X2Bi2ESP1P9fqcX/jUe4/svc8bcK18D/X6nF/41HuP7L3PG3CtfA/0xeuGcmC8T/X6nF/41HuP3wsbObwLfs/Ft+mrrDZ9D9Padk0K7K2P09p2TQrsrY/GO3p6VUxAkDwtQ5gqM39P5CZo6DYVvw/cstgC/dy/T+DTFUBkbjoP5zohAmuv7K/0xeuGcmC8T9iOOWbGYLmPz2/T5QeTNU/32CIsLW96j8Mx7TvK4IKQF53GSEpCNM/2guxcJ9k3T9Padk0K7K2P9oLsXCfZN0/IqFqCcNX7D+iTITq+ivoP9oLsXCfZN0/2guxcJ9k3T/aC7Fwn2TdPwnakYWp+MY/XncZISkI0z/aC7Fwn2TdP9MXrhnJgvE/32CIsLW96j9X0paG5g/kP1fSlobmD+Q/V9KWhuYP5D+0KE+x3Lbdv2eu+8zr7eI/0xeuGcmC8T+0KE+x3Lbdv2eu+8zr7eI/Z677zOvt4j8OEQBkc9nrv70thX7BY+u/OM6O24DDoz/Kz/hGoUPxv7QoT7Hctt2/np/56xd11z+0KE+x3LbdvzVXRNaJC9K/tChPsdy23b+fHz/7mYPXv1QekSecb+K/VB6RJ5xv4r/PRjQ8OKvmv58fP/uZg9e/nx8/+5mD178OEQBkc9nrv0EWT1dHTsq/Kge5HvbJ7j+fHz/7mYPXv5RTliTJlAFAz0Y0PDir5r/PRjQ8OKvmv0EWT1dHTsq/Pb9PlB5M1T9gnr7MwhX4v0EWT1dHTsq/aRApenRP+b/Kz/hGoUPxv0EWT1dHTsq/wo2T3m2iwz8OEQBkc9nrv1QekSecb+K/QRZPV0dOyr8OEQBkc9nrv0EWT1dHTsq/br5Q/9EZoT+c6IQJrr+yvw4RAGRz2eu/6zzt9rqb6T/PRjQ8OKvmv58fP/uZg9e/OM6O24DDoz84zo7bgMOjP58fP/uZg9e/nx8/+5mD179UHpEnnG/iv1QekSecb+K/nx8/+5mD179iOOWbGYLmPyoHuR72ye4/6zzt9rqb6T9edxkhKQjTP+s87fa6m+k/nOiECa6/sr9edxkhKQjTP153GSEpCNM/YjjlmxmC5j9edxkhKQjTP2I45ZsZguY/tChPsdy23b/TF64ZyYLxP6aNFMI2gPA/Kge5HvbJ7j+BBNClV5H1PynibnfG6vU/OTV5CdQj9j++UGShiRT1P73A8U8pE/Y/tR/X4YPl/D8qB7ke9snuP4DZaQkHd/M/LlZan8sB+D8xkeW3tDf2PyoHuR72ye4/MZHlt7Q39j90UqFTnPP3P0U1LBr7wPs/po0UwjaA8D/2+cAak0LyP/b5wBqTQvI/svc8bcK18D/TF64ZyYLxP7L3PG3CtfA/svc8bcK18D+y9zxtwrXwP7L3PG3CtfA/svc8bcK18D8qB7ke9snuPyoHuR72ye4/MZHlt7Q39j8QUV1cMtLrP1Rz+Lh+9/Y/quvjQ4OZ8j8ioWoJw1fsP9HcIgHgTPM/1+pxf+NR7j/x1V2bhmX6P4lMB8A3zQBA1ql5qu6m+D/k1p7hhynnP+Lm2rMbaPQ/Kge5HvbJ7j/fYIiwtb3qP+s37JOPSes/Kge5HvbJ7j8qB7ke9snuPy/txHfTaPY/LaNu8LTK8j/TF64ZyYLxP3JtDwmyIuw/03ON2eez8T8xkeW3tDf2Pxw0bR865PE/HDRtHzrk8T81xIxCznD3PzXEjELOcPc/iopvz2Qx/z/NLfWqpnT+PzGR5be0N/Y/y6l7dsYT8j8AnAp4W+rwPzGR5be0N/Y/44hN8fXS9T/LqXt2xhPyP6Jn45KAFvY/Zvk0yV4fAEAg/ULKjgL7P40KHVag7Po/c7S9DLu/+T/R3CIB4EzzP9HcIgHgTPM/0dwiAeBM8z+2kRulJu3rPzXEjELOcPc/NcSMQs5w9z81xIxCznD3P+s37JOPSes/0dwiAeBM8z/R3CIB4EzzP7L3PG3CtfA/Kge5HvbJ7j/TF64ZyYLxP7BsgtAu8f8/zS31qqZ0/j/NZFkIdI70PwN6LV59lwFAf6TkGBdH9T+K2STshzcAQGNI6aBg2PY/llwm/Zqw9T+y8K50I//wP6aNFMI2gPA/0xeuGcmC8T+mjRTCNoDwP5VRKADXUPE/9vnAGpNC8j8cNG0fOuTxP6aNFMI2gPA/GitU2PDr7z80klgzqlz5PzSSWDOqXPk//4gZ1DPk/j/77qzq3Tn4P4j69h/H5QBAMBE4MXl8+j+QmaOg2Fb8Pymwg4qreAJAMZHlt7Q39j9Z2PynRaf5P5+h+CrZjfU/0dwiAeBM8z/R3CIB4EzzP99giLC1veo/L+3Ed9No9j9AmBrcIhD5P4/QB/6lcPI/odq/sOGL8z8W36ausNn0P3gwQgwD8vM/j9AH/qVw8j8xkeW3tDf2Pxbfpq6w2fQ/9vnAGpNC8j/NZFkIdI70PzXEjELOcPc/Fzsc9I/l6T9edxkhKQjTP+s87fa6m+k/AwdMYCI19T+JrbJsIxLwPz2/T5QeTNU/2guxcJ9k3T8kbhl03lPhP41W+eyFR8w/YFmwdY/62z+en/nrF3XXP1HIX0phf9s/mweuVRk/uL+Bx1CHe4XZP7ByIc9/beQ/XW0XW9Jj1j/rPO32upvpP8+dyz9uJOI/z53LP24k4j9nrvvM6+3iP0SrxtvUNt8/Q6Y4LlaE1D9Padk0K7K2P2I45ZsZguY/LdMiMnp03D/mJuoKD8f0P9GGkTT3o+Y/sHIhz39t5D/hH6+VpcnkP4vCazJjJOU/Z677zOvt4j+c6IQJrr+yv153GSEpCNM/np/56xd11z/fYIiwtb3qP4HHUId7hdk/h9wS1sypyT8Omsgdx+jgPz2/T5QeTNU/C4iLmnKm0D84zo7bgMOjP0VFprPfaug/GMV8esN95T8=",
           "dtype": "f8"
          },
          "coloraxis": "coloraxis",
          "size": {
           "bdata": "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",
           "dtype": "f8"
          },
          "sizemode": "area",
          "sizeref": 0.022849611406661287,
          "symbol": "circle"
         },
         "mode": "markers",
         "name": "",
         "showlegend": false,
         "type": "scattergl",
         "x": {
          "bdata": "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",
          "dtype": "f8"
         },
         "xaxis": "x",
         "y": {
          "bdata": "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",
          "dtype": "f8"
         },
         "yaxis": "y"
        }
       ],
       "layout": {
        "annotations": [
         {
          "arrowcolor": "black",
          "arrowhead": 2,
          "arrowsize": 2,
          "ax": 0,
          "axref": "x",
          "ay": 0,
          "ayref": "y",
          "showarrow": true,
          "x": 1.1698123614453788,
          "xanchor": "right",
          "y": 0.339132086299944,
          "yanchor": "top"
         },
         {
          "font": {
           "size": 12
          },
          "showarrow": false,
          "text": "am",
          "x": 1.4037748337344544,
          "xanchor": "center",
          "y": 0.4069585035599328,
          "yanchor": "middle"
         },
         {
          "arrowcolor": "black",
          "arrowhead": 2,
          "arrowsize": 2,
          "ax": 0,
          "axref": "x",
          "ay": 0,
          "ayref": "y",
          "showarrow": true,
          "x": 1.1544692797371652,
          "xanchor": "right",
          "y": 0.9037273292471601,
          "yanchor": "top"
         },
         {
          "font": {
           "size": 12
          },
          "showarrow": false,
          "text": "Wwi",
          "x": 1.3853631356845981,
          "xanchor": "center",
          "y": 1.0844727950965922,
          "yanchor": "middle"
         },
         {
          "arrowcolor": "black",
          "arrowhead": 2,
          "arrowsize": 2,
          "ax": 0,
          "axref": "x",
          "ay": 0,
          "ayref": "y",
          "showarrow": true,
          "x": -0.4244876365133017,
          "xanchor": "right",
          "y": 1.3800244916711597,
          "yanchor": "top"
         },
         {
          "font": {
           "size": 12
          },
          "showarrow": false,
          "text": "Ri",
          "x": -0.509385163815962,
          "xanchor": "center",
          "y": 1.6560293900053915,
          "yanchor": "middle"
         },
         {
          "arrowcolor": "black",
          "arrowhead": 2,
          "arrowsize": 2,
          "ax": 0,
          "axref": "x",
          "ay": 0,
          "ayref": "y",
          "showarrow": true,
          "x": 1.2007165557036252,
          "xanchor": "right",
          "y": -0.7707971668342869,
          "yanchor": "top"
         },
         {
          "font": {
           "size": 12
          },
          "showarrow": false,
          "text": "Wwb",
          "x": 1.4408598668443502,
          "xanchor": "center",
          "y": -0.9249566002011442,
          "yanchor": "middle"
         },
         {
          "arrowcolor": "black",
          "arrowhead": 2,
          "arrowsize": 2,
          "ax": 0,
          "axref": "x",
          "ay": 0,
          "ayref": "y",
          "showarrow": true,
          "x": 1.1378779765435094,
          "xanchor": "right",
          "y": 0.8632869816822398,
          "yanchor": "top"
         },
         {
          "font": {
           "size": 12
          },
          "showarrow": false,
          "text": "Li",
          "x": 1.3654535718522112,
          "xanchor": "center",
          "y": 1.0359443780186877,
          "yanchor": "middle"
         },
         {
          "arrowcolor": "black",
          "arrowhead": 2,
          "arrowsize": 2,
          "ax": 0,
          "axref": "x",
          "ay": 0,
          "ayref": "y",
          "showarrow": true,
          "x": 0.9280953366128412,
          "xanchor": "right",
          "y": -0.9816333510539413,
          "yanchor": "top"
         },
         {
          "font": {
           "size": 12
          },
          "showarrow": false,
          "text": "ab",
          "x": 1.1137144039354094,
          "xanchor": "center",
          "y": -1.1779600212647297,
          "yanchor": "middle"
         }
        ],
        "coloraxis": {
         "colorbar": {
          "title": {
           "text": "ab"
          }
         },
         "colorscale": [
          [
           0,
           "#000004"
          ],
          [
           0.1111111111111111,
           "#180f3d"
          ],
          [
           0.2222222222222222,
           "#440f76"
          ],
          [
           0.3333333333333333,
           "#721f81"
          ],
          [
           0.4444444444444444,
           "#9e2f7f"
          ],
          [
           0.5555555555555556,
           "#cd4071"
          ],
          [
           0.6666666666666666,
           "#f1605d"
          ],
          [
           0.7777777777777778,
           "#fd9668"
          ],
          [
           0.8888888888888888,
           "#feca8d"
          ],
          [
           1,
           "#fcfdbf"
          ]
         ]
        },
        "legend": {
         "itemsizing": "constant",
         "title": {
          "text": "Habitat"
         },
         "tracegroupgap": 0
        },
        "margin": {
         "t": 60
        },
        "template": {
         "data": {
          "bar": [
           {
            "error_x": {
             "color": "#2a3f5f"
            },
            "error_y": {
             "color": "#2a3f5f"
            },
            "marker": {
             "line": {
              "color": "#E5ECF6",
              "width": 0.5
             },
             "pattern": {
              "fillmode": "overlay",
              "size": 10,
              "solidity": 0.2
             }
            },
            "type": "bar"
           }
          ],
          "barpolar": [
           {
            "marker": {
             "line": {
              "color": "#E5ECF6",
              "width": 0.5
             },
             "pattern": {
              "fillmode": "overlay",
              "size": 10,
              "solidity": 0.2
             }
            },
            "type": "barpolar"
           }
          ],
          "carpet": [
           {
            "aaxis": {
             "endlinecolor": "#2a3f5f",
             "gridcolor": "white",
             "linecolor": "white",
             "minorgridcolor": "white",
             "startlinecolor": "#2a3f5f"
            },
            "baxis": {
             "endlinecolor": "#2a3f5f",
             "gridcolor": "white",
             "linecolor": "white",
             "minorgridcolor": "white",
             "startlinecolor": "#2a3f5f"
            },
            "type": "carpet"
           }
          ],
          "choropleth": [
           {
            "colorbar": {
             "outlinewidth": 0,
             "ticks": ""
            },
            "type": "choropleth"
           }
          ],
          "contour": [
           {
            "colorbar": {
             "outlinewidth": 0,
             "ticks": ""
            },
            "colorscale": [
             [
              0,
              "#0d0887"
             ],
             [
              0.1111111111111111,
              "#46039f"
             ],
             [
              0.2222222222222222,
              "#7201a8"
             ],
             [
              0.3333333333333333,
              "#9c179e"
             ],
             [
              0.4444444444444444,
              "#bd3786"
             ],
             [
              0.5555555555555556,
              "#d8576b"
             ],
             [
              0.6666666666666666,
              "#ed7953"
             ],
             [
              0.7777777777777778,
              "#fb9f3a"
             ],
             [
              0.8888888888888888,
              "#fdca26"
             ],
             [
              1,
              "#f0f921"
             ]
            ],
            "type": "contour"
           }
          ],
          "contourcarpet": [
           {
            "colorbar": {
             "outlinewidth": 0,
             "ticks": ""
            },
            "type": "contourcarpet"
           }
          ],
          "heatmap": [
           {
            "colorbar": {
             "outlinewidth": 0,
             "ticks": ""
            },
            "colorscale": [
             [
              0,
              "#0d0887"
             ],
             [
              0.1111111111111111,
              "#46039f"
             ],
             [
              0.2222222222222222,
              "#7201a8"
             ],
             [
              0.3333333333333333,
              "#9c179e"
             ],
             [
              0.4444444444444444,
              "#bd3786"
             ],
             [
              0.5555555555555556,
              "#d8576b"
             ],
             [
              0.6666666666666666,
              "#ed7953"
             ],
             [
              0.7777777777777778,
              "#fb9f3a"
             ],
             [
              0.8888888888888888,
              "#fdca26"
             ],
             [
              1,
              "#f0f921"
             ]
            ],
            "type": "heatmap"
           }
          ],
          "histogram": [
           {
            "marker": {
             "pattern": {
              "fillmode": "overlay",
              "size": 10,
              "solidity": 0.2
             }
            },
            "type": "histogram"
           }
          ],
          "histogram2d": [
           {
            "colorbar": {
             "outlinewidth": 0,
             "ticks": ""
            },
            "colorscale": [
             [
              0,
              "#0d0887"
             ],
             [
              0.1111111111111111,
              "#46039f"
             ],
             [
              0.2222222222222222,
              "#7201a8"
             ],
             [
              0.3333333333333333,
              "#9c179e"
             ],
             [
              0.4444444444444444,
              "#bd3786"
             ],
             [
              0.5555555555555556,
              "#d8576b"
             ],
             [
              0.6666666666666666,
              "#ed7953"
             ],
             [
              0.7777777777777778,
              "#fb9f3a"
             ],
             [
              0.8888888888888888,
              "#fdca26"
             ],
             [
              1,
              "#f0f921"
             ]
            ],
            "type": "histogram2d"
           }
          ],
          "histogram2dcontour": [
           {
            "colorbar": {
             "outlinewidth": 0,
             "ticks": ""
            },
            "colorscale": [
             [
              0,
              "#0d0887"
             ],
             [
              0.1111111111111111,
              "#46039f"
             ],
             [
              0.2222222222222222,
              "#7201a8"
             ],
             [
              0.3333333333333333,
              "#9c179e"
             ],
             [
              0.4444444444444444,
              "#bd3786"
             ],
             [
              0.5555555555555556,
              "#d8576b"
             ],
             [
              0.6666666666666666,
              "#ed7953"
             ],
             [
              0.7777777777777778,
              "#fb9f3a"
             ],
             [
              0.8888888888888888,
              "#fdca26"
             ],
             [
              1,
              "#f0f921"
             ]
            ],
            "type": "histogram2dcontour"
           }
          ],
          "mesh3d": [
           {
            "colorbar": {
             "outlinewidth": 0,
             "ticks": ""
            },
            "type": "mesh3d"
           }
          ],
          "parcoords": [
           {
            "line": {
             "colorbar": {
              "outlinewidth": 0,
              "ticks": ""
             }
            },
            "type": "parcoords"
           }
          ],
          "pie": [
           {
            "automargin": true,
            "type": "pie"
           }
          ],
          "scatter": [
           {
            "fillpattern": {
             "fillmode": "overlay",
             "size": 10,
             "solidity": 0.2
            },
            "type": "scatter"
           }
          ],
          "scatter3d": [
           {
            "line": {
             "colorbar": {
              "outlinewidth": 0,
              "ticks": ""
             }
            },
            "marker": {
             "colorbar": {
              "outlinewidth": 0,
              "ticks": ""
             }
            },
            "type": "scatter3d"
           }
          ],
          "scattercarpet": [
           {
            "marker": {
             "colorbar": {
              "outlinewidth": 0,
              "ticks": ""
             }
            },
            "type": "scattercarpet"
           }
          ],
          "scattergeo": [
           {
            "marker": {
             "colorbar": {
              "outlinewidth": 0,
              "ticks": ""
             }
            },
            "type": "scattergeo"
           }
          ],
          "scattergl": [
           {
            "marker": {
             "colorbar": {
              "outlinewidth": 0,
              "ticks": ""
             }
            },
            "type": "scattergl"
           }
          ],
          "scattermap": [
           {
            "marker": {
             "colorbar": {
              "outlinewidth": 0,
              "ticks": ""
             }
            },
            "type": "scattermap"
           }
          ],
          "scattermapbox": [
           {
            "marker": {
             "colorbar": {
              "outlinewidth": 0,
              "ticks": ""
             }
            },
            "type": "scattermapbox"
           }
          ],
          "scatterpolar": [
           {
            "marker": {
             "colorbar": {
              "outlinewidth": 0,
              "ticks": ""
             }
            },
            "type": "scatterpolar"
           }
          ],
          "scatterpolargl": [
           {
            "marker": {
             "colorbar": {
              "outlinewidth": 0,
              "ticks": ""
             }
            },
            "type": "scatterpolargl"
           }
          ],
          "scatterternary": [
           {
            "marker": {
             "colorbar": {
              "outlinewidth": 0,
              "ticks": ""
             }
            },
            "type": "scatterternary"
           }
          ],
          "surface": [
           {
            "colorbar": {
             "outlinewidth": 0,
             "ticks": ""
            },
            "colorscale": [
             [
              0,
              "#0d0887"
             ],
             [
              0.1111111111111111,
              "#46039f"
             ],
             [
              0.2222222222222222,
              "#7201a8"
             ],
             [
              0.3333333333333333,
              "#9c179e"
             ],
             [
              0.4444444444444444,
              "#bd3786"
             ],
             [
              0.5555555555555556,
              "#d8576b"
             ],
             [
              0.6666666666666666,
              "#ed7953"
             ],
             [
              0.7777777777777778,
              "#fb9f3a"
             ],
             [
              0.8888888888888888,
              "#fdca26"
             ],
             [
              1,
              "#f0f921"
             ]
            ],
            "type": "surface"
           }
          ],
          "table": [
           {
            "cells": {
             "fill": {
              "color": "#EBF0F8"
             },
             "line": {
              "color": "white"
             }
            },
            "header": {
             "fill": {
              "color": "#C8D4E3"
             },
             "line": {
              "color": "white"
             }
            },
            "type": "table"
           }
          ]
         },
         "layout": {
          "annotationdefaults": {
           "arrowcolor": "#2a3f5f",
           "arrowhead": 0,
           "arrowwidth": 1
          },
          "autotypenumbers": "strict",
          "coloraxis": {
           "colorbar": {
            "outlinewidth": 0,
            "ticks": ""
           }
          },
          "colorscale": {
           "diverging": [
            [
             0,
             "#8e0152"
            ],
            [
             0.1,
             "#c51b7d"
            ],
            [
             0.2,
             "#de77ae"
            ],
            [
             0.3,
             "#f1b6da"
            ],
            [
             0.4,
             "#fde0ef"
            ],
            [
             0.5,
             "#f7f7f7"
            ],
            [
             0.6,
             "#e6f5d0"
            ],
            [
             0.7,
             "#b8e186"
            ],
            [
             0.8,
             "#7fbc41"
            ],
            [
             0.9,
             "#4d9221"
            ],
            [
             1,
             "#276419"
            ]
           ],
           "sequential": [
            [
             0,
             "#0d0887"
            ],
            [
             0.1111111111111111,
             "#46039f"
            ],
            [
             0.2222222222222222,
             "#7201a8"
            ],
            [
             0.3333333333333333,
             "#9c179e"
            ],
            [
             0.4444444444444444,
             "#bd3786"
            ],
            [
             0.5555555555555556,
             "#d8576b"
            ],
            [
             0.6666666666666666,
             "#ed7953"
            ],
            [
             0.7777777777777778,
             "#fb9f3a"
            ],
            [
             0.8888888888888888,
             "#fdca26"
            ],
            [
             1,
             "#f0f921"
            ]
           ],
           "sequentialminus": [
            [
             0,
             "#0d0887"
            ],
            [
             0.1111111111111111,
             "#46039f"
            ],
            [
             0.2222222222222222,
             "#7201a8"
            ],
            [
             0.3333333333333333,
             "#9c179e"
            ],
            [
             0.4444444444444444,
             "#bd3786"
            ],
            [
             0.5555555555555556,
             "#d8576b"
            ],
            [
             0.6666666666666666,
             "#ed7953"
            ],
            [
             0.7777777777777778,
             "#fb9f3a"
            ],
            [
             0.8888888888888888,
             "#fdca26"
            ],
            [
             1,
             "#f0f921"
            ]
           ]
          },
          "colorway": [
           "#636efa",
           "#EF553B",
           "#00cc96",
           "#ab63fa",
           "#FFA15A",
           "#19d3f3",
           "#FF6692",
           "#B6E880",
           "#FF97FF",
           "#FECB52"
          ],
          "font": {
           "color": "#2a3f5f"
          },
          "geo": {
           "bgcolor": "white",
           "lakecolor": "white",
           "landcolor": "#E5ECF6",
           "showlakes": true,
           "showland": true,
           "subunitcolor": "white"
          },
          "hoverlabel": {
           "align": "left"
          },
          "hovermode": "closest",
          "mapbox": {
           "style": "light"
          },
          "paper_bgcolor": "white",
          "plot_bgcolor": "#E5ECF6",
          "polar": {
           "angularaxis": {
            "gridcolor": "white",
            "linecolor": "white",
            "ticks": ""
           },
           "bgcolor": "#E5ECF6",
           "radialaxis": {
            "gridcolor": "white",
            "linecolor": "white",
            "ticks": ""
           }
          },
          "scene": {
           "xaxis": {
            "backgroundcolor": "#E5ECF6",
            "gridcolor": "white",
            "gridwidth": 2,
            "linecolor": "white",
            "showbackground": true,
            "ticks": "",
            "zerolinecolor": "white"
           },
           "yaxis": {
            "backgroundcolor": "#E5ECF6",
            "gridcolor": "white",
            "gridwidth": 2,
            "linecolor": "white",
            "showbackground": true,
            "ticks": "",
            "zerolinecolor": "white"
           },
           "zaxis": {
            "backgroundcolor": "#E5ECF6",
            "gridcolor": "white",
            "gridwidth": 2,
            "linecolor": "white",
            "showbackground": true,
            "ticks": "",
            "zerolinecolor": "white"
           }
          },
          "shapedefaults": {
           "line": {
            "color": "#2a3f5f"
           }
          },
          "ternary": {
           "aaxis": {
            "gridcolor": "white",
            "linecolor": "white",
            "ticks": ""
           },
           "baxis": {
            "gridcolor": "white",
            "linecolor": "white",
            "ticks": ""
           },
           "bgcolor": "#E5ECF6",
           "caxis": {
            "gridcolor": "white",
            "linecolor": "white",
            "ticks": ""
           }
          },
          "title": {
           "x": 0.05
          },
          "xaxis": {
           "automargin": true,
           "gridcolor": "white",
           "linecolor": "white",
           "ticks": "",
           "title": {
            "standoff": 15
           },
           "zerolinecolor": "white",
           "zerolinewidth": 2
          },
          "yaxis": {
           "automargin": true,
           "gridcolor": "white",
           "linecolor": "white",
           "ticks": "",
           "title": {
            "standoff": 15
           },
           "zerolinecolor": "white",
           "zerolinewidth": 2
          }
         }
        },
        "title": {
         "text": "Biplot of Life History traits colored by ab and size by Wwb"
        },
        "xaxis": {
         "anchor": "y",
         "domain": [
          0,
          1
         ],
         "title": {
          "text": "PC1 (47.4%)"
         }
        },
        "yaxis": {
         "anchor": "x",
         "domain": [
          0,
          1
         ],
         "title": {
          "text": "PC2 (37.6%)"
         }
        }
       }
      }
     },
     "metadata": {},
     "output_type": "display_data"
    }
   ],
   "source": [
    "\n",
    "#color size (no zero)\n",
    "size_variable_wwi = final_df[\"Wwi\"] - final_df[\"Wwi\"].min() + 0.1  \n",
    "size_variable_ri = final_df[\"Ri\"] - final_df[\"Ri\"].min() + 0.1\n",
    "size_variable_am = final_df[\"am\"] - final_df[\"am\"].min() + 0.1\n",
    "size_variable_li = final_df[\"Li\"] - final_df[\"Li\"].min() + 0.1\n",
    "size_variable_wwb = final_df[\"Wwb\"] - final_df[\"Wwb\"].min() + 0.1\n",
    "\n",
    "fig = px.scatter(\n",
    "    pca_df, \n",
    "    x=\"PC1\", \n",
    "    y=\"PC2\", \n",
    "    color=final_df['ab'],\n",
    "    size=size_variable_wwb,\n",
    "    #symbol=final_df[\"ecozone\"],\n",
    "    #color_discrete_sequence=px.colors.qualitative.Dark24,\n",
    "    color_continuous_scale=\"Magma\", \n",
    "    hover_name=final_df[\"species\"],\n",
    "    )\n",
    "\n",
    "for i, feature in enumerate(features):\n",
    "    x = scaled_loadings[i, 0]\n",
    "    y = scaled_loadings[i, 1]\n",
    "\n",
    "    fig.add_annotation(\n",
    "        ax=0, ay=0,\n",
    "        axref=\"x\", ayref=\"y\",\n",
    "        x=scaled_loadings[i, 0],\n",
    "        y=scaled_loadings[i, 1],\n",
    "        showarrow=True,\n",
    "        arrowsize=2,\n",
    "        arrowhead=2,\n",
    "        xanchor=\"right\",\n",
    "        yanchor=\"top\",\n",
    "        arrowcolor=\"black\",\n",
    "    )\n",
    "\n",
    "    fig.add_annotation(\n",
    "        x=x * 1.2,  \n",
    "        y=y * 1.2,\n",
    "        text=feature,\n",
    "        showarrow=False,\n",
    "        font=dict(size=12),\n",
    "        xanchor=\"center\",\n",
    "        yanchor=\"middle\",\n",
    "    )\n",
    "\n",
    "fig.update_layout(\n",
    "    title=\"Biplot of Life History traits colored by ab and size by Wwb\",\n",
    "    xaxis_title=f\"PC1 ({pc1_var:.1f}%)\",\n",
    "    yaxis_title=f\"PC2 ({pc2_var:.1f}%)\",\n",
    "    legend_title=\"Habitat\"\n",
    "    # xaxis=dict(showgrid=False, zeroline=False),\n",
    "    # yaxis=dict(showgrid=False, zeroline=False),\n",
    ")\n",
    "\n",
    "#fig.update_traces(marker=dict(size=7, opacity=0.8))  \n",
    "fig.update_coloraxes(colorbar_title=\"ab\")\n",
    "fig.show()\n",
    "fig.write_html(\"biplot7.html\")\n"
   ]
  }
 ],
 "metadata": {
  "kernelspec": {
   "display_name": ".venv",
   "language": "python",
   "name": "python3"
  },
  "language_info": {
   "codemirror_mode": {
    "name": "ipython",
    "version": 3
   },
   "file_extension": ".py",
   "mimetype": "text/x-python",
   "name": "python",
   "nbconvert_exporter": "python",
   "pygments_lexer": "ipython3",
   "version": "3.12.10"
  }
 },
 "nbformat": 4,
 "nbformat_minor": 5
}

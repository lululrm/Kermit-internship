{
 "cells": [
  {
   "cell_type": "code",
   "execution_count": 1,
   "id": "0946abc1",
   "metadata": {},
   "outputs": [],
   "source": [
    "import pandas as pd\n",
    "import numpy as np\n",
    "import matplotlib.pyplot as plt\n",
    "import seaborn as sns\n",
    "from sklearn.decomposition import PCA\n",
    "from sklearn.preprocessing import StandardScaler\n",
    "\n",
    "import plotly.express as px\n",
    "import plotly.graph_objects as go"
   ]
  },
  {
   "cell_type": "code",
   "execution_count": 2,
   "id": "5dd4905f",
   "metadata": {},
   "outputs": [],
   "source": [
    "df_life = pd.read_csv('data/lifehistory_df.csv')\n",
    "df_basiceco = pd.read_csv('data/basicecodf.csv')\n",
    "df_species = pd.read_csv(\"data/species.csv\")\n",
    "df_food = pd.read_csv(\"data/fooddf.csv\")"
   ]
  },
  {
   "cell_type": "code",
   "execution_count": 3,
   "id": "f9f502c2",
   "metadata": {},
   "outputs": [],
   "source": [
    "features = df_life[[\"am\", \"Wwi\", \"Ri\", \"Wwb\", \"Li\", \"ab\"]]\n",
    "X = StandardScaler().fit_transform(features)\n",
    "\n",
    "X_std = StandardScaler().fit_transform(X)\n",
    "\n",
    "pca = PCA(n_components=3)\n",
    "principal_components = pca.fit_transform(X_std)\n",
    "explained_var = pca.explained_variance_ratio_ * 100\n",
    "\n",
    "# DataFrame PCA\n",
    "pca_df = pd.DataFrame(data=principal_components, columns=[\"PC1\", \"PC2\", \"PC3\"])\n",
    "pca_df[\"species\"] = df_life[\"species\"]\n",
    "final_df=pca_df.copy()\n",
    "\n",
    "final_df['Wwi'] = df_life['Wwi']\n",
    "final_df['Ri'] = df_life['Ri']\n",
    "final_df['ecozone'] = df_basiceco['ecozone']\n",
    "final_df['gender'] = df_basiceco['gender']\n",
    "final_df['reproduction'] = df_basiceco['reproduction']\n",
    "final_df['embryo'] = df_basiceco['embryo']\n",
    "final_df['food'] = df_food['adult']\n",
    "final_df['order'] = df_species['Order']  \n",
    "final_df['class'] = df_species['Class'] \n",
    "final_df['phylum'] = df_species['Phylum']"
   ]
  },
  {
   "cell_type": "code",
   "execution_count": 4,
   "id": "53ab04b7",
   "metadata": {},
   "outputs": [
    {
     "data": {
      "application/vnd.plotly.v1+json": {
       "config": {
        "plotlyServerURL": "https://plot.ly"
       },
       "data": [
        {
         "hovertemplate": "<b>%{hovertext}</b><br><br>PC1=%{x}<br>PC2=%{y}<br>PC3=%{z}<br>color=%{marker.color}<extra></extra>",
         "hovertext": [
          "Symsagittifera_roscoffensis",
          "Aequipecten_opercularis",
          "Mimachlamys_varia",
          "Mytilus_edulis",
          "Panopea_abbreviata",
          "Tridacna_gigas",
          "Donax_trunculus",
          "Galatea_paradoxa",
          "Mytilopsis_sallei",
          "Teredo_navalis",
          "Callista_chione",
          "Chamelea_gallina",
          "Dosinia_exoleta",
          "Actinonaias_ligamentina",
          "Phorcus_lineatus",
          "Urosalpinx_cinerea",
          "Aplysia_californica",
          "Cuthona_nana",
          "Stagnicola_palustris",
          "Biomphalaria_glabrata",
          "Planorbis_planorbis",
          "Helix_pomatia",
          "Nautilus_pompilius",
          "Aspidiophorus_polystictos",
          "Phoronis_pallida",
          "Phoronis_psammophila",
          "Bimastos_rubidus",
          "Dendrobaena_octaedra",
          "Lumbricus_rubellus",
          "Eisenia_andrei",
          "Eisenia_fetida",
          "Schmidtea_polychroa",
          "Baikaiobia_guttata",
          "Branchotenthes_octohamatus",
          "Caenorhabditis_elegans",
          "Macrobiotus_hufelandii",
          "Hypsibius_convergens",
          "Ramazzottius_oberhaeuseri",
          "Milnesium_tardigradum",
          "Smeringurus_mesaensis",
          "Aglaoctenus_lagotis",
          "Eulimnadia_texana",
          "Asellus_aquaticus",
          "Porcellio_scaber",
          "Gammarus_fossarum",
          "Gammarus_pulex",
          "Gammarus_roeselii",
          "Hyperoche_medusarum",
          "Fenneropenaeus_chinensis",
          "Palaemonetes_pugio",
          "Palaemon_elegans",
          "Macrobrachium_rosenbergii",
          "Astacus_astacus",
          "Pacifastacus_leniusculus",
          "Procambarus_virginalis",
          "Paralithodes_camtschaticus",
          "Pagurus_bernhardus",
          "Birgus_latro",
          "Cancer_pagurus",
          "Macrocheira_kaempferi",
          "Chionoecetes_opilio",
          "Dissodactylus_primitivus",
          "Amphiura_filiformis",
          "Clypeaster_subdepressus",
          "Holothuria_scabra",
          "Stichopus_vastus",
          "Branchiostoma_floridae",
          "Ascidiella_aspersa",
          "Boltenia_echinata",
          "Styela_plicata",
          "Hemiscyllium_ocellatum",
          "Orectolobus_halei",
          "Orectolobus_hutchinsi",
          "Orectolobus_maculatus",
          "Orectolobus_ornatus",
          "Poroderma_africanum",
          "Scyliorhinus_canicula",
          "Triakis_scyllium",
          "Triakis_semifasciata",
          "Galeorhinus_galeus",
          "Hemitriakis_japanica",
          "Carcharhinus_leucas",
          "Galeocerdo_cuvier",
          "Negaprion_brevirostris",
          "Loxodon_macrorhinus",
          "Scoliodon_laticaudus",
          "Carcharias_taurus",
          "Lamna_ditropis",
          "Lamna_nasus",
          "Isurus_oxyrinchus",
          "Carcharodon_carcharias",
          "Mitsukurina_owstoni",
          "Deania_calceus",
          "Centroscymnus_plunketi",
          "Dalatias_licha",
          "Leucoraja_naevus",
          "Raja_clavata",
          "Raja_montagui",
          "Torpedo_marmorata",
          "Rhinobatos_productus",
          "Mobula_birostris",
          "Acipenser_baerii",
          "Acipenser_medirostris",
          "Acipenser_oxyrinchus",
          "Acipenser_ruthenus",
          "Acipenser_transmontanus",
          "Huso_huso",
          "Scaphirhynchus_albus",
          "Scaphirhynchus_suttkusi",
          "Scaphirhynchus_platorynchus",
          "Elops_saurus",
          "Halosauropsis_macrochir",
          "Anguilla_anguilla",
          "Congresox_talabonoides",
          "Muraenesox_bagio",
          "Muraenesox_cinereus",
          "Heterotis_niloticus",
          "Cyphomyrus_discorhynchus",
          "Marcusenius_macrolepidotus",
          "Marcusenius_pongolensis",
          "Mormyrops_anguilloides",
          "Mormyrus_kannume",
          "Mormyrus_longirostris",
          "Petrocephalus_bovei",
          "Gymnarchus_niloticus",
          "Coilia_brachygnathus",
          "Coilia_dussumieri",
          "Coilia_mystus",
          "Coilia_nasus",
          "Coilia_ramcarati",
          "Setipinna_phasa",
          "Setipinna_taty",
          "Thryssa_aestuaria",
          "Thryssa_hamiltonii",
          "Thryssa_setirostris",
          "Anchoa_hepsetus",
          "Anchoa_mitchilli",
          "Anchoa_panamensis",
          "Anchoviella_guianensis",
          "Cetengraulis_edentulus",
          "Cetengraulis_mysticetus",
          "Encrasicholina_devisi",
          "Encrasicholina_heteroloba",
          "Encrasicholina_punctifer",
          "Encrasicholina_purpurea",
          "Engraulis_anchoita",
          "Engraulis_australis",
          "Engraulis_capensis",
          "Engraulis_mordax",
          "Engraulis_ringens",
          "Lycengraulis_grossidens",
          "Stolephorus_carpentariae",
          "Stolephorus_commersonnii",
          "Stolephorus_indicus",
          "Stolephorus_insularis",
          "Stolephorus_nelsoni",
          "Stolephorus_waitei",
          "Ilisha_africana",
          "Pellona_ditchela",
          "Pellona_harroweri",
          "Dussumieria_acuta",
          "Dussumieria_hasseltii",
          "Clupea_bentincki",
          "Clupea_pallasii",
          "Potamalosa_richmondia",
          "Strangomera_bentincki",
          "Alosa_pseudoharengus",
          "Brevoortia_patronus",
          "Brevoortia_tyrannus",
          "Sardina_pilchardus",
          "Pellonula_leonensis",
          "Anodontostoma_chacunda",
          "Nematalosa_vlaminghi",
          "Amblygaster_sirm",
          "Dorosoma_cepedianum",
          "Escualosa_thoracata",
          "Konosirus_punctatus",
          "Sardinella_aurita",
          "Sardinella_albella",
          "Sardinella_brasiliensis",
          "Sardinella_fimbriata",
          "Sardinella_gibbosa",
          "Sardinella_lemuru",
          "Sardinella_longiceps",
          "Sardinella_maderensis",
          "Sardinella_melanura",
          "Sardinella_sindensis",
          "Sardinella_tawilis",
          "Sardinella_zunasi",
          "Harengula_clupeola",
          "Harengula_humeralis",
          "Harengula_jaguana",
          "Carassius_auratus",
          "Cirrhinus_cirrhosus",
          "Labeo_altivelis",
          "Labeo_calbasu",
          "Labeo_catla",
          "Labeo_coubie",
          "Labeo_niloticus",
          "Labeo_rohita",
          "Labeo_senegalensis",
          "Enteromius_liberiensis",
          "Labeobarbus_bynni",
          "Engraulicypris_sardella",
          "Neobola_stellae",
          "Rastrineobola_argentea",
          "Rhodeus_amarus",
          "Rhodeus_ocellatus",
          "Rhodeus_sericeus",
          "Abbottina_rivularis",
          "Gobio_gobio",
          "Hemibarbus_labeo",
          "Chrosomus_neogaeus",
          "Gila_intermedia",
          "Ptychocheilus_oregonensis",
          "Siphateles_bicolor",
          "Alburnus_alburnus",
          "Alburnus_baliki",
          "Alburnoides_bipunctatus",
          "Abramis_brama",
          "Achondrostoma_arcasii",
          "Oregonichthys_crameri",
          "Dionda_diaboli",
          "Pimephales_vigilax",
          "Chasmistes_brevirostris",
          "Chasmistes_cujus",
          "Chasmistes_liorus",
          "Glaniopsis_hanitschi",
          "Citharinus_citharus",
          "Alestes_baremoze",
          "Alestes_dentex",
          "Brycinus_leuciscus",
          "Brycinus_macrolepidotus",
          "Brycinus_nurse",
          "Brycinus_sadleri",
          "Hydrocynus_forskahlii",
          "Micralestes_acutidens",
          "Hepsetus_odoe",
          "Hoplias_malabaricus",
          "Myloplus_rhomboidalis",
          "Piaractus_brachypomus",
          "Semaprochilodus_taeniurus",
          "Semaprochilodus_insignis",
          "Curimata_knerii",
          "Potamorhina_latior",
          "Psectrogaster_rutiloides",
          "Brycon_amazonicus",
          "Brycon_melanopterus",
          "Brycon_moorei",
          "Brycon_opalinus",
          "Astyanax_bimaculatus",
          "Astyanax_eigenmanniorum",
          "Astyanax_mexicanus",
          "Gymnocharacinus_bergii",
          "Hyphessobrycon_pulchripinnis",
          "Moenkhausia_dichroura",
          "Moenkhausia_pittieri",
          "Odontostilbe_paraguayensis",
          "Oligosarcus_hepsetus",
          "Paracheirodon_innesi",
          "Psalidodon_fasciatus",
          "Triportheus_albus",
          "Triportheus_angulatus",
          "Triportheus_elongatus",
          "Gymnotus_carapo",
          "Corydoras_aeneus",
          "Hypostomus_albopunctatus",
          "Loricariichthys_anus",
          "Eremophilus_mutisii",
          "Trichomycterus_itacarambiensis",
          "Pterodoras_granulosus",
          "Synodontis_batensoda",
          "Synodontis_clarias",
          "Synodontis_membranaceus",
          "Synodontis_nebulosus",
          "Synodontis_schall",
          "Synodontis_zambezensis",
          "Phalacronotus_micronemus",
          "Silurus_glanis",
          "Silurus_triostegus",
          "Wallago_attu",
          "Clarias_agboyiensis",
          "Clarias_anguillaris",
          "Clarias_batrachus",
          "Cnidoglanis_macrocephalus",
          "Plotosus_lineatus",
          "Heteropneustes_fossilis",
          "Bagrus_bajad",
          "Coreobagrus_ichikawai",
          "Hemibagrus_baramensis",
          "Mystus_cavasius",
          "Pseudobagrus_vachellii",
          "Auchenoglanis_occidentalis",
          "Chrysichthys_auratus",
          "Chrysichthys_nigrodigitatus",
          "Chrysichthys_walkeri",
          "Pangasianodon_hypophthalmus",
          "Pangasius_pangasius",
          "Hypophthalmus_edentatus",
          "Iheringichthys_labrosus",
          "Pseudoplatystoma_corruscans",
          "Pseudoplatystoma_fasciatum",
          "Pseudoplatystoma_punctifer",
          "Pseudoplatystoma_tigrinum",
          "Parailia_pellucida",
          "Schilbe_intermedius",
          "Schilbe_mandibularis",
          "Schilbe_uranoscopus",
          "Ictalurus_punctatus",
          "Pylodictis_olivaris",
          "Ameiurus_catus",
          "Ameiurus_melas",
          "Ameiurus_nebulosus",
          "Noturus_baileyi",
          "Noturus_phaeus",
          "Coregonus_kiyi",
          "Coregonus_muksun",
          "Thymallus_baicalensis",
          "Thymallus_nigrescens",
          "Brachymystax_lenok",
          "Oncorhynchus_clarkii_stomias",
          "Oncorhynchus_gilae",
          "Salmo_lourosensis",
          "Salmo_marmoratus",
          "Salmo_obtusirostris",
          "Salvelinus_willoughbii",
          "Esox_lucius",
          "Esox_masquinongy",
          "Esox_niger",
          "Umbra_limi",
          "Umbra_krameri",
          "Osmerus_dentex",
          "Chologaster_cornuta",
          "Forbesichthys_agassizii",
          "Typhlichthys_subterraneus",
          "Amblyopsis_spelaea",
          "Amblyopsis_rosae",
          "Allocyttus_niger",
          "Allocyttus_verrucosus",
          "Pseudocyttus_maculatus",
          "Arctogadus_glacialis",
          "Gadus_chalcogrammus",
          "Gadus_macrocephalus",
          "Melanogrammus_aeglefinus",
          "Merlangius_merlangus",
          "Pollachius_virens",
          "Macruronus_novaezelandiae",
          "Merluccius_merluccius",
          "Urophycis_tenuis",
          "Myripristis_amaena",
          "Myripristis_murdjan",
          "Neoniphon_sammara",
          "Sargocentron_diadema",
          "Sargocentron_microstoma",
          "Sargocentron_rubrum",
          "Ostorhinchus_doederleini",
          "Trypauchen_vagina",
          "Aphia_minuta",
          "Glossogobius_giuris",
          "Gobiosoma_bosc",
          "Gobius_ophiocephalus",
          "Gobius_vittatus",
          "Istigobius_decoratus",
          "Istigobius_goldmanni",
          "Rhinogobiops_nicholsii",
          "Sufflogobius_bibarbatus",
          "Trimma_benjamini",
          "Trimma_nasa",
          "Valenciennea_strigata",
          "Zosterisessor_ophiocephalus",
          "Acanthogobius_flavimanus",
          "Crystallogobius_linearis",
          "Deltentosteus_quadrimaculatus",
          "Gobionellus_microdon",
          "Lepidogobius_lepidus",
          "Pomatoschistus_microps",
          "Pomatoschistus_minutus",
          "Rhinogobius_brunneus",
          "Rhinogobius_cliffordpopei",
          "Rhinogobius_giurinus",
          "Stigmatogobius_pleurostigma",
          "Boleophthalmus_pectinirostris",
          "Parapocryptes_serperaster",
          "Hippocampus_erectus",
          "Hippocampus_guttulatus",
          "Hippocampus_hippocampus",
          "Hippocampus_kuda",
          "Hippocampus_reidi",
          "Hippocampus_whitei",
          "Hippocampus_zosterae",
          "Phycodurus_eques",
          "Phyllopteryx_taeniolatus",
          "Syngnathoides_biaculeatus",
          "Syngnathus_abaster",
          "Syngnathus_fuscus",
          "Syngnathus_taenionotus",
          "Macroramphosus_scolopax",
          "Macroramphosus_gracilis",
          "Arripis_georgianus",
          "Pomatomus_saltatrix",
          "Rastrelliger_brachysoma",
          "Rastrelliger_faughni",
          "Rastrelliger_kanagurta",
          "Scomber_colias",
          "Scomber_japonicus",
          "Acanthocybium_solandri",
          "Scomberomorus_maculatus",
          "Scomberomorus_munroi",
          "Scomberomorus_niphonius",
          "Scomberomorus_queenslandicus",
          "Gymnosarda_unicolor",
          "Sarda_chiliensis",
          "Sarda_orientalis",
          "Sarda_sarda",
          "Allothunnus_fallai",
          "Auxis_rochei",
          "Auxis_thazard",
          "Euthynnus_affinis",
          "Euthynnus_alletteratus",
          "Katsuwonus_pelamis",
          "Thunnus_alalunga",
          "Thunnus_albacares",
          "Thunnus_obesus",
          "Aphanopus_carbo",
          "Aphanopus_intermedius",
          "Lepturacanthus_savala",
          "Trichiurus_lepturus",
          "Trichiurus_lepturus_japonicus",
          "Ariomma_indica",
          "Hyperoglyphe_antarctica",
          "Psenopsis_anomala",
          "Seriolella_punctata",
          "Anabas_testudineus",
          "Channa_argus",
          "Channa_punctata",
          "Betta_splendens",
          "Osphronemus_goramy",
          "Pristolepis_fasciata",
          "Pristolepis_grootii",
          "Alepes_djedaba",
          "Alepes_kleinii",
          "Atropus_atropos",
          "Atule_mate",
          "Caranx_crysos",
          "Caranx_hippos",
          "Caranx_ignobilis",
          "Caranx_lugubris",
          "Caranx_melampygus",
          "Caranx_senegallus",
          "Caranx_tille",
          "Chloroscombrus_chrysurus",
          "Decapterus_kurroides",
          "Decapterus_macarellus",
          "Decapterus_macrosoma",
          "Decapterus_maruadsi",
          "Decapterus_punctatus",
          "Decapterus_russelli",
          "Decapterus_tabl",
          "Flavocaranx_bajad",
          "Gnathanodon_speciosus",
          "Megalaspis_cordyla",
          "Parastromateus_niger",
          "Pseudocaranx_dentex",
          "Selar_crumenophthalmus",
          "Selaroides_leptolepis",
          "Trachurus_indicus",
          "Trachurus_japonicus",
          "Trachurus_lathami",
          "Trachurus_mediterraneus",
          "Trachurus_murphyi",
          "Trachurus_novaezelandiae",
          "Trachurus_picturatus",
          "Trachurus_symmetricus",
          "Elagatis_bipinnulata",
          "Mene_maculata",
          "Rachycentron_canadum",
          "Kajikia_audax",
          "Tetrapturus_pfluegeri",
          "Centropomus_parallelus",
          "Lates_angustifrons",
          "Lates_calcarifer",
          "Lates_longispinis",
          "Lates_mariae",
          "Lates_niloticus",
          "Lates_stappersii",
          "Psettodes_erumei",
          "Cyclopsetta_chittendeni",
          "Cyclopsetta_querna",
          "Etropus_crossotus",
          "Atheresthes_evermanni",
          "Hippoglossus_stenolepis",
          "Hippoglossoides_platessoides",
          "Cleisthenes_pinetorum",
          "Eopsetta_jordani",
          "Isopsetta_isolepis",
          "Glyptocephalus_kitaharae",
          "Glyptocephalus_stelleri",
          "Microstomus_kitt",
          "Microstomus_pacificus",
          "Parophrys_vetulus",
          "Platichthys_flesus",
          "Pseudopleuronectes_americanus",
          "Pseudopleuronectes_yokohamae",
          "Verasper_moseri",
          "Verasper_variegatus",
          "Rhombosolea_leporina",
          "Rhombosolea_plebeia",
          "Lepidorhombus_whiffiagonis",
          "Lepidorhombus_boscii",
          "Scophthalmus_rhombus",
          "Cynoglossus_canariensis",
          "Cynoglossus_joyneri",
          "Cynoglossus_puncticeps",
          "Cynoglossus_semifasciatus",
          "Cynoglossus_senegalensis",
          "Cynoglossus_zanzibarensis",
          "Symphurus_plagiusa",
          "Dicologlossa_cuneata",
          "Monochirus_hispidus",
          "Pegusa_lascaris",
          "Acanthoclinus_littoreus",
          "Acanthochromis_polyacanthus",
          "Amphiprion_ocellaris",
          "Chromis_ternatensis",
          "Chromis_verater",
          "Chromis_viridis",
          "Chrysiptera_biocellata",
          "Dascyllus_albisella",
          "Dascyllus_aruanus",
          "Dascyllus_reticulatus",
          "Holacanthus_passer",
          "Hypsypops_rubicundus",
          "Parma_microlepis",
          "Plectroglyphidodon_dickii",
          "Pomacentrus_amboinensis",
          "Pomacentrus_coelestis",
          "Pomacentrus_moluccensis",
          "Pomacentrus_wardi",
          "Pycnochromis_margaritifer",
          "Stegastes_acapulcoensis",
          "Stegastes_arcifrons",
          "Stegastes_beebei",
          "Stegastes_flavilatus",
          "Stegastes_fuscus",
          "Stegastes_nigricans",
          "Stegastes_planifrons",
          "Stegastes_rectifraenum",
          "Pseudochromis_flavivertex",
          "Pseudochromis_fuscus",
          "Cichla_intermedia",
          "Cichla_monoculus",
          "Cichla_orinocensis",
          "Cichla_temensis",
          "Acarichthys_heckelii",
          "Coptodon_guineensis",
          "Heterostichus_rostratus",
          "Acyrtops_beryllinus",
          "Atherina_presbyter",
          "Atherinella_brasiliensis",
          "Menidia_extensa",
          "Membras_martinica",
          "Melanotaenia_boesemani",
          "Oryzias_latipes",
          "Ablennes_hians",
          "Tylosurus_acus",
          "Tylosurus_crocodilus",
          "Cololabis_saira",
          "Cheilopogon_cyanopterus",
          "Chriodorus_atherinoides",
          "Hemiramphus_convexus",
          "Fundulopanchax_gardneri",
          "Fundulus_julisia",
          "Fundulus_heteroclitus",
          "Fundulus_luciae",
          "Crenichthys_baileyi",
          "Aphanius_iberus",
          "Cyprinodon_bovinus",
          "Cyprinodon_elegans",
          "Cyprinodon_macularius",
          "Cyprinodon_nevadensis",
          "Gambusia_puncticulata",
          "Gambusia_punctata",
          "Gambusia_holbrooki",
          "Heterandria_formosa",
          "Girardinus_metallicus",
          "Girardinus_uninotatus",
          "Girardinus_creolus",
          "Girardinus_denticulatus",
          "Girardinus_microdactylus",
          "Girardinus_falcatus",
          "Quintana_atrizona",
          "Limia_vittata",
          "Poecilia_latipinna",
          "Poecilia_reticulata",
          "Xiphophorus_maculatus",
          "Eucinostomus_argenteus",
          "Eucinostomus_gula",
          "Ammodytes_americanus",
          "Ammodytes_personatus",
          "Ammodytes_tobianus",
          "Hyperoplus_lanceolatus",
          "Achoerodus_gouldii",
          "Morone_chrysops",
          "Morone_mississippiensis",
          "Morone_saxatilis",
          "Platax_orbicularis",
          "Argyrosomus_japonicus",
          "Atrobucca_nibe",
          "Cynoscion_leiarchus",
          "Cynoscion_regalis",
          "Larimichthys_polyactis",
          "Menticirrhus_americanus",
          "Menticirrhus_saxatilis",
          "Menticirrhus_undulatus",
          "Pennahia_argentata",
          "Plagioscion_squamosissimus",
          "Protonibea_diacanthus",
          "Roncador_stearnsii",
          "Emmelichthys_nitidus",
          "Deveximentum_ruconius",
          "Equulites_elongatus",
          "Equulites_leuciscus",
          "Equulites_lineolatus",
          "Eubleekeria_splendens",
          "Gazza_minuta",
          "Karalla_dussumieri",
          "Karalla_daura",
          "Leiognathus_bindus",
          "Leiognathus_brevirostris",
          "Nuchequula_blochii",
          "Nuchequula_gerreoides",
          "Photopectoralis_bindus",
          "Secutor_insidiator",
          "Centropyge_bicolor",
          "Centropyge_loriculus",
          "Pomadasys_argenteus",
          "Pomadasys_argyreus",
          "Pomadasys_incisus",
          "Pomadasys_kaakan",
          "Pomadasys_maculatus",
          "Pomadasys_striatus",
          "Pomadasys_stridens",
          "Pristipomoides_auricilla",
          "Pristipomoides_filamentosus",
          "Pristipomoides_flavipinnis",
          "Pristipomoides_macrophthalmus",
          "Pristipomoides_sieboldii",
          "Pristipomoides_zonatus",
          "Lutjanus_adetii",
          "Lutjanus_alexandrei",
          "Lutjanus_apodus",
          "Lutjanus_argentiventris",
          "Lutjanus_bohar",
          "Lutjanus_fulvus",
          "Lutjanus_johnii",
          "Lutjanus_kasmira",
          "Lutjanus_lutjanus",
          "Lutjanus_synagris",
          "Lutjanus_vitta",
          "Ocyurus_chrysurus",
          "Lobotes_surinamensis",
          "Sillago_aeolus",
          "Sillago_burrus",
          "Sillago_ciliata",
          "Sillago_flindersi",
          "Sillago_japonica",
          "Sillago_schomburgkii",
          "Sillago_sihama",
          "Sillago_vittata",
          "Boops_boops",
          "Dentex_congoensis",
          "Lithognathus_mormyrus",
          "Pagellus_acarne",
          "Pagellus_bellottii",
          "Pagellus_bogaraveo",
          "Acanthopagrus_arabicus",
          "Acanthopagrus_australis",
          "Archosargus_probatocephalus",
          "Diplodus_annularis",
          "Diplodus_cervinus",
          "Diplodus_sargus",
          "Diplodus_vulgaris",
          "Evynnis_ehrenbergii",
          "Evynnis_tumifrons",
          "Pagrus_major",
          "Parargyrops_edita",
          "Siganus_fuscescens",
          "Siganus_guttatus",
          "Siganus_lineatus",
          "Siganus_luridus",
          "Siganus_rivulatus",
          "Siganus_spinus",
          "Pomoxis_nigromaculatus",
          "Micropterus_dolomieu",
          "Micropterus_salmoides",
          "Lepomis_cyanellus",
          "Lepomis_gulosus",
          "Elassoma_zonatum",
          "Latridopsis_ciliaris",
          "Latris_lineata",
          "Maccullochella_ikei",
          "Maccullochella_peelii",
          "Macquaria_ambigua",
          "Macquaria_novemaculeata",
          "Nannoperca_vittata",
          "Nannatherina_balstoni",
          "Percichthys_trucha",
          "Siniperca_chuatsi",
          "Aethaloperca_rogaa",
          "Anyperodon_leucogrammicus",
          "Cephalopholis_argus",
          "Cephalopholis_cruentata",
          "Cephalopholis_fulva",
          "Cephalopholis_microprion",
          "Cephalopholis_miniata",
          "Epinephelus_coioides",
          "Epinephelus_cyanopodus",
          "Epinephelus_drummondhayi",
          "Epinephelus_fuscoguttatus",
          "Epinephelus_howlandi",
          "Epinephelus_itajara",
          "Epinephelus_labriformis",
          "Epinephelus_maculatus",
          "Epinephelus_malabaricus",
          "Epinephelus_polyphekadion",
          "Epinephelus_quoyanus",
          "Plectropomus_leopardus",
          "Plectropomus_maculatus",
          "Plectropomus_pessuliferus",
          "Variola_louti",
          "Centropristis_striata",
          "Diplectrum_formosum",
          "Diplectrum_macropoma",
          "Diplectrum_pacificum",
          "Paralabrax_auroguttatus",
          "Paralabrax_clathratus",
          "Ammocrypta_pellucida",
          "Nothonotus_bellus",
          "Etheostoma_perlongum",
          "Etheostoma_pyrrhogaster",
          "Etheostoma_tetrazonum",
          "Etheostoma_trisella",
          "Etheostoma_zonistium",
          "Sander_vitreus",
          "Gymnocephalus_cernuus",
          "Percilia_irwini",
          "Dolloidraco_longedorsalis",
          "Neodraco_skottsbergi",
          "Gerlachea_australis",
          "Chaenocephalus_aceratus",
          "Chaenodraco_wilsoni",
          "Champsocephalus_gunnari",
          "Chionobathyscus_dewitti",
          "Chionodraco_hamatus",
          "Chionodraco_myersi",
          "Chionodraco_rastrospinosus",
          "Cryodraco_antarcticus",
          "Pagetopsis_maculatus",
          "Pseudochaenichthys_georgianus",
          "Aethotaxis_mitopteryx",
          "Dissostichus_eleginoides",
          "Dissostichus_mawsoni",
          "Gobionotothen_gibberifrons",
          "Indonotothenia_cyanobrancha",
          "Lepidonotothen_squamifrons",
          "Lindbergichthys_nudifrons",
          "Notothenia_neglecta",
          "Nototheniops_larseni",
          "Paranotothenia_magellanica",
          "Pagothenia_borchgrevinki",
          "Trematomus_bernacchii",
          "Trematomus_eulepidotus",
          "Trematomus_hansoni",
          "Trematomus_lepidorhinus",
          "Trematomus_loennbergii",
          "Trematomus_newnesi",
          "Trematomus_nicolai",
          "Trematomus_pennellii",
          "Trematomus_scotti",
          "Ambiserrula_jugosa",
          "Platycephalus_caeruleopunctatus",
          "Platycephalus_richardsoni",
          "Ratabulus_diversidens",
          "Rogadius_asper",
          "Peristedion_cataphractum",
          "Bellator_gymnostethus",
          "Prionotus_albirostris",
          "Prionotus_carolinus",
          "Prionotus_punctatus",
          "Prionotus_stephanophrys",
          "Eutrigla_gurnardus",
          "Trigla_lyra",
          "Lepidotrigla_argus",
          "Lepidotrigla_cavillone",
          "Dendrochirus_brachypterus",
          "Pontinus_kuhlii",
          "Scorpaena_elongata",
          "Scorpaena_guttata",
          "Scorpaena_loppei",
          "Scorpaena_maderensis",
          "Scorpaena_notata",
          "Scorpaena_porcus",
          "Scorpaena_scrofa",
          "Anoplopoma_fimbria",
          "Erilepis_zonifer",
          "Anarhichas_minor",
          "Zoarces_americanus",
          "Zaprora_silenus",
          "Ulvaria_subbifurcata",
          "Gasterosteus_aculeatus",
          "Pungitius_pungitius",
          "Culaea_inconstans",
          "Apeltes_quadracus",
          "Pleurogrammus_azonus",
          "Pleurogrammus_monopterygius",
          "Careproctus_reinhardti",
          "Liparis_gibbus",
          "Liparis_inquilinus",
          "Liparis_pulchellus",
          "Aspidophoroides_monopterygius",
          "Blepsias_cirrhosus",
          "Andrias_davidianus",
          "Hynobius_kimurae",
          "Hynobius_quelpaertensis",
          "Hynobius_tokyoensis",
          "Hynobius_yangi",
          "Pachyhynobius_shangchengensis",
          "Ranodon_sibiricus",
          "Onychodactylus_japonicus",
          "Bolitoglossa_mexicana",
          "Bolitoglossa_subpalmata",
          "Eurycea_bislineata",
          "Eurycea_longicauda",
          "Gyrinophilus_gulolineatus",
          "Gyrinophilus_palleucus",
          "Aneides_aeneus",
          "Desmognathus_brimleyorum",
          "Desmognathus_fuscus",
          "Desmognathus_monticola",
          "Desmognathus_ochrophaeus",
          "Desmognathus_ocoee",
          "Desmognathus_quadramaculatus",
          "Ensatina_eschscholtzii",
          "Phaeognathus_hubrichti",
          "Plethodon_cinereus",
          "Plethodon_kentucki",
          "Speleomantes_ambrosii",
          "Speleomantes_imperialis",
          "Amphiuma_means",
          "Rhyacotriton_variegatus",
          "Ambystoma_maculatum",
          "Ambystoma_mexicanum",
          "Ambystoma_opacum",
          "Ambystoma_texanum",
          "Salamandrina_perspicillata",
          "Chioglossa_lusitanica",
          "Salamandra_lanzai",
          "Echinotriton_andersoni",
          "Lissotriton_boscai",
          "Lissotriton_helveticus",
          "Lissotriton_vulgaris",
          "Neurergus_crocatus",
          "Calotriton_asper",
          "Triturus_cristatus",
          "Triturus_dobrogicus",
          "Triturus_karelinii",
          "Triturus_marmoratus",
          "Cynops_pyrrhogaster",
          "Paramesotriton_hongkongensis",
          "Necturus_maculosus",
          "Ascaphus_truei",
          "Alytes_cisternasii",
          "Alytes_muletensis",
          "Alytes_obstetricans",
          "Bombina_bombina",
          "Bombina_maxima",
          "Bombina_orientalis",
          "Bombina_variegata",
          "Fejervarya_limnocharis",
          "Fejervarya_multistriata",
          "Hoplobatrachus_tigerinus",
          "Xenopus_laevis",
          "Pelobates_cultripes",
          "Pelobates_syriacus",
          "Pelobates_varaldii",
          "Eleutherodactylus_coqui",
          "Argenteohyla_siemersi",
          "Hyla_arborea",
          "Trachycephalus_resinifictrix",
          "Anaxyrus_americanus",
          "Anaxyrus_boreas",
          "Anaxyrus_californicus",
          "Anaxyrus_fowleri",
          "Bufo_bufo",
          "Bufo_gargarizans",
          "Bufotes_latastii",
          "Bufotes_viridis",
          "Bufotes_zamdaensis",
          "Epidalea_calamita",
          "Nimbaphrynoides_occidentalis",
          "Rhaebo_blombergi",
          "Sclerophrys_pentoni",
          "Strauchbufo_raddei",
          "Mannophryne_trinitatis",
          "Ceratophrys_stolzmanni",
          "Hyperolius_viridiflavus",
          "Dyscophus_antongilii",
          "Pyxicephalus_adspersus",
          "Euphlyctis_hexadactylus",
          "Nanorana_parkeri",
          "Chiromantis_petersii",
          "Chiromantis_rufescens",
          "Kurixalus_eiffingeri",
          "Kurixalus_idiootocus",
          "Rhacophorus_moltrechti",
          "Zhangixalus_omeimontis",
          "Amolops_mantzorum",
          "Lithobates_catesbeianus",
          "Lithobates_chiricahuensis",
          "Lithobates_clamitans",
          "Pelophylax_bedriagae",
          "Pelophylax_caralitanus",
          "Pelophylax_epeiroticus",
          "Pelophylax_nigromaculatus",
          "Pelophylax_ridibundus",
          "Pelophylax_perezi",
          "Pelophylax_porosus",
          "Pelophylax_saharicus",
          "Rana_arvalis",
          "Rana_chensinensis",
          "Rana_dalmatina",
          "Rana_iberica",
          "Rana_italica",
          "Rana_latastei",
          "Rana_macrocnemis",
          "Rana_muscosa",
          "Rana_sakuraii",
          "Rana_tagoi",
          "Rana_temporaria",
          "Sylvirana_nigrovittata",
          "Correlophus_ciliatus",
          "Eublepharis_macularius",
          "Hemidactylus_turcicus",
          "Heteronotia_binoei",
          "Heteronotia_binoei_3N1A",
          "Heteronotia_binoei_3N1B",
          "Heteronotia_binoei_EA6",
          "Heteronotia_binoei_SM6",
          "Chioninia_coctei",
          "Ctenotus_pantherinus",
          "Eulamprus_quoyii",
          "Egernia_cunninghami",
          "Egernia_striolata",
          "Scincella_lateralis",
          "Xantusia_vigilis",
          "Gerrhosaurus_validus",
          "Smaug_giganteus",
          "Holcosus_quadrilineatus",
          "Pholidoscelis_exsul",
          "Salvator_merianae",
          "Gallotia_atlantica",
          "Gallotia_bravoana",
          "Gallotia_caesaris",
          "Gallotia_galloti",
          "Gallotia_intermedia",
          "Gallotia_simonyi",
          "Gallotia_stehlini",
          "Eremias_argus",
          "Eremias_suphani",
          "Apathya_cappadocica",
          "Iberolacerta_horvathi",
          "Lacerta_schreiberi",
          "Podarcis_muralis_Castanet",
          "Zootoca_vivipara",
          "Varanus_bengalensis",
          "Varanus_komodoensis",
          "Varanus_niloticus",
          "Furcifer_pardalis",
          "Ctenophorus_ornatus",
          "Ctenophorus_adelaidensis",
          "Pogona_barbata",
          "Anolis_acutus",
          "Anolis_carolinensis",
          "Anolis_gundlachi",
          "Anolis_opalinus",
          "Anolis_sagrei",
          "Basiliscus_basiliscus",
          "Basiliscus_plumifrons",
          "Basiliscus_vittatus",
          "Dipsosaurus_dorsalis",
          "Gambelia_sila",
          "Sceloporus_magister",
          "Sceloporus_occidentalis",
          "Sceloporus_undulatus",
          "Boa_constrictor",
          "Boa_imperator",
          "Eunectes_murinus",
          "Eunectes_notaeus",
          "Apodora_papuana",
          "Morelia_spilota",
          "Python_regius",
          "Python_sebae",
          "Python_molurus",
          "Simalia_amethistina",
          "Vipera_aspis",
          "Bitis_gabonica",
          "Bitis_arietans",
          "Crotalus_horridus",
          "Crotalus_lepidus",
          "Crotalus_oreganus",
          "Crotalus_pricei",
          "Natrix_natrix",
          "Natrix_maura",
          "Thamnophis_butleri",
          "Thamnophis_saurita",
          "Thamnophis_sirtalis",
          "Coluber_constrictor",
          "Orthriophis_taeniurus",
          "Pantherophis_guttatus",
          "Heterodon_nasicus",
          "Heterodon_platirhinos",
          "Podocnemis_unifilis",
          "Chelus_fimbriata",
          "Elseya_dentata",
          "Emydura_macquarii",
          "Hydromedusa_maximiliani",
          "Apalone_spinifera",
          "Dermatemys_mawii",
          "Claudius_angustatus",
          "Sternotherus_minor",
          "Caretta_caretta",
          "Lepidochelys_kempii",
          "Eretmochelys_imbricata",
          "Emydoidea_blandingii",
          "Glyptemys_insculpta",
          "Graptemys_oculifera",
          "Graptemys_pseudogeographica",
          "Pseudemys_concinna",
          "Pseudemys_nelsoni",
          "Gopherus_agassizii",
          "Gopherus_morafkai",
          "Gopherus_polyphemus",
          "Aldabrachelys_gigantea",
          "Chelonoidis_niger",
          "Geochelone_elegans",
          "Malacochersus_tornieri",
          "Stigmochelys_pardalis",
          "Testudo_hermanni",
          "Batagur_affinis",
          "Cuora_flavomarginata",
          "Alligator_sinensis",
          "Caiman_latirostris",
          "Melanosuchus_niger",
          "Paleosuchus_palpebrosus",
          "Paleosuchus_trigonatus",
          "Crocodylus_johnsoni",
          "Crocodylus_mindorensis",
          "Crocodylus_porosus",
          "Crocodylus_siamensis",
          "Crocodylus_palustris",
          "Crocodylus_niloticus",
          "Crocodylus_moreletii",
          "Crocodylus_rhombifer",
          "Crocodylus_acutus",
          "Osteolaemus_tetraspis",
          "Struthio_camelus",
          "Rhynchotus_rufescens",
          "Rhea_americana",
          "Apteryx_mantelli",
          "Dromaius_novaehollandiae",
          "Gallus_gallus",
          "Podilymbus_podiceps",
          "Phoeniconaias_minor",
          "Columba_livia",
          "Mesitornis_variegatus",
          "Pterocles_alchata",
          "Tauraco_erythrolophus",
          "Cuculus_canorus",
          "Ardeotis_kori",
          "Opisthocomus_hoazin",
          "Gallinula_chloropus",
          "Fratercula_arctica",
          "Larus_argentatus",
          "Larus_fuscus",
          "Podargus_strigoides",
          "Aegotheles_cristatus",
          "Apus_apus",
          "Archilochus_alexandri",
          "Rhynochetos_jubatus",
          "Gavia_immer",
          "Diomedea_exulans",
          "Pygoscelis_adeliae",
          "Ciconia_ciconia",
          "Pelecanus_onocrotalus",
          "Tyto_alba",
          "Strix_occidentalis",
          "Urocolius_macrourus",
          "Leptosomus_discolor",
          "Euptilotis_neoxenus",
          "Bucorvus_leadbeateri",
          "Todiramphus_cinnamominus",
          "Ramphastos_toco",
          "Cariama_cristata",
          "Forpus_passerinus",
          "Melopsittacus_undulatus",
          "Toxostoma_curvirostre",
          "Ornithorhynchus_anatinus",
          "Tachyglossus_aculeatus"
         ],
         "legendgroup": "",
         "marker": {
          "color": {
           "bdata": "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",
           "dtype": "f8"
          },
          "coloraxis": "coloraxis",
          "opacity": 0.8,
          "size": 3.5,
          "symbol": "circle"
         },
         "mode": "markers",
         "name": "",
         "scene": "scene",
         "showlegend": false,
         "type": "scatter3d",
         "x": {
          "bdata": "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",
          "dtype": "f8"
         },
         "y": {
          "bdata": "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",
          "dtype": "f8"
         },
         "z": {
          "bdata": "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",
          "dtype": "f8"
         }
        },
        {
         "line": {
          "color": "black",
          "width": 4
         },
         "marker": {
          "size": 3.5
         },
         "mode": "lines+text",
         "name": "am",
         "showlegend": false,
         "text": [
          null,
          "am"
         ],
         "textposition": "top center",
         "type": "scatter3d",
         "x": [
          0,
          2.3258351445481127
         ],
         "y": [
          0,
          0.6742665327845915
         ],
         "z": [
          0,
          1.7411301520765716
         ]
        },
        {
         "line": {
          "color": "black",
          "width": 4
         },
         "marker": {
          "size": 3.5
         },
         "mode": "lines+text",
         "name": "Wwi",
         "showlegend": false,
         "text": [
          null,
          "Wwi"
         ],
         "textposition": "top center",
         "type": "scatter3d",
         "x": [
          0,
          2.2953298431521287
         ],
         "y": [
          0,
          1.7968016518944876
         ],
         "z": [
          0,
          -0.4876829070306105
         ]
        },
        {
         "line": {
          "color": "black",
          "width": 4
         },
         "marker": {
          "size": 3.5
         },
         "mode": "lines+text",
         "name": "Ri",
         "showlegend": false,
         "text": [
          null,
          "Ri"
         ],
         "textposition": "top center",
         "type": "scatter3d",
         "x": [
          0,
          -0.8439714743729851
         ],
         "y": [
          0,
          2.7437814549165154
         ],
         "z": [
          0,
          0.1478388972620664
         ]
        },
        {
         "line": {
          "color": "black",
          "width": 4
         },
         "marker": {
          "size": 3.5
         },
         "mode": "lines+text",
         "name": "Wwb",
         "showlegend": false,
         "text": [
          null,
          "Wwb"
         ],
         "textposition": "top center",
         "type": "scatter3d",
         "x": [
          0,
          2.3872792389077904
         ],
         "y": [
          0,
          -1.5325082885312016
         ],
         "z": [
          0,
          -0.5818307450898998
         ]
        },
        {
         "line": {
          "color": "black",
          "width": 4
         },
         "marker": {
          "size": 3.5
         },
         "mode": "lines+text",
         "name": "Li",
         "showlegend": false,
         "text": [
          null,
          "Li"
         ],
         "textposition": "top center",
         "type": "scatter3d",
         "x": [
          0,
          2.2623428126389795
         ],
         "y": [
          0,
          1.7163976617126608
         ],
         "z": [
          0,
          -0.7527285040406013
         ]
        },
        {
         "line": {
          "color": "black",
          "width": 4
         },
         "marker": {
          "size": 3.5
         },
         "mode": "lines+text",
         "name": "ab",
         "showlegend": false,
         "text": [
          null,
          "ab"
         ],
         "textposition": "top center",
         "type": "scatter3d",
         "x": [
          0,
          1.8452504200915336
         ],
         "y": [
          0,
          -1.9516953506294383
         ],
         "z": [
          0,
          0.15526652634188337
         ]
        }
       ],
       "layout": {
        "coloraxis": {
         "colorbar": {
          "title": {
           "text": "color"
          }
         },
         "colorscale": [
          [
           0,
           "#440154"
          ],
          [
           0.1111111111111111,
           "#482878"
          ],
          [
           0.2222222222222222,
           "#3e4989"
          ],
          [
           0.3333333333333333,
           "#31688e"
          ],
          [
           0.4444444444444444,
           "#26828e"
          ],
          [
           0.5555555555555556,
           "#1f9e89"
          ],
          [
           0.6666666666666666,
           "#35b779"
          ],
          [
           0.7777777777777778,
           "#6ece58"
          ],
          [
           0.8888888888888888,
           "#b5de2b"
          ],
          [
           1,
           "#fde725"
          ]
         ]
        },
        "legend": {
         "tracegroupgap": 0
        },
        "margin": {
         "t": 60
        },
        "scene": {
         "domain": {
          "x": [
           0,
           1
          ],
          "y": [
           0,
           1
          ]
         },
         "xaxis": {
          "title": {
           "text": "PC1 (47.4%)"
          }
         },
         "yaxis": {
          "title": {
           "text": "PC2 (37.6%)"
          }
         },
         "zaxis": {
          "title": {
           "text": "PC3 (7.8%)"
          }
         }
        },
        "template": {
         "data": {
          "bar": [
           {
            "error_x": {
             "color": "#2a3f5f"
            },
            "error_y": {
             "color": "#2a3f5f"
            },
            "marker": {
             "line": {
              "color": "#E5ECF6",
              "width": 0.5
             },
             "pattern": {
              "fillmode": "overlay",
              "size": 10,
              "solidity": 0.2
             }
            },
            "type": "bar"
           }
          ],
          "barpolar": [
           {
            "marker": {
             "line": {
              "color": "#E5ECF6",
              "width": 0.5
             },
             "pattern": {
              "fillmode": "overlay",
              "size": 10,
              "solidity": 0.2
             }
            },
            "type": "barpolar"
           }
          ],
          "carpet": [
           {
            "aaxis": {
             "endlinecolor": "#2a3f5f",
             "gridcolor": "white",
             "linecolor": "white",
             "minorgridcolor": "white",
             "startlinecolor": "#2a3f5f"
            },
            "baxis": {
             "endlinecolor": "#2a3f5f",
             "gridcolor": "white",
             "linecolor": "white",
             "minorgridcolor": "white",
             "startlinecolor": "#2a3f5f"
            },
            "type": "carpet"
           }
          ],
          "choropleth": [
           {
            "colorbar": {
             "outlinewidth": 0,
             "ticks": ""
            },
            "type": "choropleth"
           }
          ],
          "contour": [
           {
            "colorbar": {
             "outlinewidth": 0,
             "ticks": ""
            },
            "colorscale": [
             [
              0,
              "#0d0887"
             ],
             [
              0.1111111111111111,
              "#46039f"
             ],
             [
              0.2222222222222222,
              "#7201a8"
             ],
             [
              0.3333333333333333,
              "#9c179e"
             ],
             [
              0.4444444444444444,
              "#bd3786"
             ],
             [
              0.5555555555555556,
              "#d8576b"
             ],
             [
              0.6666666666666666,
              "#ed7953"
             ],
             [
              0.7777777777777778,
              "#fb9f3a"
             ],
             [
              0.8888888888888888,
              "#fdca26"
             ],
             [
              1,
              "#f0f921"
             ]
            ],
            "type": "contour"
           }
          ],
          "contourcarpet": [
           {
            "colorbar": {
             "outlinewidth": 0,
             "ticks": ""
            },
            "type": "contourcarpet"
           }
          ],
          "heatmap": [
           {
            "colorbar": {
             "outlinewidth": 0,
             "ticks": ""
            },
            "colorscale": [
             [
              0,
              "#0d0887"
             ],
             [
              0.1111111111111111,
              "#46039f"
             ],
             [
              0.2222222222222222,
              "#7201a8"
             ],
             [
              0.3333333333333333,
              "#9c179e"
             ],
             [
              0.4444444444444444,
              "#bd3786"
             ],
             [
              0.5555555555555556,
              "#d8576b"
             ],
             [
              0.6666666666666666,
              "#ed7953"
             ],
             [
              0.7777777777777778,
              "#fb9f3a"
             ],
             [
              0.8888888888888888,
              "#fdca26"
             ],
             [
              1,
              "#f0f921"
             ]
            ],
            "type": "heatmap"
           }
          ],
          "histogram": [
           {
            "marker": {
             "pattern": {
              "fillmode": "overlay",
              "size": 10,
              "solidity": 0.2
             }
            },
            "type": "histogram"
           }
          ],
          "histogram2d": [
           {
            "colorbar": {
             "outlinewidth": 0,
             "ticks": ""
            },
            "colorscale": [
             [
              0,
              "#0d0887"
             ],
             [
              0.1111111111111111,
              "#46039f"
             ],
             [
              0.2222222222222222,
              "#7201a8"
             ],
             [
              0.3333333333333333,
              "#9c179e"
             ],
             [
              0.4444444444444444,
              "#bd3786"
             ],
             [
              0.5555555555555556,
              "#d8576b"
             ],
             [
              0.6666666666666666,
              "#ed7953"
             ],
             [
              0.7777777777777778,
              "#fb9f3a"
             ],
             [
              0.8888888888888888,
              "#fdca26"
             ],
             [
              1,
              "#f0f921"
             ]
            ],
            "type": "histogram2d"
           }
          ],
          "histogram2dcontour": [
           {
            "colorbar": {
             "outlinewidth": 0,
             "ticks": ""
            },
            "colorscale": [
             [
              0,
              "#0d0887"
             ],
             [
              0.1111111111111111,
              "#46039f"
             ],
             [
              0.2222222222222222,
              "#7201a8"
             ],
             [
              0.3333333333333333,
              "#9c179e"
             ],
             [
              0.4444444444444444,
              "#bd3786"
             ],
             [
              0.5555555555555556,
              "#d8576b"
             ],
             [
              0.6666666666666666,
              "#ed7953"
             ],
             [
              0.7777777777777778,
              "#fb9f3a"
             ],
             [
              0.8888888888888888,
              "#fdca26"
             ],
             [
              1,
              "#f0f921"
             ]
            ],
            "type": "histogram2dcontour"
           }
          ],
          "mesh3d": [
           {
            "colorbar": {
             "outlinewidth": 0,
             "ticks": ""
            },
            "type": "mesh3d"
           }
          ],
          "parcoords": [
           {
            "line": {
             "colorbar": {
              "outlinewidth": 0,
              "ticks": ""
             }
            },
            "type": "parcoords"
           }
          ],
          "pie": [
           {
            "automargin": true,
            "type": "pie"
           }
          ],
          "scatter": [
           {
            "fillpattern": {
             "fillmode": "overlay",
             "size": 10,
             "solidity": 0.2
            },
            "type": "scatter"
           }
          ],
          "scatter3d": [
           {
            "line": {
             "colorbar": {
              "outlinewidth": 0,
              "ticks": ""
             }
            },
            "marker": {
             "colorbar": {
              "outlinewidth": 0,
              "ticks": ""
             }
            },
            "type": "scatter3d"
           }
          ],
          "scattercarpet": [
           {
            "marker": {
             "colorbar": {
              "outlinewidth": 0,
              "ticks": ""
             }
            },
            "type": "scattercarpet"
           }
          ],
          "scattergeo": [
           {
            "marker": {
             "colorbar": {
              "outlinewidth": 0,
              "ticks": ""
             }
            },
            "type": "scattergeo"
           }
          ],
          "scattergl": [
           {
            "marker": {
             "colorbar": {
              "outlinewidth": 0,
              "ticks": ""
             }
            },
            "type": "scattergl"
           }
          ],
          "scattermap": [
           {
            "marker": {
             "colorbar": {
              "outlinewidth": 0,
              "ticks": ""
             }
            },
            "type": "scattermap"
           }
          ],
          "scattermapbox": [
           {
            "marker": {
             "colorbar": {
              "outlinewidth": 0,
              "ticks": ""
             }
            },
            "type": "scattermapbox"
           }
          ],
          "scatterpolar": [
           {
            "marker": {
             "colorbar": {
              "outlinewidth": 0,
              "ticks": ""
             }
            },
            "type": "scatterpolar"
           }
          ],
          "scatterpolargl": [
           {
            "marker": {
             "colorbar": {
              "outlinewidth": 0,
              "ticks": ""
             }
            },
            "type": "scatterpolargl"
           }
          ],
          "scatterternary": [
           {
            "marker": {
             "colorbar": {
              "outlinewidth": 0,
              "ticks": ""
             }
            },
            "type": "scatterternary"
           }
          ],
          "surface": [
           {
            "colorbar": {
             "outlinewidth": 0,
             "ticks": ""
            },
            "colorscale": [
             [
              0,
              "#0d0887"
             ],
             [
              0.1111111111111111,
              "#46039f"
             ],
             [
              0.2222222222222222,
              "#7201a8"
             ],
             [
              0.3333333333333333,
              "#9c179e"
             ],
             [
              0.4444444444444444,
              "#bd3786"
             ],
             [
              0.5555555555555556,
              "#d8576b"
             ],
             [
              0.6666666666666666,
              "#ed7953"
             ],
             [
              0.7777777777777778,
              "#fb9f3a"
             ],
             [
              0.8888888888888888,
              "#fdca26"
             ],
             [
              1,
              "#f0f921"
             ]
            ],
            "type": "surface"
           }
          ],
          "table": [
           {
            "cells": {
             "fill": {
              "color": "#EBF0F8"
             },
             "line": {
              "color": "white"
             }
            },
            "header": {
             "fill": {
              "color": "#C8D4E3"
             },
             "line": {
              "color": "white"
             }
            },
            "type": "table"
           }
          ]
         },
         "layout": {
          "annotationdefaults": {
           "arrowcolor": "#2a3f5f",
           "arrowhead": 0,
           "arrowwidth": 1
          },
          "autotypenumbers": "strict",
          "coloraxis": {
           "colorbar": {
            "outlinewidth": 0,
            "ticks": ""
           }
          },
          "colorscale": {
           "diverging": [
            [
             0,
             "#8e0152"
            ],
            [
             0.1,
             "#c51b7d"
            ],
            [
             0.2,
             "#de77ae"
            ],
            [
             0.3,
             "#f1b6da"
            ],
            [
             0.4,
             "#fde0ef"
            ],
            [
             0.5,
             "#f7f7f7"
            ],
            [
             0.6,
             "#e6f5d0"
            ],
            [
             0.7,
             "#b8e186"
            ],
            [
             0.8,
             "#7fbc41"
            ],
            [
             0.9,
             "#4d9221"
            ],
            [
             1,
             "#276419"
            ]
           ],
           "sequential": [
            [
             0,
             "#0d0887"
            ],
            [
             0.1111111111111111,
             "#46039f"
            ],
            [
             0.2222222222222222,
             "#7201a8"
            ],
            [
             0.3333333333333333,
             "#9c179e"
            ],
            [
             0.4444444444444444,
             "#bd3786"
            ],
            [
             0.5555555555555556,
             "#d8576b"
            ],
            [
             0.6666666666666666,
             "#ed7953"
            ],
            [
             0.7777777777777778,
             "#fb9f3a"
            ],
            [
             0.8888888888888888,
             "#fdca26"
            ],
            [
             1,
             "#f0f921"
            ]
           ],
           "sequentialminus": [
            [
             0,
             "#0d0887"
            ],
            [
             0.1111111111111111,
             "#46039f"
            ],
            [
             0.2222222222222222,
             "#7201a8"
            ],
            [
             0.3333333333333333,
             "#9c179e"
            ],
            [
             0.4444444444444444,
             "#bd3786"
            ],
            [
             0.5555555555555556,
             "#d8576b"
            ],
            [
             0.6666666666666666,
             "#ed7953"
            ],
            [
             0.7777777777777778,
             "#fb9f3a"
            ],
            [
             0.8888888888888888,
             "#fdca26"
            ],
            [
             1,
             "#f0f921"
            ]
           ]
          },
          "colorway": [
           "#636efa",
           "#EF553B",
           "#00cc96",
           "#ab63fa",
           "#FFA15A",
           "#19d3f3",
           "#FF6692",
           "#B6E880",
           "#FF97FF",
           "#FECB52"
          ],
          "font": {
           "color": "#2a3f5f"
          },
          "geo": {
           "bgcolor": "white",
           "lakecolor": "white",
           "landcolor": "#E5ECF6",
           "showlakes": true,
           "showland": true,
           "subunitcolor": "white"
          },
          "hoverlabel": {
           "align": "left"
          },
          "hovermode": "closest",
          "mapbox": {
           "style": "light"
          },
          "paper_bgcolor": "white",
          "plot_bgcolor": "#E5ECF6",
          "polar": {
           "angularaxis": {
            "gridcolor": "white",
            "linecolor": "white",
            "ticks": ""
           },
           "bgcolor": "#E5ECF6",
           "radialaxis": {
            "gridcolor": "white",
            "linecolor": "white",
            "ticks": ""
           }
          },
          "scene": {
           "xaxis": {
            "backgroundcolor": "#E5ECF6",
            "gridcolor": "white",
            "gridwidth": 2,
            "linecolor": "white",
            "showbackground": true,
            "ticks": "",
            "zerolinecolor": "white"
           },
           "yaxis": {
            "backgroundcolor": "#E5ECF6",
            "gridcolor": "white",
            "gridwidth": 2,
            "linecolor": "white",
            "showbackground": true,
            "ticks": "",
            "zerolinecolor": "white"
           },
           "zaxis": {
            "backgroundcolor": "#E5ECF6",
            "gridcolor": "white",
            "gridwidth": 2,
            "linecolor": "white",
            "showbackground": true,
            "ticks": "",
            "zerolinecolor": "white"
           }
          },
          "shapedefaults": {
           "line": {
            "color": "#2a3f5f"
           }
          },
          "ternary": {
           "aaxis": {
            "gridcolor": "white",
            "linecolor": "white",
            "ticks": ""
           },
           "baxis": {
            "gridcolor": "white",
            "linecolor": "white",
            "ticks": ""
           },
           "bgcolor": "#E5ECF6",
           "caxis": {
            "gridcolor": "white",
            "linecolor": "white",
            "ticks": ""
           }
          },
          "title": {
           "x": 0.05
          },
          "xaxis": {
           "automargin": true,
           "gridcolor": "white",
           "linecolor": "white",
           "ticks": "",
           "title": {
            "standoff": 15
           },
           "zerolinecolor": "white",
           "zerolinewidth": 2
          },
          "yaxis": {
           "automargin": true,
           "gridcolor": "white",
           "linecolor": "white",
           "ticks": "",
           "title": {
            "standoff": 15
           },
           "zerolinecolor": "white",
           "zerolinewidth": 2
          }
         }
        },
        "title": {
         "text": "PCA 3D"
        }
       }
      }
     },
     "metadata": {},
     "output_type": "display_data"
    }
   ],
   "source": [
    "\n",
    "fig = px.scatter_3d(\n",
    "    pca_df,\n",
    "    x=\"PC1\",\n",
    "    y=\"PC2\",\n",
    "    z=\"PC3\",\n",
    "    color=final_df['Wwi'],\n",
    "    hover_name=\"species\",\n",
    "    color_continuous_scale=px.colors.sequential.Viridis,\n",
    "    opacity=0.8\n",
    ")\n",
    "\n",
    "loadings = pca.components_.T * np.sqrt(pca.explained_variance_)\n",
    "\n",
    "scale = 3  \n",
    "\n",
    "for i, feature in enumerate(features):\n",
    "    fig.add_trace(\n",
    "        go.Scatter3d(\n",
    "            x=[0, loadings[i, 0] * scale],\n",
    "            y=[0, loadings[i, 1] * scale],\n",
    "            z=[0, loadings[i, 2] * scale],\n",
    "            mode=\"lines+text\",\n",
    "            line=dict(color=\"black\", width=4),\n",
    "            text=[None, feature],\n",
    "            textposition=\"top center\",\n",
    "            name=feature,\n",
    "            showlegend=False\n",
    "        )\n",
    "    )\n",
    "\n",
    "fig.update_layout(\n",
    "    title=\"PCA 3D\",\n",
    "    scene=dict(\n",
    "        xaxis_title=f\"PC1 ({explained_var[0]:.1f}%)\",\n",
    "        yaxis_title=f\"PC2 ({explained_var[1]:.1f}%)\",\n",
    "        zaxis_title=f\"PC3 ({explained_var[2]:.1f}%)\",\n",
    "    ),\n",
    ")\n",
    "fig.update_traces(marker=dict(size=3.5))  \n",
    "\n",
    "fig.show()"
   ]
  }
 ],
 "metadata": {
  "kernelspec": {
   "display_name": ".venv",
   "language": "python",
   "name": "python3"
  },
  "language_info": {
   "codemirror_mode": {
    "name": "ipython",
    "version": 3
   },
   "file_extension": ".py",
   "mimetype": "text/x-python",
   "name": "python",
   "nbconvert_exporter": "python",
   "pygments_lexer": "ipython3",
   "version": "3.12.10"
  }
 },
 "nbformat": 4,
 "nbformat_minor": 5
}

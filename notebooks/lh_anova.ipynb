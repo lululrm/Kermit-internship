{
 "cells": [
  {
   "cell_type": "markdown",
   "id": "4d94b628",
   "metadata": {},
   "source": [
    "## T-test : Effect of habitat type on life strategy"
   ]
  },
  {
   "cell_type": "markdown",
   "id": "1512d24b",
   "metadata": {},
   "source": [
    "### Objective:\n",
    "Determine if habitat type (aquatic and terrestrial) has a significant effect on life strategy (PC1)"
   ]
  },
  {
   "cell_type": "code",
   "execution_count": null,
   "id": "d36beef5",
   "metadata": {},
   "outputs": [],
   "source": [
    "import pandas as pd\n",
    "import plotly.express as px\n",
    "import scipy.stats as stats\n",
    "import statsmodels.api as sm\n",
    "import statsmodels.formula.api as smf\n",
    "import statsmodels.stats.multicomp as mc\n",
    "from statsmodels.stats.multicomp import tukeyhsd\n",
    "from scipy.stats import ttest_ind"
   ]
  },
  {
   "cell_type": "code",
   "execution_count": 71,
   "id": "81532a2d",
   "metadata": {},
   "outputs": [
    {
     "data": {
      "text/html": [
       "<div>\n",
       "<style scoped>\n",
       "    .dataframe tbody tr th:only-of-type {\n",
       "        vertical-align: middle;\n",
       "    }\n",
       "\n",
       "    .dataframe tbody tr th {\n",
       "        vertical-align: top;\n",
       "    }\n",
       "\n",
       "    .dataframe thead th {\n",
       "        text-align: right;\n",
       "    }\n",
       "</style>\n",
       "<table border=\"1\" class=\"dataframe\">\n",
       "  <thead>\n",
       "    <tr style=\"text-align: right;\">\n",
       "      <th></th>\n",
       "      <th>Species</th>\n",
       "      <th>PC1</th>\n",
       "      <th>habitat</th>\n",
       "    </tr>\n",
       "  </thead>\n",
       "  <tbody>\n",
       "    <tr>\n",
       "      <th>0</th>\n",
       "      <td>Symsagittifera_roscoffensis</td>\n",
       "      <td>-4.332599</td>\n",
       "      <td>A</td>\n",
       "    </tr>\n",
       "    <tr>\n",
       "      <th>1</th>\n",
       "      <td>Aequipecten_opercularis</td>\n",
       "      <td>-2.418778</td>\n",
       "      <td>A</td>\n",
       "    </tr>\n",
       "    <tr>\n",
       "      <th>2</th>\n",
       "      <td>Mimachlamys_varia</td>\n",
       "      <td>-2.773367</td>\n",
       "      <td>A</td>\n",
       "    </tr>\n",
       "    <tr>\n",
       "      <th>3</th>\n",
       "      <td>Mytilus_edulis</td>\n",
       "      <td>-2.602300</td>\n",
       "      <td>A</td>\n",
       "    </tr>\n",
       "    <tr>\n",
       "      <th>4</th>\n",
       "      <td>Panopea_abbreviata</td>\n",
       "      <td>-0.460463</td>\n",
       "      <td>A</td>\n",
       "    </tr>\n",
       "  </tbody>\n",
       "</table>\n",
       "</div>"
      ],
      "text/plain": [
       "                       Species       PC1 habitat\n",
       "0  Symsagittifera_roscoffensis -4.332599       A\n",
       "1      Aequipecten_opercularis -2.418778       A\n",
       "2            Mimachlamys_varia -2.773367       A\n",
       "3               Mytilus_edulis -2.602300       A\n",
       "4           Panopea_abbreviata -0.460463       A"
      ]
     },
     "metadata": {},
     "output_type": "display_data"
    }
   ],
   "source": [
    "df= pd.read_csv('../data/new_habitat.csv')\n",
    "display(df.head())\n",
    "\n",
    "aquatic = df[df['habitat'] == \"A\"]['PC1']\n",
    "terrestrial = df[df['habitat'] == \"T\"]['PC1']"
   ]
  },
  {
   "cell_type": "markdown",
   "id": "a0b5e747",
   "metadata": {},
   "source": [
    "Hypothesis\n",
    "- H0: No significant effect of the habitat\n",
    "- H1: There is a significant effect of the habitat"
   ]
  },
  {
   "cell_type": "code",
   "execution_count": 72,
   "id": "ff663e9a",
   "metadata": {},
   "outputs": [
    {
     "name": "stdout",
     "output_type": "stream",
     "text": [
      "Shapiro-Wilk test: Statistic=0.9579976327808482, p-value=2.628020458087804e-17\n"
     ]
    }
   ],
   "source": [
    "# Test for normality\n",
    "stat, p = stats.shapiro(df['PC1'])  \n",
    "print(f\"Shapiro-Wilk test: Statistic={stat}, p-value={p}\")"
   ]
  },
  {
   "cell_type": "markdown",
   "id": "7c8f72ea",
   "metadata": {},
   "source": [
    "p-value = 2.63e-17 < 0.05 -> the data does not follow a normal distribution\n",
    "\n",
    "We still do the t-test"
   ]
  },
  {
   "cell_type": "code",
   "execution_count": 73,
   "id": "20dcb97b",
   "metadata": {},
   "outputs": [
    {
     "data": {
      "application/vnd.plotly.v1+json": {
       "config": {
        "plotlyServerURL": "https://plot.ly"
       },
       "data": [
        {
         "alignmentgroup": "True",
         "hovertemplate": "habitat=%{x}<br>PC1=%{y}<extra></extra>",
         "legendgroup": "A",
         "marker": {
          "color": "rgb(102,194,165)"
         },
         "name": "A",
         "notched": false,
         "offsetgroup": "A",
         "orientation": "v",
         "showlegend": true,
         "type": "box",
         "x": [
          "A",
          "A",
          "A",
          "A",
          "A",
          "A",
          "A",
          "A",
          "A",
          "A",
          "A",
          "A",
          "A",
          "A",
          "A",
          "A",
          "A",
          "A",
          "A",
          "A",
          "A",
          "A",
          "A",
          "A",
          "A",
          "A",
          "A",
          "A",
          "A",
          "A",
          "A",
          "A",
          "A",
          "A",
          "A",
          "A",
          "A",
          "A",
          "A",
          "A",
          "A",
          "A",
          "A",
          "A",
          "A",
          "A",
          "A",
          "A",
          "A",
          "A",
          "A",
          "A",
          "A",
          "A",
          "A",
          "A",
          "A",
          "A",
          "A",
          "A",
          "A",
          "A",
          "A",
          "A",
          "A",
          "A",
          "A",
          "A",
          "A",
          "A",
          "A",
          "A",
          "A",
          "A",
          "A",
          "A",
          "A",
          "A",
          "A",
          "A",
          "A",
          "A",
          "A",
          "A",
          "A",
          "A",
          "A",
          "A",
          "A",
          "A",
          "A",
          "A",
          "A",
          "A",
          "A",
          "A",
          "A",
          "A",
          "A",
          "A",
          "A",
          "A",
          "A",
          "A",
          "A",
          "A",
          "A",
          "A",
          "A",
          "A",
          "A",
          "A",
          "A",
          "A",
          "A",
          "A",
          "A",
          "A",
          "A",
          "A",
          "A",
          "A",
          "A",
          "A",
          "A",
          "A",
          "A",
          "A",
          "A",
          "A",
          "A",
          "A",
          "A",
          "A",
          "A",
          "A",
          "A",
          "A",
          "A",
          "A",
          "A",
          "A",
          "A",
          "A",
          "A",
          "A",
          "A",
          "A",
          "A",
          "A",
          "A",
          "A",
          "A",
          "A",
          "A",
          "A",
          "A",
          "A",
          "A",
          "A",
          "A",
          "A",
          "A",
          "A",
          "A",
          "A",
          "A",
          "A",
          "A",
          "A",
          "A",
          "A",
          "A",
          "A",
          "A",
          "A",
          "A",
          "A",
          "A",
          "A",
          "A",
          "A",
          "A",
          "A",
          "A",
          "A",
          "A",
          "A",
          "A",
          "A",
          "A",
          "A",
          "A",
          "A",
          "A",
          "A",
          "A",
          "A",
          "A",
          "A",
          "A",
          "A",
          "A",
          "A",
          "A",
          "A",
          "A",
          "A",
          "A",
          "A",
          "A",
          "A",
          "A",
          "A",
          "A",
          "A",
          "A",
          "A",
          "A",
          "A",
          "A",
          "A",
          "A",
          "A",
          "A",
          "A",
          "A",
          "A",
          "A",
          "A",
          "A",
          "A",
          "A",
          "A",
          "A",
          "A",
          "A",
          "A",
          "A",
          "A",
          "A",
          "A",
          "A",
          "A",
          "A",
          "A",
          "A",
          "A",
          "A",
          "A",
          "A",
          "A",
          "A",
          "A",
          "A",
          "A",
          "A",
          "A",
          "A",
          "A",
          "A",
          "A",
          "A",
          "A",
          "A",
          "A",
          "A",
          "A",
          "A",
          "A",
          "A",
          "A",
          "A",
          "A",
          "A",
          "A",
          "A",
          "A",
          "A",
          "A",
          "A",
          "A",
          "A",
          "A",
          "A",
          "A",
          "A",
          "A",
          "A",
          "A",
          "A",
          "A",
          "A",
          "A",
          "A",
          "A",
          "A",
          "A",
          "A",
          "A",
          "A",
          "A",
          "A",
          "A",
          "A",
          "A",
          "A",
          "A",
          "A",
          "A",
          "A",
          "A",
          "A",
          "A",
          "A",
          "A",
          "A",
          "A",
          "A",
          "A",
          "A",
          "A",
          "A",
          "A",
          "A",
          "A",
          "A",
          "A",
          "A",
          "A",
          "A",
          "A",
          "A",
          "A",
          "A",
          "A",
          "A",
          "A",
          "A",
          "A",
          "A",
          "A",
          "A",
          "A",
          "A",
          "A",
          "A",
          "A",
          "A",
          "A",
          "A",
          "A",
          "A",
          "A",
          "A",
          "A",
          "A",
          "A",
          "A",
          "A",
          "A",
          "A",
          "A",
          "A",
          "A",
          "A",
          "A",
          "A",
          "A",
          "A",
          "A",
          "A",
          "A",
          "A",
          "A",
          "A",
          "A",
          "A",
          "A",
          "A",
          "A",
          "A",
          "A",
          "A",
          "A",
          "A",
          "A",
          "A",
          "A",
          "A",
          "A",
          "A",
          "A",
          "A",
          "A",
          "A",
          "A",
          "A",
          "A",
          "A",
          "A",
          "A",
          "A",
          "A",
          "A",
          "A",
          "A",
          "A",
          "A",
          "A",
          "A",
          "A",
          "A",
          "A",
          "A",
          "A",
          "A",
          "A",
          "A",
          "A",
          "A",
          "A",
          "A",
          "A",
          "A",
          "A",
          "A",
          "A",
          "A",
          "A",
          "A",
          "A",
          "A",
          "A",
          "A",
          "A",
          "A",
          "A",
          "A",
          "A",
          "A",
          "A",
          "A",
          "A",
          "A",
          "A",
          "A",
          "A",
          "A",
          "A",
          "A",
          "A",
          "A",
          "A",
          "A",
          "A",
          "A",
          "A",
          "A",
          "A",
          "A",
          "A",
          "A",
          "A",
          "A",
          "A",
          "A",
          "A",
          "A",
          "A",
          "A",
          "A",
          "A",
          "A",
          "A",
          "A",
          "A",
          "A",
          "A",
          "A",
          "A",
          "A",
          "A",
          "A",
          "A",
          "A",
          "A",
          "A",
          "A",
          "A",
          "A",
          "A",
          "A",
          "A",
          "A",
          "A",
          "A",
          "A",
          "A",
          "A",
          "A",
          "A",
          "A",
          "A",
          "A",
          "A",
          "A",
          "A",
          "A",
          "A",
          "A",
          "A",
          "A",
          "A",
          "A",
          "A",
          "A",
          "A",
          "A",
          "A",
          "A",
          "A",
          "A",
          "A",
          "A",
          "A",
          "A",
          "A",
          "A",
          "A",
          "A",
          "A",
          "A",
          "A",
          "A",
          "A",
          "A",
          "A",
          "A",
          "A",
          "A",
          "A",
          "A",
          "A",
          "A",
          "A",
          "A",
          "A",
          "A",
          "A",
          "A",
          "A",
          "A",
          "A",
          "A",
          "A",
          "A",
          "A",
          "A",
          "A",
          "A",
          "A",
          "A",
          "A",
          "A",
          "A",
          "A",
          "A",
          "A",
          "A",
          "A",
          "A",
          "A",
          "A",
          "A",
          "A",
          "A",
          "A",
          "A",
          "A",
          "A",
          "A",
          "A",
          "A",
          "A",
          "A",
          "A",
          "A",
          "A",
          "A",
          "A",
          "A",
          "A",
          "A",
          "A",
          "A",
          "A",
          "A",
          "A",
          "A",
          "A",
          "A",
          "A",
          "A",
          "A",
          "A",
          "A",
          "A",
          "A",
          "A",
          "A",
          "A",
          "A",
          "A",
          "A",
          "A",
          "A",
          "A",
          "A",
          "A",
          "A",
          "A",
          "A",
          "A",
          "A",
          "A",
          "A",
          "A",
          "A",
          "A",
          "A",
          "A",
          "A",
          "A",
          "A",
          "A",
          "A",
          "A",
          "A",
          "A",
          "A",
          "A",
          "A",
          "A",
          "A",
          "A",
          "A",
          "A",
          "A",
          "A",
          "A",
          "A",
          "A",
          "A",
          "A",
          "A",
          "A",
          "A",
          "A",
          "A",
          "A",
          "A",
          "A",
          "A",
          "A",
          "A",
          "A",
          "A",
          "A",
          "A",
          "A",
          "A",
          "A",
          "A",
          "A",
          "A",
          "A",
          "A",
          "A",
          "A",
          "A",
          "A",
          "A",
          "A",
          "A",
          "A",
          "A",
          "A",
          "A",
          "A",
          "A",
          "A",
          "A",
          "A",
          "A",
          "A",
          "A",
          "A",
          "A",
          "A",
          "A",
          "A",
          "A",
          "A",
          "A",
          "A",
          "A",
          "A",
          "A",
          "A",
          "A",
          "A",
          "A",
          "A",
          "A",
          "A",
          "A",
          "A",
          "A",
          "A",
          "A",
          "A",
          "A",
          "A",
          "A",
          "A",
          "A",
          "A",
          "A",
          "A",
          "A",
          "A",
          "A",
          "A",
          "A",
          "A",
          "A",
          "A",
          "A",
          "A",
          "A",
          "A",
          "A",
          "A",
          "A",
          "A",
          "A",
          "A",
          "A",
          "A",
          "A",
          "A",
          "A",
          "A",
          "A",
          "A",
          "A",
          "A",
          "A",
          "A",
          "A",
          "A",
          "A",
          "A",
          "A",
          "A",
          "A",
          "A",
          "A",
          "A",
          "A",
          "A",
          "A",
          "A",
          "A",
          "A",
          "A",
          "A",
          "A",
          "A",
          "A",
          "A",
          "A",
          "A",
          "A",
          "A",
          "A",
          "A",
          "A",
          "A",
          "A",
          "A",
          "A",
          "A",
          "A",
          "A",
          "A",
          "A",
          "A",
          "A",
          "A",
          "A",
          "A",
          "A",
          "A",
          "A",
          "A",
          "A",
          "A",
          "A",
          "A",
          "A",
          "A",
          "A",
          "A",
          "A",
          "A",
          "A",
          "A",
          "A",
          "A",
          "A",
          "A",
          "A",
          "A",
          "A",
          "A",
          "A",
          "A",
          "A",
          "A",
          "A",
          "A",
          "A",
          "A",
          "A",
          "A",
          "A",
          "A",
          "A",
          "A",
          "A",
          "A",
          "A",
          "A",
          "A",
          "A",
          "A",
          "A",
          "A",
          "A",
          "A",
          "A",
          "A",
          "A",
          "A",
          "A",
          "A",
          "A",
          "A",
          "A",
          "A",
          "A",
          "A",
          "A",
          "A",
          "A",
          "A",
          "A",
          "A",
          "A",
          "A",
          "A"
         ],
         "x0": " ",
         "xaxis": "x",
         "y": {
          "bdata": "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",
          "dtype": "f8"
         },
         "y0": " ",
         "yaxis": "y"
        },
        {
         "alignmentgroup": "True",
         "hovertemplate": "habitat=%{x}<br>PC1=%{y}<extra></extra>",
         "legendgroup": "T",
         "marker": {
          "color": "rgb(252,141,98)"
         },
         "name": "T",
         "notched": false,
         "offsetgroup": "T",
         "orientation": "v",
         "showlegend": true,
         "type": "box",
         "x": [
          "T",
          "T",
          "T",
          "T",
          "T",
          "T",
          "T",
          "T",
          "T",
          "T",
          "T",
          "T",
          "T",
          "T",
          "T",
          "T",
          "T",
          "T",
          "T",
          "T",
          "T",
          "T",
          "T",
          "T",
          "T",
          "T",
          "T",
          "T",
          "T",
          "T",
          "T",
          "T",
          "T",
          "T",
          "T",
          "T",
          "T",
          "T",
          "T",
          "T",
          "T",
          "T",
          "T",
          "T",
          "T",
          "T",
          "T",
          "T",
          "T",
          "T",
          "T",
          "T",
          "T",
          "T",
          "T",
          "T",
          "T",
          "T",
          "T",
          "T",
          "T",
          "T",
          "T",
          "T",
          "T",
          "T",
          "T",
          "T",
          "T",
          "T",
          "T",
          "T",
          "T",
          "T",
          "T",
          "T",
          "T",
          "T",
          "T",
          "T",
          "T",
          "T",
          "T",
          "T",
          "T",
          "T",
          "T",
          "T",
          "T",
          "T",
          "T",
          "T",
          "T",
          "T",
          "T",
          "T",
          "T",
          "T",
          "T",
          "T",
          "T",
          "T",
          "T",
          "T",
          "T",
          "T",
          "T",
          "T",
          "T",
          "T",
          "T",
          "T",
          "T",
          "T",
          "T",
          "T",
          "T",
          "T",
          "T",
          "T",
          "T",
          "T",
          "T",
          "T",
          "T",
          "T",
          "T",
          "T",
          "T",
          "T",
          "T",
          "T",
          "T",
          "T",
          "T",
          "T",
          "T",
          "T",
          "T",
          "T",
          "T",
          "T",
          "T",
          "T",
          "T",
          "T",
          "T",
          "T",
          "T",
          "T",
          "T",
          "T",
          "T",
          "T",
          "T",
          "T",
          "T",
          "T",
          "T",
          "T",
          "T",
          "T",
          "T",
          "T",
          "T",
          "T",
          "T",
          "T",
          "T",
          "T",
          "T",
          "T",
          "T",
          "T",
          "T",
          "T",
          "T",
          "T",
          "T",
          "T",
          "T",
          "T",
          "T",
          "T",
          "T",
          "T",
          "T",
          "T",
          "T",
          "T",
          "T",
          "T",
          "T",
          "T",
          "T",
          "T",
          "T",
          "T",
          "T",
          "T",
          "T",
          "T",
          "T",
          "T",
          "T",
          "T",
          "T",
          "T",
          "T",
          "T",
          "T",
          "T",
          "T",
          "T",
          "T",
          "T",
          "T",
          "T"
         ],
         "x0": " ",
         "xaxis": "x",
         "y": {
          "bdata": "UOyosd8MtL+B+H2cBobyv0yX4qFS8fK/4O1dBpnB2r8lp6756iXpvyOTt56pNe+/DyTxkYLeFcAzSA+LmF8UwIaQi99p6BrAYOu4RlPrGMBRV4GTqEEWwNXS4OhvPAjAJ4mnDlJN47835l+mpbrXP94gfPicurQ/KNBSPk475b/NjbH0WdSlv9vqL+l0L+S/Z4ueLvaN2j8gpQMqTVnkP69YSQd7B+s/4kRZUm866z/tE5t5AdDov89zv+FJCMy/QXM25OG93L9LPmV3gbDFv04562J7bb8/tsOjI/9nyr+JUXQcLEysv0s4HXnMbK0/KY6bvbDzzr9w2hMXBwDYvzatavRsDcg/KzeDk1I3zj92OwIStNDmP4rwboJ7KOG/7YDMZSy76r9bJNPku17tP1iMNG9Ih+g/3RfgdXjoz79Dci5mCH/Qv1MSyHVVF/g/F7vOyfgK3b+QLJ3f+7fwv/5iONY2Wem/6JrdVo0wz79lJWLxUmnhvwdh7Lo7k9u/eaV6FHWo3b9kI5fPAwS6vzW1aHEoheO/3xv325Vdez87hT276VXivwlmnwLLgOi/8BJHROnD57/Q2drsyzrjv8/39dHMouG/NDB79izV7r/nj3110c7fv6225M1w8uK/l9ZvXnZN67/yxO7mw3PRP0etY8tk/fS/AyAcaWAg37+1PxcXA7fkv8SFhi4sl+K/14lNKIO13L+uC8sLKQ3yvyKds7UMi9+/QbDXNywQ878pu5ZTTYz0vykOgtbedfG/xhjDe/QK8L9FzGmLhifWP4yBQry9Svu/hGAwuQ8z87+3Ue06N9vqv6QNFZXEJ/G/ACf2yLRe379RYlARleDnv5g+qP2N6Oe/LFg4MtwA1r9bvx9LlcLqv9tF75NZfuC/OaYoImAu3L/6JvpN7HHdv/7uzGrGVdm/whpnWHPt4r9D1mIfmCbwvwo9YaCsFvC/e+MuJPNz57+CO1+4YXXFv2drWqYTAeK/cq/a1+VK2r8N+qjruUHhvxvdVeC4xNW/uUTCzChQ8L/wiHrerqnhv/N0KXtZHdS/5A8Bzy5u478/CkMSDTbxv5mql8YJh7w/bz4eKNyF9b9O4eScxJTyP27qGn2+V/Y/Yb/VQCSls7/avM7UReTKP/QWka+Xkso/t69T5LBk0D9IOilb2uTBP3zdBBVdL9I/nsmmAx9hAUBNQxBHzP7JP7xL2Nzbo+o/c3yee8SKAUDsqadKw2v1P+HdG5GCauS/OLYbobWnpb/5rOzZCqj/P8h8bZu70P8/Vo9NSI0AvL8YWbnVqljoP7P80MyNRARAsEBNML9tq7+XsAoOla/xP2jhgU60QqI/rIpB9AdE3T/lzZMjsgLuPzhcSg8Tn/A/8KH3efU08D8AHslVAa24P+QL7h4QAbs/gA+/wvgR1T8YfG1PiFOBv4ltnykiJeU/5zMhVN9NuT9Iv7nXw07Sv6spTOOy9QZArxCL4bf7DkAkHSByuFoDQAfyZCoq7N4/OXP4Vk955T8lurOAQkTivz7a8EMO4/U/k8FrOad02b/yfOpdlfHNv4AoPwdNSey/FbTvu37J2r92ZaCK0Jrbv12T2AU1jOw/NVjEJPpk+j99fBw+wojtP4TRZ8vaRfE/6xKGhCcP2T+PUaWn4cPgPx2Xo1O8CdA/mHYloZOAxz8PGitF4CUQQDd6aLVudwxAxF4ErAmjDkCXpYq01xAKQJG3drAmlwhApiWjQuMEEEAA+cohqJ0NQDTHypCSAAtABV4BeOJ6AkBqatfe+EYKQOXPE0fnpQVADpRV3OwCCEDPYUYG3YYDQIJQdhAbqwFA1Sx212Iu+j91iBv91Bz7P/3evlkOgANAkbNjFfoDBUDVUsSRU2gGQOUVJ3jh2gJANZ7l25LP/T+8JYT1VAkGQHcterAr4QdAwJ8ToWpWDEB7YU6o1wQRQJ9c+DmhTRNAPBKpCPInBUBVPwGR+1cAQBtWZETF4Q9AST6DW11IAkBgw8iNwRoQQI1BS/WBp/s/PHqCGpm0CEDzjcR/LtMJQOjIoXGOHA1A30+z39i/AEBLK3NBt8X8P/Cv6dTN2vI/2fb0e0F+/D9bAxHHkcT+P/ZWlMUfYO0/OwHG0iAzB0DDocGkd30CQDYCExnrZwFAyjdcJgSC8j+M9xfkiFDvPyK4sTCD2sW/cNY31JvrA0BlS9ghYNv7P4+6LYfmjgFAjiLS8Yt22T/Huj+iBDv6PzEQMNFfcvo/HXxcJpDgCUBjeK1XLg3wP/fD8/QwFQBAe04ImDeSBUABkhW1K7ToPwr5AindO+w/EmWRSAHG1z8XA+pR0YUBQA==",
          "dtype": "f8"
         },
         "y0": " ",
         "yaxis": "y"
        },
        {
         "alignmentgroup": "True",
         "hovertemplate": "habitat=%{x}<br>PC1=%{y}<extra></extra>",
         "legendgroup": "S",
         "marker": {
          "color": "rgb(231,138,195)"
         },
         "name": "S",
         "notched": false,
         "offsetgroup": "S",
         "orientation": "v",
         "showlegend": true,
         "type": "box",
         "x": [
          "S"
         ],
         "x0": " ",
         "xaxis": "x",
         "y": {
          "bdata": "zSrU8c8OB0A=",
          "dtype": "f8"
         },
         "y0": " ",
         "yaxis": "y"
        }
       ],
       "layout": {
        "boxmode": "overlay",
        "height": 600,
        "legend": {
         "title": {
          "text": "habitat"
         },
         "tracegroupgap": 0
        },
        "margin": {
         "t": 60
        },
        "template": {
         "data": {
          "bar": [
           {
            "error_x": {
             "color": "#2a3f5f"
            },
            "error_y": {
             "color": "#2a3f5f"
            },
            "marker": {
             "line": {
              "color": "#E5ECF6",
              "width": 0.5
             },
             "pattern": {
              "fillmode": "overlay",
              "size": 10,
              "solidity": 0.2
             }
            },
            "type": "bar"
           }
          ],
          "barpolar": [
           {
            "marker": {
             "line": {
              "color": "#E5ECF6",
              "width": 0.5
             },
             "pattern": {
              "fillmode": "overlay",
              "size": 10,
              "solidity": 0.2
             }
            },
            "type": "barpolar"
           }
          ],
          "carpet": [
           {
            "aaxis": {
             "endlinecolor": "#2a3f5f",
             "gridcolor": "white",
             "linecolor": "white",
             "minorgridcolor": "white",
             "startlinecolor": "#2a3f5f"
            },
            "baxis": {
             "endlinecolor": "#2a3f5f",
             "gridcolor": "white",
             "linecolor": "white",
             "minorgridcolor": "white",
             "startlinecolor": "#2a3f5f"
            },
            "type": "carpet"
           }
          ],
          "choropleth": [
           {
            "colorbar": {
             "outlinewidth": 0,
             "ticks": ""
            },
            "type": "choropleth"
           }
          ],
          "contour": [
           {
            "colorbar": {
             "outlinewidth": 0,
             "ticks": ""
            },
            "colorscale": [
             [
              0,
              "#0d0887"
             ],
             [
              0.1111111111111111,
              "#46039f"
             ],
             [
              0.2222222222222222,
              "#7201a8"
             ],
             [
              0.3333333333333333,
              "#9c179e"
             ],
             [
              0.4444444444444444,
              "#bd3786"
             ],
             [
              0.5555555555555556,
              "#d8576b"
             ],
             [
              0.6666666666666666,
              "#ed7953"
             ],
             [
              0.7777777777777778,
              "#fb9f3a"
             ],
             [
              0.8888888888888888,
              "#fdca26"
             ],
             [
              1,
              "#f0f921"
             ]
            ],
            "type": "contour"
           }
          ],
          "contourcarpet": [
           {
            "colorbar": {
             "outlinewidth": 0,
             "ticks": ""
            },
            "type": "contourcarpet"
           }
          ],
          "heatmap": [
           {
            "colorbar": {
             "outlinewidth": 0,
             "ticks": ""
            },
            "colorscale": [
             [
              0,
              "#0d0887"
             ],
             [
              0.1111111111111111,
              "#46039f"
             ],
             [
              0.2222222222222222,
              "#7201a8"
             ],
             [
              0.3333333333333333,
              "#9c179e"
             ],
             [
              0.4444444444444444,
              "#bd3786"
             ],
             [
              0.5555555555555556,
              "#d8576b"
             ],
             [
              0.6666666666666666,
              "#ed7953"
             ],
             [
              0.7777777777777778,
              "#fb9f3a"
             ],
             [
              0.8888888888888888,
              "#fdca26"
             ],
             [
              1,
              "#f0f921"
             ]
            ],
            "type": "heatmap"
           }
          ],
          "histogram": [
           {
            "marker": {
             "pattern": {
              "fillmode": "overlay",
              "size": 10,
              "solidity": 0.2
             }
            },
            "type": "histogram"
           }
          ],
          "histogram2d": [
           {
            "colorbar": {
             "outlinewidth": 0,
             "ticks": ""
            },
            "colorscale": [
             [
              0,
              "#0d0887"
             ],
             [
              0.1111111111111111,
              "#46039f"
             ],
             [
              0.2222222222222222,
              "#7201a8"
             ],
             [
              0.3333333333333333,
              "#9c179e"
             ],
             [
              0.4444444444444444,
              "#bd3786"
             ],
             [
              0.5555555555555556,
              "#d8576b"
             ],
             [
              0.6666666666666666,
              "#ed7953"
             ],
             [
              0.7777777777777778,
              "#fb9f3a"
             ],
             [
              0.8888888888888888,
              "#fdca26"
             ],
             [
              1,
              "#f0f921"
             ]
            ],
            "type": "histogram2d"
           }
          ],
          "histogram2dcontour": [
           {
            "colorbar": {
             "outlinewidth": 0,
             "ticks": ""
            },
            "colorscale": [
             [
              0,
              "#0d0887"
             ],
             [
              0.1111111111111111,
              "#46039f"
             ],
             [
              0.2222222222222222,
              "#7201a8"
             ],
             [
              0.3333333333333333,
              "#9c179e"
             ],
             [
              0.4444444444444444,
              "#bd3786"
             ],
             [
              0.5555555555555556,
              "#d8576b"
             ],
             [
              0.6666666666666666,
              "#ed7953"
             ],
             [
              0.7777777777777778,
              "#fb9f3a"
             ],
             [
              0.8888888888888888,
              "#fdca26"
             ],
             [
              1,
              "#f0f921"
             ]
            ],
            "type": "histogram2dcontour"
           }
          ],
          "mesh3d": [
           {
            "colorbar": {
             "outlinewidth": 0,
             "ticks": ""
            },
            "type": "mesh3d"
           }
          ],
          "parcoords": [
           {
            "line": {
             "colorbar": {
              "outlinewidth": 0,
              "ticks": ""
             }
            },
            "type": "parcoords"
           }
          ],
          "pie": [
           {
            "automargin": true,
            "type": "pie"
           }
          ],
          "scatter": [
           {
            "fillpattern": {
             "fillmode": "overlay",
             "size": 10,
             "solidity": 0.2
            },
            "type": "scatter"
           }
          ],
          "scatter3d": [
           {
            "line": {
             "colorbar": {
              "outlinewidth": 0,
              "ticks": ""
             }
            },
            "marker": {
             "colorbar": {
              "outlinewidth": 0,
              "ticks": ""
             }
            },
            "type": "scatter3d"
           }
          ],
          "scattercarpet": [
           {
            "marker": {
             "colorbar": {
              "outlinewidth": 0,
              "ticks": ""
             }
            },
            "type": "scattercarpet"
           }
          ],
          "scattergeo": [
           {
            "marker": {
             "colorbar": {
              "outlinewidth": 0,
              "ticks": ""
             }
            },
            "type": "scattergeo"
           }
          ],
          "scattergl": [
           {
            "marker": {
             "colorbar": {
              "outlinewidth": 0,
              "ticks": ""
             }
            },
            "type": "scattergl"
           }
          ],
          "scattermap": [
           {
            "marker": {
             "colorbar": {
              "outlinewidth": 0,
              "ticks": ""
             }
            },
            "type": "scattermap"
           }
          ],
          "scattermapbox": [
           {
            "marker": {
             "colorbar": {
              "outlinewidth": 0,
              "ticks": ""
             }
            },
            "type": "scattermapbox"
           }
          ],
          "scatterpolar": [
           {
            "marker": {
             "colorbar": {
              "outlinewidth": 0,
              "ticks": ""
             }
            },
            "type": "scatterpolar"
           }
          ],
          "scatterpolargl": [
           {
            "marker": {
             "colorbar": {
              "outlinewidth": 0,
              "ticks": ""
             }
            },
            "type": "scatterpolargl"
           }
          ],
          "scatterternary": [
           {
            "marker": {
             "colorbar": {
              "outlinewidth": 0,
              "ticks": ""
             }
            },
            "type": "scatterternary"
           }
          ],
          "surface": [
           {
            "colorbar": {
             "outlinewidth": 0,
             "ticks": ""
            },
            "colorscale": [
             [
              0,
              "#0d0887"
             ],
             [
              0.1111111111111111,
              "#46039f"
             ],
             [
              0.2222222222222222,
              "#7201a8"
             ],
             [
              0.3333333333333333,
              "#9c179e"
             ],
             [
              0.4444444444444444,
              "#bd3786"
             ],
             [
              0.5555555555555556,
              "#d8576b"
             ],
             [
              0.6666666666666666,
              "#ed7953"
             ],
             [
              0.7777777777777778,
              "#fb9f3a"
             ],
             [
              0.8888888888888888,
              "#fdca26"
             ],
             [
              1,
              "#f0f921"
             ]
            ],
            "type": "surface"
           }
          ],
          "table": [
           {
            "cells": {
             "fill": {
              "color": "#EBF0F8"
             },
             "line": {
              "color": "white"
             }
            },
            "header": {
             "fill": {
              "color": "#C8D4E3"
             },
             "line": {
              "color": "white"
             }
            },
            "type": "table"
           }
          ]
         },
         "layout": {
          "annotationdefaults": {
           "arrowcolor": "#2a3f5f",
           "arrowhead": 0,
           "arrowwidth": 1
          },
          "autotypenumbers": "strict",
          "coloraxis": {
           "colorbar": {
            "outlinewidth": 0,
            "ticks": ""
           }
          },
          "colorscale": {
           "diverging": [
            [
             0,
             "#8e0152"
            ],
            [
             0.1,
             "#c51b7d"
            ],
            [
             0.2,
             "#de77ae"
            ],
            [
             0.3,
             "#f1b6da"
            ],
            [
             0.4,
             "#fde0ef"
            ],
            [
             0.5,
             "#f7f7f7"
            ],
            [
             0.6,
             "#e6f5d0"
            ],
            [
             0.7,
             "#b8e186"
            ],
            [
             0.8,
             "#7fbc41"
            ],
            [
             0.9,
             "#4d9221"
            ],
            [
             1,
             "#276419"
            ]
           ],
           "sequential": [
            [
             0,
             "#0d0887"
            ],
            [
             0.1111111111111111,
             "#46039f"
            ],
            [
             0.2222222222222222,
             "#7201a8"
            ],
            [
             0.3333333333333333,
             "#9c179e"
            ],
            [
             0.4444444444444444,
             "#bd3786"
            ],
            [
             0.5555555555555556,
             "#d8576b"
            ],
            [
             0.6666666666666666,
             "#ed7953"
            ],
            [
             0.7777777777777778,
             "#fb9f3a"
            ],
            [
             0.8888888888888888,
             "#fdca26"
            ],
            [
             1,
             "#f0f921"
            ]
           ],
           "sequentialminus": [
            [
             0,
             "#0d0887"
            ],
            [
             0.1111111111111111,
             "#46039f"
            ],
            [
             0.2222222222222222,
             "#7201a8"
            ],
            [
             0.3333333333333333,
             "#9c179e"
            ],
            [
             0.4444444444444444,
             "#bd3786"
            ],
            [
             0.5555555555555556,
             "#d8576b"
            ],
            [
             0.6666666666666666,
             "#ed7953"
            ],
            [
             0.7777777777777778,
             "#fb9f3a"
            ],
            [
             0.8888888888888888,
             "#fdca26"
            ],
            [
             1,
             "#f0f921"
            ]
           ]
          },
          "colorway": [
           "#636efa",
           "#EF553B",
           "#00cc96",
           "#ab63fa",
           "#FFA15A",
           "#19d3f3",
           "#FF6692",
           "#B6E880",
           "#FF97FF",
           "#FECB52"
          ],
          "font": {
           "color": "#2a3f5f"
          },
          "geo": {
           "bgcolor": "white",
           "lakecolor": "white",
           "landcolor": "#E5ECF6",
           "showlakes": true,
           "showland": true,
           "subunitcolor": "white"
          },
          "hoverlabel": {
           "align": "left"
          },
          "hovermode": "closest",
          "mapbox": {
           "style": "light"
          },
          "paper_bgcolor": "white",
          "plot_bgcolor": "#E5ECF6",
          "polar": {
           "angularaxis": {
            "gridcolor": "white",
            "linecolor": "white",
            "ticks": ""
           },
           "bgcolor": "#E5ECF6",
           "radialaxis": {
            "gridcolor": "white",
            "linecolor": "white",
            "ticks": ""
           }
          },
          "scene": {
           "xaxis": {
            "backgroundcolor": "#E5ECF6",
            "gridcolor": "white",
            "gridwidth": 2,
            "linecolor": "white",
            "showbackground": true,
            "ticks": "",
            "zerolinecolor": "white"
           },
           "yaxis": {
            "backgroundcolor": "#E5ECF6",
            "gridcolor": "white",
            "gridwidth": 2,
            "linecolor": "white",
            "showbackground": true,
            "ticks": "",
            "zerolinecolor": "white"
           },
           "zaxis": {
            "backgroundcolor": "#E5ECF6",
            "gridcolor": "white",
            "gridwidth": 2,
            "linecolor": "white",
            "showbackground": true,
            "ticks": "",
            "zerolinecolor": "white"
           }
          },
          "shapedefaults": {
           "line": {
            "color": "#2a3f5f"
           }
          },
          "ternary": {
           "aaxis": {
            "gridcolor": "white",
            "linecolor": "white",
            "ticks": ""
           },
           "baxis": {
            "gridcolor": "white",
            "linecolor": "white",
            "ticks": ""
           },
           "bgcolor": "#E5ECF6",
           "caxis": {
            "gridcolor": "white",
            "linecolor": "white",
            "ticks": ""
           }
          },
          "title": {
           "x": 0.05
          },
          "xaxis": {
           "automargin": true,
           "gridcolor": "white",
           "linecolor": "white",
           "ticks": "",
           "title": {
            "standoff": 15
           },
           "zerolinecolor": "white",
           "zerolinewidth": 2
          },
          "yaxis": {
           "automargin": true,
           "gridcolor": "white",
           "linecolor": "white",
           "ticks": "",
           "title": {
            "standoff": 15
           },
           "zerolinecolor": "white",
           "zerolinewidth": 2
          }
         }
        },
        "title": {
         "text": "Boxplot of PC1 by habitat"
        },
        "xaxis": {
         "anchor": "y",
         "categoryarray": [
          "A",
          "T",
          null,
          "S"
         ],
         "categoryorder": "array",
         "domain": [
          0,
          1
         ],
         "title": {
          "text": "Habitat"
         }
        },
        "yaxis": {
         "anchor": "x",
         "domain": [
          0,
          1
         ],
         "title": {
          "text": "PC1"
         }
        }
       }
      }
     },
     "metadata": {},
     "output_type": "display_data"
    }
   ],
   "source": [
    "fig = px.box(\n",
    "    df,\n",
    "    x=\"habitat\",         \n",
    "    y=\"PC1\",           \n",
    "    color=\"habitat\",\n",
    "    color_discrete_sequence=px.colors.qualitative.Set2,\n",
    "    # category_orders={\"Class\": ordered_classes},\n",
    ")\n",
    "\n",
    "fig.update_layout(\n",
    "    title=\"Boxplot of PC1 by habitat\",\n",
    "    xaxis_title=\"Habitat\",\n",
    "    yaxis_title=\"PC1\",\n",
    "    height=600\n",
    ")\n",
    "\n",
    "fig.show()"
   ]
  },
  {
   "cell_type": "code",
   "execution_count": 74,
   "id": "7a4b1698",
   "metadata": {},
   "outputs": [
    {
     "name": "stdout",
     "output_type": "stream",
     "text": [
      "Independent t-test: Statistic=-5.035889812391533, p-value=5.56338439116844e-07\n"
     ]
    }
   ],
   "source": [
    "# t-test\n",
    "stat, p = stats.ttest_ind(aquatic,\n",
    "                          terrestrial,\n",
    "                          equal_var=True)  \n",
    "print(f\"Independent t-test: Statistic={stat}, p-value={p}\")"
   ]
  },
  {
   "cell_type": "markdown",
   "id": "0f7d621a",
   "metadata": {},
   "source": [
    "p-value = 5.56e-07 < 0.05 -> There is a significant difference in PC1 between aquatic and terrestrial habitat\n",
    "\n",
    "The negative sign suggests PC1 is lower for aquatic habitats compared to terrestrial ones and that corresponds to the plot\n",
    "\n"
   ]
  },
  {
   "cell_type": "markdown",
   "id": "52cd0fc4",
   "metadata": {},
   "source": [
    "## ANOVA: Effect of class on PC1"
   ]
  },
  {
   "cell_type": "code",
   "execution_count": 75,
   "id": "451f785c",
   "metadata": {},
   "outputs": [
    {
     "data": {
      "text/html": [
       "<div>\n",
       "<style scoped>\n",
       "    .dataframe tbody tr th:only-of-type {\n",
       "        vertical-align: middle;\n",
       "    }\n",
       "\n",
       "    .dataframe tbody tr th {\n",
       "        vertical-align: top;\n",
       "    }\n",
       "\n",
       "    .dataframe thead th {\n",
       "        text-align: right;\n",
       "    }\n",
       "</style>\n",
       "<table border=\"1\" class=\"dataframe\">\n",
       "  <thead>\n",
       "    <tr style=\"text-align: right;\">\n",
       "      <th></th>\n",
       "      <th>Species</th>\n",
       "      <th>Phylum</th>\n",
       "      <th>Class</th>\n",
       "      <th>Order</th>\n",
       "      <th>Family</th>\n",
       "      <th>CommonName</th>\n",
       "      <th>PC1</th>\n",
       "    </tr>\n",
       "  </thead>\n",
       "  <tbody>\n",
       "    <tr>\n",
       "      <th>66</th>\n",
       "      <td>Branchiostoma_floridae</td>\n",
       "      <td>Chordata</td>\n",
       "      <td>Leptocardii</td>\n",
       "      <td>Amphioxiformes</td>\n",
       "      <td>Branchiostomidae</td>\n",
       "      <td>Florida lancelet</td>\n",
       "      <td>-2.659253</td>\n",
       "    </tr>\n",
       "    <tr>\n",
       "      <th>67</th>\n",
       "      <td>Ascidiella_aspersa</td>\n",
       "      <td>Chordata</td>\n",
       "      <td>Ascidiacea</td>\n",
       "      <td>Phlebobranchia</td>\n",
       "      <td>Ascidiidae</td>\n",
       "      <td>European sea squirt</td>\n",
       "      <td>-3.010048</td>\n",
       "    </tr>\n",
       "    <tr>\n",
       "      <th>68</th>\n",
       "      <td>Boltenia_echinata</td>\n",
       "      <td>Chordata</td>\n",
       "      <td>Ascidiacea</td>\n",
       "      <td>Stolidobranchia</td>\n",
       "      <td>Pyuridae</td>\n",
       "      <td>Cactus sea squirt</td>\n",
       "      <td>-1.231608</td>\n",
       "    </tr>\n",
       "    <tr>\n",
       "      <th>69</th>\n",
       "      <td>Styela_plicata</td>\n",
       "      <td>Chordata</td>\n",
       "      <td>Ascidiacea</td>\n",
       "      <td>Stolidobranchia</td>\n",
       "      <td>Styelidae</td>\n",
       "      <td>Pleated sea squirt</td>\n",
       "      <td>-3.595991</td>\n",
       "    </tr>\n",
       "    <tr>\n",
       "      <th>70</th>\n",
       "      <td>Hemiscyllium_ocellatum</td>\n",
       "      <td>Chordata</td>\n",
       "      <td>Chondrichthyes</td>\n",
       "      <td>Orectolobiformes</td>\n",
       "      <td>Hemiscylliidae</td>\n",
       "      <td>Epaulette shark</td>\n",
       "      <td>2.833690</td>\n",
       "    </tr>\n",
       "  </tbody>\n",
       "</table>\n",
       "</div>"
      ],
      "text/plain": [
       "                   Species    Phylum  ...           CommonName       PC1\n",
       "66  Branchiostoma_floridae  Chordata  ...     Florida lancelet -2.659253\n",
       "67      Ascidiella_aspersa  Chordata  ...  European sea squirt -3.010048\n",
       "68       Boltenia_echinata  Chordata  ...    Cactus sea squirt -1.231608\n",
       "69          Styela_plicata  Chordata  ...   Pleated sea squirt -3.595991\n",
       "70  Hemiscyllium_ocellatum  Chordata  ...      Epaulette shark  2.833690\n",
       "\n",
       "[5 rows x 7 columns]"
      ]
     },
     "execution_count": 75,
     "metadata": {},
     "output_type": "execute_result"
    }
   ],
   "source": [
    "df_species = pd.read_csv(\"../data/species.csv\")\n",
    "df_pca = pd.read_csv(\"../data/pca.csv\")\n",
    "\n",
    "df = pd.merge(df_species, df_pca, on='Species')\n",
    "df = df.drop(columns=[\"ScientificName\", \"Mod\", \"MRE\", \"SMSE\", \"COM\", \"rest\", \"PC2\"])\n",
    "chordata_data = df[df['Phylum'] == 'Chordata']\n",
    "\n",
    "chordata_data.head()"
   ]
  },
  {
   "cell_type": "code",
   "execution_count": 76,
   "id": "1632e2c9",
   "metadata": {},
   "outputs": [
    {
     "data": {
      "application/vnd.plotly.v1+json": {
       "config": {
        "plotlyServerURL": "https://plot.ly"
       },
       "data": [
        {
         "alignmentgroup": "True",
         "hovertemplate": "Class=%{x}<br>PC1=%{y}<extra></extra>",
         "legendgroup": "Leptocardii",
         "marker": {
          "color": "rgb(102,194,165)"
         },
         "name": "Leptocardii",
         "notched": false,
         "offsetgroup": "Leptocardii",
         "orientation": "v",
         "showlegend": true,
         "type": "box",
         "x": [
          "Leptocardii"
         ],
         "x0": " ",
         "xaxis": "x",
         "y": {
          "bdata": "DO0dcyZGBcA=",
          "dtype": "f8"
         },
         "y0": " ",
         "yaxis": "y"
        },
        {
         "alignmentgroup": "True",
         "hovertemplate": "Class=%{x}<br>PC1=%{y}<extra></extra>",
         "legendgroup": "Ascidiacea",
         "marker": {
          "color": "rgb(252,141,98)"
         },
         "name": "Ascidiacea",
         "notched": false,
         "offsetgroup": "Ascidiacea",
         "orientation": "v",
         "showlegend": true,
         "type": "box",
         "x": [
          "Ascidiacea",
          "Ascidiacea",
          "Ascidiacea"
         ],
         "x0": " ",
         "xaxis": "x",
         "y": {
          "bdata": "+lBlJpQUCMC+oxv1qrTzv0hQ6iyXxAzA",
          "dtype": "f8"
         },
         "y0": " ",
         "yaxis": "y"
        },
        {
         "alignmentgroup": "True",
         "hovertemplate": "Class=%{x}<br>PC1=%{y}<extra></extra>",
         "legendgroup": "Chondrichthyes",
         "marker": {
          "color": "rgb(141,160,203)"
         },
         "name": "Chondrichthyes",
         "notched": false,
         "offsetgroup": "Chondrichthyes",
         "orientation": "v",
         "showlegend": true,
         "type": "box",
         "x": [
          "Chondrichthyes",
          "Chondrichthyes",
          "Chondrichthyes",
          "Chondrichthyes",
          "Chondrichthyes",
          "Chondrichthyes",
          "Chondrichthyes",
          "Chondrichthyes",
          "Chondrichthyes",
          "Chondrichthyes",
          "Chondrichthyes",
          "Chondrichthyes",
          "Chondrichthyes",
          "Chondrichthyes",
          "Chondrichthyes",
          "Chondrichthyes",
          "Chondrichthyes",
          "Chondrichthyes",
          "Chondrichthyes",
          "Chondrichthyes",
          "Chondrichthyes",
          "Chondrichthyes",
          "Chondrichthyes",
          "Chondrichthyes",
          "Chondrichthyes",
          "Chondrichthyes",
          "Chondrichthyes",
          "Chondrichthyes",
          "Chondrichthyes",
          "Chondrichthyes",
          "Chondrichthyes"
         ],
         "x0": " ",
         "xaxis": "x",
         "y": {
          "bdata": "2jTBhWWrBkBYQknTKHwQQCoewZRJJw1AvYS/3+rTDkDl1K1bqH0PQFr/yoCuugVA7JSI0xxuAkAzWlC3tiEMQNzIzR3CvQxAPbMmTe7iEEDyWYDYLrUIQOCbxeCTEhNAHm4IcS03FEBGg3g1mgsTQNY5vBXGLwpAQg9069jFAUDA3+LYqCIIQNGJQlDiXxJA5Dlmr8f3E0ANMPkGRuITQD9OJC9T9xdAmvT6K2vQGUCv8VNcC+YNQDMIp986DRJADTvPqGIkDUA/eyQkj+cCQOFpH2A6pAZAC2gNrA5nBECJbCQgzJkMQOcLTQm/KQdAxW3WijU0F0A=",
          "dtype": "f8"
         },
         "y0": " ",
         "yaxis": "y"
        },
        {
         "alignmentgroup": "True",
         "hovertemplate": "Class=%{x}<br>PC1=%{y}<extra></extra>",
         "legendgroup": "Actinopterygii",
         "marker": {
          "color": "rgb(231,138,195)"
         },
         "name": "Actinopterygii",
         "notched": false,
         "offsetgroup": "Actinopterygii",
         "orientation": "v",
         "showlegend": true,
         "type": "box",
         "x": [
          "Actinopterygii",
          "Actinopterygii",
          "Actinopterygii",
          "Actinopterygii",
          "Actinopterygii",
          "Actinopterygii",
          "Actinopterygii",
          "Actinopterygii",
          "Actinopterygii",
          "Actinopterygii",
          "Actinopterygii",
          "Actinopterygii",
          "Actinopterygii",
          "Actinopterygii",
          "Actinopterygii",
          "Actinopterygii",
          "Actinopterygii",
          "Actinopterygii",
          "Actinopterygii",
          "Actinopterygii",
          "Actinopterygii",
          "Actinopterygii",
          "Actinopterygii",
          "Actinopterygii",
          "Actinopterygii",
          "Actinopterygii",
          "Actinopterygii",
          "Actinopterygii",
          "Actinopterygii",
          "Actinopterygii",
          "Actinopterygii",
          "Actinopterygii",
          "Actinopterygii",
          "Actinopterygii",
          "Actinopterygii",
          "Actinopterygii",
          "Actinopterygii",
          "Actinopterygii",
          "Actinopterygii",
          "Actinopterygii",
          "Actinopterygii",
          "Actinopterygii",
          "Actinopterygii",
          "Actinopterygii",
          "Actinopterygii",
          "Actinopterygii",
          "Actinopterygii",
          "Actinopterygii",
          "Actinopterygii",
          "Actinopterygii",
          "Actinopterygii",
          "Actinopterygii",
          "Actinopterygii",
          "Actinopterygii",
          "Actinopterygii",
          "Actinopterygii",
          "Actinopterygii",
          "Actinopterygii",
          "Actinopterygii",
          "Actinopterygii",
          "Actinopterygii",
          "Actinopterygii",
          "Actinopterygii",
          "Actinopterygii",
          "Actinopterygii",
          "Actinopterygii",
          "Actinopterygii",
          "Actinopterygii",
          "Actinopterygii",
          "Actinopterygii",
          "Actinopterygii",
          "Actinopterygii",
          "Actinopterygii",
          "Actinopterygii",
          "Actinopterygii",
          "Actinopterygii",
          "Actinopterygii",
          "Actinopterygii",
          "Actinopterygii",
          "Actinopterygii",
          "Actinopterygii",
          "Actinopterygii",
          "Actinopterygii",
          "Actinopterygii",
          "Actinopterygii",
          "Actinopterygii",
          "Actinopterygii",
          "Actinopterygii",
          "Actinopterygii",
          "Actinopterygii",
          "Actinopterygii",
          "Actinopterygii",
          "Actinopterygii",
          "Actinopterygii",
          "Actinopterygii",
          "Actinopterygii",
          "Actinopterygii",
          "Actinopterygii",
          "Actinopterygii",
          "Actinopterygii",
          "Actinopterygii",
          "Actinopterygii",
          "Actinopterygii",
          "Actinopterygii",
          "Actinopterygii",
          "Actinopterygii",
          "Actinopterygii",
          "Actinopterygii",
          "Actinopterygii",
          "Actinopterygii",
          "Actinopterygii",
          "Actinopterygii",
          "Actinopterygii",
          "Actinopterygii",
          "Actinopterygii",
          "Actinopterygii",
          "Actinopterygii",
          "Actinopterygii",
          "Actinopterygii",
          "Actinopterygii",
          "Actinopterygii",
          "Actinopterygii",
          "Actinopterygii",
          "Actinopterygii",
          "Actinopterygii",
          "Actinopterygii",
          "Actinopterygii",
          "Actinopterygii",
          "Actinopterygii",
          "Actinopterygii",
          "Actinopterygii",
          "Actinopterygii",
          "Actinopterygii",
          "Actinopterygii",
          "Actinopterygii",
          "Actinopterygii",
          "Actinopterygii",
          "Actinopterygii",
          "Actinopterygii",
          "Actinopterygii",
          "Actinopterygii",
          "Actinopterygii",
          "Actinopterygii",
          "Actinopterygii",
          "Actinopterygii",
          "Actinopterygii",
          "Actinopterygii",
          "Actinopterygii",
          "Actinopterygii",
          "Actinopterygii",
          "Actinopterygii",
          "Actinopterygii",
          "Actinopterygii",
          "Actinopterygii",
          "Actinopterygii",
          "Actinopterygii",
          "Actinopterygii",
          "Actinopterygii",
          "Actinopterygii",
          "Actinopterygii",
          "Actinopterygii",
          "Actinopterygii",
          "Actinopterygii",
          "Actinopterygii",
          "Actinopterygii",
          "Actinopterygii",
          "Actinopterygii",
          "Actinopterygii",
          "Actinopterygii",
          "Actinopterygii",
          "Actinopterygii",
          "Actinopterygii",
          "Actinopterygii",
          "Actinopterygii",
          "Actinopterygii",
          "Actinopterygii",
          "Actinopterygii",
          "Actinopterygii",
          "Actinopterygii",
          "Actinopterygii",
          "Actinopterygii",
          "Actinopterygii",
          "Actinopterygii",
          "Actinopterygii",
          "Actinopterygii",
          "Actinopterygii",
          "Actinopterygii",
          "Actinopterygii",
          "Actinopterygii",
          "Actinopterygii",
          "Actinopterygii",
          "Actinopterygii",
          "Actinopterygii",
          "Actinopterygii",
          "Actinopterygii",
          "Actinopterygii",
          "Actinopterygii",
          "Actinopterygii",
          "Actinopterygii",
          "Actinopterygii",
          "Actinopterygii",
          "Actinopterygii",
          "Actinopterygii",
          "Actinopterygii",
          "Actinopterygii",
          "Actinopterygii",
          "Actinopterygii",
          "Actinopterygii",
          "Actinopterygii",
          "Actinopterygii",
          "Actinopterygii",
          "Actinopterygii",
          "Actinopterygii",
          "Actinopterygii",
          "Actinopterygii",
          "Actinopterygii",
          "Actinopterygii",
          "Actinopterygii",
          "Actinopterygii",
          "Actinopterygii",
          "Actinopterygii",
          "Actinopterygii",
          "Actinopterygii",
          "Actinopterygii",
          "Actinopterygii",
          "Actinopterygii",
          "Actinopterygii",
          "Actinopterygii",
          "Actinopterygii",
          "Actinopterygii",
          "Actinopterygii",
          "Actinopterygii",
          "Actinopterygii",
          "Actinopterygii",
          "Actinopterygii",
          "Actinopterygii",
          "Actinopterygii",
          "Actinopterygii",
          "Actinopterygii",
          "Actinopterygii",
          "Actinopterygii",
          "Actinopterygii",
          "Actinopterygii",
          "Actinopterygii",
          "Actinopterygii",
          "Actinopterygii",
          "Actinopterygii",
          "Actinopterygii",
          "Actinopterygii",
          "Actinopterygii",
          "Actinopterygii",
          "Actinopterygii",
          "Actinopterygii",
          "Actinopterygii",
          "Actinopterygii",
          "Actinopterygii",
          "Actinopterygii",
          "Actinopterygii",
          "Actinopterygii",
          "Actinopterygii",
          "Actinopterygii",
          "Actinopterygii",
          "Actinopterygii",
          "Actinopterygii",
          "Actinopterygii",
          "Actinopterygii",
          "Actinopterygii",
          "Actinopterygii",
          "Actinopterygii",
          "Actinopterygii",
          "Actinopterygii",
          "Actinopterygii",
          "Actinopterygii",
          "Actinopterygii",
          "Actinopterygii",
          "Actinopterygii",
          "Actinopterygii",
          "Actinopterygii",
          "Actinopterygii",
          "Actinopterygii",
          "Actinopterygii",
          "Actinopterygii",
          "Actinopterygii",
          "Actinopterygii",
          "Actinopterygii",
          "Actinopterygii",
          "Actinopterygii",
          "Actinopterygii",
          "Actinopterygii",
          "Actinopterygii",
          "Actinopterygii",
          "Actinopterygii",
          "Actinopterygii",
          "Actinopterygii",
          "Actinopterygii",
          "Actinopterygii",
          "Actinopterygii",
          "Actinopterygii",
          "Actinopterygii",
          "Actinopterygii",
          "Actinopterygii",
          "Actinopterygii",
          "Actinopterygii",
          "Actinopterygii",
          "Actinopterygii",
          "Actinopterygii",
          "Actinopterygii",
          "Actinopterygii",
          "Actinopterygii",
          "Actinopterygii",
          "Actinopterygii",
          "Actinopterygii",
          "Actinopterygii",
          "Actinopterygii",
          "Actinopterygii",
          "Actinopterygii",
          "Actinopterygii",
          "Actinopterygii",
          "Actinopterygii",
          "Actinopterygii",
          "Actinopterygii",
          "Actinopterygii",
          "Actinopterygii",
          "Actinopterygii",
          "Actinopterygii",
          "Actinopterygii",
          "Actinopterygii",
          "Actinopterygii",
          "Actinopterygii",
          "Actinopterygii",
          "Actinopterygii",
          "Actinopterygii",
          "Actinopterygii",
          "Actinopterygii",
          "Actinopterygii",
          "Actinopterygii",
          "Actinopterygii",
          "Actinopterygii",
          "Actinopterygii",
          "Actinopterygii",
          "Actinopterygii",
          "Actinopterygii",
          "Actinopterygii",
          "Actinopterygii",
          "Actinopterygii",
          "Actinopterygii",
          "Actinopterygii",
          "Actinopterygii",
          "Actinopterygii",
          "Actinopterygii",
          "Actinopterygii",
          "Actinopterygii",
          "Actinopterygii",
          "Actinopterygii",
          "Actinopterygii",
          "Actinopterygii",
          "Actinopterygii",
          "Actinopterygii",
          "Actinopterygii",
          "Actinopterygii",
          "Actinopterygii",
          "Actinopterygii",
          "Actinopterygii",
          "Actinopterygii",
          "Actinopterygii",
          "Actinopterygii",
          "Actinopterygii",
          "Actinopterygii",
          "Actinopterygii",
          "Actinopterygii",
          "Actinopterygii",
          "Actinopterygii",
          "Actinopterygii",
          "Actinopterygii",
          "Actinopterygii",
          "Actinopterygii",
          "Actinopterygii",
          "Actinopterygii",
          "Actinopterygii",
          "Actinopterygii",
          "Actinopterygii",
          "Actinopterygii",
          "Actinopterygii",
          "Actinopterygii",
          "Actinopterygii",
          "Actinopterygii",
          "Actinopterygii",
          "Actinopterygii",
          "Actinopterygii",
          "Actinopterygii",
          "Actinopterygii",
          "Actinopterygii",
          "Actinopterygii",
          "Actinopterygii",
          "Actinopterygii",
          "Actinopterygii",
          "Actinopterygii",
          "Actinopterygii",
          "Actinopterygii",
          "Actinopterygii",
          "Actinopterygii",
          "Actinopterygii",
          "Actinopterygii",
          "Actinopterygii",
          "Actinopterygii",
          "Actinopterygii",
          "Actinopterygii",
          "Actinopterygii",
          "Actinopterygii",
          "Actinopterygii",
          "Actinopterygii",
          "Actinopterygii",
          "Actinopterygii",
          "Actinopterygii",
          "Actinopterygii",
          "Actinopterygii",
          "Actinopterygii",
          "Actinopterygii",
          "Actinopterygii",
          "Actinopterygii",
          "Actinopterygii",
          "Actinopterygii",
          "Actinopterygii",
          "Actinopterygii",
          "Actinopterygii",
          "Actinopterygii",
          "Actinopterygii",
          "Actinopterygii",
          "Actinopterygii",
          "Actinopterygii",
          "Actinopterygii",
          "Actinopterygii",
          "Actinopterygii",
          "Actinopterygii",
          "Actinopterygii",
          "Actinopterygii",
          "Actinopterygii",
          "Actinopterygii",
          "Actinopterygii",
          "Actinopterygii",
          "Actinopterygii",
          "Actinopterygii",
          "Actinopterygii",
          "Actinopterygii",
          "Actinopterygii",
          "Actinopterygii",
          "Actinopterygii",
          "Actinopterygii",
          "Actinopterygii",
          "Actinopterygii",
          "Actinopterygii",
          "Actinopterygii",
          "Actinopterygii",
          "Actinopterygii",
          "Actinopterygii",
          "Actinopterygii",
          "Actinopterygii",
          "Actinopterygii",
          "Actinopterygii",
          "Actinopterygii",
          "Actinopterygii",
          "Actinopterygii",
          "Actinopterygii",
          "Actinopterygii",
          "Actinopterygii",
          "Actinopterygii",
          "Actinopterygii",
          "Actinopterygii",
          "Actinopterygii",
          "Actinopterygii",
          "Actinopterygii",
          "Actinopterygii",
          "Actinopterygii",
          "Actinopterygii",
          "Actinopterygii",
          "Actinopterygii",
          "Actinopterygii",
          "Actinopterygii",
          "Actinopterygii",
          "Actinopterygii",
          "Actinopterygii",
          "Actinopterygii",
          "Actinopterygii",
          "Actinopterygii",
          "Actinopterygii",
          "Actinopterygii",
          "Actinopterygii",
          "Actinopterygii",
          "Actinopterygii",
          "Actinopterygii",
          "Actinopterygii",
          "Actinopterygii",
          "Actinopterygii",
          "Actinopterygii",
          "Actinopterygii",
          "Actinopterygii",
          "Actinopterygii",
          "Actinopterygii",
          "Actinopterygii",
          "Actinopterygii",
          "Actinopterygii",
          "Actinopterygii",
          "Actinopterygii",
          "Actinopterygii",
          "Actinopterygii",
          "Actinopterygii",
          "Actinopterygii",
          "Actinopterygii",
          "Actinopterygii",
          "Actinopterygii",
          "Actinopterygii",
          "Actinopterygii",
          "Actinopterygii",
          "Actinopterygii",
          "Actinopterygii",
          "Actinopterygii",
          "Actinopterygii",
          "Actinopterygii",
          "Actinopterygii",
          "Actinopterygii",
          "Actinopterygii",
          "Actinopterygii",
          "Actinopterygii",
          "Actinopterygii",
          "Actinopterygii",
          "Actinopterygii",
          "Actinopterygii",
          "Actinopterygii",
          "Actinopterygii",
          "Actinopterygii",
          "Actinopterygii",
          "Actinopterygii",
          "Actinopterygii",
          "Actinopterygii",
          "Actinopterygii",
          "Actinopterygii",
          "Actinopterygii",
          "Actinopterygii",
          "Actinopterygii",
          "Actinopterygii",
          "Actinopterygii",
          "Actinopterygii",
          "Actinopterygii",
          "Actinopterygii",
          "Actinopterygii",
          "Actinopterygii",
          "Actinopterygii",
          "Actinopterygii",
          "Actinopterygii",
          "Actinopterygii",
          "Actinopterygii",
          "Actinopterygii",
          "Actinopterygii",
          "Actinopterygii",
          "Actinopterygii",
          "Actinopterygii",
          "Actinopterygii",
          "Actinopterygii",
          "Actinopterygii",
          "Actinopterygii",
          "Actinopterygii",
          "Actinopterygii",
          "Actinopterygii",
          "Actinopterygii",
          "Actinopterygii",
          "Actinopterygii",
          "Actinopterygii",
          "Actinopterygii",
          "Actinopterygii",
          "Actinopterygii",
          "Actinopterygii",
          "Actinopterygii",
          "Actinopterygii",
          "Actinopterygii",
          "Actinopterygii",
          "Actinopterygii",
          "Actinopterygii",
          "Actinopterygii",
          "Actinopterygii",
          "Actinopterygii",
          "Actinopterygii",
          "Actinopterygii",
          "Actinopterygii",
          "Actinopterygii",
          "Actinopterygii",
          "Actinopterygii",
          "Actinopterygii",
          "Actinopterygii",
          "Actinopterygii",
          "Actinopterygii",
          "Actinopterygii",
          "Actinopterygii",
          "Actinopterygii",
          "Actinopterygii",
          "Actinopterygii",
          "Actinopterygii",
          "Actinopterygii",
          "Actinopterygii",
          "Actinopterygii",
          "Actinopterygii",
          "Actinopterygii",
          "Actinopterygii",
          "Actinopterygii",
          "Actinopterygii",
          "Actinopterygii",
          "Actinopterygii",
          "Actinopterygii",
          "Actinopterygii",
          "Actinopterygii",
          "Actinopterygii",
          "Actinopterygii",
          "Actinopterygii",
          "Actinopterygii",
          "Actinopterygii",
          "Actinopterygii",
          "Actinopterygii",
          "Actinopterygii",
          "Actinopterygii",
          "Actinopterygii",
          "Actinopterygii",
          "Actinopterygii",
          "Actinopterygii",
          "Actinopterygii",
          "Actinopterygii",
          "Actinopterygii",
          "Actinopterygii",
          "Actinopterygii",
          "Actinopterygii",
          "Actinopterygii",
          "Actinopterygii",
          "Actinopterygii",
          "Actinopterygii",
          "Actinopterygii",
          "Actinopterygii",
          "Actinopterygii",
          "Actinopterygii",
          "Actinopterygii",
          "Actinopterygii",
          "Actinopterygii",
          "Actinopterygii",
          "Actinopterygii",
          "Actinopterygii",
          "Actinopterygii",
          "Actinopterygii",
          "Actinopterygii",
          "Actinopterygii",
          "Actinopterygii",
          "Actinopterygii",
          "Actinopterygii",
          "Actinopterygii",
          "Actinopterygii",
          "Actinopterygii",
          "Actinopterygii",
          "Actinopterygii",
          "Actinopterygii",
          "Actinopterygii",
          "Actinopterygii",
          "Actinopterygii",
          "Actinopterygii",
          "Actinopterygii",
          "Actinopterygii",
          "Actinopterygii",
          "Actinopterygii",
          "Actinopterygii",
          "Actinopterygii",
          "Actinopterygii",
          "Actinopterygii",
          "Actinopterygii",
          "Actinopterygii",
          "Actinopterygii",
          "Actinopterygii",
          "Actinopterygii",
          "Actinopterygii",
          "Actinopterygii",
          "Actinopterygii",
          "Actinopterygii",
          "Actinopterygii",
          "Actinopterygii",
          "Actinopterygii",
          "Actinopterygii",
          "Actinopterygii",
          "Actinopterygii",
          "Actinopterygii",
          "Actinopterygii",
          "Actinopterygii",
          "Actinopterygii",
          "Actinopterygii",
          "Actinopterygii",
          "Actinopterygii",
          "Actinopterygii",
          "Actinopterygii",
          "Actinopterygii",
          "Actinopterygii",
          "Actinopterygii",
          "Actinopterygii",
          "Actinopterygii",
          "Actinopterygii",
          "Actinopterygii",
          "Actinopterygii",
          "Actinopterygii",
          "Actinopterygii",
          "Actinopterygii",
          "Actinopterygii",
          "Actinopterygii",
          "Actinopterygii",
          "Actinopterygii",
          "Actinopterygii",
          "Actinopterygii",
          "Actinopterygii",
          "Actinopterygii",
          "Actinopterygii",
          "Actinopterygii",
          "Actinopterygii",
          "Actinopterygii",
          "Actinopterygii",
          "Actinopterygii",
          "Actinopterygii",
          "Actinopterygii",
          "Actinopterygii",
          "Actinopterygii"
         ],
         "x0": " ",
         "xaxis": "x",
         "y": {
          "bdata": "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",
          "dtype": "f8"
         },
         "y0": " ",
         "yaxis": "y"
        },
        {
         "alignmentgroup": "True",
         "hovertemplate": "Class=%{x}<br>PC1=%{y}<extra></extra>",
         "legendgroup": "Amphibia",
         "marker": {
          "color": "rgb(166,216,84)"
         },
         "name": "Amphibia",
         "notched": false,
         "offsetgroup": "Amphibia",
         "orientation": "v",
         "showlegend": true,
         "type": "box",
         "x": [
          "Amphibia",
          "Amphibia",
          "Amphibia",
          "Amphibia",
          "Amphibia",
          "Amphibia",
          "Amphibia",
          "Amphibia",
          "Amphibia",
          "Amphibia",
          "Amphibia",
          "Amphibia",
          "Amphibia",
          "Amphibia",
          "Amphibia",
          "Amphibia",
          "Amphibia",
          "Amphibia",
          "Amphibia",
          "Amphibia",
          "Amphibia",
          "Amphibia",
          "Amphibia",
          "Amphibia",
          "Amphibia",
          "Amphibia",
          "Amphibia",
          "Amphibia",
          "Amphibia",
          "Amphibia",
          "Amphibia",
          "Amphibia",
          "Amphibia",
          "Amphibia",
          "Amphibia",
          "Amphibia",
          "Amphibia",
          "Amphibia",
          "Amphibia",
          "Amphibia",
          "Amphibia",
          "Amphibia",
          "Amphibia",
          "Amphibia",
          "Amphibia",
          "Amphibia",
          "Amphibia",
          "Amphibia",
          "Amphibia",
          "Amphibia",
          "Amphibia",
          "Amphibia",
          "Amphibia",
          "Amphibia",
          "Amphibia",
          "Amphibia",
          "Amphibia",
          "Amphibia",
          "Amphibia",
          "Amphibia",
          "Amphibia",
          "Amphibia",
          "Amphibia",
          "Amphibia",
          "Amphibia",
          "Amphibia",
          "Amphibia",
          "Amphibia",
          "Amphibia",
          "Amphibia",
          "Amphibia",
          "Amphibia",
          "Amphibia",
          "Amphibia",
          "Amphibia",
          "Amphibia",
          "Amphibia",
          "Amphibia",
          "Amphibia",
          "Amphibia",
          "Amphibia",
          "Amphibia",
          "Amphibia",
          "Amphibia",
          "Amphibia",
          "Amphibia",
          "Amphibia",
          "Amphibia",
          "Amphibia",
          "Amphibia",
          "Amphibia",
          "Amphibia",
          "Amphibia",
          "Amphibia",
          "Amphibia",
          "Amphibia",
          "Amphibia",
          "Amphibia",
          "Amphibia",
          "Amphibia",
          "Amphibia",
          "Amphibia",
          "Amphibia",
          "Amphibia",
          "Amphibia",
          "Amphibia",
          "Amphibia",
          "Amphibia",
          "Amphibia",
          "Amphibia",
          "Amphibia",
          "Amphibia",
          "Amphibia",
          "Amphibia",
          "Amphibia",
          "Amphibia",
          "Amphibia",
          "Amphibia",
          "Amphibia"
         ],
         "x0": " ",
         "xaxis": "x",
         "y": {
          "bdata": "Xzze39qbBkDeIHz4nLq0PyjQUj5OO+W/zY2x9FnUpb/b6i/pdC/kvx0y3t1y5eI/Z4ueLvaN2j8gpQMqTVnkP69YSQd7B+s/4kRZUm866z/tE5t5AdDov89zv+FJCMy/QXM25OG93L9LPmV3gbDFv04562J7bb8/tsOjI/9nyr+JUXQcLEysv0s4HXnMbK0/KY6bvbDzzr9w2hMXBwDYvzatavRsDcg/KzeDk1I3zj92OwIStNDmP4rwboJ7KOG/7YDMZSy76r9bJNPku17tP1iMNG9Ih+g/kf5p0n7MAkDdF+B1eOjPv/Z3mCH5mc8/Bx4Ic+w5wT/03EYv5O/kv5uixxkyarG/99AS1ZG/7L9Dci5mCH/Qv1MSyHVVF/g/F7vOyfgK3b+QLJ3f+7fwv/5iONY2Wem/6JrdVo0wz7+NjtCebiTav9BILzgtQtE/gRH6hSNrur+5FIjFcw3gv2UlYvFSaeG/psR9ZXgZ1b8HYey6O5Pbv25G5+hLr+C/eOBQaZ8++T/BFIACxXG6v3mlehR1qN2/ZCOXzwMEur81tWhxKIXjv9lvQRoh0Oy/cKaIAcOP6L98pL59GzbLv4Ob738GZeW/L5TYlLs39L+PkgLyB9Dzv98b99uVXXs/e601tktix787hT276VXivwlmnwLLgOi/8BJHROnD57/Q2drsyzrjv8/39dHMouG/NDB79izV7r/nj3110c7fvxZElMPAQ6q/rbbkzXDy4r+X1m9edk3rv2XQF94iebg/8sTu5sNz0T/1nz77NYiyv0etY8tk/fS/AyAcaWAg37+1PxcXA7fkv8SFhi4sl+K/14lNKIO13L/vYbcxBKeYP64LywspDfK/Ip2ztQyL379BsNc3LBDzvym7llNNjPS/KQ6C1t518b/GGMN79Arwv0XMaYuGJ9Y/fg0nk1DG17/2Z+ljKBfwv4yBQry9Svu/hGAwuQ8z87+3Ue06N9vqv6QNFZXEJ/G/ACf2yLRe379RYlARleDnv5g+qP2N6Oe/LFg4MtwA1r+IVJgeSNrAv1u/H0uVwuq/20Xvk1l+4L85pigiYC7cv/om+k3scd2//u7MasZV2b/CGmdYc+3iv0PWYh+YJvC/Cj1hoKwW8L974y4k83Pnv4I7X7hhdcW/Z2taphMB4r9yr9rX5Uravw36qOu5QeG/G91V4LjE1b+5RMLMKFDwv/CIet6uqeG/83Qpe1kd1L/kDwHPLm7jvz8KQxINNvG/maqXxgmHvD9vPh4o3IX1vw==",
          "dtype": "f8"
         },
         "y0": " ",
         "yaxis": "y"
        },
        {
         "alignmentgroup": "True",
         "hovertemplate": "Class=%{x}<br>PC1=%{y}<extra></extra>",
         "legendgroup": "Reptilia",
         "marker": {
          "color": "rgb(255,217,47)"
         },
         "name": "Reptilia",
         "notched": false,
         "offsetgroup": "Reptilia",
         "orientation": "v",
         "showlegend": true,
         "type": "box",
         "x": [
          "Reptilia",
          "Reptilia",
          "Reptilia",
          "Reptilia",
          "Reptilia",
          "Reptilia",
          "Reptilia",
          "Reptilia",
          "Reptilia",
          "Reptilia",
          "Reptilia",
          "Reptilia",
          "Reptilia",
          "Reptilia",
          "Reptilia",
          "Reptilia",
          "Reptilia",
          "Reptilia",
          "Reptilia",
          "Reptilia",
          "Reptilia",
          "Reptilia",
          "Reptilia",
          "Reptilia",
          "Reptilia",
          "Reptilia",
          "Reptilia",
          "Reptilia",
          "Reptilia",
          "Reptilia",
          "Reptilia",
          "Reptilia",
          "Reptilia",
          "Reptilia",
          "Reptilia",
          "Reptilia",
          "Reptilia",
          "Reptilia",
          "Reptilia",
          "Reptilia",
          "Reptilia",
          "Reptilia",
          "Reptilia",
          "Reptilia",
          "Reptilia",
          "Reptilia",
          "Reptilia",
          "Reptilia",
          "Reptilia",
          "Reptilia",
          "Reptilia",
          "Reptilia",
          "Reptilia",
          "Reptilia",
          "Reptilia",
          "Reptilia",
          "Reptilia",
          "Reptilia",
          "Reptilia",
          "Reptilia",
          "Reptilia",
          "Reptilia",
          "Reptilia",
          "Reptilia",
          "Reptilia",
          "Reptilia",
          "Reptilia",
          "Reptilia",
          "Reptilia",
          "Reptilia",
          "Reptilia",
          "Reptilia",
          "Reptilia",
          "Reptilia",
          "Reptilia",
          "Reptilia",
          "Reptilia",
          "Reptilia",
          "Reptilia",
          "Reptilia",
          "Reptilia",
          "Reptilia",
          "Reptilia",
          "Reptilia",
          "Reptilia",
          "Reptilia",
          "Reptilia",
          "Reptilia",
          "Reptilia",
          "Reptilia",
          "Reptilia",
          "Reptilia",
          "Reptilia",
          "Reptilia",
          "Reptilia",
          "Reptilia",
          "Reptilia",
          "Reptilia",
          "Reptilia",
          "Reptilia",
          "Reptilia",
          "Reptilia",
          "Reptilia",
          "Reptilia",
          "Reptilia",
          "Reptilia",
          "Reptilia",
          "Reptilia",
          "Reptilia",
          "Reptilia",
          "Reptilia",
          "Reptilia",
          "Reptilia",
          "Reptilia",
          "Reptilia",
          "Reptilia",
          "Reptilia",
          "Reptilia",
          "Reptilia",
          "Reptilia",
          "Reptilia",
          "Reptilia",
          "Reptilia",
          "Reptilia",
          "Reptilia"
         ],
         "x0": " ",
         "xaxis": "x",
         "y": {
          "bdata": "TuHknMSU8j9u6hp9vlf2P2G/1UAkpbO/2rzO1EXkyj/0FpGvl5LKP7evU+SwZNA/SDopW9rkwT983QQVXS/SP57JpgMfYQFATUMQR8z+yT+8S9jc26PqP3N8nnvEigFA7KmnSsNr9T/h3RuRgmrkvzi2G6G1p6W/+azs2Qqo/z/IfG2bu9D/P1aPTUiNALy/GFm51apY6D+z/NDMjUQEQLBATTC/bau/l7AKDpWv8T9o4YFOtEKiP6yKQfQHRN0/5c2TI7IC7j84XEoPE5/wP/Ch93n1NPA/AB7JVQGtuD/kC+4eEAG7P4APv8L4EdU/GHxtT4hTgb+JbZ8pIiXlP+czIVTfTbk/SL+518NO0r+rKUzjsvUGQK8Qi+G3+w5AJB0gcrhaA0AH8mQqKuzePzlz+FZPeeU/JbqzgEJE4r8+2vBDDuP1P5PBazmndNm/8nzqXZXxzb+AKD8HTUnsvxW077t+ydq/dmWgitCa279dk9gFNYzsPzVYxCT6ZPo/fXwcPsKI7T+E0WfL2kXxP+sShoQnD9k/j1Glp+HD4D8dl6NTvAnQP5h2JaGTgMc/DxorReAlEEA3emi1bncMQEiXb28sYRJAWaFF9bhTDkDEXgSsCaMOQJelirTXEApAkbd2sCaXCECmJaNC4wQQQAD5yiGonQ1ANMfKkJIAC0AFXgF44noCQGpq1974RgpA5c8TR+elBUAOlFXc7AIIQM9hRgbdhgNAglB2EBurAUDVLHbXYi76P3WJWiEdNQNAQLCydl0TAEB1iBv91Bz7P57xvXtXngRA/d6+WQ6AA0A5dHwe8LUAQJGzYxX6AwVA1VLEkVNoBkDlFSd44doCQDWe5duSz/0/LQT0yIQrCEB2s+r8sscHQMTvLenjLgVA+dGQHN4aAEC1iCGk10oFQIJMntnNvAZAfIUSnlMMBkCH2WBy01L4P5cHyEP3YPo/MOLhb8HgC0C4vUALWFYHQA5d6VRJlwxAVJpMFzFFA0B4yZoQmTICQLV2+89smP4/gIRLrWCGAUBQSWsCSHQFQMnmbiLxGgFAvCWE9VQJBkB3LXqwK+EHQMCfE6FqVgxAe2FOqNcEEUCfXPg5oU0TQDwSqQjyJwVAVT8BkftXAEAbVmRExeEPQEk+g1tdSAJAHN9aCTpCCkBLsPmRLvX8P5SIC4scowxAb6tCjuIDD0AhPMzA51IQQKDrbscU9AlAxJYpAJ/uC0BWKTW9x5oMQBf3zFIEGRBAt1OKKOROEUBImOk9hRkQQJSvTDQG1Q5AJ8uf5iBeEkC28se+T3wNQNbtey9UfQ5Azoi40mGbD0B8Z3AMgHwOQA==",
          "dtype": "f8"
         },
         "y0": " ",
         "yaxis": "y"
        },
        {
         "alignmentgroup": "True",
         "hovertemplate": "Class=%{x}<br>PC1=%{y}<extra></extra>",
         "legendgroup": "Aves",
         "marker": {
          "color": "rgb(229,196,148)"
         },
         "name": "Aves",
         "notched": false,
         "offsetgroup": "Aves",
         "orientation": "v",
         "showlegend": true,
         "type": "box",
         "x": [
          "Aves",
          "Aves",
          "Aves",
          "Aves",
          "Aves",
          "Aves",
          "Aves",
          "Aves",
          "Aves",
          "Aves",
          "Aves",
          "Aves",
          "Aves",
          "Aves",
          "Aves",
          "Aves",
          "Aves",
          "Aves",
          "Aves",
          "Aves",
          "Aves",
          "Aves",
          "Aves",
          "Aves",
          "Aves",
          "Aves",
          "Aves",
          "Aves",
          "Aves",
          "Aves",
          "Aves",
          "Aves",
          "Aves",
          "Aves",
          "Aves",
          "Aves",
          "Aves",
          "Aves",
          "Aves",
          "Aves",
          "Aves"
         ],
         "x0": " ",
         "xaxis": "x",
         "y": {
          "bdata": "YMPIjcEaEECNQUv1gaf7Pzx6ghqZtAhA843Efy7TCUDoyKFxjhwNQN9Ps9/YvwBA9dtS9emb+D/NKtTxzw4HQEsrc0G3xfw/8K/p1M3a8j/Z9vR7QX78P1sDEceRxP4/9laUxR9g7T87AcbSIDMHQMOhwaR3fQJAfyK/FgSx+D8gy2jtG6cAQPnGzJ4o/gRAIuE5klF0A0A2AhMZ62cBQMo3XCYEgvI/jPcX5IhQ7z8iuLEwg9rFv3DWN9Sb6wNAFUyhlh+lBECYrgaRK6UOQAp1AQuU1QNAeqZ4nFUtB0C8bDzIy6IKQGVL2CFg2/s/j7oth+aOAUCOItLxi3bZP8e6P6IEO/o/MRAw0V9y+j8dfFwmkOAJQGN4rVcuDfA/98Pz9DAVAEB7TgiYN5IFQAGSFbUrtOg/CvkCKd077D8SZZFIAcbXPw==",
          "dtype": "f8"
         },
         "y0": " ",
         "yaxis": "y"
        },
        {
         "alignmentgroup": "True",
         "hovertemplate": "Class=%{x}<br>PC1=%{y}<extra></extra>",
         "legendgroup": "Mammalia",
         "marker": {
          "color": "rgb(179,179,179)"
         },
         "name": "Mammalia",
         "notched": false,
         "offsetgroup": "Mammalia",
         "orientation": "v",
         "showlegend": true,
         "type": "box",
         "x": [
          "Mammalia",
          "Mammalia"
         ],
         "x0": " ",
         "xaxis": "x",
         "y": {
          "bdata": "uJ+SYbte/T8XA+pR0YUBQA==",
          "dtype": "f8"
         },
         "y0": " ",
         "yaxis": "y"
        }
       ],
       "layout": {
        "boxmode": "overlay",
        "height": 600,
        "legend": {
         "title": {
          "text": "Class"
         },
         "tracegroupgap": 0
        },
        "margin": {
         "t": 60
        },
        "template": {
         "data": {
          "bar": [
           {
            "error_x": {
             "color": "#2a3f5f"
            },
            "error_y": {
             "color": "#2a3f5f"
            },
            "marker": {
             "line": {
              "color": "#E5ECF6",
              "width": 0.5
             },
             "pattern": {
              "fillmode": "overlay",
              "size": 10,
              "solidity": 0.2
             }
            },
            "type": "bar"
           }
          ],
          "barpolar": [
           {
            "marker": {
             "line": {
              "color": "#E5ECF6",
              "width": 0.5
             },
             "pattern": {
              "fillmode": "overlay",
              "size": 10,
              "solidity": 0.2
             }
            },
            "type": "barpolar"
           }
          ],
          "carpet": [
           {
            "aaxis": {
             "endlinecolor": "#2a3f5f",
             "gridcolor": "white",
             "linecolor": "white",
             "minorgridcolor": "white",
             "startlinecolor": "#2a3f5f"
            },
            "baxis": {
             "endlinecolor": "#2a3f5f",
             "gridcolor": "white",
             "linecolor": "white",
             "minorgridcolor": "white",
             "startlinecolor": "#2a3f5f"
            },
            "type": "carpet"
           }
          ],
          "choropleth": [
           {
            "colorbar": {
             "outlinewidth": 0,
             "ticks": ""
            },
            "type": "choropleth"
           }
          ],
          "contour": [
           {
            "colorbar": {
             "outlinewidth": 0,
             "ticks": ""
            },
            "colorscale": [
             [
              0,
              "#0d0887"
             ],
             [
              0.1111111111111111,
              "#46039f"
             ],
             [
              0.2222222222222222,
              "#7201a8"
             ],
             [
              0.3333333333333333,
              "#9c179e"
             ],
             [
              0.4444444444444444,
              "#bd3786"
             ],
             [
              0.5555555555555556,
              "#d8576b"
             ],
             [
              0.6666666666666666,
              "#ed7953"
             ],
             [
              0.7777777777777778,
              "#fb9f3a"
             ],
             [
              0.8888888888888888,
              "#fdca26"
             ],
             [
              1,
              "#f0f921"
             ]
            ],
            "type": "contour"
           }
          ],
          "contourcarpet": [
           {
            "colorbar": {
             "outlinewidth": 0,
             "ticks": ""
            },
            "type": "contourcarpet"
           }
          ],
          "heatmap": [
           {
            "colorbar": {
             "outlinewidth": 0,
             "ticks": ""
            },
            "colorscale": [
             [
              0,
              "#0d0887"
             ],
             [
              0.1111111111111111,
              "#46039f"
             ],
             [
              0.2222222222222222,
              "#7201a8"
             ],
             [
              0.3333333333333333,
              "#9c179e"
             ],
             [
              0.4444444444444444,
              "#bd3786"
             ],
             [
              0.5555555555555556,
              "#d8576b"
             ],
             [
              0.6666666666666666,
              "#ed7953"
             ],
             [
              0.7777777777777778,
              "#fb9f3a"
             ],
             [
              0.8888888888888888,
              "#fdca26"
             ],
             [
              1,
              "#f0f921"
             ]
            ],
            "type": "heatmap"
           }
          ],
          "histogram": [
           {
            "marker": {
             "pattern": {
              "fillmode": "overlay",
              "size": 10,
              "solidity": 0.2
             }
            },
            "type": "histogram"
           }
          ],
          "histogram2d": [
           {
            "colorbar": {
             "outlinewidth": 0,
             "ticks": ""
            },
            "colorscale": [
             [
              0,
              "#0d0887"
             ],
             [
              0.1111111111111111,
              "#46039f"
             ],
             [
              0.2222222222222222,
              "#7201a8"
             ],
             [
              0.3333333333333333,
              "#9c179e"
             ],
             [
              0.4444444444444444,
              "#bd3786"
             ],
             [
              0.5555555555555556,
              "#d8576b"
             ],
             [
              0.6666666666666666,
              "#ed7953"
             ],
             [
              0.7777777777777778,
              "#fb9f3a"
             ],
             [
              0.8888888888888888,
              "#fdca26"
             ],
             [
              1,
              "#f0f921"
             ]
            ],
            "type": "histogram2d"
           }
          ],
          "histogram2dcontour": [
           {
            "colorbar": {
             "outlinewidth": 0,
             "ticks": ""
            },
            "colorscale": [
             [
              0,
              "#0d0887"
             ],
             [
              0.1111111111111111,
              "#46039f"
             ],
             [
              0.2222222222222222,
              "#7201a8"
             ],
             [
              0.3333333333333333,
              "#9c179e"
             ],
             [
              0.4444444444444444,
              "#bd3786"
             ],
             [
              0.5555555555555556,
              "#d8576b"
             ],
             [
              0.6666666666666666,
              "#ed7953"
             ],
             [
              0.7777777777777778,
              "#fb9f3a"
             ],
             [
              0.8888888888888888,
              "#fdca26"
             ],
             [
              1,
              "#f0f921"
             ]
            ],
            "type": "histogram2dcontour"
           }
          ],
          "mesh3d": [
           {
            "colorbar": {
             "outlinewidth": 0,
             "ticks": ""
            },
            "type": "mesh3d"
           }
          ],
          "parcoords": [
           {
            "line": {
             "colorbar": {
              "outlinewidth": 0,
              "ticks": ""
             }
            },
            "type": "parcoords"
           }
          ],
          "pie": [
           {
            "automargin": true,
            "type": "pie"
           }
          ],
          "scatter": [
           {
            "fillpattern": {
             "fillmode": "overlay",
             "size": 10,
             "solidity": 0.2
            },
            "type": "scatter"
           }
          ],
          "scatter3d": [
           {
            "line": {
             "colorbar": {
              "outlinewidth": 0,
              "ticks": ""
             }
            },
            "marker": {
             "colorbar": {
              "outlinewidth": 0,
              "ticks": ""
             }
            },
            "type": "scatter3d"
           }
          ],
          "scattercarpet": [
           {
            "marker": {
             "colorbar": {
              "outlinewidth": 0,
              "ticks": ""
             }
            },
            "type": "scattercarpet"
           }
          ],
          "scattergeo": [
           {
            "marker": {
             "colorbar": {
              "outlinewidth": 0,
              "ticks": ""
             }
            },
            "type": "scattergeo"
           }
          ],
          "scattergl": [
           {
            "marker": {
             "colorbar": {
              "outlinewidth": 0,
              "ticks": ""
             }
            },
            "type": "scattergl"
           }
          ],
          "scattermap": [
           {
            "marker": {
             "colorbar": {
              "outlinewidth": 0,
              "ticks": ""
             }
            },
            "type": "scattermap"
           }
          ],
          "scattermapbox": [
           {
            "marker": {
             "colorbar": {
              "outlinewidth": 0,
              "ticks": ""
             }
            },
            "type": "scattermapbox"
           }
          ],
          "scatterpolar": [
           {
            "marker": {
             "colorbar": {
              "outlinewidth": 0,
              "ticks": ""
             }
            },
            "type": "scatterpolar"
           }
          ],
          "scatterpolargl": [
           {
            "marker": {
             "colorbar": {
              "outlinewidth": 0,
              "ticks": ""
             }
            },
            "type": "scatterpolargl"
           }
          ],
          "scatterternary": [
           {
            "marker": {
             "colorbar": {
              "outlinewidth": 0,
              "ticks": ""
             }
            },
            "type": "scatterternary"
           }
          ],
          "surface": [
           {
            "colorbar": {
             "outlinewidth": 0,
             "ticks": ""
            },
            "colorscale": [
             [
              0,
              "#0d0887"
             ],
             [
              0.1111111111111111,
              "#46039f"
             ],
             [
              0.2222222222222222,
              "#7201a8"
             ],
             [
              0.3333333333333333,
              "#9c179e"
             ],
             [
              0.4444444444444444,
              "#bd3786"
             ],
             [
              0.5555555555555556,
              "#d8576b"
             ],
             [
              0.6666666666666666,
              "#ed7953"
             ],
             [
              0.7777777777777778,
              "#fb9f3a"
             ],
             [
              0.8888888888888888,
              "#fdca26"
             ],
             [
              1,
              "#f0f921"
             ]
            ],
            "type": "surface"
           }
          ],
          "table": [
           {
            "cells": {
             "fill": {
              "color": "#EBF0F8"
             },
             "line": {
              "color": "white"
             }
            },
            "header": {
             "fill": {
              "color": "#C8D4E3"
             },
             "line": {
              "color": "white"
             }
            },
            "type": "table"
           }
          ]
         },
         "layout": {
          "annotationdefaults": {
           "arrowcolor": "#2a3f5f",
           "arrowhead": 0,
           "arrowwidth": 1
          },
          "autotypenumbers": "strict",
          "coloraxis": {
           "colorbar": {
            "outlinewidth": 0,
            "ticks": ""
           }
          },
          "colorscale": {
           "diverging": [
            [
             0,
             "#8e0152"
            ],
            [
             0.1,
             "#c51b7d"
            ],
            [
             0.2,
             "#de77ae"
            ],
            [
             0.3,
             "#f1b6da"
            ],
            [
             0.4,
             "#fde0ef"
            ],
            [
             0.5,
             "#f7f7f7"
            ],
            [
             0.6,
             "#e6f5d0"
            ],
            [
             0.7,
             "#b8e186"
            ],
            [
             0.8,
             "#7fbc41"
            ],
            [
             0.9,
             "#4d9221"
            ],
            [
             1,
             "#276419"
            ]
           ],
           "sequential": [
            [
             0,
             "#0d0887"
            ],
            [
             0.1111111111111111,
             "#46039f"
            ],
            [
             0.2222222222222222,
             "#7201a8"
            ],
            [
             0.3333333333333333,
             "#9c179e"
            ],
            [
             0.4444444444444444,
             "#bd3786"
            ],
            [
             0.5555555555555556,
             "#d8576b"
            ],
            [
             0.6666666666666666,
             "#ed7953"
            ],
            [
             0.7777777777777778,
             "#fb9f3a"
            ],
            [
             0.8888888888888888,
             "#fdca26"
            ],
            [
             1,
             "#f0f921"
            ]
           ],
           "sequentialminus": [
            [
             0,
             "#0d0887"
            ],
            [
             0.1111111111111111,
             "#46039f"
            ],
            [
             0.2222222222222222,
             "#7201a8"
            ],
            [
             0.3333333333333333,
             "#9c179e"
            ],
            [
             0.4444444444444444,
             "#bd3786"
            ],
            [
             0.5555555555555556,
             "#d8576b"
            ],
            [
             0.6666666666666666,
             "#ed7953"
            ],
            [
             0.7777777777777778,
             "#fb9f3a"
            ],
            [
             0.8888888888888888,
             "#fdca26"
            ],
            [
             1,
             "#f0f921"
            ]
           ]
          },
          "colorway": [
           "#636efa",
           "#EF553B",
           "#00cc96",
           "#ab63fa",
           "#FFA15A",
           "#19d3f3",
           "#FF6692",
           "#B6E880",
           "#FF97FF",
           "#FECB52"
          ],
          "font": {
           "color": "#2a3f5f"
          },
          "geo": {
           "bgcolor": "white",
           "lakecolor": "white",
           "landcolor": "#E5ECF6",
           "showlakes": true,
           "showland": true,
           "subunitcolor": "white"
          },
          "hoverlabel": {
           "align": "left"
          },
          "hovermode": "closest",
          "mapbox": {
           "style": "light"
          },
          "paper_bgcolor": "white",
          "plot_bgcolor": "#E5ECF6",
          "polar": {
           "angularaxis": {
            "gridcolor": "white",
            "linecolor": "white",
            "ticks": ""
           },
           "bgcolor": "#E5ECF6",
           "radialaxis": {
            "gridcolor": "white",
            "linecolor": "white",
            "ticks": ""
           }
          },
          "scene": {
           "xaxis": {
            "backgroundcolor": "#E5ECF6",
            "gridcolor": "white",
            "gridwidth": 2,
            "linecolor": "white",
            "showbackground": true,
            "ticks": "",
            "zerolinecolor": "white"
           },
           "yaxis": {
            "backgroundcolor": "#E5ECF6",
            "gridcolor": "white",
            "gridwidth": 2,
            "linecolor": "white",
            "showbackground": true,
            "ticks": "",
            "zerolinecolor": "white"
           },
           "zaxis": {
            "backgroundcolor": "#E5ECF6",
            "gridcolor": "white",
            "gridwidth": 2,
            "linecolor": "white",
            "showbackground": true,
            "ticks": "",
            "zerolinecolor": "white"
           }
          },
          "shapedefaults": {
           "line": {
            "color": "#2a3f5f"
           }
          },
          "ternary": {
           "aaxis": {
            "gridcolor": "white",
            "linecolor": "white",
            "ticks": ""
           },
           "baxis": {
            "gridcolor": "white",
            "linecolor": "white",
            "ticks": ""
           },
           "bgcolor": "#E5ECF6",
           "caxis": {
            "gridcolor": "white",
            "linecolor": "white",
            "ticks": ""
           }
          },
          "title": {
           "x": 0.05
          },
          "xaxis": {
           "automargin": true,
           "gridcolor": "white",
           "linecolor": "white",
           "ticks": "",
           "title": {
            "standoff": 15
           },
           "zerolinecolor": "white",
           "zerolinewidth": 2
          },
          "yaxis": {
           "automargin": true,
           "gridcolor": "white",
           "linecolor": "white",
           "ticks": "",
           "title": {
            "standoff": 15
           },
           "zerolinecolor": "white",
           "zerolinewidth": 2
          }
         }
        },
        "title": {
         "text": "Boxplot of PC1 by class"
        },
        "xaxis": {
         "anchor": "y",
         "categoryarray": [
          "Leptocardii",
          "Ascidiacea",
          "Chondrichthyes",
          "Actinopterygii",
          "Amphibia",
          "Reptilia",
          "Aves",
          "Mammalia"
         ],
         "categoryorder": "array",
         "domain": [
          0,
          1
         ],
         "title": {
          "text": "Class"
         }
        },
        "yaxis": {
         "anchor": "x",
         "domain": [
          0,
          1
         ],
         "title": {
          "text": "PC1"
         }
        }
       }
      }
     },
     "metadata": {},
     "output_type": "display_data"
    }
   ],
   "source": [
    "# boxplot\n",
    "ordered_classes = (\n",
    "    chordata_data.groupby(\"Class\")[\"PC1\"]\n",
    "    .median()\n",
    "    .sort_values()\n",
    "    .index.tolist()\n",
    ")\n",
    "\n",
    "fig = px.box(\n",
    "    chordata_data,\n",
    "    x=\"Class\",         \n",
    "    y=\"PC1\",           \n",
    "    color=\"Class\",     \n",
    "    color_discrete_sequence=px.colors.qualitative.Set2,\n",
    "    # category_orders={\"Class\": ordered_classes},\n",
    ")\n",
    "\n",
    "fig.update_layout(\n",
    "    title=\"Boxplot of PC1 by class\",\n",
    "    xaxis_title=\"Class\",\n",
    "    yaxis_title=\"PC1\",\n",
    "    height=600\n",
    ")\n",
    "\n",
    "fig.show()\n",
    "# fig.write_html(\"../figures/boxplot_class.html\")"
   ]
  },
  {
   "cell_type": "code",
   "execution_count": 77,
   "id": "4dbd6653",
   "metadata": {},
   "outputs": [
    {
     "name": "stdout",
     "output_type": "stream",
     "text": [
      "               sum_sq      df           F         PR(>F)\n",
      "Class     1273.153491     7.0  152.330453  2.618877e-154\n",
      "Residual  1234.572306  1034.0         NaN            NaN\n"
     ]
    }
   ],
   "source": [
    "# Anova\n",
    "model = smf.ols('PC1 ~ Class', data=chordata_data).fit()\n",
    "anova_table = sm.stats.anova_lm(model, typ=2)\n",
    "\n",
    "print(anova_table)"
   ]
  },
  {
   "cell_type": "markdown",
   "id": "046bb5a4",
   "metadata": {},
   "source": [
    "p-value < 0,05 - > There is a significant effect of taxonomic classes on life strategy \n",
    "\n",
    "This suggests that at least one taxonomic class show a statistically different life strategy compared to others within Chordata"
   ]
  },
  {
   "cell_type": "code",
   "execution_count": 78,
   "id": "ea92d175",
   "metadata": {},
   "outputs": [
    {
     "name": "stdout",
     "output_type": "stream",
     "text": [
      "        Multiple Comparison of Means - Tukey HSD, FWER=0.05         \n",
      "====================================================================\n",
      "    group1         group2     meandiff p-adj   lower   upper  reject\n",
      "--------------------------------------------------------------------\n",
      "Actinopterygii       Amphibia   0.0275    1.0 -0.3009  0.3559  False\n",
      "Actinopterygii     Ascidiacea  -2.2444 0.0095 -4.1645 -0.3244   True\n",
      "Actinopterygii           Aves   2.4183    0.0  1.8855  2.9511   True\n",
      "Actinopterygii Chondrichthyes   4.2337    0.0  3.6249  4.8424   True\n",
      "Actinopterygii    Leptocardii  -2.2911 0.4186 -5.6121  1.0298  False\n",
      "Actinopterygii       Mammalia   2.3811 0.0444  0.0312   4.731   True\n",
      "Actinopterygii       Reptilia   2.3892    0.0  2.0677  2.7108   True\n",
      "      Amphibia     Ascidiacea   -2.272 0.0093  -4.212 -0.3319   True\n",
      "      Amphibia           Aves   2.3908    0.0  1.7898  2.9918   True\n",
      "      Amphibia Chondrichthyes   4.2062    0.0   3.537  4.8754   True\n",
      "      Amphibia    Leptocardii  -2.3187  0.407 -5.6512  1.0139  False\n",
      "      Amphibia       Mammalia   2.3536 0.0524 -0.0127  4.7198  False\n",
      "      Amphibia       Reptilia   2.3617    0.0  1.9367  2.7867   True\n",
      "    Ascidiacea           Aves   4.6627    0.0  2.6779  6.6476   True\n",
      "    Ascidiacea Chondrichthyes   6.4781    0.0  4.4715  8.4847   True\n",
      "    Ascidiacea    Leptocardii  -0.0467    1.0 -3.8787  3.7853  False\n",
      "    Ascidiacea       Mammalia   4.6255 0.0001   1.596   7.655   True\n",
      "    Ascidiacea       Reptilia   4.6337    0.0  2.6948  6.5725   True\n",
      "          Aves Chondrichthyes   1.8154    0.0  1.0255  2.6052   True\n",
      "          Aves    Leptocardii  -4.7095 0.0006 -8.0683 -1.3506   True\n",
      "          Aves       Mammalia  -0.0372    1.0 -2.4404   2.366  False\n",
      "          Aves       Reptilia  -0.0291    1.0 -0.6264  0.5682  False\n",
      "Chondrichthyes    Leptocardii  -6.5248    0.0 -9.8966 -3.1531   True\n",
      "Chondrichthyes       Mammalia  -1.8526 0.2814 -4.2737  0.5686  False\n",
      "Chondrichthyes       Reptilia  -1.8445    0.0 -2.5103 -1.1786   True\n",
      "   Leptocardii       Mammalia   4.6722 0.0117  0.6077  8.7367   True\n",
      "   Leptocardii       Reptilia   4.6804 0.0006  1.3485  8.0123   True\n",
      "      Mammalia       Reptilia   0.0081    1.0 -2.3572  2.3735  False\n",
      "--------------------------------------------------------------------\n"
     ]
    }
   ],
   "source": [
    "# Tukey's test\n",
    "\n",
    "tukey = mc.MultiComparison(chordata_data[\"PC1\"], chordata_data[\"Class\"])\n",
    "tukey_result = tukey.tukeyhsd()\n",
    "\n",
    "print(tukey_result)"
   ]
  },
  {
   "cell_type": "code",
   "execution_count": 79,
   "id": "c516f65d",
   "metadata": {},
   "outputs": [],
   "source": [
    "group_letters = {\n",
    "    'Actinopterygii': 'a',\n",
    "    'Amphibia': 'ab',\n",
    "    'Leptocardii': 'ac',\n",
    "    'Ascidiacea': 'c',\n",
    "    'Aves': 'd',\n",
    "    'Mammalia': 'bde',\n",
    "    'Chondrichthyes': 'e',\n",
    "    'Reptilia': 'd'\n",
    "}"
   ]
  },
  {
   "cell_type": "code",
   "execution_count": 80,
   "id": "05719904",
   "metadata": {},
   "outputs": [
    {
     "data": {
      "application/vnd.plotly.v1+json": {
       "config": {
        "plotlyServerURL": "https://plot.ly"
       },
       "data": [
        {
         "alignmentgroup": "True",
         "hovertemplate": "Class=%{x}<br>PC1=%{y}<extra></extra>",
         "legendgroup": "Leptocardii",
         "marker": {
          "color": "rgb(102,194,165)"
         },
         "name": "Leptocardii",
         "notched": false,
         "offsetgroup": "Leptocardii",
         "orientation": "v",
         "showlegend": true,
         "type": "box",
         "x": [
          "Leptocardii"
         ],
         "x0": " ",
         "xaxis": "x",
         "y": {
          "bdata": "DO0dcyZGBcA=",
          "dtype": "f8"
         },
         "y0": " ",
         "yaxis": "y"
        },
        {
         "alignmentgroup": "True",
         "hovertemplate": "Class=%{x}<br>PC1=%{y}<extra></extra>",
         "legendgroup": "Ascidiacea",
         "marker": {
          "color": "rgb(252,141,98)"
         },
         "name": "Ascidiacea",
         "notched": false,
         "offsetgroup": "Ascidiacea",
         "orientation": "v",
         "showlegend": true,
         "type": "box",
         "x": [
          "Ascidiacea",
          "Ascidiacea",
          "Ascidiacea"
         ],
         "x0": " ",
         "xaxis": "x",
         "y": {
          "bdata": "+lBlJpQUCMC+oxv1qrTzv0hQ6iyXxAzA",
          "dtype": "f8"
         },
         "y0": " ",
         "yaxis": "y"
        },
        {
         "alignmentgroup": "True",
         "hovertemplate": "Class=%{x}<br>PC1=%{y}<extra></extra>",
         "legendgroup": "Chondrichthyes",
         "marker": {
          "color": "rgb(141,160,203)"
         },
         "name": "Chondrichthyes",
         "notched": false,
         "offsetgroup": "Chondrichthyes",
         "orientation": "v",
         "showlegend": true,
         "type": "box",
         "x": [
          "Chondrichthyes",
          "Chondrichthyes",
          "Chondrichthyes",
          "Chondrichthyes",
          "Chondrichthyes",
          "Chondrichthyes",
          "Chondrichthyes",
          "Chondrichthyes",
          "Chondrichthyes",
          "Chondrichthyes",
          "Chondrichthyes",
          "Chondrichthyes",
          "Chondrichthyes",
          "Chondrichthyes",
          "Chondrichthyes",
          "Chondrichthyes",
          "Chondrichthyes",
          "Chondrichthyes",
          "Chondrichthyes",
          "Chondrichthyes",
          "Chondrichthyes",
          "Chondrichthyes",
          "Chondrichthyes",
          "Chondrichthyes",
          "Chondrichthyes",
          "Chondrichthyes",
          "Chondrichthyes",
          "Chondrichthyes",
          "Chondrichthyes",
          "Chondrichthyes",
          "Chondrichthyes"
         ],
         "x0": " ",
         "xaxis": "x",
         "y": {
          "bdata": "2jTBhWWrBkBYQknTKHwQQCoewZRJJw1AvYS/3+rTDkDl1K1bqH0PQFr/yoCuugVA7JSI0xxuAkAzWlC3tiEMQNzIzR3CvQxAPbMmTe7iEEDyWYDYLrUIQOCbxeCTEhNAHm4IcS03FEBGg3g1mgsTQNY5vBXGLwpAQg9069jFAUDA3+LYqCIIQNGJQlDiXxJA5Dlmr8f3E0ANMPkGRuITQD9OJC9T9xdAmvT6K2vQGUCv8VNcC+YNQDMIp986DRJADTvPqGIkDUA/eyQkj+cCQOFpH2A6pAZAC2gNrA5nBECJbCQgzJkMQOcLTQm/KQdAxW3WijU0F0A=",
          "dtype": "f8"
         },
         "y0": " ",
         "yaxis": "y"
        },
        {
         "alignmentgroup": "True",
         "hovertemplate": "Class=%{x}<br>PC1=%{y}<extra></extra>",
         "legendgroup": "Actinopterygii",
         "marker": {
          "color": "rgb(231,138,195)"
         },
         "name": "Actinopterygii",
         "notched": false,
         "offsetgroup": "Actinopterygii",
         "orientation": "v",
         "showlegend": true,
         "type": "box",
         "x": [
          "Actinopterygii",
          "Actinopterygii",
          "Actinopterygii",
          "Actinopterygii",
          "Actinopterygii",
          "Actinopterygii",
          "Actinopterygii",
          "Actinopterygii",
          "Actinopterygii",
          "Actinopterygii",
          "Actinopterygii",
          "Actinopterygii",
          "Actinopterygii",
          "Actinopterygii",
          "Actinopterygii",
          "Actinopterygii",
          "Actinopterygii",
          "Actinopterygii",
          "Actinopterygii",
          "Actinopterygii",
          "Actinopterygii",
          "Actinopterygii",
          "Actinopterygii",
          "Actinopterygii",
          "Actinopterygii",
          "Actinopterygii",
          "Actinopterygii",
          "Actinopterygii",
          "Actinopterygii",
          "Actinopterygii",
          "Actinopterygii",
          "Actinopterygii",
          "Actinopterygii",
          "Actinopterygii",
          "Actinopterygii",
          "Actinopterygii",
          "Actinopterygii",
          "Actinopterygii",
          "Actinopterygii",
          "Actinopterygii",
          "Actinopterygii",
          "Actinopterygii",
          "Actinopterygii",
          "Actinopterygii",
          "Actinopterygii",
          "Actinopterygii",
          "Actinopterygii",
          "Actinopterygii",
          "Actinopterygii",
          "Actinopterygii",
          "Actinopterygii",
          "Actinopterygii",
          "Actinopterygii",
          "Actinopterygii",
          "Actinopterygii",
          "Actinopterygii",
          "Actinopterygii",
          "Actinopterygii",
          "Actinopterygii",
          "Actinopterygii",
          "Actinopterygii",
          "Actinopterygii",
          "Actinopterygii",
          "Actinopterygii",
          "Actinopterygii",
          "Actinopterygii",
          "Actinopterygii",
          "Actinopterygii",
          "Actinopterygii",
          "Actinopterygii",
          "Actinopterygii",
          "Actinopterygii",
          "Actinopterygii",
          "Actinopterygii",
          "Actinopterygii",
          "Actinopterygii",
          "Actinopterygii",
          "Actinopterygii",
          "Actinopterygii",
          "Actinopterygii",
          "Actinopterygii",
          "Actinopterygii",
          "Actinopterygii",
          "Actinopterygii",
          "Actinopterygii",
          "Actinopterygii",
          "Actinopterygii",
          "Actinopterygii",
          "Actinopterygii",
          "Actinopterygii",
          "Actinopterygii",
          "Actinopterygii",
          "Actinopterygii",
          "Actinopterygii",
          "Actinopterygii",
          "Actinopterygii",
          "Actinopterygii",
          "Actinopterygii",
          "Actinopterygii",
          "Actinopterygii",
          "Actinopterygii",
          "Actinopterygii",
          "Actinopterygii",
          "Actinopterygii",
          "Actinopterygii",
          "Actinopterygii",
          "Actinopterygii",
          "Actinopterygii",
          "Actinopterygii",
          "Actinopterygii",
          "Actinopterygii",
          "Actinopterygii",
          "Actinopterygii",
          "Actinopterygii",
          "Actinopterygii",
          "Actinopterygii",
          "Actinopterygii",
          "Actinopterygii",
          "Actinopterygii",
          "Actinopterygii",
          "Actinopterygii",
          "Actinopterygii",
          "Actinopterygii",
          "Actinopterygii",
          "Actinopterygii",
          "Actinopterygii",
          "Actinopterygii",
          "Actinopterygii",
          "Actinopterygii",
          "Actinopterygii",
          "Actinopterygii",
          "Actinopterygii",
          "Actinopterygii",
          "Actinopterygii",
          "Actinopterygii",
          "Actinopterygii",
          "Actinopterygii",
          "Actinopterygii",
          "Actinopterygii",
          "Actinopterygii",
          "Actinopterygii",
          "Actinopterygii",
          "Actinopterygii",
          "Actinopterygii",
          "Actinopterygii",
          "Actinopterygii",
          "Actinopterygii",
          "Actinopterygii",
          "Actinopterygii",
          "Actinopterygii",
          "Actinopterygii",
          "Actinopterygii",
          "Actinopterygii",
          "Actinopterygii",
          "Actinopterygii",
          "Actinopterygii",
          "Actinopterygii",
          "Actinopterygii",
          "Actinopterygii",
          "Actinopterygii",
          "Actinopterygii",
          "Actinopterygii",
          "Actinopterygii",
          "Actinopterygii",
          "Actinopterygii",
          "Actinopterygii",
          "Actinopterygii",
          "Actinopterygii",
          "Actinopterygii",
          "Actinopterygii",
          "Actinopterygii",
          "Actinopterygii",
          "Actinopterygii",
          "Actinopterygii",
          "Actinopterygii",
          "Actinopterygii",
          "Actinopterygii",
          "Actinopterygii",
          "Actinopterygii",
          "Actinopterygii",
          "Actinopterygii",
          "Actinopterygii",
          "Actinopterygii",
          "Actinopterygii",
          "Actinopterygii",
          "Actinopterygii",
          "Actinopterygii",
          "Actinopterygii",
          "Actinopterygii",
          "Actinopterygii",
          "Actinopterygii",
          "Actinopterygii",
          "Actinopterygii",
          "Actinopterygii",
          "Actinopterygii",
          "Actinopterygii",
          "Actinopterygii",
          "Actinopterygii",
          "Actinopterygii",
          "Actinopterygii",
          "Actinopterygii",
          "Actinopterygii",
          "Actinopterygii",
          "Actinopterygii",
          "Actinopterygii",
          "Actinopterygii",
          "Actinopterygii",
          "Actinopterygii",
          "Actinopterygii",
          "Actinopterygii",
          "Actinopterygii",
          "Actinopterygii",
          "Actinopterygii",
          "Actinopterygii",
          "Actinopterygii",
          "Actinopterygii",
          "Actinopterygii",
          "Actinopterygii",
          "Actinopterygii",
          "Actinopterygii",
          "Actinopterygii",
          "Actinopterygii",
          "Actinopterygii",
          "Actinopterygii",
          "Actinopterygii",
          "Actinopterygii",
          "Actinopterygii",
          "Actinopterygii",
          "Actinopterygii",
          "Actinopterygii",
          "Actinopterygii",
          "Actinopterygii",
          "Actinopterygii",
          "Actinopterygii",
          "Actinopterygii",
          "Actinopterygii",
          "Actinopterygii",
          "Actinopterygii",
          "Actinopterygii",
          "Actinopterygii",
          "Actinopterygii",
          "Actinopterygii",
          "Actinopterygii",
          "Actinopterygii",
          "Actinopterygii",
          "Actinopterygii",
          "Actinopterygii",
          "Actinopterygii",
          "Actinopterygii",
          "Actinopterygii",
          "Actinopterygii",
          "Actinopterygii",
          "Actinopterygii",
          "Actinopterygii",
          "Actinopterygii",
          "Actinopterygii",
          "Actinopterygii",
          "Actinopterygii",
          "Actinopterygii",
          "Actinopterygii",
          "Actinopterygii",
          "Actinopterygii",
          "Actinopterygii",
          "Actinopterygii",
          "Actinopterygii",
          "Actinopterygii",
          "Actinopterygii",
          "Actinopterygii",
          "Actinopterygii",
          "Actinopterygii",
          "Actinopterygii",
          "Actinopterygii",
          "Actinopterygii",
          "Actinopterygii",
          "Actinopterygii",
          "Actinopterygii",
          "Actinopterygii",
          "Actinopterygii",
          "Actinopterygii",
          "Actinopterygii",
          "Actinopterygii",
          "Actinopterygii",
          "Actinopterygii",
          "Actinopterygii",
          "Actinopterygii",
          "Actinopterygii",
          "Actinopterygii",
          "Actinopterygii",
          "Actinopterygii",
          "Actinopterygii",
          "Actinopterygii",
          "Actinopterygii",
          "Actinopterygii",
          "Actinopterygii",
          "Actinopterygii",
          "Actinopterygii",
          "Actinopterygii",
          "Actinopterygii",
          "Actinopterygii",
          "Actinopterygii",
          "Actinopterygii",
          "Actinopterygii",
          "Actinopterygii",
          "Actinopterygii",
          "Actinopterygii",
          "Actinopterygii",
          "Actinopterygii",
          "Actinopterygii",
          "Actinopterygii",
          "Actinopterygii",
          "Actinopterygii",
          "Actinopterygii",
          "Actinopterygii",
          "Actinopterygii",
          "Actinopterygii",
          "Actinopterygii",
          "Actinopterygii",
          "Actinopterygii",
          "Actinopterygii",
          "Actinopterygii",
          "Actinopterygii",
          "Actinopterygii",
          "Actinopterygii",
          "Actinopterygii",
          "Actinopterygii",
          "Actinopterygii",
          "Actinopterygii",
          "Actinopterygii",
          "Actinopterygii",
          "Actinopterygii",
          "Actinopterygii",
          "Actinopterygii",
          "Actinopterygii",
          "Actinopterygii",
          "Actinopterygii",
          "Actinopterygii",
          "Actinopterygii",
          "Actinopterygii",
          "Actinopterygii",
          "Actinopterygii",
          "Actinopterygii",
          "Actinopterygii",
          "Actinopterygii",
          "Actinopterygii",
          "Actinopterygii",
          "Actinopterygii",
          "Actinopterygii",
          "Actinopterygii",
          "Actinopterygii",
          "Actinopterygii",
          "Actinopterygii",
          "Actinopterygii",
          "Actinopterygii",
          "Actinopterygii",
          "Actinopterygii",
          "Actinopterygii",
          "Actinopterygii",
          "Actinopterygii",
          "Actinopterygii",
          "Actinopterygii",
          "Actinopterygii",
          "Actinopterygii",
          "Actinopterygii",
          "Actinopterygii",
          "Actinopterygii",
          "Actinopterygii",
          "Actinopterygii",
          "Actinopterygii",
          "Actinopterygii",
          "Actinopterygii",
          "Actinopterygii",
          "Actinopterygii",
          "Actinopterygii",
          "Actinopterygii",
          "Actinopterygii",
          "Actinopterygii",
          "Actinopterygii",
          "Actinopterygii",
          "Actinopterygii",
          "Actinopterygii",
          "Actinopterygii",
          "Actinopterygii",
          "Actinopterygii",
          "Actinopterygii",
          "Actinopterygii",
          "Actinopterygii",
          "Actinopterygii",
          "Actinopterygii",
          "Actinopterygii",
          "Actinopterygii",
          "Actinopterygii",
          "Actinopterygii",
          "Actinopterygii",
          "Actinopterygii",
          "Actinopterygii",
          "Actinopterygii",
          "Actinopterygii",
          "Actinopterygii",
          "Actinopterygii",
          "Actinopterygii",
          "Actinopterygii",
          "Actinopterygii",
          "Actinopterygii",
          "Actinopterygii",
          "Actinopterygii",
          "Actinopterygii",
          "Actinopterygii",
          "Actinopterygii",
          "Actinopterygii",
          "Actinopterygii",
          "Actinopterygii",
          "Actinopterygii",
          "Actinopterygii",
          "Actinopterygii",
          "Actinopterygii",
          "Actinopterygii",
          "Actinopterygii",
          "Actinopterygii",
          "Actinopterygii",
          "Actinopterygii",
          "Actinopterygii",
          "Actinopterygii",
          "Actinopterygii",
          "Actinopterygii",
          "Actinopterygii",
          "Actinopterygii",
          "Actinopterygii",
          "Actinopterygii",
          "Actinopterygii",
          "Actinopterygii",
          "Actinopterygii",
          "Actinopterygii",
          "Actinopterygii",
          "Actinopterygii",
          "Actinopterygii",
          "Actinopterygii",
          "Actinopterygii",
          "Actinopterygii",
          "Actinopterygii",
          "Actinopterygii",
          "Actinopterygii",
          "Actinopterygii",
          "Actinopterygii",
          "Actinopterygii",
          "Actinopterygii",
          "Actinopterygii",
          "Actinopterygii",
          "Actinopterygii",
          "Actinopterygii",
          "Actinopterygii",
          "Actinopterygii",
          "Actinopterygii",
          "Actinopterygii",
          "Actinopterygii",
          "Actinopterygii",
          "Actinopterygii",
          "Actinopterygii",
          "Actinopterygii",
          "Actinopterygii",
          "Actinopterygii",
          "Actinopterygii",
          "Actinopterygii",
          "Actinopterygii",
          "Actinopterygii",
          "Actinopterygii",
          "Actinopterygii",
          "Actinopterygii",
          "Actinopterygii",
          "Actinopterygii",
          "Actinopterygii",
          "Actinopterygii",
          "Actinopterygii",
          "Actinopterygii",
          "Actinopterygii",
          "Actinopterygii",
          "Actinopterygii",
          "Actinopterygii",
          "Actinopterygii",
          "Actinopterygii",
          "Actinopterygii",
          "Actinopterygii",
          "Actinopterygii",
          "Actinopterygii",
          "Actinopterygii",
          "Actinopterygii",
          "Actinopterygii",
          "Actinopterygii",
          "Actinopterygii",
          "Actinopterygii",
          "Actinopterygii",
          "Actinopterygii",
          "Actinopterygii",
          "Actinopterygii",
          "Actinopterygii",
          "Actinopterygii",
          "Actinopterygii",
          "Actinopterygii",
          "Actinopterygii",
          "Actinopterygii",
          "Actinopterygii",
          "Actinopterygii",
          "Actinopterygii",
          "Actinopterygii",
          "Actinopterygii",
          "Actinopterygii",
          "Actinopterygii",
          "Actinopterygii",
          "Actinopterygii",
          "Actinopterygii",
          "Actinopterygii",
          "Actinopterygii",
          "Actinopterygii",
          "Actinopterygii",
          "Actinopterygii",
          "Actinopterygii",
          "Actinopterygii",
          "Actinopterygii",
          "Actinopterygii",
          "Actinopterygii",
          "Actinopterygii",
          "Actinopterygii",
          "Actinopterygii",
          "Actinopterygii",
          "Actinopterygii",
          "Actinopterygii",
          "Actinopterygii",
          "Actinopterygii",
          "Actinopterygii",
          "Actinopterygii",
          "Actinopterygii",
          "Actinopterygii",
          "Actinopterygii",
          "Actinopterygii",
          "Actinopterygii",
          "Actinopterygii",
          "Actinopterygii",
          "Actinopterygii",
          "Actinopterygii",
          "Actinopterygii",
          "Actinopterygii",
          "Actinopterygii",
          "Actinopterygii",
          "Actinopterygii",
          "Actinopterygii",
          "Actinopterygii",
          "Actinopterygii",
          "Actinopterygii",
          "Actinopterygii",
          "Actinopterygii",
          "Actinopterygii",
          "Actinopterygii",
          "Actinopterygii",
          "Actinopterygii",
          "Actinopterygii",
          "Actinopterygii",
          "Actinopterygii",
          "Actinopterygii",
          "Actinopterygii",
          "Actinopterygii",
          "Actinopterygii",
          "Actinopterygii",
          "Actinopterygii",
          "Actinopterygii",
          "Actinopterygii",
          "Actinopterygii",
          "Actinopterygii",
          "Actinopterygii",
          "Actinopterygii",
          "Actinopterygii",
          "Actinopterygii",
          "Actinopterygii",
          "Actinopterygii",
          "Actinopterygii",
          "Actinopterygii",
          "Actinopterygii",
          "Actinopterygii",
          "Actinopterygii",
          "Actinopterygii",
          "Actinopterygii",
          "Actinopterygii",
          "Actinopterygii",
          "Actinopterygii",
          "Actinopterygii",
          "Actinopterygii",
          "Actinopterygii",
          "Actinopterygii",
          "Actinopterygii",
          "Actinopterygii",
          "Actinopterygii",
          "Actinopterygii",
          "Actinopterygii",
          "Actinopterygii",
          "Actinopterygii",
          "Actinopterygii",
          "Actinopterygii",
          "Actinopterygii",
          "Actinopterygii",
          "Actinopterygii",
          "Actinopterygii",
          "Actinopterygii",
          "Actinopterygii",
          "Actinopterygii",
          "Actinopterygii",
          "Actinopterygii",
          "Actinopterygii",
          "Actinopterygii",
          "Actinopterygii",
          "Actinopterygii",
          "Actinopterygii",
          "Actinopterygii",
          "Actinopterygii",
          "Actinopterygii",
          "Actinopterygii",
          "Actinopterygii",
          "Actinopterygii",
          "Actinopterygii",
          "Actinopterygii",
          "Actinopterygii",
          "Actinopterygii",
          "Actinopterygii",
          "Actinopterygii",
          "Actinopterygii",
          "Actinopterygii",
          "Actinopterygii",
          "Actinopterygii",
          "Actinopterygii",
          "Actinopterygii",
          "Actinopterygii",
          "Actinopterygii",
          "Actinopterygii",
          "Actinopterygii",
          "Actinopterygii",
          "Actinopterygii",
          "Actinopterygii",
          "Actinopterygii",
          "Actinopterygii",
          "Actinopterygii",
          "Actinopterygii",
          "Actinopterygii",
          "Actinopterygii",
          "Actinopterygii",
          "Actinopterygii",
          "Actinopterygii",
          "Actinopterygii",
          "Actinopterygii",
          "Actinopterygii",
          "Actinopterygii",
          "Actinopterygii",
          "Actinopterygii",
          "Actinopterygii",
          "Actinopterygii",
          "Actinopterygii",
          "Actinopterygii",
          "Actinopterygii",
          "Actinopterygii",
          "Actinopterygii",
          "Actinopterygii",
          "Actinopterygii",
          "Actinopterygii",
          "Actinopterygii",
          "Actinopterygii",
          "Actinopterygii",
          "Actinopterygii",
          "Actinopterygii",
          "Actinopterygii",
          "Actinopterygii",
          "Actinopterygii",
          "Actinopterygii",
          "Actinopterygii",
          "Actinopterygii",
          "Actinopterygii",
          "Actinopterygii",
          "Actinopterygii",
          "Actinopterygii",
          "Actinopterygii",
          "Actinopterygii",
          "Actinopterygii",
          "Actinopterygii",
          "Actinopterygii",
          "Actinopterygii",
          "Actinopterygii",
          "Actinopterygii",
          "Actinopterygii",
          "Actinopterygii",
          "Actinopterygii",
          "Actinopterygii",
          "Actinopterygii",
          "Actinopterygii",
          "Actinopterygii",
          "Actinopterygii",
          "Actinopterygii",
          "Actinopterygii",
          "Actinopterygii",
          "Actinopterygii",
          "Actinopterygii",
          "Actinopterygii",
          "Actinopterygii",
          "Actinopterygii",
          "Actinopterygii",
          "Actinopterygii",
          "Actinopterygii",
          "Actinopterygii",
          "Actinopterygii",
          "Actinopterygii",
          "Actinopterygii",
          "Actinopterygii",
          "Actinopterygii",
          "Actinopterygii",
          "Actinopterygii",
          "Actinopterygii",
          "Actinopterygii",
          "Actinopterygii",
          "Actinopterygii",
          "Actinopterygii",
          "Actinopterygii",
          "Actinopterygii",
          "Actinopterygii",
          "Actinopterygii",
          "Actinopterygii",
          "Actinopterygii"
         ],
         "x0": " ",
         "xaxis": "x",
         "y": {
          "bdata": "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",
          "dtype": "f8"
         },
         "y0": " ",
         "yaxis": "y"
        },
        {
         "alignmentgroup": "True",
         "hovertemplate": "Class=%{x}<br>PC1=%{y}<extra></extra>",
         "legendgroup": "Amphibia",
         "marker": {
          "color": "rgb(166,216,84)"
         },
         "name": "Amphibia",
         "notched": false,
         "offsetgroup": "Amphibia",
         "orientation": "v",
         "showlegend": true,
         "type": "box",
         "x": [
          "Amphibia",
          "Amphibia",
          "Amphibia",
          "Amphibia",
          "Amphibia",
          "Amphibia",
          "Amphibia",
          "Amphibia",
          "Amphibia",
          "Amphibia",
          "Amphibia",
          "Amphibia",
          "Amphibia",
          "Amphibia",
          "Amphibia",
          "Amphibia",
          "Amphibia",
          "Amphibia",
          "Amphibia",
          "Amphibia",
          "Amphibia",
          "Amphibia",
          "Amphibia",
          "Amphibia",
          "Amphibia",
          "Amphibia",
          "Amphibia",
          "Amphibia",
          "Amphibia",
          "Amphibia",
          "Amphibia",
          "Amphibia",
          "Amphibia",
          "Amphibia",
          "Amphibia",
          "Amphibia",
          "Amphibia",
          "Amphibia",
          "Amphibia",
          "Amphibia",
          "Amphibia",
          "Amphibia",
          "Amphibia",
          "Amphibia",
          "Amphibia",
          "Amphibia",
          "Amphibia",
          "Amphibia",
          "Amphibia",
          "Amphibia",
          "Amphibia",
          "Amphibia",
          "Amphibia",
          "Amphibia",
          "Amphibia",
          "Amphibia",
          "Amphibia",
          "Amphibia",
          "Amphibia",
          "Amphibia",
          "Amphibia",
          "Amphibia",
          "Amphibia",
          "Amphibia",
          "Amphibia",
          "Amphibia",
          "Amphibia",
          "Amphibia",
          "Amphibia",
          "Amphibia",
          "Amphibia",
          "Amphibia",
          "Amphibia",
          "Amphibia",
          "Amphibia",
          "Amphibia",
          "Amphibia",
          "Amphibia",
          "Amphibia",
          "Amphibia",
          "Amphibia",
          "Amphibia",
          "Amphibia",
          "Amphibia",
          "Amphibia",
          "Amphibia",
          "Amphibia",
          "Amphibia",
          "Amphibia",
          "Amphibia",
          "Amphibia",
          "Amphibia",
          "Amphibia",
          "Amphibia",
          "Amphibia",
          "Amphibia",
          "Amphibia",
          "Amphibia",
          "Amphibia",
          "Amphibia",
          "Amphibia",
          "Amphibia",
          "Amphibia",
          "Amphibia",
          "Amphibia",
          "Amphibia",
          "Amphibia",
          "Amphibia",
          "Amphibia",
          "Amphibia",
          "Amphibia",
          "Amphibia",
          "Amphibia",
          "Amphibia",
          "Amphibia",
          "Amphibia",
          "Amphibia",
          "Amphibia",
          "Amphibia"
         ],
         "x0": " ",
         "xaxis": "x",
         "y": {
          "bdata": "Xzze39qbBkDeIHz4nLq0PyjQUj5OO+W/zY2x9FnUpb/b6i/pdC/kvx0y3t1y5eI/Z4ueLvaN2j8gpQMqTVnkP69YSQd7B+s/4kRZUm866z/tE5t5AdDov89zv+FJCMy/QXM25OG93L9LPmV3gbDFv04562J7bb8/tsOjI/9nyr+JUXQcLEysv0s4HXnMbK0/KY6bvbDzzr9w2hMXBwDYvzatavRsDcg/KzeDk1I3zj92OwIStNDmP4rwboJ7KOG/7YDMZSy76r9bJNPku17tP1iMNG9Ih+g/kf5p0n7MAkDdF+B1eOjPv/Z3mCH5mc8/Bx4Ic+w5wT/03EYv5O/kv5uixxkyarG/99AS1ZG/7L9Dci5mCH/Qv1MSyHVVF/g/F7vOyfgK3b+QLJ3f+7fwv/5iONY2Wem/6JrdVo0wz7+NjtCebiTav9BILzgtQtE/gRH6hSNrur+5FIjFcw3gv2UlYvFSaeG/psR9ZXgZ1b8HYey6O5Pbv25G5+hLr+C/eOBQaZ8++T/BFIACxXG6v3mlehR1qN2/ZCOXzwMEur81tWhxKIXjv9lvQRoh0Oy/cKaIAcOP6L98pL59GzbLv4Ob738GZeW/L5TYlLs39L+PkgLyB9Dzv98b99uVXXs/e601tktix787hT276VXivwlmnwLLgOi/8BJHROnD57/Q2drsyzrjv8/39dHMouG/NDB79izV7r/nj3110c7fvxZElMPAQ6q/rbbkzXDy4r+X1m9edk3rv2XQF94iebg/8sTu5sNz0T/1nz77NYiyv0etY8tk/fS/AyAcaWAg37+1PxcXA7fkv8SFhi4sl+K/14lNKIO13L/vYbcxBKeYP64LywspDfK/Ip2ztQyL379BsNc3LBDzvym7llNNjPS/KQ6C1t518b/GGMN79Arwv0XMaYuGJ9Y/fg0nk1DG17/2Z+ljKBfwv4yBQry9Svu/hGAwuQ8z87+3Ue06N9vqv6QNFZXEJ/G/ACf2yLRe379RYlARleDnv5g+qP2N6Oe/LFg4MtwA1r+IVJgeSNrAv1u/H0uVwuq/20Xvk1l+4L85pigiYC7cv/om+k3scd2//u7MasZV2b/CGmdYc+3iv0PWYh+YJvC/Cj1hoKwW8L974y4k83Pnv4I7X7hhdcW/Z2taphMB4r9yr9rX5Uravw36qOu5QeG/G91V4LjE1b+5RMLMKFDwv/CIet6uqeG/83Qpe1kd1L/kDwHPLm7jvz8KQxINNvG/maqXxgmHvD9vPh4o3IX1vw==",
          "dtype": "f8"
         },
         "y0": " ",
         "yaxis": "y"
        },
        {
         "alignmentgroup": "True",
         "hovertemplate": "Class=%{x}<br>PC1=%{y}<extra></extra>",
         "legendgroup": "Reptilia",
         "marker": {
          "color": "rgb(255,217,47)"
         },
         "name": "Reptilia",
         "notched": false,
         "offsetgroup": "Reptilia",
         "orientation": "v",
         "showlegend": true,
         "type": "box",
         "x": [
          "Reptilia",
          "Reptilia",
          "Reptilia",
          "Reptilia",
          "Reptilia",
          "Reptilia",
          "Reptilia",
          "Reptilia",
          "Reptilia",
          "Reptilia",
          "Reptilia",
          "Reptilia",
          "Reptilia",
          "Reptilia",
          "Reptilia",
          "Reptilia",
          "Reptilia",
          "Reptilia",
          "Reptilia",
          "Reptilia",
          "Reptilia",
          "Reptilia",
          "Reptilia",
          "Reptilia",
          "Reptilia",
          "Reptilia",
          "Reptilia",
          "Reptilia",
          "Reptilia",
          "Reptilia",
          "Reptilia",
          "Reptilia",
          "Reptilia",
          "Reptilia",
          "Reptilia",
          "Reptilia",
          "Reptilia",
          "Reptilia",
          "Reptilia",
          "Reptilia",
          "Reptilia",
          "Reptilia",
          "Reptilia",
          "Reptilia",
          "Reptilia",
          "Reptilia",
          "Reptilia",
          "Reptilia",
          "Reptilia",
          "Reptilia",
          "Reptilia",
          "Reptilia",
          "Reptilia",
          "Reptilia",
          "Reptilia",
          "Reptilia",
          "Reptilia",
          "Reptilia",
          "Reptilia",
          "Reptilia",
          "Reptilia",
          "Reptilia",
          "Reptilia",
          "Reptilia",
          "Reptilia",
          "Reptilia",
          "Reptilia",
          "Reptilia",
          "Reptilia",
          "Reptilia",
          "Reptilia",
          "Reptilia",
          "Reptilia",
          "Reptilia",
          "Reptilia",
          "Reptilia",
          "Reptilia",
          "Reptilia",
          "Reptilia",
          "Reptilia",
          "Reptilia",
          "Reptilia",
          "Reptilia",
          "Reptilia",
          "Reptilia",
          "Reptilia",
          "Reptilia",
          "Reptilia",
          "Reptilia",
          "Reptilia",
          "Reptilia",
          "Reptilia",
          "Reptilia",
          "Reptilia",
          "Reptilia",
          "Reptilia",
          "Reptilia",
          "Reptilia",
          "Reptilia",
          "Reptilia",
          "Reptilia",
          "Reptilia",
          "Reptilia",
          "Reptilia",
          "Reptilia",
          "Reptilia",
          "Reptilia",
          "Reptilia",
          "Reptilia",
          "Reptilia",
          "Reptilia",
          "Reptilia",
          "Reptilia",
          "Reptilia",
          "Reptilia",
          "Reptilia",
          "Reptilia",
          "Reptilia",
          "Reptilia",
          "Reptilia",
          "Reptilia",
          "Reptilia",
          "Reptilia",
          "Reptilia",
          "Reptilia"
         ],
         "x0": " ",
         "xaxis": "x",
         "y": {
          "bdata": "TuHknMSU8j9u6hp9vlf2P2G/1UAkpbO/2rzO1EXkyj/0FpGvl5LKP7evU+SwZNA/SDopW9rkwT983QQVXS/SP57JpgMfYQFATUMQR8z+yT+8S9jc26PqP3N8nnvEigFA7KmnSsNr9T/h3RuRgmrkvzi2G6G1p6W/+azs2Qqo/z/IfG2bu9D/P1aPTUiNALy/GFm51apY6D+z/NDMjUQEQLBATTC/bau/l7AKDpWv8T9o4YFOtEKiP6yKQfQHRN0/5c2TI7IC7j84XEoPE5/wP/Ch93n1NPA/AB7JVQGtuD/kC+4eEAG7P4APv8L4EdU/GHxtT4hTgb+JbZ8pIiXlP+czIVTfTbk/SL+518NO0r+rKUzjsvUGQK8Qi+G3+w5AJB0gcrhaA0AH8mQqKuzePzlz+FZPeeU/JbqzgEJE4r8+2vBDDuP1P5PBazmndNm/8nzqXZXxzb+AKD8HTUnsvxW077t+ydq/dmWgitCa279dk9gFNYzsPzVYxCT6ZPo/fXwcPsKI7T+E0WfL2kXxP+sShoQnD9k/j1Glp+HD4D8dl6NTvAnQP5h2JaGTgMc/DxorReAlEEA3emi1bncMQEiXb28sYRJAWaFF9bhTDkDEXgSsCaMOQJelirTXEApAkbd2sCaXCECmJaNC4wQQQAD5yiGonQ1ANMfKkJIAC0AFXgF44noCQGpq1974RgpA5c8TR+elBUAOlFXc7AIIQM9hRgbdhgNAglB2EBurAUDVLHbXYi76P3WJWiEdNQNAQLCydl0TAEB1iBv91Bz7P57xvXtXngRA/d6+WQ6AA0A5dHwe8LUAQJGzYxX6AwVA1VLEkVNoBkDlFSd44doCQDWe5duSz/0/LQT0yIQrCEB2s+r8sscHQMTvLenjLgVA+dGQHN4aAEC1iCGk10oFQIJMntnNvAZAfIUSnlMMBkCH2WBy01L4P5cHyEP3YPo/MOLhb8HgC0C4vUALWFYHQA5d6VRJlwxAVJpMFzFFA0B4yZoQmTICQLV2+89smP4/gIRLrWCGAUBQSWsCSHQFQMnmbiLxGgFAvCWE9VQJBkB3LXqwK+EHQMCfE6FqVgxAe2FOqNcEEUCfXPg5oU0TQDwSqQjyJwVAVT8BkftXAEAbVmRExeEPQEk+g1tdSAJAHN9aCTpCCkBLsPmRLvX8P5SIC4scowxAb6tCjuIDD0AhPMzA51IQQKDrbscU9AlAxJYpAJ/uC0BWKTW9x5oMQBf3zFIEGRBAt1OKKOROEUBImOk9hRkQQJSvTDQG1Q5AJ8uf5iBeEkC28se+T3wNQNbtey9UfQ5Azoi40mGbD0B8Z3AMgHwOQA==",
          "dtype": "f8"
         },
         "y0": " ",
         "yaxis": "y"
        },
        {
         "alignmentgroup": "True",
         "hovertemplate": "Class=%{x}<br>PC1=%{y}<extra></extra>",
         "legendgroup": "Aves",
         "marker": {
          "color": "rgb(229,196,148)"
         },
         "name": "Aves",
         "notched": false,
         "offsetgroup": "Aves",
         "orientation": "v",
         "showlegend": true,
         "type": "box",
         "x": [
          "Aves",
          "Aves",
          "Aves",
          "Aves",
          "Aves",
          "Aves",
          "Aves",
          "Aves",
          "Aves",
          "Aves",
          "Aves",
          "Aves",
          "Aves",
          "Aves",
          "Aves",
          "Aves",
          "Aves",
          "Aves",
          "Aves",
          "Aves",
          "Aves",
          "Aves",
          "Aves",
          "Aves",
          "Aves",
          "Aves",
          "Aves",
          "Aves",
          "Aves",
          "Aves",
          "Aves",
          "Aves",
          "Aves",
          "Aves",
          "Aves",
          "Aves",
          "Aves",
          "Aves",
          "Aves",
          "Aves",
          "Aves"
         ],
         "x0": " ",
         "xaxis": "x",
         "y": {
          "bdata": "YMPIjcEaEECNQUv1gaf7Pzx6ghqZtAhA843Efy7TCUDoyKFxjhwNQN9Ps9/YvwBA9dtS9emb+D/NKtTxzw4HQEsrc0G3xfw/8K/p1M3a8j/Z9vR7QX78P1sDEceRxP4/9laUxR9g7T87AcbSIDMHQMOhwaR3fQJAfyK/FgSx+D8gy2jtG6cAQPnGzJ4o/gRAIuE5klF0A0A2AhMZ62cBQMo3XCYEgvI/jPcX5IhQ7z8iuLEwg9rFv3DWN9Sb6wNAFUyhlh+lBECYrgaRK6UOQAp1AQuU1QNAeqZ4nFUtB0C8bDzIy6IKQGVL2CFg2/s/j7oth+aOAUCOItLxi3bZP8e6P6IEO/o/MRAw0V9y+j8dfFwmkOAJQGN4rVcuDfA/98Pz9DAVAEB7TgiYN5IFQAGSFbUrtOg/CvkCKd077D8SZZFIAcbXPw==",
          "dtype": "f8"
         },
         "y0": " ",
         "yaxis": "y"
        },
        {
         "alignmentgroup": "True",
         "hovertemplate": "Class=%{x}<br>PC1=%{y}<extra></extra>",
         "legendgroup": "Mammalia",
         "marker": {
          "color": "rgb(179,179,179)"
         },
         "name": "Mammalia",
         "notched": false,
         "offsetgroup": "Mammalia",
         "orientation": "v",
         "showlegend": true,
         "type": "box",
         "x": [
          "Mammalia",
          "Mammalia"
         ],
         "x0": " ",
         "xaxis": "x",
         "y": {
          "bdata": "uJ+SYbte/T8XA+pR0YUBQA==",
          "dtype": "f8"
         },
         "y0": " ",
         "yaxis": "y"
        }
       ],
       "layout": {
        "annotations": [
         {
          "font": {
           "color": "black",
           "size": 14
          },
          "showarrow": false,
          "text": "a",
          "x": "Actinopterygii",
          "y": 3.6779811758685543,
          "yanchor": "bottom"
         },
         {
          "font": {
           "color": "black",
           "size": 14
          },
          "showarrow": false,
          "text": "ab",
          "x": "Amphibia",
          "y": 3.32610106369934,
          "yanchor": "bottom"
         },
         {
          "font": {
           "color": "black",
           "size": 14
          },
          "showarrow": false,
          "text": "c",
          "x": "Ascidiacea",
          "y": -0.7316083502321216,
          "yanchor": "bottom"
         },
         {
          "font": {
           "color": "black",
           "size": 14
          },
          "showarrow": false,
          "text": "d",
          "x": "Aves",
          "y": 4.526128974321949,
          "yanchor": "bottom"
         },
         {
          "font": {
           "color": "black",
           "size": 14
          },
          "showarrow": false,
          "text": "e",
          "x": "Chondrichthyes",
          "y": 6.953533827964884,
          "yanchor": "bottom"
         },
         {
          "font": {
           "color": "black",
           "size": 14
          },
          "showarrow": false,
          "text": "ac",
          "x": "Leptocardii",
          "y": -2.1592530244357757,
          "yanchor": "bottom"
         },
         {
          "font": {
           "color": "black",
           "size": 14
          },
          "showarrow": false,
          "text": "bde",
          "x": "Mammalia",
          "y": 2.6903406524219338,
          "yanchor": "bottom"
         },
         {
          "font": {
           "color": "black",
           "size": 14
          },
          "showarrow": false,
          "text": "d",
          "x": "Reptilia",
          "y": 5.325810342582513,
          "yanchor": "bottom"
         }
        ],
        "boxmode": "overlay",
        "height": 600,
        "legend": {
         "title": {
          "text": "Class"
         },
         "tracegroupgap": 0
        },
        "margin": {
         "t": 60
        },
        "template": {
         "data": {
          "bar": [
           {
            "error_x": {
             "color": "#2a3f5f"
            },
            "error_y": {
             "color": "#2a3f5f"
            },
            "marker": {
             "line": {
              "color": "#E5ECF6",
              "width": 0.5
             },
             "pattern": {
              "fillmode": "overlay",
              "size": 10,
              "solidity": 0.2
             }
            },
            "type": "bar"
           }
          ],
          "barpolar": [
           {
            "marker": {
             "line": {
              "color": "#E5ECF6",
              "width": 0.5
             },
             "pattern": {
              "fillmode": "overlay",
              "size": 10,
              "solidity": 0.2
             }
            },
            "type": "barpolar"
           }
          ],
          "carpet": [
           {
            "aaxis": {
             "endlinecolor": "#2a3f5f",
             "gridcolor": "white",
             "linecolor": "white",
             "minorgridcolor": "white",
             "startlinecolor": "#2a3f5f"
            },
            "baxis": {
             "endlinecolor": "#2a3f5f",
             "gridcolor": "white",
             "linecolor": "white",
             "minorgridcolor": "white",
             "startlinecolor": "#2a3f5f"
            },
            "type": "carpet"
           }
          ],
          "choropleth": [
           {
            "colorbar": {
             "outlinewidth": 0,
             "ticks": ""
            },
            "type": "choropleth"
           }
          ],
          "contour": [
           {
            "colorbar": {
             "outlinewidth": 0,
             "ticks": ""
            },
            "colorscale": [
             [
              0,
              "#0d0887"
             ],
             [
              0.1111111111111111,
              "#46039f"
             ],
             [
              0.2222222222222222,
              "#7201a8"
             ],
             [
              0.3333333333333333,
              "#9c179e"
             ],
             [
              0.4444444444444444,
              "#bd3786"
             ],
             [
              0.5555555555555556,
              "#d8576b"
             ],
             [
              0.6666666666666666,
              "#ed7953"
             ],
             [
              0.7777777777777778,
              "#fb9f3a"
             ],
             [
              0.8888888888888888,
              "#fdca26"
             ],
             [
              1,
              "#f0f921"
             ]
            ],
            "type": "contour"
           }
          ],
          "contourcarpet": [
           {
            "colorbar": {
             "outlinewidth": 0,
             "ticks": ""
            },
            "type": "contourcarpet"
           }
          ],
          "heatmap": [
           {
            "colorbar": {
             "outlinewidth": 0,
             "ticks": ""
            },
            "colorscale": [
             [
              0,
              "#0d0887"
             ],
             [
              0.1111111111111111,
              "#46039f"
             ],
             [
              0.2222222222222222,
              "#7201a8"
             ],
             [
              0.3333333333333333,
              "#9c179e"
             ],
             [
              0.4444444444444444,
              "#bd3786"
             ],
             [
              0.5555555555555556,
              "#d8576b"
             ],
             [
              0.6666666666666666,
              "#ed7953"
             ],
             [
              0.7777777777777778,
              "#fb9f3a"
             ],
             [
              0.8888888888888888,
              "#fdca26"
             ],
             [
              1,
              "#f0f921"
             ]
            ],
            "type": "heatmap"
           }
          ],
          "histogram": [
           {
            "marker": {
             "pattern": {
              "fillmode": "overlay",
              "size": 10,
              "solidity": 0.2
             }
            },
            "type": "histogram"
           }
          ],
          "histogram2d": [
           {
            "colorbar": {
             "outlinewidth": 0,
             "ticks": ""
            },
            "colorscale": [
             [
              0,
              "#0d0887"
             ],
             [
              0.1111111111111111,
              "#46039f"
             ],
             [
              0.2222222222222222,
              "#7201a8"
             ],
             [
              0.3333333333333333,
              "#9c179e"
             ],
             [
              0.4444444444444444,
              "#bd3786"
             ],
             [
              0.5555555555555556,
              "#d8576b"
             ],
             [
              0.6666666666666666,
              "#ed7953"
             ],
             [
              0.7777777777777778,
              "#fb9f3a"
             ],
             [
              0.8888888888888888,
              "#fdca26"
             ],
             [
              1,
              "#f0f921"
             ]
            ],
            "type": "histogram2d"
           }
          ],
          "histogram2dcontour": [
           {
            "colorbar": {
             "outlinewidth": 0,
             "ticks": ""
            },
            "colorscale": [
             [
              0,
              "#0d0887"
             ],
             [
              0.1111111111111111,
              "#46039f"
             ],
             [
              0.2222222222222222,
              "#7201a8"
             ],
             [
              0.3333333333333333,
              "#9c179e"
             ],
             [
              0.4444444444444444,
              "#bd3786"
             ],
             [
              0.5555555555555556,
              "#d8576b"
             ],
             [
              0.6666666666666666,
              "#ed7953"
             ],
             [
              0.7777777777777778,
              "#fb9f3a"
             ],
             [
              0.8888888888888888,
              "#fdca26"
             ],
             [
              1,
              "#f0f921"
             ]
            ],
            "type": "histogram2dcontour"
           }
          ],
          "mesh3d": [
           {
            "colorbar": {
             "outlinewidth": 0,
             "ticks": ""
            },
            "type": "mesh3d"
           }
          ],
          "parcoords": [
           {
            "line": {
             "colorbar": {
              "outlinewidth": 0,
              "ticks": ""
             }
            },
            "type": "parcoords"
           }
          ],
          "pie": [
           {
            "automargin": true,
            "type": "pie"
           }
          ],
          "scatter": [
           {
            "fillpattern": {
             "fillmode": "overlay",
             "size": 10,
             "solidity": 0.2
            },
            "type": "scatter"
           }
          ],
          "scatter3d": [
           {
            "line": {
             "colorbar": {
              "outlinewidth": 0,
              "ticks": ""
             }
            },
            "marker": {
             "colorbar": {
              "outlinewidth": 0,
              "ticks": ""
             }
            },
            "type": "scatter3d"
           }
          ],
          "scattercarpet": [
           {
            "marker": {
             "colorbar": {
              "outlinewidth": 0,
              "ticks": ""
             }
            },
            "type": "scattercarpet"
           }
          ],
          "scattergeo": [
           {
            "marker": {
             "colorbar": {
              "outlinewidth": 0,
              "ticks": ""
             }
            },
            "type": "scattergeo"
           }
          ],
          "scattergl": [
           {
            "marker": {
             "colorbar": {
              "outlinewidth": 0,
              "ticks": ""
             }
            },
            "type": "scattergl"
           }
          ],
          "scattermap": [
           {
            "marker": {
             "colorbar": {
              "outlinewidth": 0,
              "ticks": ""
             }
            },
            "type": "scattermap"
           }
          ],
          "scattermapbox": [
           {
            "marker": {
             "colorbar": {
              "outlinewidth": 0,
              "ticks": ""
             }
            },
            "type": "scattermapbox"
           }
          ],
          "scatterpolar": [
           {
            "marker": {
             "colorbar": {
              "outlinewidth": 0,
              "ticks": ""
             }
            },
            "type": "scatterpolar"
           }
          ],
          "scatterpolargl": [
           {
            "marker": {
             "colorbar": {
              "outlinewidth": 0,
              "ticks": ""
             }
            },
            "type": "scatterpolargl"
           }
          ],
          "scatterternary": [
           {
            "marker": {
             "colorbar": {
              "outlinewidth": 0,
              "ticks": ""
             }
            },
            "type": "scatterternary"
           }
          ],
          "surface": [
           {
            "colorbar": {
             "outlinewidth": 0,
             "ticks": ""
            },
            "colorscale": [
             [
              0,
              "#0d0887"
             ],
             [
              0.1111111111111111,
              "#46039f"
             ],
             [
              0.2222222222222222,
              "#7201a8"
             ],
             [
              0.3333333333333333,
              "#9c179e"
             ],
             [
              0.4444444444444444,
              "#bd3786"
             ],
             [
              0.5555555555555556,
              "#d8576b"
             ],
             [
              0.6666666666666666,
              "#ed7953"
             ],
             [
              0.7777777777777778,
              "#fb9f3a"
             ],
             [
              0.8888888888888888,
              "#fdca26"
             ],
             [
              1,
              "#f0f921"
             ]
            ],
            "type": "surface"
           }
          ],
          "table": [
           {
            "cells": {
             "fill": {
              "color": "#EBF0F8"
             },
             "line": {
              "color": "white"
             }
            },
            "header": {
             "fill": {
              "color": "#C8D4E3"
             },
             "line": {
              "color": "white"
             }
            },
            "type": "table"
           }
          ]
         },
         "layout": {
          "annotationdefaults": {
           "arrowcolor": "#2a3f5f",
           "arrowhead": 0,
           "arrowwidth": 1
          },
          "autotypenumbers": "strict",
          "coloraxis": {
           "colorbar": {
            "outlinewidth": 0,
            "ticks": ""
           }
          },
          "colorscale": {
           "diverging": [
            [
             0,
             "#8e0152"
            ],
            [
             0.1,
             "#c51b7d"
            ],
            [
             0.2,
             "#de77ae"
            ],
            [
             0.3,
             "#f1b6da"
            ],
            [
             0.4,
             "#fde0ef"
            ],
            [
             0.5,
             "#f7f7f7"
            ],
            [
             0.6,
             "#e6f5d0"
            ],
            [
             0.7,
             "#b8e186"
            ],
            [
             0.8,
             "#7fbc41"
            ],
            [
             0.9,
             "#4d9221"
            ],
            [
             1,
             "#276419"
            ]
           ],
           "sequential": [
            [
             0,
             "#0d0887"
            ],
            [
             0.1111111111111111,
             "#46039f"
            ],
            [
             0.2222222222222222,
             "#7201a8"
            ],
            [
             0.3333333333333333,
             "#9c179e"
            ],
            [
             0.4444444444444444,
             "#bd3786"
            ],
            [
             0.5555555555555556,
             "#d8576b"
            ],
            [
             0.6666666666666666,
             "#ed7953"
            ],
            [
             0.7777777777777778,
             "#fb9f3a"
            ],
            [
             0.8888888888888888,
             "#fdca26"
            ],
            [
             1,
             "#f0f921"
            ]
           ],
           "sequentialminus": [
            [
             0,
             "#0d0887"
            ],
            [
             0.1111111111111111,
             "#46039f"
            ],
            [
             0.2222222222222222,
             "#7201a8"
            ],
            [
             0.3333333333333333,
             "#9c179e"
            ],
            [
             0.4444444444444444,
             "#bd3786"
            ],
            [
             0.5555555555555556,
             "#d8576b"
            ],
            [
             0.6666666666666666,
             "#ed7953"
            ],
            [
             0.7777777777777778,
             "#fb9f3a"
            ],
            [
             0.8888888888888888,
             "#fdca26"
            ],
            [
             1,
             "#f0f921"
            ]
           ]
          },
          "colorway": [
           "#636efa",
           "#EF553B",
           "#00cc96",
           "#ab63fa",
           "#FFA15A",
           "#19d3f3",
           "#FF6692",
           "#B6E880",
           "#FF97FF",
           "#FECB52"
          ],
          "font": {
           "color": "#2a3f5f"
          },
          "geo": {
           "bgcolor": "white",
           "lakecolor": "white",
           "landcolor": "#E5ECF6",
           "showlakes": true,
           "showland": true,
           "subunitcolor": "white"
          },
          "hoverlabel": {
           "align": "left"
          },
          "hovermode": "closest",
          "mapbox": {
           "style": "light"
          },
          "paper_bgcolor": "white",
          "plot_bgcolor": "#E5ECF6",
          "polar": {
           "angularaxis": {
            "gridcolor": "white",
            "linecolor": "white",
            "ticks": ""
           },
           "bgcolor": "#E5ECF6",
           "radialaxis": {
            "gridcolor": "white",
            "linecolor": "white",
            "ticks": ""
           }
          },
          "scene": {
           "xaxis": {
            "backgroundcolor": "#E5ECF6",
            "gridcolor": "white",
            "gridwidth": 2,
            "linecolor": "white",
            "showbackground": true,
            "ticks": "",
            "zerolinecolor": "white"
           },
           "yaxis": {
            "backgroundcolor": "#E5ECF6",
            "gridcolor": "white",
            "gridwidth": 2,
            "linecolor": "white",
            "showbackground": true,
            "ticks": "",
            "zerolinecolor": "white"
           },
           "zaxis": {
            "backgroundcolor": "#E5ECF6",
            "gridcolor": "white",
            "gridwidth": 2,
            "linecolor": "white",
            "showbackground": true,
            "ticks": "",
            "zerolinecolor": "white"
           }
          },
          "shapedefaults": {
           "line": {
            "color": "#2a3f5f"
           }
          },
          "ternary": {
           "aaxis": {
            "gridcolor": "white",
            "linecolor": "white",
            "ticks": ""
           },
           "baxis": {
            "gridcolor": "white",
            "linecolor": "white",
            "ticks": ""
           },
           "bgcolor": "#E5ECF6",
           "caxis": {
            "gridcolor": "white",
            "linecolor": "white",
            "ticks": ""
           }
          },
          "title": {
           "x": 0.05
          },
          "xaxis": {
           "automargin": true,
           "gridcolor": "white",
           "linecolor": "white",
           "ticks": "",
           "title": {
            "standoff": 15
           },
           "zerolinecolor": "white",
           "zerolinewidth": 2
          },
          "yaxis": {
           "automargin": true,
           "gridcolor": "white",
           "linecolor": "white",
           "ticks": "",
           "title": {
            "standoff": 15
           },
           "zerolinecolor": "white",
           "zerolinewidth": 2
          }
         }
        },
        "title": {
         "text": "Boxplot of PC1 by class"
        },
        "xaxis": {
         "anchor": "y",
         "categoryarray": [
          "Leptocardii",
          "Ascidiacea",
          "Chondrichthyes",
          "Actinopterygii",
          "Amphibia",
          "Reptilia",
          "Aves",
          "Mammalia"
         ],
         "categoryorder": "array",
         "domain": [
          0,
          1
         ],
         "title": {
          "text": "Class"
         }
        },
        "yaxis": {
         "anchor": "x",
         "domain": [
          0,
          1
         ],
         "title": {
          "text": "PC1"
         }
        }
       }
      }
     },
     "metadata": {},
     "output_type": "display_data"
    }
   ],
   "source": [
    "fig = px.box(\n",
    "    chordata_data,\n",
    "    x=\"Class\",         \n",
    "    y=\"PC1\",           \n",
    "    color=\"Class\",     \n",
    "    color_discrete_sequence=px.colors.qualitative.Set2,\n",
    "    # category_orders={\"Class\": ordered_classes},\n",
    ")\n",
    "\n",
    "y_positions = chordata_data.groupby(\"Class\")[\"PC1\"].max() + 0.5  \n",
    "\n",
    "for cls, y in y_positions.items():\n",
    "    fig.add_annotation(\n",
    "        x=cls,\n",
    "        y=y,\n",
    "        text=group_letters.get(cls, ''),\n",
    "        showarrow=False,\n",
    "        font=dict(size=14, color='black'),\n",
    "        yanchor=\"bottom\"\n",
    "    )\n",
    "\n",
    "fig.update_layout(\n",
    "    title=\"Boxplot of PC1 by class\",\n",
    "    xaxis_title=\"Class\",\n",
    "    yaxis_title=\"PC1\",\n",
    "    height=600\n",
    ")\n",
    "\n",
    "fig.show()\n",
    "#save\n",
    "fig.write_html(\"../figures/boxplot_class_tukey.html\")\n"
   ]
  },
  {
   "cell_type": "code",
   "execution_count": 81,
   "id": "49335df8",
   "metadata": {},
   "outputs": [
    {
     "data": {
      "text/html": [
       "<div>\n",
       "<style scoped>\n",
       "    .dataframe tbody tr th:only-of-type {\n",
       "        vertical-align: middle;\n",
       "    }\n",
       "\n",
       "    .dataframe tbody tr th {\n",
       "        vertical-align: top;\n",
       "    }\n",
       "\n",
       "    .dataframe thead th {\n",
       "        text-align: right;\n",
       "    }\n",
       "</style>\n",
       "<table border=\"1\" class=\"dataframe\">\n",
       "  <thead>\n",
       "    <tr style=\"text-align: right;\">\n",
       "      <th></th>\n",
       "      <th>Leptocardii</th>\n",
       "      <th>Ascidiacea</th>\n",
       "      <th>Chondrichthyes</th>\n",
       "      <th>Actinopterygii</th>\n",
       "      <th>Amphibia</th>\n",
       "      <th>Reptilia</th>\n",
       "      <th>Aves</th>\n",
       "      <th>Mammalia</th>\n",
       "    </tr>\n",
       "  </thead>\n",
       "  <tbody>\n",
       "    <tr>\n",
       "      <th>Leptocardii</th>\n",
       "      <td>1.000000e+00</td>\n",
       "      <td>1.000000e+00</td>\n",
       "      <td>1.567790e-07</td>\n",
       "      <td>0.418560</td>\n",
       "      <td>0.407008</td>\n",
       "      <td>5.718721e-04</td>\n",
       "      <td>5.918434e-04</td>\n",
       "      <td>0.011733</td>\n",
       "    </tr>\n",
       "    <tr>\n",
       "      <th>Ascidiacea</th>\n",
       "      <td>1.000000e+00</td>\n",
       "      <td>1.000000e+00</td>\n",
       "      <td>0.000000e+00</td>\n",
       "      <td>0.009541</td>\n",
       "      <td>0.009326</td>\n",
       "      <td>2.131451e-11</td>\n",
       "      <td>5.083356e-11</td>\n",
       "      <td>0.000108</td>\n",
       "    </tr>\n",
       "    <tr>\n",
       "      <th>Chondrichthyes</th>\n",
       "      <td>1.567790e-07</td>\n",
       "      <td>0.000000e+00</td>\n",
       "      <td>1.000000e+00</td>\n",
       "      <td>0.000000</td>\n",
       "      <td>0.000000</td>\n",
       "      <td>0.000000e+00</td>\n",
       "      <td>1.469133e-10</td>\n",
       "      <td>0.281432</td>\n",
       "    </tr>\n",
       "    <tr>\n",
       "      <th>Actinopterygii</th>\n",
       "      <td>4.185598e-01</td>\n",
       "      <td>9.541362e-03</td>\n",
       "      <td>0.000000e+00</td>\n",
       "      <td>1.000000</td>\n",
       "      <td>0.999997</td>\n",
       "      <td>0.000000e+00</td>\n",
       "      <td>0.000000e+00</td>\n",
       "      <td>0.044420</td>\n",
       "    </tr>\n",
       "    <tr>\n",
       "      <th>Amphibia</th>\n",
       "      <td>4.070085e-01</td>\n",
       "      <td>9.326181e-03</td>\n",
       "      <td>0.000000e+00</td>\n",
       "      <td>0.999997</td>\n",
       "      <td>1.000000</td>\n",
       "      <td>0.000000e+00</td>\n",
       "      <td>0.000000e+00</td>\n",
       "      <td>0.052418</td>\n",
       "    </tr>\n",
       "    <tr>\n",
       "      <th>Reptilia</th>\n",
       "      <td>5.718721e-04</td>\n",
       "      <td>2.131451e-11</td>\n",
       "      <td>0.000000e+00</td>\n",
       "      <td>0.000000</td>\n",
       "      <td>0.000000</td>\n",
       "      <td>1.000000e+00</td>\n",
       "      <td>9.999999e-01</td>\n",
       "      <td>1.000000</td>\n",
       "    </tr>\n",
       "    <tr>\n",
       "      <th>Aves</th>\n",
       "      <td>5.918434e-04</td>\n",
       "      <td>5.083356e-11</td>\n",
       "      <td>1.469133e-10</td>\n",
       "      <td>0.000000</td>\n",
       "      <td>0.000000</td>\n",
       "      <td>9.999999e-01</td>\n",
       "      <td>1.000000e+00</td>\n",
       "      <td>1.000000</td>\n",
       "    </tr>\n",
       "    <tr>\n",
       "      <th>Mammalia</th>\n",
       "      <td>1.173325e-02</td>\n",
       "      <td>1.078110e-04</td>\n",
       "      <td>2.814323e-01</td>\n",
       "      <td>0.044420</td>\n",
       "      <td>0.052418</td>\n",
       "      <td>1.000000e+00</td>\n",
       "      <td>1.000000e+00</td>\n",
       "      <td>1.000000</td>\n",
       "    </tr>\n",
       "  </tbody>\n",
       "</table>\n",
       "</div>"
      ],
      "text/plain": [
       "                 Leptocardii    Ascidiacea  ...          Aves  Mammalia\n",
       "Leptocardii     1.000000e+00  1.000000e+00  ...  5.918434e-04  0.011733\n",
       "Ascidiacea      1.000000e+00  1.000000e+00  ...  5.083356e-11  0.000108\n",
       "Chondrichthyes  1.567790e-07  0.000000e+00  ...  1.469133e-10  0.281432\n",
       "Actinopterygii  4.185598e-01  9.541362e-03  ...  0.000000e+00  0.044420\n",
       "Amphibia        4.070085e-01  9.326181e-03  ...  0.000000e+00  0.052418\n",
       "Reptilia        5.718721e-04  2.131451e-11  ...  9.999999e-01  1.000000\n",
       "Aves            5.918434e-04  5.083356e-11  ...  1.000000e+00  1.000000\n",
       "Mammalia        1.173325e-02  1.078110e-04  ...  1.000000e+00  1.000000\n",
       "\n",
       "[8 rows x 8 columns]"
      ]
     },
     "execution_count": 81,
     "metadata": {},
     "output_type": "execute_result"
    }
   ],
   "source": [
    "import scikit_posthocs as sp\n",
    "\n",
    "sp.posthoc_tukey(chordata_data, val_col=\"PC1\", group_col=\"Class\")\n"
   ]
  }
 ],
 "metadata": {
  "kernelspec": {
   "display_name": ".venv",
   "language": "python",
   "name": "python3"
  },
  "language_info": {
   "codemirror_mode": {
    "name": "ipython",
    "version": 3
   },
   "file_extension": ".py",
   "mimetype": "text/x-python",
   "name": "python",
   "nbconvert_exporter": "python",
   "pygments_lexer": "ipython3",
   "version": "3.12.10"
  }
 },
 "nbformat": 4,
 "nbformat_minor": 5
}

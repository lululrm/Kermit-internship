{
 "cells": [
  {
   "cell_type": "markdown",
   "id": "8286302c",
   "metadata": {},
   "source": [
    "# 3D PCA and visualisation"
   ]
  },
  {
   "cell_type": "code",
   "execution_count": 2,
   "id": "0946abc1",
   "metadata": {},
   "outputs": [],
   "source": [
    "import pandas as pd\n",
    "import numpy as np\n",
    "import matplotlib.pyplot as plt\n",
    "import seaborn as sns\n",
    "from sklearn.decomposition import PCA\n",
    "from sklearn.preprocessing import StandardScaler\n",
    "\n",
    "import plotly.express as px\n",
    "import plotly.graph_objects as go"
   ]
  },
  {
   "cell_type": "code",
   "execution_count": 3,
   "id": "5dd4905f",
   "metadata": {},
   "outputs": [],
   "source": [
    "df_life = pd.read_csv('data/lifehistory_df.csv')\n",
    "df_basiceco = pd.read_csv('data/basicecodf.csv')\n",
    "df_species = pd.read_csv(\"data/species.csv\")\n",
    "df_food = pd.read_csv(\"data/fooddf.csv\")\n",
    "df_habitat = pd.read_csv(\"data/habitatdf.csv\")"
   ]
  },
  {
   "cell_type": "code",
   "execution_count": null,
   "id": "f9f502c2",
   "metadata": {},
   "outputs": [],
   "source": [
    "#PCA\n",
    "features = df_life[[\"am\", \"Wwi\", \"Ri\", \"Wwb\", \"Li\", \"ab\"]]\n",
    "X = StandardScaler().fit_transform(features)\n",
    "\n",
    "X_std = StandardScaler().fit_transform(X)\n",
    "\n",
    "pca = PCA(n_components=3)\n",
    "principal_components = pca.fit_transform(X_std)\n",
    "explained_var = pca.explained_variance_ratio_ * 100\n",
    "\n",
    "# DataFrame PCA\n",
    "pca_df = pd.DataFrame(data=principal_components, columns=[\"PC1\", \"PC2\", \"PC3\"])\n",
    "pca_df[\"species\"] = df_life[\"species\"]\n",
    "final_df=pca_df.copy()\n",
    "\n",
    "final_df['Wwi'] = df_life['Wwi']\n",
    "final_df['Ri'] = df_life['Ri']\n",
    "final_df['ecozone'] = df_basiceco['ecozone']\n",
    "final_df['habitat'] = df_habitat['adult']\n",
    "final_df['gender'] = df_basiceco['gender']\n",
    "final_df['reproduction'] = df_basiceco['reproduction']\n",
    "final_df['embryo'] = df_basiceco['embryo']\n",
    "final_df['food'] = df_food['adult']\n",
    "final_df['order'] = df_species['Order']  \n",
    "final_df['class'] = df_species['Class'] \n",
    "final_df['phylum'] = df_species['Phylum']"
   ]
  },
  {
   "cell_type": "code",
   "execution_count": null,
   "id": "53ab04b7",
   "metadata": {},
   "outputs": [
    {
     "data": {
      "application/vnd.plotly.v1+json": {
       "config": {
        "plotlyServerURL": "https://plot.ly"
       },
       "data": [
        {
         "hovertemplate": "<b>%{hovertext}</b><br><br>color=M<br>PC1=%{x}<br>PC2=%{y}<br>PC3=%{z}<extra></extra>",
         "hovertext": [
          "Symsagittifera_roscoffensis",
          "Aequipecten_opercularis",
          "Mimachlamys_varia",
          "Mytilus_edulis",
          "Panopea_abbreviata",
          "Tridacna_gigas",
          "Donax_trunculus",
          "Galatea_paradoxa",
          "Teredo_navalis",
          "Callista_chione",
          "Chamelea_gallina",
          "Dosinia_exoleta",
          "Phorcus_lineatus",
          "Urosalpinx_cinerea",
          "Aplysia_californica",
          "Cuthona_nana",
          "Nautilus_pompilius",
          "Phoronis_pallida",
          "Phoronis_psammophila",
          "Branchotenthes_octohamatus",
          "Hyperoche_medusarum",
          "Fenneropenaeus_chinensis",
          "Palaemonetes_pugio",
          "Palaemon_elegans",
          "Paralithodes_camtschaticus",
          "Pagurus_bernhardus",
          "Cancer_pagurus",
          "Macrocheira_kaempferi",
          "Chionoecetes_opilio",
          "Dissodactylus_primitivus",
          "Amphiura_filiformis",
          "Clypeaster_subdepressus",
          "Holothuria_scabra",
          "Stichopus_vastus",
          "Branchiostoma_floridae",
          "Ascidiella_aspersa",
          "Boltenia_echinata",
          "Styela_plicata",
          "Hemiscyllium_ocellatum",
          "Orectolobus_halei",
          "Orectolobus_hutchinsi",
          "Orectolobus_maculatus",
          "Orectolobus_ornatus",
          "Poroderma_africanum",
          "Scyliorhinus_canicula",
          "Triakis_scyllium",
          "Triakis_semifasciata",
          "Galeorhinus_galeus",
          "Hemitriakis_japanica",
          "Carcharhinus_leucas",
          "Galeocerdo_cuvier",
          "Negaprion_brevirostris",
          "Loxodon_macrorhinus",
          "Scoliodon_laticaudus",
          "Carcharias_taurus",
          "Lamna_ditropis",
          "Lamna_nasus",
          "Isurus_oxyrinchus",
          "Carcharodon_carcharias",
          "Mitsukurina_owstoni",
          "Deania_calceus",
          "Centroscymnus_plunketi",
          "Dalatias_licha",
          "Leucoraja_naevus",
          "Raja_clavata",
          "Raja_montagui",
          "Torpedo_marmorata",
          "Rhinobatos_productus",
          "Mobula_birostris",
          "Halosauropsis_macrochir",
          "Anguilla_anguilla",
          "Congresox_talabonoides",
          "Muraenesox_bagio",
          "Muraenesox_cinereus",
          "Coilia_nasus",
          "Thryssa_aestuaria",
          "Thryssa_hamiltonii",
          "Thryssa_setirostris",
          "Anchoa_hepsetus",
          "Anchoa_mitchilli",
          "Anchoa_panamensis",
          "Cetengraulis_edentulus",
          "Cetengraulis_mysticetus",
          "Encrasicholina_devisi",
          "Encrasicholina_heteroloba",
          "Encrasicholina_punctifer",
          "Encrasicholina_purpurea",
          "Engraulis_anchoita",
          "Engraulis_australis",
          "Engraulis_capensis",
          "Engraulis_mordax",
          "Engraulis_ringens",
          "Lycengraulis_grossidens",
          "Stolephorus_carpentariae",
          "Stolephorus_commersonnii",
          "Stolephorus_indicus",
          "Stolephorus_insularis",
          "Stolephorus_nelsoni",
          "Stolephorus_waitei",
          "Ilisha_africana",
          "Pellona_ditchela",
          "Pellona_harroweri",
          "Dussumieria_acuta",
          "Clupea_bentincki",
          "Clupea_pallasii",
          "Strangomera_bentincki",
          "Brevoortia_patronus",
          "Brevoortia_tyrannus",
          "Sardina_pilchardus",
          "Pellonula_leonensis",
          "Anodontostoma_chacunda",
          "Amblygaster_sirm",
          "Escualosa_thoracata",
          "Konosirus_punctatus",
          "Sardinella_aurita",
          "Sardinella_albella",
          "Sardinella_brasiliensis",
          "Sardinella_fimbriata",
          "Sardinella_gibbosa",
          "Sardinella_lemuru",
          "Sardinella_longiceps",
          "Sardinella_maderensis",
          "Sardinella_melanura",
          "Sardinella_sindensis",
          "Sardinella_tawilis",
          "Sardinella_zunasi",
          "Harengula_clupeola",
          "Harengula_humeralis",
          "Harengula_jaguana",
          "Plotosus_lineatus",
          "Osmerus_dentex",
          "Allocyttus_niger",
          "Allocyttus_verrucosus",
          "Pseudocyttus_maculatus",
          "Arctogadus_glacialis",
          "Gadus_chalcogrammus",
          "Gadus_macrocephalus",
          "Melanogrammus_aeglefinus",
          "Merlangius_merlangus",
          "Pollachius_virens",
          "Macruronus_novaezelandiae",
          "Merluccius_merluccius",
          "Urophycis_tenuis",
          "Myripristis_amaena",
          "Myripristis_murdjan",
          "Neoniphon_sammara",
          "Sargocentron_diadema",
          "Sargocentron_microstoma",
          "Sargocentron_rubrum",
          "Ostorhinchus_doederleini",
          "Trypauchen_vagina",
          "Aphia_minuta",
          "Gobiosoma_bosc",
          "Gobius_ophiocephalus",
          "Gobius_vittatus",
          "Istigobius_decoratus",
          "Istigobius_goldmanni",
          "Rhinogobiops_nicholsii",
          "Sufflogobius_bibarbatus",
          "Trimma_benjamini",
          "Trimma_nasa",
          "Valenciennea_strigata",
          "Zosterisessor_ophiocephalus",
          "Crystallogobius_linearis",
          "Deltentosteus_quadrimaculatus",
          "Lepidogobius_lepidus",
          "Pomatoschistus_microps",
          "Pomatoschistus_minutus",
          "Rhinogobius_brunneus",
          "Rhinogobius_giurinus",
          "Boleophthalmus_pectinirostris",
          "Parapocryptes_serperaster",
          "Hippocampus_erectus",
          "Hippocampus_guttulatus",
          "Hippocampus_hippocampus",
          "Hippocampus_kuda",
          "Hippocampus_reidi",
          "Hippocampus_whitei",
          "Hippocampus_zosterae",
          "Phycodurus_eques",
          "Phyllopteryx_taeniolatus",
          "Syngnathoides_biaculeatus",
          "Syngnathus_abaster",
          "Syngnathus_fuscus",
          "Syngnathus_taenionotus",
          "Macroramphosus_scolopax",
          "Macroramphosus_gracilis",
          "Arripis_georgianus",
          "Pomatomus_saltatrix",
          "Rastrelliger_brachysoma",
          "Rastrelliger_faughni",
          "Rastrelliger_kanagurta",
          "Scomber_colias",
          "Scomber_japonicus",
          "Acanthocybium_solandri",
          "Scomberomorus_maculatus",
          "Scomberomorus_munroi",
          "Scomberomorus_niphonius",
          "Scomberomorus_queenslandicus",
          "Gymnosarda_unicolor",
          "Sarda_chiliensis",
          "Sarda_orientalis",
          "Sarda_sarda",
          "Allothunnus_fallai",
          "Auxis_rochei",
          "Auxis_thazard",
          "Euthynnus_affinis",
          "Euthynnus_alletteratus",
          "Katsuwonus_pelamis",
          "Thunnus_alalunga",
          "Thunnus_albacares",
          "Thunnus_obesus",
          "Aphanopus_carbo",
          "Aphanopus_intermedius",
          "Lepturacanthus_savala",
          "Trichiurus_lepturus",
          "Trichiurus_lepturus_japonicus",
          "Ariomma_indica",
          "Hyperoglyphe_antarctica",
          "Psenopsis_anomala",
          "Seriolella_punctata",
          "Alepes_djedaba",
          "Alepes_kleinii",
          "Atropus_atropos",
          "Atule_mate",
          "Caranx_crysos",
          "Caranx_hippos",
          "Caranx_ignobilis",
          "Caranx_lugubris",
          "Caranx_melampygus",
          "Caranx_senegallus",
          "Caranx_tille",
          "Chloroscombrus_chrysurus",
          "Decapterus_kurroides",
          "Decapterus_macarellus",
          "Decapterus_macrosoma",
          "Decapterus_maruadsi",
          "Decapterus_punctatus",
          "Decapterus_russelli",
          "Decapterus_tabl",
          "Flavocaranx_bajad",
          "Gnathanodon_speciosus",
          "Megalaspis_cordyla",
          "Parastromateus_niger",
          "Pseudocaranx_dentex",
          "Selar_crumenophthalmus",
          "Selaroides_leptolepis",
          "Trachurus_indicus",
          "Trachurus_japonicus",
          "Trachurus_lathami",
          "Trachurus_mediterraneus",
          "Trachurus_murphyi",
          "Trachurus_novaezelandiae",
          "Trachurus_picturatus",
          "Trachurus_symmetricus",
          "Elagatis_bipinnulata",
          "Mene_maculata",
          "Rachycentron_canadum",
          "Kajikia_audax",
          "Tetrapturus_pfluegeri",
          "Centropomus_parallelus",
          "Lates_calcarifer",
          "Lates_longispinis",
          "Psettodes_erumei",
          "Cyclopsetta_chittendeni",
          "Cyclopsetta_querna",
          "Etropus_crossotus",
          "Atheresthes_evermanni",
          "Hippoglossus_stenolepis",
          "Hippoglossoides_platessoides",
          "Cleisthenes_pinetorum",
          "Eopsetta_jordani",
          "Isopsetta_isolepis",
          "Glyptocephalus_kitaharae",
          "Glyptocephalus_stelleri",
          "Microstomus_kitt",
          "Microstomus_pacificus",
          "Parophrys_vetulus",
          "Platichthys_flesus",
          "Pseudopleuronectes_americanus",
          "Pseudopleuronectes_yokohamae",
          "Verasper_moseri",
          "Verasper_variegatus",
          "Rhombosolea_leporina",
          "Rhombosolea_plebeia",
          "Lepidorhombus_whiffiagonis",
          "Lepidorhombus_boscii",
          "Scophthalmus_rhombus",
          "Cynoglossus_canariensis",
          "Cynoglossus_joyneri",
          "Cynoglossus_puncticeps",
          "Cynoglossus_semifasciatus",
          "Cynoglossus_senegalensis",
          "Cynoglossus_zanzibarensis",
          "Symphurus_plagiusa",
          "Dicologlossa_cuneata",
          "Monochirus_hispidus",
          "Pegusa_lascaris",
          "Acanthoclinus_littoreus",
          "Acanthochromis_polyacanthus",
          "Amphiprion_ocellaris",
          "Chromis_ternatensis",
          "Chromis_verater",
          "Chromis_viridis",
          "Chrysiptera_biocellata",
          "Dascyllus_albisella",
          "Dascyllus_aruanus",
          "Dascyllus_reticulatus",
          "Holacanthus_passer",
          "Hypsypops_rubicundus",
          "Parma_microlepis",
          "Plectroglyphidodon_dickii",
          "Pomacentrus_amboinensis",
          "Pomacentrus_coelestis",
          "Pomacentrus_moluccensis",
          "Pomacentrus_wardi",
          "Pycnochromis_margaritifer",
          "Stegastes_acapulcoensis",
          "Stegastes_arcifrons",
          "Stegastes_beebei",
          "Stegastes_flavilatus",
          "Stegastes_fuscus",
          "Stegastes_nigricans",
          "Stegastes_planifrons",
          "Stegastes_rectifraenum",
          "Pseudochromis_flavivertex",
          "Pseudochromis_fuscus",
          "Heterostichus_rostratus",
          "Acyrtops_beryllinus",
          "Atherina_presbyter",
          "Atherinella_brasiliensis",
          "Membras_martinica",
          "Oryzias_latipes",
          "Ablennes_hians",
          "Tylosurus_acus",
          "Tylosurus_crocodilus",
          "Cololabis_saira",
          "Cheilopogon_cyanopterus",
          "Chriodorus_atherinoides",
          "Hemiramphus_convexus",
          "Fundulus_heteroclitus",
          "Poecilia_reticulata",
          "Eucinostomus_argenteus",
          "Eucinostomus_gula",
          "Ammodytes_americanus",
          "Ammodytes_personatus",
          "Ammodytes_tobianus",
          "Hyperoplus_lanceolatus",
          "Achoerodus_gouldii",
          "Morone_saxatilis",
          "Platax_orbicularis",
          "Argyrosomus_japonicus",
          "Atrobucca_nibe",
          "Menticirrhus_americanus",
          "Menticirrhus_saxatilis",
          "Pennahia_argentata",
          "Emmelichthys_nitidus",
          "Deveximentum_ruconius",
          "Equulites_elongatus",
          "Equulites_leuciscus",
          "Equulites_lineolatus",
          "Eubleekeria_splendens",
          "Gazza_minuta",
          "Karalla_dussumieri",
          "Karalla_daura",
          "Leiognathus_bindus",
          "Leiognathus_brevirostris",
          "Nuchequula_blochii",
          "Nuchequula_gerreoides",
          "Photopectoralis_bindus",
          "Secutor_insidiator",
          "Centropyge_bicolor",
          "Centropyge_loriculus",
          "Pomadasys_argenteus",
          "Pomadasys_argyreus",
          "Pomadasys_incisus",
          "Pomadasys_kaakan",
          "Pomadasys_maculatus",
          "Pomadasys_striatus",
          "Pomadasys_stridens",
          "Pristipomoides_auricilla",
          "Pristipomoides_filamentosus",
          "Pristipomoides_flavipinnis",
          "Pristipomoides_macrophthalmus",
          "Pristipomoides_sieboldii",
          "Pristipomoides_zonatus",
          "Lutjanus_adetii",
          "Lutjanus_alexandrei",
          "Lutjanus_apodus",
          "Lutjanus_argentiventris",
          "Lutjanus_bohar",
          "Lutjanus_fulvus",
          "Lutjanus_johnii",
          "Lutjanus_kasmira",
          "Lutjanus_lutjanus",
          "Lutjanus_synagris",
          "Lutjanus_vitta",
          "Ocyurus_chrysurus",
          "Lobotes_surinamensis",
          "Sillago_aeolus",
          "Sillago_burrus",
          "Sillago_ciliata",
          "Sillago_flindersi",
          "Sillago_japonica",
          "Sillago_schomburgkii",
          "Sillago_sihama",
          "Sillago_vittata",
          "Boops_boops",
          "Dentex_congoensis",
          "Lithognathus_mormyrus",
          "Pagellus_acarne",
          "Pagellus_bellottii",
          "Pagellus_bogaraveo",
          "Acanthopagrus_arabicus",
          "Acanthopagrus_australis",
          "Archosargus_probatocephalus",
          "Diplodus_annularis",
          "Diplodus_cervinus",
          "Diplodus_sargus",
          "Diplodus_vulgaris",
          "Evynnis_ehrenbergii",
          "Evynnis_tumifrons",
          "Pagrus_major",
          "Parargyrops_edita",
          "Siganus_fuscescens",
          "Siganus_guttatus",
          "Siganus_lineatus",
          "Siganus_luridus",
          "Siganus_rivulatus",
          "Siganus_spinus",
          "Latridopsis_ciliaris",
          "Latris_lineata",
          "Aethaloperca_rogaa",
          "Anyperodon_leucogrammicus",
          "Cephalopholis_argus",
          "Cephalopholis_cruentata",
          "Cephalopholis_fulva",
          "Cephalopholis_microprion",
          "Cephalopholis_miniata",
          "Epinephelus_coioides",
          "Epinephelus_cyanopodus",
          "Epinephelus_drummondhayi",
          "Epinephelus_fuscoguttatus",
          "Epinephelus_howlandi",
          "Epinephelus_itajara",
          "Epinephelus_labriformis",
          "Epinephelus_maculatus",
          "Epinephelus_malabaricus",
          "Epinephelus_polyphekadion",
          "Epinephelus_quoyanus",
          "Plectropomus_leopardus",
          "Plectropomus_maculatus",
          "Plectropomus_pessuliferus",
          "Variola_louti",
          "Centropristis_striata",
          "Diplectrum_formosum",
          "Diplectrum_macropoma",
          "Diplectrum_pacificum",
          "Paralabrax_auroguttatus",
          "Paralabrax_clathratus",
          "Dolloidraco_longedorsalis",
          "Neodraco_skottsbergi",
          "Gerlachea_australis",
          "Chaenocephalus_aceratus",
          "Chaenodraco_wilsoni",
          "Champsocephalus_gunnari",
          "Chionobathyscus_dewitti",
          "Chionodraco_hamatus",
          "Chionodraco_myersi",
          "Chionodraco_rastrospinosus",
          "Cryodraco_antarcticus",
          "Pagetopsis_maculatus",
          "Pseudochaenichthys_georgianus",
          "Aethotaxis_mitopteryx",
          "Dissostichus_eleginoides",
          "Dissostichus_mawsoni",
          "Gobionotothen_gibberifrons",
          "Indonotothenia_cyanobrancha",
          "Lepidonotothen_squamifrons",
          "Lindbergichthys_nudifrons",
          "Notothenia_neglecta",
          "Nototheniops_larseni",
          "Paranotothenia_magellanica",
          "Pagothenia_borchgrevinki",
          "Trematomus_bernacchii",
          "Trematomus_eulepidotus",
          "Trematomus_hansoni",
          "Trematomus_lepidorhinus",
          "Trematomus_loennbergii",
          "Trematomus_newnesi",
          "Trematomus_nicolai",
          "Trematomus_pennellii",
          "Trematomus_scotti",
          "Ambiserrula_jugosa",
          "Platycephalus_caeruleopunctatus",
          "Platycephalus_richardsoni",
          "Ratabulus_diversidens",
          "Rogadius_asper",
          "Peristedion_cataphractum",
          "Bellator_gymnostethus",
          "Prionotus_albirostris",
          "Prionotus_carolinus",
          "Prionotus_punctatus",
          "Prionotus_stephanophrys",
          "Eutrigla_gurnardus",
          "Trigla_lyra",
          "Lepidotrigla_argus",
          "Lepidotrigla_cavillone",
          "Dendrochirus_brachypterus",
          "Pontinus_kuhlii",
          "Scorpaena_elongata",
          "Scorpaena_guttata",
          "Scorpaena_loppei",
          "Scorpaena_maderensis",
          "Scorpaena_notata",
          "Scorpaena_porcus",
          "Scorpaena_scrofa",
          "Anoplopoma_fimbria",
          "Erilepis_zonifer",
          "Anarhichas_minor",
          "Zoarces_americanus",
          "Zaprora_silenus",
          "Ulvaria_subbifurcata",
          "Apeltes_quadracus",
          "Pleurogrammus_azonus",
          "Pleurogrammus_monopterygius",
          "Careproctus_reinhardti",
          "Liparis_gibbus",
          "Liparis_inquilinus",
          "Liparis_pulchellus",
          "Aspidophoroides_monopterygius",
          "Blepsias_cirrhosus",
          "Caretta_caretta",
          "Lepidochelys_kempii",
          "Eretmochelys_imbricata",
          "Crocodylus_porosus",
          "Crocodylus_acutus",
          "Fratercula_arctica",
          "Larus_argentatus",
          "Larus_fuscus",
          "Gavia_immer",
          "Diomedea_exulans",
          "Pygoscelis_adeliae"
         ],
         "legendgroup": "M",
         "marker": {
          "color": "#636efa",
          "opacity": 0.8,
          "size": 3.5,
          "symbol": "circle"
         },
         "mode": "markers",
         "name": "M",
         "scene": "scene",
         "showlegend": true,
         "type": "scatter3d",
         "x": {
          "bdata": "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",
          "dtype": "f8"
         },
         "y": {
          "bdata": "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",
          "dtype": "f8"
         },
         "z": {
          "bdata": "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",
          "dtype": "f8"
         }
        },
        {
         "hovertemplate": "<b>%{hovertext}</b><br><br>color=F<br>PC1=%{x}<br>PC2=%{y}<br>PC3=%{z}<extra></extra>",
         "hovertext": [
          "Mytilopsis_sallei",
          "Actinonaias_ligamentina",
          "Stagnicola_palustris",
          "Biomphalaria_glabrata",
          "Planorbis_planorbis",
          "Aspidiophorus_polystictos",
          "Schmidtea_polychroa",
          "Baikaiobia_guttata",
          "Eulimnadia_texana",
          "Asellus_aquaticus",
          "Gammarus_fossarum",
          "Gammarus_pulex",
          "Gammarus_roeselii",
          "Macrobrachium_rosenbergii",
          "Astacus_astacus",
          "Pacifastacus_leniusculus",
          "Procambarus_virginalis",
          "Acipenser_baerii",
          "Acipenser_medirostris",
          "Acipenser_oxyrinchus",
          "Acipenser_ruthenus",
          "Acipenser_transmontanus",
          "Huso_huso",
          "Scaphirhynchus_albus",
          "Scaphirhynchus_suttkusi",
          "Scaphirhynchus_platorynchus",
          "Elops_saurus",
          "Heterotis_niloticus",
          "Cyphomyrus_discorhynchus",
          "Marcusenius_macrolepidotus",
          "Marcusenius_pongolensis",
          "Mormyrops_anguilloides",
          "Mormyrus_kannume",
          "Mormyrus_longirostris",
          "Petrocephalus_bovei",
          "Gymnarchus_niloticus",
          "Coilia_brachygnathus",
          "Coilia_dussumieri",
          "Coilia_mystus",
          "Coilia_ramcarati",
          "Setipinna_phasa",
          "Setipinna_taty",
          "Anchoviella_guianensis",
          "Dussumieria_hasseltii",
          "Potamalosa_richmondia",
          "Alosa_pseudoharengus",
          "Nematalosa_vlaminghi",
          "Dorosoma_cepedianum",
          "Carassius_auratus",
          "Cirrhinus_cirrhosus",
          "Labeo_altivelis",
          "Labeo_calbasu",
          "Labeo_catla",
          "Labeo_coubie",
          "Labeo_niloticus",
          "Labeo_rohita",
          "Labeo_senegalensis",
          "Enteromius_liberiensis",
          "Labeobarbus_bynni",
          "Engraulicypris_sardella",
          "Neobola_stellae",
          "Rastrineobola_argentea",
          "Rhodeus_amarus",
          "Rhodeus_ocellatus",
          "Rhodeus_sericeus",
          "Abbottina_rivularis",
          "Gobio_gobio",
          "Hemibarbus_labeo",
          "Chrosomus_neogaeus",
          "Gila_intermedia",
          "Ptychocheilus_oregonensis",
          "Siphateles_bicolor",
          "Alburnus_alburnus",
          "Alburnus_baliki",
          "Alburnoides_bipunctatus",
          "Abramis_brama",
          "Achondrostoma_arcasii",
          "Oregonichthys_crameri",
          "Dionda_diaboli",
          "Pimephales_vigilax",
          "Chasmistes_brevirostris",
          "Chasmistes_cujus",
          "Chasmistes_liorus",
          "Glaniopsis_hanitschi",
          "Citharinus_citharus",
          "Alestes_baremoze",
          "Alestes_dentex",
          "Brycinus_leuciscus",
          "Brycinus_macrolepidotus",
          "Brycinus_nurse",
          "Brycinus_sadleri",
          "Hydrocynus_forskahlii",
          "Micralestes_acutidens",
          "Hepsetus_odoe",
          "Hoplias_malabaricus",
          "Myloplus_rhomboidalis",
          "Piaractus_brachypomus",
          "Semaprochilodus_taeniurus",
          "Semaprochilodus_insignis",
          "Curimata_knerii",
          "Potamorhina_latior",
          "Psectrogaster_rutiloides",
          "Brycon_amazonicus",
          "Brycon_melanopterus",
          "Brycon_moorei",
          "Brycon_opalinus",
          "Astyanax_bimaculatus",
          "Astyanax_eigenmanniorum",
          "Astyanax_mexicanus",
          "Gymnocharacinus_bergii",
          "Hyphessobrycon_pulchripinnis",
          "Moenkhausia_dichroura",
          "Moenkhausia_pittieri",
          "Odontostilbe_paraguayensis",
          "Oligosarcus_hepsetus",
          "Paracheirodon_innesi",
          "Psalidodon_fasciatus",
          "Triportheus_albus",
          "Triportheus_angulatus",
          "Triportheus_elongatus",
          "Gymnotus_carapo",
          "Corydoras_aeneus",
          "Hypostomus_albopunctatus",
          "Loricariichthys_anus",
          "Eremophilus_mutisii",
          "Trichomycterus_itacarambiensis",
          "Pterodoras_granulosus",
          "Synodontis_batensoda",
          "Synodontis_clarias",
          "Synodontis_membranaceus",
          "Synodontis_nebulosus",
          "Synodontis_schall",
          "Synodontis_zambezensis",
          "Phalacronotus_micronemus",
          "Silurus_glanis",
          "Silurus_triostegus",
          "Wallago_attu",
          "Clarias_agboyiensis",
          "Clarias_anguillaris",
          "Clarias_batrachus",
          "Cnidoglanis_macrocephalus",
          "Heteropneustes_fossilis",
          "Bagrus_bajad",
          "Coreobagrus_ichikawai",
          "Hemibagrus_baramensis",
          "Mystus_cavasius",
          "Pseudobagrus_vachellii",
          "Auchenoglanis_occidentalis",
          "Chrysichthys_auratus",
          "Chrysichthys_nigrodigitatus",
          "Chrysichthys_walkeri",
          "Pangasianodon_hypophthalmus",
          "Pangasius_pangasius",
          "Hypophthalmus_edentatus",
          "Iheringichthys_labrosus",
          "Pseudoplatystoma_corruscans",
          "Pseudoplatystoma_fasciatum",
          "Pseudoplatystoma_punctifer",
          "Pseudoplatystoma_tigrinum",
          "Parailia_pellucida",
          "Schilbe_intermedius",
          "Schilbe_mandibularis",
          "Schilbe_uranoscopus",
          "Ictalurus_punctatus",
          "Pylodictis_olivaris",
          "Ameiurus_catus",
          "Ameiurus_melas",
          "Ameiurus_nebulosus",
          "Noturus_baileyi",
          "Noturus_phaeus",
          "Coregonus_muksun",
          "Thymallus_baicalensis",
          "Thymallus_nigrescens",
          "Brachymystax_lenok",
          "Oncorhynchus_clarkii_stomias",
          "Oncorhynchus_gilae",
          "Salmo_lourosensis",
          "Salmo_marmoratus",
          "Salmo_obtusirostris",
          "Esox_lucius",
          "Esox_masquinongy",
          "Esox_niger",
          "Umbra_limi",
          "Umbra_krameri",
          "Chologaster_cornuta",
          "Forbesichthys_agassizii",
          "Typhlichthys_subterraneus",
          "Amblyopsis_spelaea",
          "Amblyopsis_rosae",
          "Glossogobius_giuris",
          "Acanthogobius_flavimanus",
          "Gobionellus_microdon",
          "Rhinogobius_cliffordpopei",
          "Stigmatogobius_pleurostigma",
          "Anabas_testudineus",
          "Channa_argus",
          "Channa_punctata",
          "Betta_splendens",
          "Osphronemus_goramy",
          "Pristolepis_fasciata",
          "Pristolepis_grootii",
          "Lates_angustifrons",
          "Lates_mariae",
          "Lates_niloticus",
          "Lates_stappersii",
          "Cichla_intermedia",
          "Cichla_monoculus",
          "Cichla_orinocensis",
          "Cichla_temensis",
          "Acarichthys_heckelii",
          "Coptodon_guineensis",
          "Menidia_extensa",
          "Melanotaenia_boesemani",
          "Fundulopanchax_gardneri",
          "Fundulus_julisia",
          "Fundulus_luciae",
          "Crenichthys_baileyi",
          "Aphanius_iberus",
          "Cyprinodon_bovinus",
          "Cyprinodon_elegans",
          "Cyprinodon_macularius",
          "Cyprinodon_nevadensis",
          "Gambusia_puncticulata",
          "Gambusia_punctata",
          "Gambusia_holbrooki",
          "Heterandria_formosa",
          "Girardinus_metallicus",
          "Girardinus_uninotatus",
          "Girardinus_creolus",
          "Girardinus_denticulatus",
          "Girardinus_microdactylus",
          "Girardinus_falcatus",
          "Quintana_atrizona",
          "Limia_vittata",
          "Poecilia_latipinna",
          "Xiphophorus_maculatus",
          "Morone_chrysops",
          "Morone_mississippiensis",
          "Plagioscion_squamosissimus",
          "Pomoxis_nigromaculatus",
          "Micropterus_dolomieu",
          "Micropterus_salmoides",
          "Lepomis_cyanellus",
          "Lepomis_gulosus",
          "Elassoma_zonatum",
          "Maccullochella_ikei",
          "Maccullochella_peelii",
          "Macquaria_ambigua",
          "Macquaria_novemaculeata",
          "Nannoperca_vittata",
          "Nannatherina_balstoni",
          "Percichthys_trucha",
          "Siniperca_chuatsi",
          "Ammocrypta_pellucida",
          "Nothonotus_bellus",
          "Etheostoma_perlongum",
          "Etheostoma_pyrrhogaster",
          "Etheostoma_tetrazonum",
          "Etheostoma_trisella",
          "Etheostoma_zonistium",
          "Sander_vitreus",
          "Gymnocephalus_cernuus",
          "Percilia_irwini",
          "Gasterosteus_aculeatus",
          "Pungitius_pungitius",
          "Culaea_inconstans",
          "Andrias_davidianus",
          "Amphiuma_means",
          "Ambystoma_maculatum",
          "Ambystoma_mexicanum",
          "Ambystoma_opacum",
          "Ambystoma_texanum",
          "Neurergus_crocatus",
          "Triturus_cristatus",
          "Triturus_dobrogicus",
          "Triturus_marmoratus",
          "Paramesotriton_hongkongensis",
          "Necturus_maculosus",
          "Ascaphus_truei",
          "Bombina_bombina",
          "Bombina_maxima",
          "Bombina_orientalis",
          "Bombina_variegata",
          "Fejervarya_limnocharis",
          "Fejervarya_multistriata",
          "Xenopus_laevis",
          "Anaxyrus_americanus",
          "Anaxyrus_fowleri",
          "Rhaebo_blombergi",
          "Euphlyctis_hexadactylus",
          "Lithobates_chiricahuensis",
          "Eunectes_murinus",
          "Eunectes_notaeus",
          "Natrix_natrix",
          "Natrix_maura",
          "Coluber_constrictor",
          "Podocnemis_unifilis",
          "Chelus_fimbriata",
          "Elseya_dentata",
          "Emydura_macquarii",
          "Hydromedusa_maximiliani",
          "Apalone_spinifera",
          "Dermatemys_mawii",
          "Claudius_angustatus",
          "Sternotherus_minor",
          "Emydoidea_blandingii",
          "Glyptemys_insculpta",
          "Graptemys_oculifera",
          "Graptemys_pseudogeographica",
          "Pseudemys_concinna",
          "Pseudemys_nelsoni",
          "Batagur_affinis",
          "Cuora_flavomarginata",
          "Alligator_sinensis",
          "Caiman_latirostris",
          "Melanosuchus_niger",
          "Paleosuchus_palpebrosus",
          "Paleosuchus_trigonatus",
          "Crocodylus_johnsoni",
          "Crocodylus_mindorensis",
          "Crocodylus_siamensis",
          "Crocodylus_palustris",
          "Crocodylus_niloticus",
          "Crocodylus_rhombifer",
          "Osteolaemus_tetraspis",
          "Podilymbus_podiceps",
          "Gallinula_chloropus",
          "Ciconia_ciconia",
          "Pelecanus_onocrotalus",
          "Ornithorhynchus_anatinus"
         ],
         "legendgroup": "F",
         "marker": {
          "color": "#EF553B",
          "opacity": 0.8,
          "size": 3.5,
          "symbol": "circle"
         },
         "mode": "markers",
         "name": "F",
         "scene": "scene",
         "showlegend": true,
         "type": "scatter3d",
         "x": {
          "bdata": "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",
          "dtype": "f8"
         },
         "y": {
          "bdata": "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",
          "dtype": "f8"
         },
         "z": {
          "bdata": "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",
          "dtype": "f8"
         }
        },
        {
         "hovertemplate": "<b>%{hovertext}</b><br><br>color=T<br>PC1=%{x}<br>PC2=%{y}<br>PC3=%{z}<extra></extra>",
         "hovertext": [
          "Helix_pomatia",
          "Bimastos_rubidus",
          "Dendrobaena_octaedra",
          "Lumbricus_rubellus",
          "Eisenia_andrei",
          "Eisenia_fetida",
          "Caenorhabditis_elegans",
          "Macrobiotus_hufelandii",
          "Hypsibius_convergens",
          "Ramazzottius_oberhaeuseri",
          "Milnesium_tardigradum",
          "Aglaoctenus_lagotis",
          "Porcellio_scaber",
          "Birgus_latro",
          "Hynobius_kimurae",
          "Hynobius_quelpaertensis",
          "Hynobius_tokyoensis",
          "Hynobius_yangi",
          "Ranodon_sibiricus",
          "Onychodactylus_japonicus",
          "Bolitoglossa_mexicana",
          "Bolitoglossa_subpalmata",
          "Eurycea_bislineata",
          "Eurycea_longicauda",
          "Gyrinophilus_gulolineatus",
          "Gyrinophilus_palleucus",
          "Aneides_aeneus",
          "Desmognathus_brimleyorum",
          "Desmognathus_fuscus",
          "Desmognathus_monticola",
          "Desmognathus_ochrophaeus",
          "Desmognathus_ocoee",
          "Desmognathus_quadramaculatus",
          "Ensatina_eschscholtzii",
          "Phaeognathus_hubrichti",
          "Plethodon_cinereus",
          "Plethodon_kentucki",
          "Speleomantes_ambrosii",
          "Speleomantes_imperialis",
          "Rhyacotriton_variegatus",
          "Chioglossa_lusitanica",
          "Salamandra_lanzai",
          "Echinotriton_andersoni",
          "Lissotriton_boscai",
          "Lissotriton_helveticus",
          "Lissotriton_vulgaris",
          "Triturus_karelinii",
          "Cynops_pyrrhogaster",
          "Alytes_cisternasii",
          "Alytes_muletensis",
          "Alytes_obstetricans",
          "Hoplobatrachus_tigerinus",
          "Pelobates_cultripes",
          "Pelobates_syriacus",
          "Pelobates_varaldii",
          "Eleutherodactylus_coqui",
          "Argenteohyla_siemersi",
          "Hyla_arborea",
          "Trachycephalus_resinifictrix",
          "Anaxyrus_boreas",
          "Anaxyrus_californicus",
          "Bufo_bufo",
          "Bufotes_latastii",
          "Bufotes_viridis",
          "Bufotes_zamdaensis",
          "Epidalea_calamita",
          "Nimbaphrynoides_occidentalis",
          "Sclerophrys_pentoni",
          "Strauchbufo_raddei",
          "Mannophryne_trinitatis",
          "Ceratophrys_stolzmanni",
          "Hyperolius_viridiflavus",
          "Dyscophus_antongilii",
          "Pyxicephalus_adspersus",
          "Chiromantis_petersii",
          "Chiromantis_rufescens",
          "Kurixalus_eiffingeri",
          "Kurixalus_idiootocus",
          "Rhacophorus_moltrechti",
          "Zhangixalus_omeimontis",
          "Amolops_mantzorum",
          "Lithobates_catesbeianus",
          "Lithobates_clamitans",
          "Pelophylax_bedriagae",
          "Pelophylax_caralitanus",
          "Pelophylax_epeiroticus",
          "Pelophylax_nigromaculatus",
          "Pelophylax_ridibundus",
          "Pelophylax_perezi",
          "Pelophylax_porosus",
          "Pelophylax_saharicus",
          "Rana_arvalis",
          "Rana_chensinensis",
          "Rana_dalmatina",
          "Rana_iberica",
          "Rana_italica",
          "Rana_latastei",
          "Rana_macrocnemis",
          "Rana_muscosa",
          "Rana_sakuraii",
          "Rana_tagoi",
          "Rana_temporaria",
          "Sylvirana_nigrovittata",
          "Correlophus_ciliatus",
          "Eublepharis_macularius",
          "Hemidactylus_turcicus",
          "Heteronotia_binoei",
          "Heteronotia_binoei_3N1A",
          "Heteronotia_binoei_3N1B",
          "Heteronotia_binoei_EA6",
          "Heteronotia_binoei_SM6",
          "Chioninia_coctei",
          "Ctenotus_pantherinus",
          "Eulamprus_quoyii",
          "Egernia_cunninghami",
          "Egernia_striolata",
          "Scincella_lateralis",
          "Xantusia_vigilis",
          "Gerrhosaurus_validus",
          "Smaug_giganteus",
          "Holcosus_quadrilineatus",
          "Pholidoscelis_exsul",
          "Salvator_merianae",
          "Gallotia_atlantica",
          "Gallotia_bravoana",
          "Gallotia_caesaris",
          "Gallotia_galloti",
          "Gallotia_intermedia",
          "Gallotia_simonyi",
          "Gallotia_stehlini",
          "Eremias_argus",
          "Eremias_suphani",
          "Apathya_cappadocica",
          "Iberolacerta_horvathi",
          "Lacerta_schreiberi",
          "Podarcis_muralis_Castanet",
          "Zootoca_vivipara",
          "Varanus_bengalensis",
          "Varanus_komodoensis",
          "Varanus_niloticus",
          "Furcifer_pardalis",
          "Ctenophorus_ornatus",
          "Ctenophorus_adelaidensis",
          "Pogona_barbata",
          "Anolis_acutus",
          "Anolis_carolinensis",
          "Anolis_gundlachi",
          "Anolis_opalinus",
          "Anolis_sagrei",
          "Basiliscus_basiliscus",
          "Basiliscus_plumifrons",
          "Basiliscus_vittatus",
          "Dipsosaurus_dorsalis",
          "Gambelia_sila",
          "Sceloporus_magister",
          "Sceloporus_occidentalis",
          "Sceloporus_undulatus",
          "Boa_constrictor",
          "Boa_imperator",
          "Apodora_papuana",
          "Morelia_spilota",
          "Python_regius",
          "Python_sebae",
          "Python_molurus",
          "Simalia_amethistina",
          "Vipera_aspis",
          "Bitis_gabonica",
          "Bitis_arietans",
          "Crotalus_horridus",
          "Crotalus_lepidus",
          "Crotalus_oreganus",
          "Crotalus_pricei",
          "Thamnophis_butleri",
          "Thamnophis_sirtalis",
          "Orthriophis_taeniurus",
          "Pantherophis_guttatus",
          "Heterodon_nasicus",
          "Heterodon_platirhinos",
          "Gopherus_agassizii",
          "Gopherus_morafkai",
          "Gopherus_polyphemus",
          "Aldabrachelys_gigantea",
          "Chelonoidis_niger",
          "Geochelone_elegans",
          "Malacochersus_tornieri",
          "Stigmochelys_pardalis",
          "Testudo_hermanni",
          "Struthio_camelus",
          "Rhynchotus_rufescens",
          "Rhea_americana",
          "Apteryx_mantelli",
          "Dromaius_novaehollandiae",
          "Gallus_gallus",
          "Columba_livia",
          "Mesitornis_variegatus",
          "Pterocles_alchata",
          "Tauraco_erythrolophus",
          "Cuculus_canorus",
          "Ardeotis_kori",
          "Opisthocomus_hoazin",
          "Podargus_strigoides",
          "Aegotheles_cristatus",
          "Apus_apus",
          "Archilochus_alexandri",
          "Rhynochetos_jubatus",
          "Tyto_alba",
          "Strix_occidentalis",
          "Urocolius_macrourus",
          "Leptosomus_discolor",
          "Euptilotis_neoxenus",
          "Bucorvus_leadbeateri",
          "Todiramphus_cinnamominus",
          "Ramphastos_toco",
          "Cariama_cristata",
          "Forpus_passerinus",
          "Melopsittacus_undulatus",
          "Toxostoma_curvirostre",
          "Tachyglossus_aculeatus"
         ],
         "legendgroup": "T",
         "marker": {
          "color": "#00cc96",
          "opacity": 0.8,
          "size": 3.5,
          "symbol": "circle"
         },
         "mode": "markers",
         "name": "T",
         "scene": "scene",
         "showlegend": true,
         "type": "scatter3d",
         "x": {
          "bdata": "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",
          "dtype": "f8"
         },
         "y": {
          "bdata": "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",
          "dtype": "f8"
         },
         "z": {
          "bdata": "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",
          "dtype": "f8"
         }
        },
        {
         "hovertemplate": "<b>%{hovertext}</b><br><br>color=S<br>PC1=%{x}<br>PC2=%{y}<br>PC3=%{z}<extra></extra>",
         "hovertext": [
          "Phoeniconaias_minor"
         ],
         "legendgroup": "S",
         "marker": {
          "color": "#FFA15A",
          "opacity": 0.8,
          "size": 3.5,
          "symbol": "circle"
         },
         "mode": "markers",
         "name": "S",
         "scene": "scene",
         "showlegend": true,
         "type": "scatter3d",
         "x": {
          "bdata": "yirU8c8OB0A=",
          "dtype": "f8"
         },
         "y": {
          "bdata": "wncv3awS978=",
          "dtype": "f8"
         },
         "z": {
          "bdata": "Uq/RuZFftT8=",
          "dtype": "f8"
         }
        },
        {
         "line": {
          "color": "black",
          "width": 4
         },
         "marker": {
          "size": 3.5
         },
         "mode": "lines+text",
         "name": "am",
         "showlegend": false,
         "text": [
          null,
          "am"
         ],
         "textposition": "top center",
         "type": "scatter3d",
         "x": [
          0,
          2.3258351445481127
         ],
         "y": [
          0,
          0.6742665327845915
         ],
         "z": [
          0,
          1.7411301520765716
         ]
        },
        {
         "line": {
          "color": "black",
          "width": 4
         },
         "marker": {
          "size": 3.5
         },
         "mode": "lines+text",
         "name": "Wwi",
         "showlegend": false,
         "text": [
          null,
          "Wwi"
         ],
         "textposition": "top center",
         "type": "scatter3d",
         "x": [
          0,
          2.2953298431521287
         ],
         "y": [
          0,
          1.7968016518944876
         ],
         "z": [
          0,
          -0.4876829070306105
         ]
        },
        {
         "line": {
          "color": "black",
          "width": 4
         },
         "marker": {
          "size": 3.5
         },
         "mode": "lines+text",
         "name": "Ri",
         "showlegend": false,
         "text": [
          null,
          "Ri"
         ],
         "textposition": "top center",
         "type": "scatter3d",
         "x": [
          0,
          -0.8439714743729851
         ],
         "y": [
          0,
          2.7437814549165154
         ],
         "z": [
          0,
          0.1478388972620664
         ]
        },
        {
         "line": {
          "color": "black",
          "width": 4
         },
         "marker": {
          "size": 3.5
         },
         "mode": "lines+text",
         "name": "Wwb",
         "showlegend": false,
         "text": [
          null,
          "Wwb"
         ],
         "textposition": "top center",
         "type": "scatter3d",
         "x": [
          0,
          2.3872792389077904
         ],
         "y": [
          0,
          -1.5325082885312016
         ],
         "z": [
          0,
          -0.5818307450898998
         ]
        },
        {
         "line": {
          "color": "black",
          "width": 4
         },
         "marker": {
          "size": 3.5
         },
         "mode": "lines+text",
         "name": "Li",
         "showlegend": false,
         "text": [
          null,
          "Li"
         ],
         "textposition": "top center",
         "type": "scatter3d",
         "x": [
          0,
          2.2623428126389795
         ],
         "y": [
          0,
          1.7163976617126608
         ],
         "z": [
          0,
          -0.7527285040406013
         ]
        },
        {
         "line": {
          "color": "black",
          "width": 4
         },
         "marker": {
          "size": 3.5
         },
         "mode": "lines+text",
         "name": "ab",
         "showlegend": false,
         "text": [
          null,
          "ab"
         ],
         "textposition": "top center",
         "type": "scatter3d",
         "x": [
          0,
          1.8452504200915336
         ],
         "y": [
          0,
          -1.9516953506294383
         ],
         "z": [
          0,
          0.15526652634188337
         ]
        }
       ],
       "layout": {
        "legend": {
         "title": {
          "text": "Habitat"
         },
         "tracegroupgap": 0
        },
        "margin": {
         "t": 60
        },
        "scene": {
         "domain": {
          "x": [
           0,
           1
          ],
          "y": [
           0,
           1
          ]
         },
         "xaxis": {
          "title": {
           "text": "PC1 (47.4%)"
          }
         },
         "yaxis": {
          "title": {
           "text": "PC2 (37.6%)"
          }
         },
         "zaxis": {
          "title": {
           "text": "PC3 (7.8%)"
          }
         }
        },
        "template": {
         "data": {
          "bar": [
           {
            "error_x": {
             "color": "#2a3f5f"
            },
            "error_y": {
             "color": "#2a3f5f"
            },
            "marker": {
             "line": {
              "color": "#E5ECF6",
              "width": 0.5
             },
             "pattern": {
              "fillmode": "overlay",
              "size": 10,
              "solidity": 0.2
             }
            },
            "type": "bar"
           }
          ],
          "barpolar": [
           {
            "marker": {
             "line": {
              "color": "#E5ECF6",
              "width": 0.5
             },
             "pattern": {
              "fillmode": "overlay",
              "size": 10,
              "solidity": 0.2
             }
            },
            "type": "barpolar"
           }
          ],
          "carpet": [
           {
            "aaxis": {
             "endlinecolor": "#2a3f5f",
             "gridcolor": "white",
             "linecolor": "white",
             "minorgridcolor": "white",
             "startlinecolor": "#2a3f5f"
            },
            "baxis": {
             "endlinecolor": "#2a3f5f",
             "gridcolor": "white",
             "linecolor": "white",
             "minorgridcolor": "white",
             "startlinecolor": "#2a3f5f"
            },
            "type": "carpet"
           }
          ],
          "choropleth": [
           {
            "colorbar": {
             "outlinewidth": 0,
             "ticks": ""
            },
            "type": "choropleth"
           }
          ],
          "contour": [
           {
            "colorbar": {
             "outlinewidth": 0,
             "ticks": ""
            },
            "colorscale": [
             [
              0,
              "#0d0887"
             ],
             [
              0.1111111111111111,
              "#46039f"
             ],
             [
              0.2222222222222222,
              "#7201a8"
             ],
             [
              0.3333333333333333,
              "#9c179e"
             ],
             [
              0.4444444444444444,
              "#bd3786"
             ],
             [
              0.5555555555555556,
              "#d8576b"
             ],
             [
              0.6666666666666666,
              "#ed7953"
             ],
             [
              0.7777777777777778,
              "#fb9f3a"
             ],
             [
              0.8888888888888888,
              "#fdca26"
             ],
             [
              1,
              "#f0f921"
             ]
            ],
            "type": "contour"
           }
          ],
          "contourcarpet": [
           {
            "colorbar": {
             "outlinewidth": 0,
             "ticks": ""
            },
            "type": "contourcarpet"
           }
          ],
          "heatmap": [
           {
            "colorbar": {
             "outlinewidth": 0,
             "ticks": ""
            },
            "colorscale": [
             [
              0,
              "#0d0887"
             ],
             [
              0.1111111111111111,
              "#46039f"
             ],
             [
              0.2222222222222222,
              "#7201a8"
             ],
             [
              0.3333333333333333,
              "#9c179e"
             ],
             [
              0.4444444444444444,
              "#bd3786"
             ],
             [
              0.5555555555555556,
              "#d8576b"
             ],
             [
              0.6666666666666666,
              "#ed7953"
             ],
             [
              0.7777777777777778,
              "#fb9f3a"
             ],
             [
              0.8888888888888888,
              "#fdca26"
             ],
             [
              1,
              "#f0f921"
             ]
            ],
            "type": "heatmap"
           }
          ],
          "histogram": [
           {
            "marker": {
             "pattern": {
              "fillmode": "overlay",
              "size": 10,
              "solidity": 0.2
             }
            },
            "type": "histogram"
           }
          ],
          "histogram2d": [
           {
            "colorbar": {
             "outlinewidth": 0,
             "ticks": ""
            },
            "colorscale": [
             [
              0,
              "#0d0887"
             ],
             [
              0.1111111111111111,
              "#46039f"
             ],
             [
              0.2222222222222222,
              "#7201a8"
             ],
             [
              0.3333333333333333,
              "#9c179e"
             ],
             [
              0.4444444444444444,
              "#bd3786"
             ],
             [
              0.5555555555555556,
              "#d8576b"
             ],
             [
              0.6666666666666666,
              "#ed7953"
             ],
             [
              0.7777777777777778,
              "#fb9f3a"
             ],
             [
              0.8888888888888888,
              "#fdca26"
             ],
             [
              1,
              "#f0f921"
             ]
            ],
            "type": "histogram2d"
           }
          ],
          "histogram2dcontour": [
           {
            "colorbar": {
             "outlinewidth": 0,
             "ticks": ""
            },
            "colorscale": [
             [
              0,
              "#0d0887"
             ],
             [
              0.1111111111111111,
              "#46039f"
             ],
             [
              0.2222222222222222,
              "#7201a8"
             ],
             [
              0.3333333333333333,
              "#9c179e"
             ],
             [
              0.4444444444444444,
              "#bd3786"
             ],
             [
              0.5555555555555556,
              "#d8576b"
             ],
             [
              0.6666666666666666,
              "#ed7953"
             ],
             [
              0.7777777777777778,
              "#fb9f3a"
             ],
             [
              0.8888888888888888,
              "#fdca26"
             ],
             [
              1,
              "#f0f921"
             ]
            ],
            "type": "histogram2dcontour"
           }
          ],
          "mesh3d": [
           {
            "colorbar": {
             "outlinewidth": 0,
             "ticks": ""
            },
            "type": "mesh3d"
           }
          ],
          "parcoords": [
           {
            "line": {
             "colorbar": {
              "outlinewidth": 0,
              "ticks": ""
             }
            },
            "type": "parcoords"
           }
          ],
          "pie": [
           {
            "automargin": true,
            "type": "pie"
           }
          ],
          "scatter": [
           {
            "fillpattern": {
             "fillmode": "overlay",
             "size": 10,
             "solidity": 0.2
            },
            "type": "scatter"
           }
          ],
          "scatter3d": [
           {
            "line": {
             "colorbar": {
              "outlinewidth": 0,
              "ticks": ""
             }
            },
            "marker": {
             "colorbar": {
              "outlinewidth": 0,
              "ticks": ""
             }
            },
            "type": "scatter3d"
           }
          ],
          "scattercarpet": [
           {
            "marker": {
             "colorbar": {
              "outlinewidth": 0,
              "ticks": ""
             }
            },
            "type": "scattercarpet"
           }
          ],
          "scattergeo": [
           {
            "marker": {
             "colorbar": {
              "outlinewidth": 0,
              "ticks": ""
             }
            },
            "type": "scattergeo"
           }
          ],
          "scattergl": [
           {
            "marker": {
             "colorbar": {
              "outlinewidth": 0,
              "ticks": ""
             }
            },
            "type": "scattergl"
           }
          ],
          "scattermap": [
           {
            "marker": {
             "colorbar": {
              "outlinewidth": 0,
              "ticks": ""
             }
            },
            "type": "scattermap"
           }
          ],
          "scattermapbox": [
           {
            "marker": {
             "colorbar": {
              "outlinewidth": 0,
              "ticks": ""
             }
            },
            "type": "scattermapbox"
           }
          ],
          "scatterpolar": [
           {
            "marker": {
             "colorbar": {
              "outlinewidth": 0,
              "ticks": ""
             }
            },
            "type": "scatterpolar"
           }
          ],
          "scatterpolargl": [
           {
            "marker": {
             "colorbar": {
              "outlinewidth": 0,
              "ticks": ""
             }
            },
            "type": "scatterpolargl"
           }
          ],
          "scatterternary": [
           {
            "marker": {
             "colorbar": {
              "outlinewidth": 0,
              "ticks": ""
             }
            },
            "type": "scatterternary"
           }
          ],
          "surface": [
           {
            "colorbar": {
             "outlinewidth": 0,
             "ticks": ""
            },
            "colorscale": [
             [
              0,
              "#0d0887"
             ],
             [
              0.1111111111111111,
              "#46039f"
             ],
             [
              0.2222222222222222,
              "#7201a8"
             ],
             [
              0.3333333333333333,
              "#9c179e"
             ],
             [
              0.4444444444444444,
              "#bd3786"
             ],
             [
              0.5555555555555556,
              "#d8576b"
             ],
             [
              0.6666666666666666,
              "#ed7953"
             ],
             [
              0.7777777777777778,
              "#fb9f3a"
             ],
             [
              0.8888888888888888,
              "#fdca26"
             ],
             [
              1,
              "#f0f921"
             ]
            ],
            "type": "surface"
           }
          ],
          "table": [
           {
            "cells": {
             "fill": {
              "color": "#EBF0F8"
             },
             "line": {
              "color": "white"
             }
            },
            "header": {
             "fill": {
              "color": "#C8D4E3"
             },
             "line": {
              "color": "white"
             }
            },
            "type": "table"
           }
          ]
         },
         "layout": {
          "annotationdefaults": {
           "arrowcolor": "#2a3f5f",
           "arrowhead": 0,
           "arrowwidth": 1
          },
          "autotypenumbers": "strict",
          "coloraxis": {
           "colorbar": {
            "outlinewidth": 0,
            "ticks": ""
           }
          },
          "colorscale": {
           "diverging": [
            [
             0,
             "#8e0152"
            ],
            [
             0.1,
             "#c51b7d"
            ],
            [
             0.2,
             "#de77ae"
            ],
            [
             0.3,
             "#f1b6da"
            ],
            [
             0.4,
             "#fde0ef"
            ],
            [
             0.5,
             "#f7f7f7"
            ],
            [
             0.6,
             "#e6f5d0"
            ],
            [
             0.7,
             "#b8e186"
            ],
            [
             0.8,
             "#7fbc41"
            ],
            [
             0.9,
             "#4d9221"
            ],
            [
             1,
             "#276419"
            ]
           ],
           "sequential": [
            [
             0,
             "#0d0887"
            ],
            [
             0.1111111111111111,
             "#46039f"
            ],
            [
             0.2222222222222222,
             "#7201a8"
            ],
            [
             0.3333333333333333,
             "#9c179e"
            ],
            [
             0.4444444444444444,
             "#bd3786"
            ],
            [
             0.5555555555555556,
             "#d8576b"
            ],
            [
             0.6666666666666666,
             "#ed7953"
            ],
            [
             0.7777777777777778,
             "#fb9f3a"
            ],
            [
             0.8888888888888888,
             "#fdca26"
            ],
            [
             1,
             "#f0f921"
            ]
           ],
           "sequentialminus": [
            [
             0,
             "#0d0887"
            ],
            [
             0.1111111111111111,
             "#46039f"
            ],
            [
             0.2222222222222222,
             "#7201a8"
            ],
            [
             0.3333333333333333,
             "#9c179e"
            ],
            [
             0.4444444444444444,
             "#bd3786"
            ],
            [
             0.5555555555555556,
             "#d8576b"
            ],
            [
             0.6666666666666666,
             "#ed7953"
            ],
            [
             0.7777777777777778,
             "#fb9f3a"
            ],
            [
             0.8888888888888888,
             "#fdca26"
            ],
            [
             1,
             "#f0f921"
            ]
           ]
          },
          "colorway": [
           "#636efa",
           "#EF553B",
           "#00cc96",
           "#ab63fa",
           "#FFA15A",
           "#19d3f3",
           "#FF6692",
           "#B6E880",
           "#FF97FF",
           "#FECB52"
          ],
          "font": {
           "color": "#2a3f5f"
          },
          "geo": {
           "bgcolor": "white",
           "lakecolor": "white",
           "landcolor": "#E5ECF6",
           "showlakes": true,
           "showland": true,
           "subunitcolor": "white"
          },
          "hoverlabel": {
           "align": "left"
          },
          "hovermode": "closest",
          "mapbox": {
           "style": "light"
          },
          "paper_bgcolor": "white",
          "plot_bgcolor": "#E5ECF6",
          "polar": {
           "angularaxis": {
            "gridcolor": "white",
            "linecolor": "white",
            "ticks": ""
           },
           "bgcolor": "#E5ECF6",
           "radialaxis": {
            "gridcolor": "white",
            "linecolor": "white",
            "ticks": ""
           }
          },
          "scene": {
           "xaxis": {
            "backgroundcolor": "#E5ECF6",
            "gridcolor": "white",
            "gridwidth": 2,
            "linecolor": "white",
            "showbackground": true,
            "ticks": "",
            "zerolinecolor": "white"
           },
           "yaxis": {
            "backgroundcolor": "#E5ECF6",
            "gridcolor": "white",
            "gridwidth": 2,
            "linecolor": "white",
            "showbackground": true,
            "ticks": "",
            "zerolinecolor": "white"
           },
           "zaxis": {
            "backgroundcolor": "#E5ECF6",
            "gridcolor": "white",
            "gridwidth": 2,
            "linecolor": "white",
            "showbackground": true,
            "ticks": "",
            "zerolinecolor": "white"
           }
          },
          "shapedefaults": {
           "line": {
            "color": "#2a3f5f"
           }
          },
          "ternary": {
           "aaxis": {
            "gridcolor": "white",
            "linecolor": "white",
            "ticks": ""
           },
           "baxis": {
            "gridcolor": "white",
            "linecolor": "white",
            "ticks": ""
           },
           "bgcolor": "#E5ECF6",
           "caxis": {
            "gridcolor": "white",
            "linecolor": "white",
            "ticks": ""
           }
          },
          "title": {
           "x": 0.05
          },
          "xaxis": {
           "automargin": true,
           "gridcolor": "white",
           "linecolor": "white",
           "ticks": "",
           "title": {
            "standoff": 15
           },
           "zerolinecolor": "white",
           "zerolinewidth": 2
          },
          "yaxis": {
           "automargin": true,
           "gridcolor": "white",
           "linecolor": "white",
           "ticks": "",
           "title": {
            "standoff": 15
           },
           "zerolinecolor": "white",
           "zerolinewidth": 2
          }
         }
        },
        "title": {
         "text": "PCA 3D"
        }
       }
      }
     },
     "metadata": {},
     "output_type": "display_data"
    }
   ],
   "source": [
    "\n",
    "fig = px.scatter_3d(\n",
    "    pca_df,\n",
    "    x=\"PC1\",\n",
    "    y=\"PC2\",\n",
    "    z=\"PC3\",\n",
    "    color=final_df['habitat'],\n",
    "    hover_name=\"species\",\n",
    "    color_continuous_scale=px.colors.sequential.Viridis,\n",
    "    opacity=0.8\n",
    "    )\n",
    "\n",
    "loadings = pca.components_.T * np.sqrt(pca.explained_variance_)\n",
    "\n",
    "scale = 3  \n",
    "\n",
    "for i, feature in enumerate(features):\n",
    "    fig.add_trace(\n",
    "        go.Scatter3d(\n",
    "            x=[0, loadings[i, 0] * scale],\n",
    "            y=[0, loadings[i, 1] * scale],\n",
    "            z=[0, loadings[i, 2] * scale],\n",
    "            mode=\"lines+text\",\n",
    "            line=dict(color=\"black\", width=4),\n",
    "            text=[None, feature],\n",
    "            textposition=\"top center\",\n",
    "            name=feature,\n",
    "            showlegend=False\n",
    "        )\n",
    "    )\n",
    "\n",
    "fig.update_layout(\n",
    "    title=\"PCA 3D\",\n",
    "    scene=dict(\n",
    "        xaxis_title=f\"PC1 ({explained_var[0]:.1f}%)\",\n",
    "        yaxis_title=f\"PC2 ({explained_var[1]:.1f}%)\",\n",
    "        zaxis_title=f\"PC3 ({explained_var[2]:.1f}%)\",\n",
    "    ),\n",
    "    legend_title=\"Habitat\",\n",
    ")\n",
    "fig.update_traces(marker=dict(size=3.5))  \n",
    "# fig.update_coloraxes(colorbar_title=\"Wwi\")\n",
    "\n",
    "fig.show()\n",
    "# fig.write_html(\"figures/.html\")"
   ]
  }
 ],
 "metadata": {
  "kernelspec": {
   "display_name": ".venv",
   "language": "python",
   "name": "python3"
  },
  "language_info": {
   "codemirror_mode": {
    "name": "ipython",
    "version": 3
   },
   "file_extension": ".py",
   "mimetype": "text/x-python",
   "name": "python",
   "nbconvert_exporter": "python",
   "pygments_lexer": "ipython3",
   "version": "3.12.10"
  }
 },
 "nbformat": 4,
 "nbformat_minor": 5
}

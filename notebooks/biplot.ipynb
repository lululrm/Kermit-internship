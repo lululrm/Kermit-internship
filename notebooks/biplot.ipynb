{
 "cells": [
  {
   "cell_type": "markdown",
   "id": "f9b5c73a",
   "metadata": {},
   "source": [
    "# PCA biplot analysis of life history traits"
   ]
  },
  {
   "cell_type": "code",
   "execution_count": 1,
   "id": "8ac79230",
   "metadata": {},
   "outputs": [],
   "source": [
    "import pandas as pd\n",
    "import numpy as np\n",
    "import matplotlib.pyplot as plt\n",
    "import seaborn as sns\n",
    "from sklearn.decomposition import PCA\n",
    "from sklearn.preprocessing import StandardScaler\n",
    "\n",
    "import plotly.express as px\n",
    "import plotly.graph_objects as go"
   ]
  },
  {
   "cell_type": "code",
   "execution_count": 2,
   "id": "83a6ee3f",
   "metadata": {},
   "outputs": [
    {
     "data": {
      "text/html": [
       "<div>\n",
       "<style scoped>\n",
       "    .dataframe tbody tr th:only-of-type {\n",
       "        vertical-align: middle;\n",
       "    }\n",
       "\n",
       "    .dataframe tbody tr th {\n",
       "        vertical-align: top;\n",
       "    }\n",
       "\n",
       "    .dataframe thead th {\n",
       "        text-align: right;\n",
       "    }\n",
       "</style>\n",
       "<table border=\"1\" class=\"dataframe\">\n",
       "  <thead>\n",
       "    <tr style=\"text-align: right;\">\n",
       "      <th></th>\n",
       "      <th>species</th>\n",
       "      <th>am</th>\n",
       "      <th>Wwi</th>\n",
       "      <th>Ri</th>\n",
       "      <th>Wwb</th>\n",
       "      <th>Li</th>\n",
       "      <th>ab</th>\n",
       "    </tr>\n",
       "  </thead>\n",
       "  <tbody>\n",
       "    <tr>\n",
       "      <th>0</th>\n",
       "      <td>Symsagittifera_roscoffensis</td>\n",
       "      <td>-2.263097</td>\n",
       "      <td>-2.681943</td>\n",
       "      <td>0.018237</td>\n",
       "      <td>-1.610842</td>\n",
       "      <td>-2.223594</td>\n",
       "      <td>-0.870294</td>\n",
       "    </tr>\n",
       "    <tr>\n",
       "      <th>1</th>\n",
       "      <td>Aequipecten_opercularis</td>\n",
       "      <td>-0.059093</td>\n",
       "      <td>-0.275378</td>\n",
       "      <td>1.639591</td>\n",
       "      <td>-2.351822</td>\n",
       "      <td>-0.854880</td>\n",
       "      <td>-1.373181</td>\n",
       "    </tr>\n",
       "    <tr>\n",
       "      <th>2</th>\n",
       "      <td>Mimachlamys_varia</td>\n",
       "      <td>-0.400497</td>\n",
       "      <td>-0.622221</td>\n",
       "      <td>1.639591</td>\n",
       "      <td>-2.351822</td>\n",
       "      <td>-0.944853</td>\n",
       "      <td>-1.373181</td>\n",
       "    </tr>\n",
       "    <tr>\n",
       "      <th>3</th>\n",
       "      <td>Mytilus_edulis</td>\n",
       "      <td>0.778895</td>\n",
       "      <td>-0.231961</td>\n",
       "      <td>1.392184</td>\n",
       "      <td>-2.764869</td>\n",
       "      <td>-0.464663</td>\n",
       "      <td>-3.043736</td>\n",
       "    </tr>\n",
       "    <tr>\n",
       "      <th>4</th>\n",
       "      <td>Panopea_abbreviata</td>\n",
       "      <td>2.507146</td>\n",
       "      <td>0.675057</td>\n",
       "      <td>2.385215</td>\n",
       "      <td>-1.703486</td>\n",
       "      <td>-0.074446</td>\n",
       "      <td>-1.876068</td>\n",
       "    </tr>\n",
       "  </tbody>\n",
       "</table>\n",
       "</div>"
      ],
      "text/plain": [
       "                       species        am       Wwi        Ri       Wwb  \\\n",
       "0  Symsagittifera_roscoffensis -2.263097 -2.681943  0.018237 -1.610842   \n",
       "1      Aequipecten_opercularis -0.059093 -0.275378  1.639591 -2.351822   \n",
       "2            Mimachlamys_varia -0.400497 -0.622221  1.639591 -2.351822   \n",
       "3               Mytilus_edulis  0.778895 -0.231961  1.392184 -2.764869   \n",
       "4           Panopea_abbreviata  2.507146  0.675057  2.385215 -1.703486   \n",
       "\n",
       "         Li        ab  \n",
       "0 -2.223594 -0.870294  \n",
       "1 -0.854880 -1.373181  \n",
       "2 -0.944853 -1.373181  \n",
       "3 -0.464663 -3.043736  \n",
       "4 -0.074446 -1.876068  "
      ]
     },
     "metadata": {},
     "output_type": "display_data"
    },
    {
     "data": {
      "text/html": [
       "<div>\n",
       "<style scoped>\n",
       "    .dataframe tbody tr th:only-of-type {\n",
       "        vertical-align: middle;\n",
       "    }\n",
       "\n",
       "    .dataframe tbody tr th {\n",
       "        vertical-align: top;\n",
       "    }\n",
       "\n",
       "    .dataframe thead th {\n",
       "        text-align: right;\n",
       "    }\n",
       "</style>\n",
       "<table border=\"1\" class=\"dataframe\">\n",
       "  <thead>\n",
       "    <tr style=\"text-align: right;\">\n",
       "      <th></th>\n",
       "      <th>ID</th>\n",
       "      <th>ecozone</th>\n",
       "      <th>gender</th>\n",
       "      <th>reproduction</th>\n",
       "      <th>embryo</th>\n",
       "    </tr>\n",
       "  </thead>\n",
       "  <tbody>\n",
       "    <tr>\n",
       "      <th>0</th>\n",
       "      <td>Symsagittifera_roscoffensis</td>\n",
       "      <td>M</td>\n",
       "      <td>H</td>\n",
       "      <td>O</td>\n",
       "      <td>M</td>\n",
       "    </tr>\n",
       "    <tr>\n",
       "      <th>1</th>\n",
       "      <td>Aequipecten_opercularis</td>\n",
       "      <td>M</td>\n",
       "      <td>H</td>\n",
       "      <td>O</td>\n",
       "      <td>M</td>\n",
       "    </tr>\n",
       "    <tr>\n",
       "      <th>2</th>\n",
       "      <td>Mimachlamys_varia</td>\n",
       "      <td>M</td>\n",
       "      <td>H</td>\n",
       "      <td>O</td>\n",
       "      <td>M</td>\n",
       "    </tr>\n",
       "    <tr>\n",
       "      <th>3</th>\n",
       "      <td>Mytilus_edulis</td>\n",
       "      <td>M</td>\n",
       "      <td>D</td>\n",
       "      <td>O</td>\n",
       "      <td>M</td>\n",
       "    </tr>\n",
       "    <tr>\n",
       "      <th>4</th>\n",
       "      <td>Panopea_abbreviata</td>\n",
       "      <td>M</td>\n",
       "      <td>D</td>\n",
       "      <td>O</td>\n",
       "      <td>M</td>\n",
       "    </tr>\n",
       "  </tbody>\n",
       "</table>\n",
       "</div>"
      ],
      "text/plain": [
       "                            ID ecozone gender reproduction embryo\n",
       "0  Symsagittifera_roscoffensis       M      H            O      M\n",
       "1      Aequipecten_opercularis       M      H            O      M\n",
       "2            Mimachlamys_varia       M      H            O      M\n",
       "3               Mytilus_edulis       M      D            O      M\n",
       "4           Panopea_abbreviata       M      D            O      M"
      ]
     },
     "metadata": {},
     "output_type": "display_data"
    }
   ],
   "source": [
    "# Load the dataset\n",
    "df_life = pd.read_csv('../data/lifehistory_df.csv')\n",
    "df_basiceco = pd.read_csv('../data/basicecodf.csv')\n",
    "df_species = pd.read_csv(\"../data/species.csv\")\n",
    "df_food = pd.read_csv(\"../data/fooddf.csv\")\n",
    "df_habitat = pd.read_csv(\"../data/habitatdf.csv\")\n",
    "\n",
    "\n",
    "display(df_life.head())\n",
    "display(df_basiceco.head())"
   ]
  },
  {
   "cell_type": "code",
   "execution_count": 3,
   "id": "4f10c755",
   "metadata": {},
   "outputs": [
    {
     "data": {
      "text/html": [
       "<div>\n",
       "<style scoped>\n",
       "    .dataframe tbody tr th:only-of-type {\n",
       "        vertical-align: middle;\n",
       "    }\n",
       "\n",
       "    .dataframe tbody tr th {\n",
       "        vertical-align: top;\n",
       "    }\n",
       "\n",
       "    .dataframe thead th {\n",
       "        text-align: right;\n",
       "    }\n",
       "</style>\n",
       "<table border=\"1\" class=\"dataframe\">\n",
       "  <thead>\n",
       "    <tr style=\"text-align: right;\">\n",
       "      <th></th>\n",
       "      <th>species</th>\n",
       "      <th>PC1</th>\n",
       "      <th>PC2</th>\n",
       "    </tr>\n",
       "  </thead>\n",
       "  <tbody>\n",
       "    <tr>\n",
       "      <th>0</th>\n",
       "      <td>Symsagittifera_roscoffensis</td>\n",
       "      <td>-4.332599</td>\n",
       "      <td>-1.319409</td>\n",
       "    </tr>\n",
       "    <tr>\n",
       "      <th>1</th>\n",
       "      <td>Aequipecten_opercularis</td>\n",
       "      <td>-2.418778</td>\n",
       "      <td>1.949067</td>\n",
       "    </tr>\n",
       "    <tr>\n",
       "      <th>2</th>\n",
       "      <td>Mimachlamys_varia</td>\n",
       "      <td>-2.773367</td>\n",
       "      <td>1.725362</td>\n",
       "    </tr>\n",
       "    <tr>\n",
       "      <th>3</th>\n",
       "      <td>Mytilus_edulis</td>\n",
       "      <td>-2.602300</td>\n",
       "      <td>2.953991</td>\n",
       "    </tr>\n",
       "    <tr>\n",
       "      <th>4</th>\n",
       "      <td>Panopea_abbreviata</td>\n",
       "      <td>-0.460463</td>\n",
       "      <td>3.460949</td>\n",
       "    </tr>\n",
       "  </tbody>\n",
       "</table>\n",
       "</div>"
      ],
      "text/plain": [
       "                       species       PC1       PC2\n",
       "0  Symsagittifera_roscoffensis -4.332599 -1.319409\n",
       "1      Aequipecten_opercularis -2.418778  1.949067\n",
       "2            Mimachlamys_varia -2.773367  1.725362\n",
       "3               Mytilus_edulis -2.602300  2.953991\n",
       "4           Panopea_abbreviata -0.460463  3.460949"
      ]
     },
     "execution_count": 3,
     "metadata": {},
     "output_type": "execute_result"
    }
   ],
   "source": [
    "#pca\n",
    "features = df_life[['am', 'Wwi', 'Ri', 'Wwb', 'Li', 'ab']]\n",
    "\n",
    "X = StandardScaler().fit_transform(features)\n",
    "\n",
    "pca = PCA(n_components=2)\n",
    "principal_components = pca.fit_transform(X)\n",
    "\n",
    "pca_df = pd.DataFrame(data=principal_components, columns=['PC1', 'PC2'])\n",
    "final_df = pd.concat([ df_life[['species']], pca_df], axis = 1)\n",
    "final_df.head()"
   ]
  },
  {
   "cell_type": "code",
   "execution_count": 4,
   "id": "721f99fe",
   "metadata": {},
   "outputs": [
    {
     "name": "stdout",
     "output_type": "stream",
     "text": [
      "PC1: 47.39%\n",
      "PC2: 37.59%\n"
     ]
    }
   ],
   "source": [
    "#explained variance\n",
    "explained_variance = pca.explained_variance_ratio_\n",
    "\n",
    "pc1_var = explained_variance[0] * 100\n",
    "pc2_var = explained_variance[1] * 100\n",
    "\n",
    "print(f\"PC1: {pc1_var:.2f}%\")\n",
    "print(f\"PC2: {pc2_var:.2f}%\")"
   ]
  },
  {
   "cell_type": "code",
   "execution_count": 5,
   "id": "9508d065",
   "metadata": {},
   "outputs": [
    {
     "data": {
      "text/html": [
       "<div>\n",
       "<style scoped>\n",
       "    .dataframe tbody tr th:only-of-type {\n",
       "        vertical-align: middle;\n",
       "    }\n",
       "\n",
       "    .dataframe tbody tr th {\n",
       "        vertical-align: top;\n",
       "    }\n",
       "\n",
       "    .dataframe thead th {\n",
       "        text-align: right;\n",
       "    }\n",
       "</style>\n",
       "<table border=\"1\" class=\"dataframe\">\n",
       "  <thead>\n",
       "    <tr style=\"text-align: right;\">\n",
       "      <th></th>\n",
       "      <th>species</th>\n",
       "      <th>PC1</th>\n",
       "      <th>PC2</th>\n",
       "      <th>Wwi</th>\n",
       "      <th>Ri</th>\n",
       "      <th>am</th>\n",
       "      <th>Wwb</th>\n",
       "      <th>Li</th>\n",
       "      <th>ab</th>\n",
       "      <th>ecozone</th>\n",
       "      <th>habitat</th>\n",
       "      <th>gender</th>\n",
       "      <th>reproduction</th>\n",
       "      <th>embryo</th>\n",
       "      <th>food</th>\n",
       "      <th>order</th>\n",
       "      <th>class</th>\n",
       "      <th>phylum</th>\n",
       "    </tr>\n",
       "  </thead>\n",
       "  <tbody>\n",
       "    <tr>\n",
       "      <th>0</th>\n",
       "      <td>Symsagittifera_roscoffensis</td>\n",
       "      <td>-4.332599</td>\n",
       "      <td>-1.319409</td>\n",
       "      <td>-2.681943</td>\n",
       "      <td>0.018237</td>\n",
       "      <td>-2.263097</td>\n",
       "      <td>-1.610842</td>\n",
       "      <td>-2.223594</td>\n",
       "      <td>-0.870294</td>\n",
       "      <td>M</td>\n",
       "      <td>M</td>\n",
       "      <td>H</td>\n",
       "      <td>O</td>\n",
       "      <td>M</td>\n",
       "      <td>BA</td>\n",
       "      <td>Acoela</td>\n",
       "      <td>Acoelomorpha</td>\n",
       "      <td>Xenacoelomorpha</td>\n",
       "    </tr>\n",
       "    <tr>\n",
       "      <th>1</th>\n",
       "      <td>Aequipecten_opercularis</td>\n",
       "      <td>-2.418778</td>\n",
       "      <td>1.949067</td>\n",
       "      <td>-0.275378</td>\n",
       "      <td>1.639591</td>\n",
       "      <td>-0.059093</td>\n",
       "      <td>-2.351822</td>\n",
       "      <td>-0.854880</td>\n",
       "      <td>-1.373181</td>\n",
       "      <td>M</td>\n",
       "      <td>M</td>\n",
       "      <td>H</td>\n",
       "      <td>O</td>\n",
       "      <td>M</td>\n",
       "      <td>P</td>\n",
       "      <td>Pectinida</td>\n",
       "      <td>Bivalvia</td>\n",
       "      <td>Mollusca</td>\n",
       "    </tr>\n",
       "    <tr>\n",
       "      <th>2</th>\n",
       "      <td>Mimachlamys_varia</td>\n",
       "      <td>-2.773367</td>\n",
       "      <td>1.725362</td>\n",
       "      <td>-0.622221</td>\n",
       "      <td>1.639591</td>\n",
       "      <td>-0.400497</td>\n",
       "      <td>-2.351822</td>\n",
       "      <td>-0.944853</td>\n",
       "      <td>-1.373181</td>\n",
       "      <td>M</td>\n",
       "      <td>M</td>\n",
       "      <td>H</td>\n",
       "      <td>O</td>\n",
       "      <td>M</td>\n",
       "      <td>P</td>\n",
       "      <td>Pectinida</td>\n",
       "      <td>Bivalvia</td>\n",
       "      <td>Mollusca</td>\n",
       "    </tr>\n",
       "    <tr>\n",
       "      <th>3</th>\n",
       "      <td>Mytilus_edulis</td>\n",
       "      <td>-2.602300</td>\n",
       "      <td>2.953991</td>\n",
       "      <td>-0.231961</td>\n",
       "      <td>1.392184</td>\n",
       "      <td>0.778895</td>\n",
       "      <td>-2.764869</td>\n",
       "      <td>-0.464663</td>\n",
       "      <td>-3.043736</td>\n",
       "      <td>M</td>\n",
       "      <td>M</td>\n",
       "      <td>D</td>\n",
       "      <td>O</td>\n",
       "      <td>M</td>\n",
       "      <td>P</td>\n",
       "      <td>Mytiloida</td>\n",
       "      <td>Bivalvia</td>\n",
       "      <td>Mollusca</td>\n",
       "    </tr>\n",
       "    <tr>\n",
       "      <th>4</th>\n",
       "      <td>Panopea_abbreviata</td>\n",
       "      <td>-0.460463</td>\n",
       "      <td>3.460949</td>\n",
       "      <td>0.675057</td>\n",
       "      <td>2.385215</td>\n",
       "      <td>2.507146</td>\n",
       "      <td>-1.703486</td>\n",
       "      <td>-0.074446</td>\n",
       "      <td>-1.876068</td>\n",
       "      <td>M</td>\n",
       "      <td>M</td>\n",
       "      <td>D</td>\n",
       "      <td>O</td>\n",
       "      <td>M</td>\n",
       "      <td>H</td>\n",
       "      <td>Adapedonta</td>\n",
       "      <td>Bivalvia</td>\n",
       "      <td>Mollusca</td>\n",
       "    </tr>\n",
       "  </tbody>\n",
       "</table>\n",
       "</div>"
      ],
      "text/plain": [
       "                       species       PC1       PC2       Wwi        Ri  \\\n",
       "0  Symsagittifera_roscoffensis -4.332599 -1.319409 -2.681943  0.018237   \n",
       "1      Aequipecten_opercularis -2.418778  1.949067 -0.275378  1.639591   \n",
       "2            Mimachlamys_varia -2.773367  1.725362 -0.622221  1.639591   \n",
       "3               Mytilus_edulis -2.602300  2.953991 -0.231961  1.392184   \n",
       "4           Panopea_abbreviata -0.460463  3.460949  0.675057  2.385215   \n",
       "\n",
       "         am       Wwb        Li        ab ecozone habitat gender reproduction  \\\n",
       "0 -2.263097 -1.610842 -2.223594 -0.870294       M       M      H            O   \n",
       "1 -0.059093 -2.351822 -0.854880 -1.373181       M       M      H            O   \n",
       "2 -0.400497 -2.351822 -0.944853 -1.373181       M       M      H            O   \n",
       "3  0.778895 -2.764869 -0.464663 -3.043736       M       M      D            O   \n",
       "4  2.507146 -1.703486 -0.074446 -1.876068       M       M      D            O   \n",
       "\n",
       "  embryo food       order         class           phylum  \n",
       "0      M   BA      Acoela  Acoelomorpha  Xenacoelomorpha  \n",
       "1      M    P   Pectinida      Bivalvia         Mollusca  \n",
       "2      M    P   Pectinida      Bivalvia         Mollusca  \n",
       "3      M    P   Mytiloida      Bivalvia         Mollusca  \n",
       "4      M    H  Adapedonta      Bivalvia         Mollusca  "
      ]
     },
     "execution_count": 5,
     "metadata": {},
     "output_type": "execute_result"
    }
   ],
   "source": [
    "final_df['Wwi'] = df_life['Wwi']\n",
    "final_df['Ri'] = df_life['Ri']\n",
    "final_df['am'] = df_life['am']\n",
    "final_df['Wwb'] = df_life['Wwb']\n",
    "final_df['Li'] = df_life['Li']\n",
    "final_df['ab'] = df_life['ab']\n",
    "\n",
    "final_df['ecozone'] = df_basiceco['ecozone']\n",
    "final_df['habitat'] = df_habitat['adult']\n",
    "final_df['gender'] = df_basiceco['gender']\n",
    "final_df['reproduction'] = df_basiceco['reproduction']\n",
    "final_df['embryo'] = df_basiceco['embryo']\n",
    "final_df['food'] = df_food['adult']\n",
    "final_df['order'] = df_species['Order']  \n",
    "final_df['class'] = df_species['Class'] \n",
    "final_df['phylum'] = df_species['Phylum']\n",
    "\n",
    "final_df.head()"
   ]
  },
  {
   "cell_type": "code",
   "execution_count": 6,
   "id": "24cd4491",
   "metadata": {},
   "outputs": [],
   "source": [
    "#loadings\n",
    "loadings = pca.components_.T * np.sqrt(explained_variance)\n",
    "\n",
    "x_range = principal_components[:, 0].max() - principal_components[:, 0].min()\n",
    "y_range = principal_components[:, 1].max() - principal_components[:, 1].min()\n",
    "\n",
    "scale = 0.3 * np.mean([x_range, y_range])\n",
    "scaled_loadings = loadings * scale\n"
   ]
  },
  {
   "cell_type": "code",
   "execution_count": null,
   "id": "55bb5661",
   "metadata": {},
   "outputs": [
    {
     "data": {
      "application/vnd.plotly.v1+json": {
       "config": {
        "plotlyServerURL": "https://plot.ly"
       },
       "data": [
        {
         "hovertemplate": "<b>%{hovertext}</b><br><br>class=Leptocardii<br>PC1=%{x}<br>PC2=%{y}<extra></extra>",
         "hovertext": [
          "Branchiostoma_floridae"
         ],
         "legendgroup": "Leptocardii",
         "marker": {
          "color": "rgb(102,194,165)",
          "opacity": 0.8,
          "size": 7,
          "symbol": "circle"
         },
         "mode": "markers",
         "name": "Leptocardii",
         "showlegend": true,
         "type": "scattergl",
         "x": {
          "bdata": "C+0dcyZGBcA=",
          "dtype": "f8"
         },
         "xaxis": "x",
         "y": {
          "bdata": "ZizpLBFMkr8=",
          "dtype": "f8"
         },
         "yaxis": "y"
        },
        {
         "hovertemplate": "<b>%{hovertext}</b><br><br>class=Ascidiacea<br>PC1=%{x}<br>PC2=%{y}<extra></extra>",
         "hovertext": [
          "Ascidiella_aspersa",
          "Boltenia_echinata",
          "Styela_plicata"
         ],
         "legendgroup": "Ascidiacea",
         "marker": {
          "color": "rgb(252,141,98)",
          "opacity": 0.8,
          "size": 7,
          "symbol": "circle"
         },
         "mode": "markers",
         "name": "Ascidiacea",
         "showlegend": true,
         "type": "scattergl",
         "x": {
          "bdata": "+VBlJpQUCMC+oxv1qrTzv0hQ6iyXxAzA",
          "dtype": "f8"
         },
         "xaxis": "x",
         "y": {
          "bdata": "fDrMXJOV8z8D04+BHejtvxdseNhvk/Q/",
          "dtype": "f8"
         },
         "yaxis": "y"
        },
        {
         "hovertemplate": "<b>%{hovertext}</b><br><br>class=Chondrichthyes<br>PC1=%{x}<br>PC2=%{y}<extra></extra>",
         "hovertext": [
          "Hemiscyllium_ocellatum",
          "Orectolobus_halei",
          "Orectolobus_hutchinsi",
          "Orectolobus_maculatus",
          "Orectolobus_ornatus",
          "Poroderma_africanum",
          "Scyliorhinus_canicula",
          "Triakis_scyllium",
          "Triakis_semifasciata",
          "Galeorhinus_galeus",
          "Hemitriakis_japanica",
          "Carcharhinus_leucas",
          "Galeocerdo_cuvier",
          "Negaprion_brevirostris",
          "Loxodon_macrorhinus",
          "Scoliodon_laticaudus",
          "Carcharias_taurus",
          "Lamna_ditropis",
          "Lamna_nasus",
          "Isurus_oxyrinchus",
          "Carcharodon_carcharias",
          "Mitsukurina_owstoni",
          "Deania_calceus",
          "Centroscymnus_plunketi",
          "Dalatias_licha",
          "Leucoraja_naevus",
          "Raja_clavata",
          "Raja_montagui",
          "Torpedo_marmorata",
          "Rhinobatos_productus",
          "Mobula_birostris"
         ],
         "legendgroup": "Chondrichthyes",
         "marker": {
          "color": "rgb(141,160,203)",
          "opacity": 0.8,
          "size": 7,
          "symbol": "circle"
         },
         "mode": "markers",
         "name": "Chondrichthyes",
         "showlegend": true,
         "type": "scattergl",
         "x": {
          "bdata": "2jTBhWWrBkBYQknTKHwQQCoewZRJJw1AvYS/3+rTDkDl1K1bqH0PQFr/yoCuugVA7JSI0xxuAkAzWlC3tiEMQNzIzR3CvQxAPbMmTe7iEEDyWYDYLrUIQOCbxeCTEhNAHm4IcS03FEBGg3g1mgsTQNY5vBXGLwpAQg9069jFAUDA3+LYqCIIQNGJQlDiXxJA5Dlmr8f3E0ANMPkGRuITQD9OJC9T9xdAmfT6K2vQGUCv8VNcC+YNQDMIp986DRJADTvPqGIkDUA/eyQkj+cCQOFpH2A6pAZAC2gNrA5nBECJbCQgzJkMQOcLTQm/KQdAxW3WijU0F0A=",
          "dtype": "f8"
         },
         "xaxis": "x",
         "y": {
          "bdata": "vYT6Cnov8r+7cMlkmL7uv+iC+8UQrPa/QG8jIc8N4r9qAqvaMxDqv+Pg8Tcbtfi/R4QTlDUt+L9/j5qhPsX4v2ZkCYz4K/W/XZKsmQcz9L/tRMofotz4vx/M1TZn3PK/V+xRozbO8b90vefhK+TzvxJHgfumJAPAEgyYbopZ+L9qAoaHa27SP1QJGweoOvq/2ZP0fKUX87+H8I0UgWH2vy57+jV0XfG/JHV6q+fX+b+YNwmQfAAAwIK1Jdimaf+/4Gcb7N2D+780fPAGIM3zvzat3q6kxO6/Eus+2MZi9L9NqK+r9hzzv5h3PSTT6/a/VO8z2mky9b8=",
          "dtype": "f8"
         },
         "yaxis": "y"
        },
        {
         "hovertemplate": "<b>%{hovertext}</b><br><br>class=Actinopterygii<br>PC1=%{x}<br>PC2=%{y}<extra></extra>",
         "hovertext": [
          "Acipenser_baerii",
          "Acipenser_medirostris",
          "Acipenser_oxyrinchus",
          "Acipenser_ruthenus",
          "Acipenser_transmontanus",
          "Huso_huso",
          "Scaphirhynchus_albus",
          "Scaphirhynchus_suttkusi",
          "Scaphirhynchus_platorynchus",
          "Elops_saurus",
          "Halosauropsis_macrochir",
          "Anguilla_anguilla",
          "Congresox_talabonoides",
          "Muraenesox_bagio",
          "Muraenesox_cinereus",
          "Heterotis_niloticus",
          "Cyphomyrus_discorhynchus",
          "Marcusenius_macrolepidotus",
          "Marcusenius_pongolensis",
          "Mormyrops_anguilloides",
          "Mormyrus_kannume",
          "Mormyrus_longirostris",
          "Petrocephalus_bovei",
          "Gymnarchus_niloticus",
          "Coilia_brachygnathus",
          "Coilia_dussumieri",
          "Coilia_mystus",
          "Coilia_nasus",
          "Coilia_ramcarati",
          "Setipinna_phasa",
          "Setipinna_taty",
          "Thryssa_aestuaria",
          "Thryssa_hamiltonii",
          "Thryssa_setirostris",
          "Anchoa_hepsetus",
          "Anchoa_mitchilli",
          "Anchoa_panamensis",
          "Anchoviella_guianensis",
          "Cetengraulis_edentulus",
          "Cetengraulis_mysticetus",
          "Encrasicholina_devisi",
          "Encrasicholina_heteroloba",
          "Encrasicholina_punctifer",
          "Encrasicholina_purpurea",
          "Engraulis_anchoita",
          "Engraulis_australis",
          "Engraulis_capensis",
          "Engraulis_mordax",
          "Engraulis_ringens",
          "Lycengraulis_grossidens",
          "Stolephorus_carpentariae",
          "Stolephorus_commersonnii",
          "Stolephorus_indicus",
          "Stolephorus_insularis",
          "Stolephorus_nelsoni",
          "Stolephorus_waitei",
          "Ilisha_africana",
          "Pellona_ditchela",
          "Pellona_harroweri",
          "Dussumieria_acuta",
          "Dussumieria_hasseltii",
          "Clupea_bentincki",
          "Clupea_pallasii",
          "Potamalosa_richmondia",
          "Strangomera_bentincki",
          "Alosa_pseudoharengus",
          "Brevoortia_patronus",
          "Brevoortia_tyrannus",
          "Sardina_pilchardus",
          "Pellonula_leonensis",
          "Anodontostoma_chacunda",
          "Nematalosa_vlaminghi",
          "Amblygaster_sirm",
          "Dorosoma_cepedianum",
          "Escualosa_thoracata",
          "Konosirus_punctatus",
          "Sardinella_aurita",
          "Sardinella_albella",
          "Sardinella_brasiliensis",
          "Sardinella_fimbriata",
          "Sardinella_gibbosa",
          "Sardinella_lemuru",
          "Sardinella_longiceps",
          "Sardinella_maderensis",
          "Sardinella_melanura",
          "Sardinella_sindensis",
          "Sardinella_tawilis",
          "Sardinella_zunasi",
          "Harengula_clupeola",
          "Harengula_humeralis",
          "Harengula_jaguana",
          "Carassius_auratus",
          "Cirrhinus_cirrhosus",
          "Labeo_altivelis",
          "Labeo_calbasu",
          "Labeo_catla",
          "Labeo_coubie",
          "Labeo_niloticus",
          "Labeo_rohita",
          "Labeo_senegalensis",
          "Enteromius_liberiensis",
          "Labeobarbus_bynni",
          "Engraulicypris_sardella",
          "Neobola_stellae",
          "Rastrineobola_argentea",
          "Rhodeus_amarus",
          "Rhodeus_ocellatus",
          "Rhodeus_sericeus",
          "Abbottina_rivularis",
          "Gobio_gobio",
          "Hemibarbus_labeo",
          "Chrosomus_neogaeus",
          "Gila_intermedia",
          "Ptychocheilus_oregonensis",
          "Siphateles_bicolor",
          "Alburnus_alburnus",
          "Alburnus_baliki",
          "Alburnoides_bipunctatus",
          "Abramis_brama",
          "Achondrostoma_arcasii",
          "Oregonichthys_crameri",
          "Dionda_diaboli",
          "Pimephales_vigilax",
          "Chasmistes_brevirostris",
          "Chasmistes_cujus",
          "Chasmistes_liorus",
          "Glaniopsis_hanitschi",
          "Citharinus_citharus",
          "Alestes_baremoze",
          "Alestes_dentex",
          "Brycinus_leuciscus",
          "Brycinus_macrolepidotus",
          "Brycinus_nurse",
          "Brycinus_sadleri",
          "Hydrocynus_forskahlii",
          "Micralestes_acutidens",
          "Hepsetus_odoe",
          "Hoplias_malabaricus",
          "Myloplus_rhomboidalis",
          "Piaractus_brachypomus",
          "Semaprochilodus_taeniurus",
          "Semaprochilodus_insignis",
          "Curimata_knerii",
          "Potamorhina_latior",
          "Psectrogaster_rutiloides",
          "Brycon_amazonicus",
          "Brycon_melanopterus",
          "Brycon_moorei",
          "Brycon_opalinus",
          "Astyanax_bimaculatus",
          "Astyanax_eigenmanniorum",
          "Astyanax_mexicanus",
          "Gymnocharacinus_bergii",
          "Hyphessobrycon_pulchripinnis",
          "Moenkhausia_dichroura",
          "Moenkhausia_pittieri",
          "Odontostilbe_paraguayensis",
          "Oligosarcus_hepsetus",
          "Paracheirodon_innesi",
          "Psalidodon_fasciatus",
          "Triportheus_albus",
          "Triportheus_angulatus",
          "Triportheus_elongatus",
          "Gymnotus_carapo",
          "Corydoras_aeneus",
          "Hypostomus_albopunctatus",
          "Loricariichthys_anus",
          "Eremophilus_mutisii",
          "Trichomycterus_itacarambiensis",
          "Pterodoras_granulosus",
          "Synodontis_batensoda",
          "Synodontis_clarias",
          "Synodontis_membranaceus",
          "Synodontis_nebulosus",
          "Synodontis_schall",
          "Synodontis_zambezensis",
          "Phalacronotus_micronemus",
          "Silurus_glanis",
          "Silurus_triostegus",
          "Wallago_attu",
          "Clarias_agboyiensis",
          "Clarias_anguillaris",
          "Clarias_batrachus",
          "Cnidoglanis_macrocephalus",
          "Plotosus_lineatus",
          "Heteropneustes_fossilis",
          "Bagrus_bajad",
          "Coreobagrus_ichikawai",
          "Hemibagrus_baramensis",
          "Mystus_cavasius",
          "Pseudobagrus_vachellii",
          "Auchenoglanis_occidentalis",
          "Chrysichthys_auratus",
          "Chrysichthys_nigrodigitatus",
          "Chrysichthys_walkeri",
          "Pangasianodon_hypophthalmus",
          "Pangasius_pangasius",
          "Hypophthalmus_edentatus",
          "Iheringichthys_labrosus",
          "Pseudoplatystoma_corruscans",
          "Pseudoplatystoma_fasciatum",
          "Pseudoplatystoma_punctifer",
          "Pseudoplatystoma_tigrinum",
          "Parailia_pellucida",
          "Schilbe_intermedius",
          "Schilbe_mandibularis",
          "Schilbe_uranoscopus",
          "Ictalurus_punctatus",
          "Pylodictis_olivaris",
          "Ameiurus_catus",
          "Ameiurus_melas",
          "Ameiurus_nebulosus",
          "Noturus_baileyi",
          "Noturus_phaeus",
          "Coregonus_kiyi",
          "Coregonus_muksun",
          "Thymallus_baicalensis",
          "Thymallus_nigrescens",
          "Brachymystax_lenok",
          "Oncorhynchus_clarkii_stomias",
          "Oncorhynchus_gilae",
          "Salmo_lourosensis",
          "Salmo_marmoratus",
          "Salmo_obtusirostris",
          "Salvelinus_willoughbii",
          "Esox_lucius",
          "Esox_masquinongy",
          "Esox_niger",
          "Umbra_limi",
          "Umbra_krameri",
          "Osmerus_dentex",
          "Chologaster_cornuta",
          "Forbesichthys_agassizii",
          "Typhlichthys_subterraneus",
          "Amblyopsis_spelaea",
          "Amblyopsis_rosae",
          "Allocyttus_niger",
          "Allocyttus_verrucosus",
          "Pseudocyttus_maculatus",
          "Arctogadus_glacialis",
          "Gadus_chalcogrammus",
          "Gadus_macrocephalus",
          "Melanogrammus_aeglefinus",
          "Merlangius_merlangus",
          "Pollachius_virens",
          "Macruronus_novaezelandiae",
          "Merluccius_merluccius",
          "Urophycis_tenuis",
          "Myripristis_amaena",
          "Myripristis_murdjan",
          "Neoniphon_sammara",
          "Sargocentron_diadema",
          "Sargocentron_microstoma",
          "Sargocentron_rubrum",
          "Ostorhinchus_doederleini",
          "Trypauchen_vagina",
          "Aphia_minuta",
          "Glossogobius_giuris",
          "Gobiosoma_bosc",
          "Gobius_ophiocephalus",
          "Gobius_vittatus",
          "Istigobius_decoratus",
          "Istigobius_goldmanni",
          "Rhinogobiops_nicholsii",
          "Sufflogobius_bibarbatus",
          "Trimma_benjamini",
          "Trimma_nasa",
          "Valenciennea_strigata",
          "Zosterisessor_ophiocephalus",
          "Acanthogobius_flavimanus",
          "Crystallogobius_linearis",
          "Deltentosteus_quadrimaculatus",
          "Gobionellus_microdon",
          "Lepidogobius_lepidus",
          "Pomatoschistus_microps",
          "Pomatoschistus_minutus",
          "Rhinogobius_brunneus",
          "Rhinogobius_cliffordpopei",
          "Rhinogobius_giurinus",
          "Stigmatogobius_pleurostigma",
          "Boleophthalmus_pectinirostris",
          "Parapocryptes_serperaster",
          "Hippocampus_erectus",
          "Hippocampus_guttulatus",
          "Hippocampus_hippocampus",
          "Hippocampus_kuda",
          "Hippocampus_reidi",
          "Hippocampus_whitei",
          "Hippocampus_zosterae",
          "Phycodurus_eques",
          "Phyllopteryx_taeniolatus",
          "Syngnathoides_biaculeatus",
          "Syngnathus_abaster",
          "Syngnathus_fuscus",
          "Syngnathus_taenionotus",
          "Macroramphosus_scolopax",
          "Macroramphosus_gracilis",
          "Arripis_georgianus",
          "Pomatomus_saltatrix",
          "Rastrelliger_brachysoma",
          "Rastrelliger_faughni",
          "Rastrelliger_kanagurta",
          "Scomber_colias",
          "Scomber_japonicus",
          "Acanthocybium_solandri",
          "Scomberomorus_maculatus",
          "Scomberomorus_munroi",
          "Scomberomorus_niphonius",
          "Scomberomorus_queenslandicus",
          "Gymnosarda_unicolor",
          "Sarda_chiliensis",
          "Sarda_orientalis",
          "Sarda_sarda",
          "Allothunnus_fallai",
          "Auxis_rochei",
          "Auxis_thazard",
          "Euthynnus_affinis",
          "Euthynnus_alletteratus",
          "Katsuwonus_pelamis",
          "Thunnus_alalunga",
          "Thunnus_albacares",
          "Thunnus_obesus",
          "Aphanopus_carbo",
          "Aphanopus_intermedius",
          "Lepturacanthus_savala",
          "Trichiurus_lepturus",
          "Trichiurus_lepturus_japonicus",
          "Ariomma_indica",
          "Hyperoglyphe_antarctica",
          "Psenopsis_anomala",
          "Seriolella_punctata",
          "Anabas_testudineus",
          "Channa_argus",
          "Channa_punctata",
          "Betta_splendens",
          "Osphronemus_goramy",
          "Pristolepis_fasciata",
          "Pristolepis_grootii",
          "Alepes_djedaba",
          "Alepes_kleinii",
          "Atropus_atropos",
          "Atule_mate",
          "Caranx_crysos",
          "Caranx_hippos",
          "Caranx_ignobilis",
          "Caranx_lugubris",
          "Caranx_melampygus",
          "Caranx_senegallus",
          "Caranx_tille",
          "Chloroscombrus_chrysurus",
          "Decapterus_kurroides",
          "Decapterus_macarellus",
          "Decapterus_macrosoma",
          "Decapterus_maruadsi",
          "Decapterus_punctatus",
          "Decapterus_russelli",
          "Decapterus_tabl",
          "Flavocaranx_bajad",
          "Gnathanodon_speciosus",
          "Megalaspis_cordyla",
          "Parastromateus_niger",
          "Pseudocaranx_dentex",
          "Selar_crumenophthalmus",
          "Selaroides_leptolepis",
          "Trachurus_indicus",
          "Trachurus_japonicus",
          "Trachurus_lathami",
          "Trachurus_mediterraneus",
          "Trachurus_murphyi",
          "Trachurus_novaezelandiae",
          "Trachurus_picturatus",
          "Trachurus_symmetricus",
          "Elagatis_bipinnulata",
          "Mene_maculata",
          "Rachycentron_canadum",
          "Kajikia_audax",
          "Tetrapturus_pfluegeri",
          "Centropomus_parallelus",
          "Lates_angustifrons",
          "Lates_calcarifer",
          "Lates_longispinis",
          "Lates_mariae",
          "Lates_niloticus",
          "Lates_stappersii",
          "Psettodes_erumei",
          "Cyclopsetta_chittendeni",
          "Cyclopsetta_querna",
          "Etropus_crossotus",
          "Atheresthes_evermanni",
          "Hippoglossus_stenolepis",
          "Hippoglossoides_platessoides",
          "Cleisthenes_pinetorum",
          "Eopsetta_jordani",
          "Isopsetta_isolepis",
          "Glyptocephalus_kitaharae",
          "Glyptocephalus_stelleri",
          "Microstomus_kitt",
          "Microstomus_pacificus",
          "Parophrys_vetulus",
          "Platichthys_flesus",
          "Pseudopleuronectes_americanus",
          "Pseudopleuronectes_yokohamae",
          "Verasper_moseri",
          "Verasper_variegatus",
          "Rhombosolea_leporina",
          "Rhombosolea_plebeia",
          "Lepidorhombus_whiffiagonis",
          "Lepidorhombus_boscii",
          "Scophthalmus_rhombus",
          "Cynoglossus_canariensis",
          "Cynoglossus_joyneri",
          "Cynoglossus_puncticeps",
          "Cynoglossus_semifasciatus",
          "Cynoglossus_senegalensis",
          "Cynoglossus_zanzibarensis",
          "Symphurus_plagiusa",
          "Dicologlossa_cuneata",
          "Monochirus_hispidus",
          "Pegusa_lascaris",
          "Acanthoclinus_littoreus",
          "Acanthochromis_polyacanthus",
          "Amphiprion_ocellaris",
          "Chromis_ternatensis",
          "Chromis_verater",
          "Chromis_viridis",
          "Chrysiptera_biocellata",
          "Dascyllus_albisella",
          "Dascyllus_aruanus",
          "Dascyllus_reticulatus",
          "Holacanthus_passer",
          "Hypsypops_rubicundus",
          "Parma_microlepis",
          "Plectroglyphidodon_dickii",
          "Pomacentrus_amboinensis",
          "Pomacentrus_coelestis",
          "Pomacentrus_moluccensis",
          "Pomacentrus_wardi",
          "Pycnochromis_margaritifer",
          "Stegastes_acapulcoensis",
          "Stegastes_arcifrons",
          "Stegastes_beebei",
          "Stegastes_flavilatus",
          "Stegastes_fuscus",
          "Stegastes_nigricans",
          "Stegastes_planifrons",
          "Stegastes_rectifraenum",
          "Pseudochromis_flavivertex",
          "Pseudochromis_fuscus",
          "Cichla_intermedia",
          "Cichla_monoculus",
          "Cichla_orinocensis",
          "Cichla_temensis",
          "Acarichthys_heckelii",
          "Coptodon_guineensis",
          "Heterostichus_rostratus",
          "Acyrtops_beryllinus",
          "Atherina_presbyter",
          "Atherinella_brasiliensis",
          "Menidia_extensa",
          "Membras_martinica",
          "Melanotaenia_boesemani",
          "Oryzias_latipes",
          "Ablennes_hians",
          "Tylosurus_acus",
          "Tylosurus_crocodilus",
          "Cololabis_saira",
          "Cheilopogon_cyanopterus",
          "Chriodorus_atherinoides",
          "Hemiramphus_convexus",
          "Fundulopanchax_gardneri",
          "Fundulus_julisia",
          "Fundulus_heteroclitus",
          "Fundulus_luciae",
          "Crenichthys_baileyi",
          "Aphanius_iberus",
          "Cyprinodon_bovinus",
          "Cyprinodon_elegans",
          "Cyprinodon_macularius",
          "Cyprinodon_nevadensis",
          "Gambusia_puncticulata",
          "Gambusia_punctata",
          "Gambusia_holbrooki",
          "Heterandria_formosa",
          "Girardinus_metallicus",
          "Girardinus_uninotatus",
          "Girardinus_creolus",
          "Girardinus_denticulatus",
          "Girardinus_microdactylus",
          "Girardinus_falcatus",
          "Quintana_atrizona",
          "Limia_vittata",
          "Poecilia_latipinna",
          "Poecilia_reticulata",
          "Xiphophorus_maculatus",
          "Eucinostomus_argenteus",
          "Eucinostomus_gula",
          "Ammodytes_americanus",
          "Ammodytes_personatus",
          "Ammodytes_tobianus",
          "Hyperoplus_lanceolatus",
          "Achoerodus_gouldii",
          "Morone_chrysops",
          "Morone_mississippiensis",
          "Morone_saxatilis",
          "Platax_orbicularis",
          "Argyrosomus_japonicus",
          "Atrobucca_nibe",
          "Cynoscion_leiarchus",
          "Cynoscion_regalis",
          "Larimichthys_polyactis",
          "Menticirrhus_americanus",
          "Menticirrhus_saxatilis",
          "Menticirrhus_undulatus",
          "Pennahia_argentata",
          "Plagioscion_squamosissimus",
          "Protonibea_diacanthus",
          "Roncador_stearnsii",
          "Emmelichthys_nitidus",
          "Deveximentum_ruconius",
          "Equulites_elongatus",
          "Equulites_leuciscus",
          "Equulites_lineolatus",
          "Eubleekeria_splendens",
          "Gazza_minuta",
          "Karalla_dussumieri",
          "Karalla_daura",
          "Leiognathus_bindus",
          "Leiognathus_brevirostris",
          "Nuchequula_blochii",
          "Nuchequula_gerreoides",
          "Photopectoralis_bindus",
          "Secutor_insidiator",
          "Centropyge_bicolor",
          "Centropyge_loriculus",
          "Pomadasys_argenteus",
          "Pomadasys_argyreus",
          "Pomadasys_incisus",
          "Pomadasys_kaakan",
          "Pomadasys_maculatus",
          "Pomadasys_striatus",
          "Pomadasys_stridens",
          "Pristipomoides_auricilla",
          "Pristipomoides_filamentosus",
          "Pristipomoides_flavipinnis",
          "Pristipomoides_macrophthalmus",
          "Pristipomoides_sieboldii",
          "Pristipomoides_zonatus",
          "Lutjanus_adetii",
          "Lutjanus_alexandrei",
          "Lutjanus_apodus",
          "Lutjanus_argentiventris",
          "Lutjanus_bohar",
          "Lutjanus_fulvus",
          "Lutjanus_johnii",
          "Lutjanus_kasmira",
          "Lutjanus_lutjanus",
          "Lutjanus_synagris",
          "Lutjanus_vitta",
          "Ocyurus_chrysurus",
          "Lobotes_surinamensis",
          "Sillago_aeolus",
          "Sillago_burrus",
          "Sillago_ciliata",
          "Sillago_flindersi",
          "Sillago_japonica",
          "Sillago_schomburgkii",
          "Sillago_sihama",
          "Sillago_vittata",
          "Boops_boops",
          "Dentex_congoensis",
          "Lithognathus_mormyrus",
          "Pagellus_acarne",
          "Pagellus_bellottii",
          "Pagellus_bogaraveo",
          "Acanthopagrus_arabicus",
          "Acanthopagrus_australis",
          "Archosargus_probatocephalus",
          "Diplodus_annularis",
          "Diplodus_cervinus",
          "Diplodus_sargus",
          "Diplodus_vulgaris",
          "Evynnis_ehrenbergii",
          "Evynnis_tumifrons",
          "Pagrus_major",
          "Parargyrops_edita",
          "Siganus_fuscescens",
          "Siganus_guttatus",
          "Siganus_lineatus",
          "Siganus_luridus",
          "Siganus_rivulatus",
          "Siganus_spinus",
          "Pomoxis_nigromaculatus",
          "Micropterus_dolomieu",
          "Micropterus_salmoides",
          "Lepomis_cyanellus",
          "Lepomis_gulosus",
          "Elassoma_zonatum",
          "Latridopsis_ciliaris",
          "Latris_lineata",
          "Maccullochella_ikei",
          "Maccullochella_peelii",
          "Macquaria_ambigua",
          "Macquaria_novemaculeata",
          "Nannoperca_vittata",
          "Nannatherina_balstoni",
          "Percichthys_trucha",
          "Siniperca_chuatsi",
          "Aethaloperca_rogaa",
          "Anyperodon_leucogrammicus",
          "Cephalopholis_argus",
          "Cephalopholis_cruentata",
          "Cephalopholis_fulva",
          "Cephalopholis_microprion",
          "Cephalopholis_miniata",
          "Epinephelus_coioides",
          "Epinephelus_cyanopodus",
          "Epinephelus_drummondhayi",
          "Epinephelus_fuscoguttatus",
          "Epinephelus_howlandi",
          "Epinephelus_itajara",
          "Epinephelus_labriformis",
          "Epinephelus_maculatus",
          "Epinephelus_malabaricus",
          "Epinephelus_polyphekadion",
          "Epinephelus_quoyanus",
          "Plectropomus_leopardus",
          "Plectropomus_maculatus",
          "Plectropomus_pessuliferus",
          "Variola_louti",
          "Centropristis_striata",
          "Diplectrum_formosum",
          "Diplectrum_macropoma",
          "Diplectrum_pacificum",
          "Paralabrax_auroguttatus",
          "Paralabrax_clathratus",
          "Ammocrypta_pellucida",
          "Nothonotus_bellus",
          "Etheostoma_perlongum",
          "Etheostoma_pyrrhogaster",
          "Etheostoma_tetrazonum",
          "Etheostoma_trisella",
          "Etheostoma_zonistium",
          "Sander_vitreus",
          "Gymnocephalus_cernuus",
          "Percilia_irwini",
          "Dolloidraco_longedorsalis",
          "Neodraco_skottsbergi",
          "Gerlachea_australis",
          "Chaenocephalus_aceratus",
          "Chaenodraco_wilsoni",
          "Champsocephalus_gunnari",
          "Chionobathyscus_dewitti",
          "Chionodraco_hamatus",
          "Chionodraco_myersi",
          "Chionodraco_rastrospinosus",
          "Cryodraco_antarcticus",
          "Pagetopsis_maculatus",
          "Pseudochaenichthys_georgianus",
          "Aethotaxis_mitopteryx",
          "Dissostichus_eleginoides",
          "Dissostichus_mawsoni",
          "Gobionotothen_gibberifrons",
          "Indonotothenia_cyanobrancha",
          "Lepidonotothen_squamifrons",
          "Lindbergichthys_nudifrons",
          "Notothenia_neglecta",
          "Nototheniops_larseni",
          "Paranotothenia_magellanica",
          "Pagothenia_borchgrevinki",
          "Trematomus_bernacchii",
          "Trematomus_eulepidotus",
          "Trematomus_hansoni",
          "Trematomus_lepidorhinus",
          "Trematomus_loennbergii",
          "Trematomus_newnesi",
          "Trematomus_nicolai",
          "Trematomus_pennellii",
          "Trematomus_scotti",
          "Ambiserrula_jugosa",
          "Platycephalus_caeruleopunctatus",
          "Platycephalus_richardsoni",
          "Ratabulus_diversidens",
          "Rogadius_asper",
          "Peristedion_cataphractum",
          "Bellator_gymnostethus",
          "Prionotus_albirostris",
          "Prionotus_carolinus",
          "Prionotus_punctatus",
          "Prionotus_stephanophrys",
          "Eutrigla_gurnardus",
          "Trigla_lyra",
          "Lepidotrigla_argus",
          "Lepidotrigla_cavillone",
          "Dendrochirus_brachypterus",
          "Pontinus_kuhlii",
          "Scorpaena_elongata",
          "Scorpaena_guttata",
          "Scorpaena_loppei",
          "Scorpaena_maderensis",
          "Scorpaena_notata",
          "Scorpaena_porcus",
          "Scorpaena_scrofa",
          "Anoplopoma_fimbria",
          "Erilepis_zonifer",
          "Anarhichas_minor",
          "Zoarces_americanus",
          "Zaprora_silenus",
          "Ulvaria_subbifurcata",
          "Gasterosteus_aculeatus",
          "Pungitius_pungitius",
          "Culaea_inconstans",
          "Apeltes_quadracus",
          "Pleurogrammus_azonus",
          "Pleurogrammus_monopterygius",
          "Careproctus_reinhardti",
          "Liparis_gibbus",
          "Liparis_inquilinus",
          "Liparis_pulchellus",
          "Aspidophoroides_monopterygius",
          "Blepsias_cirrhosus"
         ],
         "legendgroup": "Actinopterygii",
         "marker": {
          "color": "rgb(231,138,195)",
          "opacity": 0.8,
          "size": 7,
          "symbol": "circle"
         },
         "mode": "markers",
         "name": "Actinopterygii",
         "showlegend": true,
         "type": "scattergl",
         "x": {
          "bdata": "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",
          "dtype": "f8"
         },
         "xaxis": "x",
         "y": {
          "bdata": "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",
          "dtype": "f8"
         },
         "yaxis": "y"
        },
        {
         "hovertemplate": "<b>%{hovertext}</b><br><br>class=Amphibia<br>PC1=%{x}<br>PC2=%{y}<extra></extra>",
         "hovertext": [
          "Andrias_davidianus",
          "Hynobius_kimurae",
          "Hynobius_quelpaertensis",
          "Hynobius_tokyoensis",
          "Hynobius_yangi",
          "Pachyhynobius_shangchengensis",
          "Ranodon_sibiricus",
          "Onychodactylus_japonicus",
          "Bolitoglossa_mexicana",
          "Bolitoglossa_subpalmata",
          "Eurycea_bislineata",
          "Eurycea_longicauda",
          "Gyrinophilus_gulolineatus",
          "Gyrinophilus_palleucus",
          "Aneides_aeneus",
          "Desmognathus_brimleyorum",
          "Desmognathus_fuscus",
          "Desmognathus_monticola",
          "Desmognathus_ochrophaeus",
          "Desmognathus_ocoee",
          "Desmognathus_quadramaculatus",
          "Ensatina_eschscholtzii",
          "Phaeognathus_hubrichti",
          "Plethodon_cinereus",
          "Plethodon_kentucki",
          "Speleomantes_ambrosii",
          "Speleomantes_imperialis",
          "Amphiuma_means",
          "Rhyacotriton_variegatus",
          "Ambystoma_maculatum",
          "Ambystoma_mexicanum",
          "Ambystoma_opacum",
          "Ambystoma_texanum",
          "Salamandrina_perspicillata",
          "Chioglossa_lusitanica",
          "Salamandra_lanzai",
          "Echinotriton_andersoni",
          "Lissotriton_boscai",
          "Lissotriton_helveticus",
          "Lissotriton_vulgaris",
          "Neurergus_crocatus",
          "Calotriton_asper",
          "Triturus_cristatus",
          "Triturus_dobrogicus",
          "Triturus_karelinii",
          "Triturus_marmoratus",
          "Cynops_pyrrhogaster",
          "Paramesotriton_hongkongensis",
          "Necturus_maculosus",
          "Ascaphus_truei",
          "Alytes_cisternasii",
          "Alytes_muletensis",
          "Alytes_obstetricans",
          "Bombina_bombina",
          "Bombina_maxima",
          "Bombina_orientalis",
          "Bombina_variegata",
          "Fejervarya_limnocharis",
          "Fejervarya_multistriata",
          "Hoplobatrachus_tigerinus",
          "Xenopus_laevis",
          "Pelobates_cultripes",
          "Pelobates_syriacus",
          "Pelobates_varaldii",
          "Eleutherodactylus_coqui",
          "Argenteohyla_siemersi",
          "Hyla_arborea",
          "Trachycephalus_resinifictrix",
          "Anaxyrus_americanus",
          "Anaxyrus_boreas",
          "Anaxyrus_californicus",
          "Anaxyrus_fowleri",
          "Bufo_bufo",
          "Bufo_gargarizans",
          "Bufotes_latastii",
          "Bufotes_viridis",
          "Bufotes_zamdaensis",
          "Epidalea_calamita",
          "Nimbaphrynoides_occidentalis",
          "Rhaebo_blombergi",
          "Sclerophrys_pentoni",
          "Strauchbufo_raddei",
          "Mannophryne_trinitatis",
          "Ceratophrys_stolzmanni",
          "Hyperolius_viridiflavus",
          "Dyscophus_antongilii",
          "Pyxicephalus_adspersus",
          "Euphlyctis_hexadactylus",
          "Nanorana_parkeri",
          "Chiromantis_petersii",
          "Chiromantis_rufescens",
          "Kurixalus_eiffingeri",
          "Kurixalus_idiootocus",
          "Rhacophorus_moltrechti",
          "Zhangixalus_omeimontis",
          "Amolops_mantzorum",
          "Lithobates_catesbeianus",
          "Lithobates_chiricahuensis",
          "Lithobates_clamitans",
          "Pelophylax_bedriagae",
          "Pelophylax_caralitanus",
          "Pelophylax_epeiroticus",
          "Pelophylax_nigromaculatus",
          "Pelophylax_ridibundus",
          "Pelophylax_perezi",
          "Pelophylax_porosus",
          "Pelophylax_saharicus",
          "Rana_arvalis",
          "Rana_chensinensis",
          "Rana_dalmatina",
          "Rana_iberica",
          "Rana_italica",
          "Rana_latastei",
          "Rana_macrocnemis",
          "Rana_muscosa",
          "Rana_sakuraii",
          "Rana_tagoi",
          "Rana_temporaria",
          "Sylvirana_nigrovittata"
         ],
         "legendgroup": "Amphibia",
         "marker": {
          "color": "rgb(166,216,84)",
          "opacity": 0.8,
          "size": 7,
          "symbol": "circle"
         },
         "mode": "markers",
         "name": "Amphibia",
         "showlegend": true,
         "type": "scattergl",
         "x": {
          "bdata": "Xzze39qbBkDhIHz4nLq0PyjQUj5OO+W/zY2x9FnUpb/b6i/pdC/kvx0y3t1y5eI/Z4ueLvaN2j8gpQMqTVnkP69YSQd7B+s/4kRZUm866z/tE5t5AdDov9Jzv+FJCMy/QnM25OG93L9NPmV3gbDFv08562J7bb8/t8OjI/9nyr+XUXQcLEysv0w4HXnMbK0/Ko6bvbDzzr9x2hMXBwDYvzatavRsDcg/KzeDk1I3zj92OwIStNDmP4rwboJ7KOG/7YDMZSy76r9bJNPku17tP1iMNG9Ih+g/kf5p0n7MAkDgF+B1eOjPv/l3mCH5mc8/Ch4Ic+w5wT/03EYv5O/kv56ixxkyarG/99AS1ZG/7L9Dci5mCH/Qv1MSyHVVF/g/F7vOyfgK3b+RLJ3f+7fwv/5iONY2Wem/65rdVo0wz7+NjtCebiTav9BILzgtQtE/hhH6hSNrur+5FIjFcw3gv2UlYvFSaeG/psR9ZXgZ1b8HYey6O5Pbv25G5+hLr+C/eOBQaZ8++T/FFIACxXG6v3mlehR1qN2/ZyOXzwMEur81tWhxKIXjv9lvQRoh0Oy/cKaIAcOP6L98pL59GzbLv4Ob738GZeW/MJTYlLs39L+PkgLyB9DzvxYc99uVXXs/fa01tktix787hT276VXivwlmnwLLgOi/8BJHROnD57/Q2drsyzrjv8/39dHMouG/NDB79izV7r/nj3110c7fvxZElMPAQ6q/rbbkzXDy4r+X1m9edk3rv2rQF94iebg/8sTu5sNz0T/6nz77NYiyv0atY8tk/fS/BCAcaWAg37+1PxcXA7fkv8SFhi4sl+K/14lNKIO13L/5YbcxBKeYP64LywspDfK/Ip2ztQyL379BsNc3LBDzvym7llNNjPS/KQ6C1t518b/HGMN79Arwv0XMaYuGJ9Y/fg0nk1DG17/2Z+ljKBfwv4yBQry9Svu/hWAwuQ8z87+3Ue06N9vqv6QNFZXEJ/G/ASf2yLRe379RYlARleDnv5g+qP2N6Oe/LVg4MtwA1r+LVJgeSNrAv1u/H0uVwuq/20Xvk1l+4L86pigiYC7cv/sm+k3scd2//+7MasZV2b/CGmdYc+3iv0PWYh+YJvC/Cj1hoKwW8L974y4k83Pnv4M7X7hhdcW/Z2taphMB4r9yr9rX5Uravw36qOu5QeG/HN1V4LjE1b+5RMLMKFDwv/CIet6uqeG/83Qpe1kd1L/kDwHPLm7jvz8KQxINNvG/nKqXxgmHvD9uPh4o3IX1vw==",
          "dtype": "f8"
         },
         "xaxis": "x",
         "y": {
          "bdata": "91iRuFrrxz8i+Wa9PYb8vyY4VFwVXf6/Rwq/yU4f+L/Lu9lvPKH8v8ahwwhD+vO/oHba9PuF+79zG33i1R8BwPNcRXim4fi/PIK3OP8lAMD/u+c54eoBwNyd1ZinTALATxHhKEhu979+MuCdAY7zv0mkLQsFawDAztuWChm6AcBDmWsfDKoAwJcDzIs0igHApihr8o39AsChx8ztDToDwGae4ybmcP+/RLGGzFTqAcCybejhkf8BwNxwZvze0vm/+4LHCG22+79DARdWU9IEwGdO4u9VawPAsX+XJ1tE7L+9RgrqCWIGwEH5sz+7n/S/D9EQE6Cyyb9kDM4eFIEAwK8TYkErGO+/H/XaYqHk/L9fbgldNEUDwFNeVfUGkwrAGZbq8A7R9b9ajj2wMvn7v9QsK2outPG/LW6HW9A39L8AJ6kdCRT7v7ZRMJ/CUv2/sG2wlT9m778H6n/SArr0v9CxuToUP/K/AKo43x+O8b8vccrSDG71v9ITL+QTJPe/6QLhnh5I778c6yJY/3gAwLDlaRKxaP2/8Jw7lBHtAsC75bbjzKsAwKOjvm132+W/DUu2aMd79L9F7OedQIv2v5MMwaNsROu/tbEK6m/z9789+rWmGJv3v08ltcGrE70/1YHkHhoS1T91SZpucTvlvzWGmue5osw/2GrtypQO4L+pTSn2v277v8VuGCSz3NS/yMgdJDEy6b/KRX+0Zl/Kv0x7hy2hmqg/ChqxPjChsb/EkzOIqHzMvwyc041L1ds/HCk16J9KpD9UCHx7pPSlP5npiOWA3MK/9ZXaL9aSwr8oYbR+zsfxv8bnEvVN5+y/0YjhVm2gCMA02RNGktfsP6HeVdxGT+i/JYXr7cL71785jXRusasDwKHuWarOpEM/+u/wJ4Y58b8ct8nYOmbWP0qZjcD9T+M/oercDinahL/awUkiL832v5B2AlWsL+m/NGbQvemZ879zbJu8IwL2v8hkAONor/G/wLGxHfWE8r8xKpNZp7zxv1j1DSEgAei/2IddNXB15T/YDcw8IlDWv/ToPrSN1ak/ZXL0CM0yz7/nB2Tg+a/Vv5cuq2xIyNa/9zHcUuu8yL+lJxs59RTOv1820s0u49O/dV1s0x0d1L/XGv5yDHLTv1DSwscGwfW/1onPtvEr+L+OiQTFwqjwvzOCRr76FfK/BKWRCRkw8b/p6PkZtJDrvwSOhFflevO/ylIZYTMZ8b8fJWUeSHL7v0Gon3aAKPi/LVlifq+r8b9EPP2r98Lnvw==",
          "dtype": "f8"
         },
         "yaxis": "y"
        },
        {
         "hovertemplate": "<b>%{hovertext}</b><br><br>class=Reptilia<br>PC1=%{x}<br>PC2=%{y}<extra></extra>",
         "hovertext": [
          "Correlophus_ciliatus",
          "Eublepharis_macularius",
          "Hemidactylus_turcicus",
          "Heteronotia_binoei",
          "Heteronotia_binoei_3N1A",
          "Heteronotia_binoei_3N1B",
          "Heteronotia_binoei_EA6",
          "Heteronotia_binoei_SM6",
          "Chioninia_coctei",
          "Ctenotus_pantherinus",
          "Eulamprus_quoyii",
          "Egernia_cunninghami",
          "Egernia_striolata",
          "Scincella_lateralis",
          "Xantusia_vigilis",
          "Gerrhosaurus_validus",
          "Smaug_giganteus",
          "Holcosus_quadrilineatus",
          "Pholidoscelis_exsul",
          "Salvator_merianae",
          "Gallotia_atlantica",
          "Gallotia_bravoana",
          "Gallotia_caesaris",
          "Gallotia_galloti",
          "Gallotia_intermedia",
          "Gallotia_simonyi",
          "Gallotia_stehlini",
          "Eremias_argus",
          "Eremias_suphani",
          "Apathya_cappadocica",
          "Iberolacerta_horvathi",
          "Lacerta_schreiberi",
          "Podarcis_muralis_Castanet",
          "Zootoca_vivipara",
          "Varanus_bengalensis",
          "Varanus_komodoensis",
          "Varanus_niloticus",
          "Furcifer_pardalis",
          "Ctenophorus_ornatus",
          "Ctenophorus_adelaidensis",
          "Pogona_barbata",
          "Anolis_acutus",
          "Anolis_carolinensis",
          "Anolis_gundlachi",
          "Anolis_opalinus",
          "Anolis_sagrei",
          "Basiliscus_basiliscus",
          "Basiliscus_plumifrons",
          "Basiliscus_vittatus",
          "Dipsosaurus_dorsalis",
          "Gambelia_sila",
          "Sceloporus_magister",
          "Sceloporus_occidentalis",
          "Sceloporus_undulatus",
          "Boa_constrictor",
          "Boa_imperator",
          "Eunectes_murinus",
          "Eunectes_notaeus",
          "Apodora_papuana",
          "Morelia_spilota",
          "Python_regius",
          "Python_sebae",
          "Python_molurus",
          "Simalia_amethistina",
          "Vipera_aspis",
          "Bitis_gabonica",
          "Bitis_arietans",
          "Crotalus_horridus",
          "Crotalus_lepidus",
          "Crotalus_oreganus",
          "Crotalus_pricei",
          "Natrix_natrix",
          "Natrix_maura",
          "Thamnophis_butleri",
          "Thamnophis_saurita",
          "Thamnophis_sirtalis",
          "Coluber_constrictor",
          "Orthriophis_taeniurus",
          "Pantherophis_guttatus",
          "Heterodon_nasicus",
          "Heterodon_platirhinos",
          "Podocnemis_unifilis",
          "Chelus_fimbriata",
          "Elseya_dentata",
          "Emydura_macquarii",
          "Hydromedusa_maximiliani",
          "Apalone_spinifera",
          "Dermatemys_mawii",
          "Claudius_angustatus",
          "Sternotherus_minor",
          "Caretta_caretta",
          "Lepidochelys_kempii",
          "Eretmochelys_imbricata",
          "Emydoidea_blandingii",
          "Glyptemys_insculpta",
          "Graptemys_oculifera",
          "Graptemys_pseudogeographica",
          "Pseudemys_concinna",
          "Pseudemys_nelsoni",
          "Gopherus_agassizii",
          "Gopherus_morafkai",
          "Gopherus_polyphemus",
          "Aldabrachelys_gigantea",
          "Chelonoidis_niger",
          "Geochelone_elegans",
          "Malacochersus_tornieri",
          "Stigmochelys_pardalis",
          "Testudo_hermanni",
          "Batagur_affinis",
          "Cuora_flavomarginata",
          "Alligator_sinensis",
          "Caiman_latirostris",
          "Melanosuchus_niger",
          "Paleosuchus_palpebrosus",
          "Paleosuchus_trigonatus",
          "Crocodylus_johnsoni",
          "Crocodylus_mindorensis",
          "Crocodylus_porosus",
          "Crocodylus_siamensis",
          "Crocodylus_palustris",
          "Crocodylus_niloticus",
          "Crocodylus_moreletii",
          "Crocodylus_rhombifer",
          "Crocodylus_acutus",
          "Osteolaemus_tetraspis"
         ],
         "legendgroup": "Reptilia",
         "marker": {
          "color": "rgb(255,217,47)",
          "opacity": 0.8,
          "size": 7,
          "symbol": "circle"
         },
         "mode": "markers",
         "name": "Reptilia",
         "showlegend": true,
         "type": "scattergl",
         "x": {
          "bdata": "TuHknMSU8j9u6hp9vlf2P2a/1UAkpbO/3bzO1EXkyj/1FpGvl5LKP7ivU+SwZNA/SDopW9rkwT983QQVXS/SP57JpgMfYQFAUEMQR8z+yT+8S9jc26PqP3N8nnvEigFA66mnSsNr9T/h3RuRgmrkvzq2G6G1p6W/+azs2Qqo/z/JfG2bu9D/P1uPTUiNALy/GFm51apY6D+z/NDMjUQEQLdATTC/bau/l7AKDpWv8T9x4YFOtEKiP62KQfQHRN0/5M2TI7IC7j84XEoPE5/wP/Ch93n1NPA/Ah7JVQGtuD/mC+4eEAG7P4EPv8L4EdU/KXxtT4hTgb+JbZ8pIiXlP+ozIVTfTbk/Sb+518NO0r+rKUzjsvUGQK4Qi+G3+w5AJR0gcrhaA0AH8mQqKuzePzlz+FZPeeU/JbqzgEJE4r8+2vBDDuP1P5PBazmndNm/83zqXZXxzb+AKD8HTUnsvxW077t+ydq/d2WgitCa279dk9gFNYzsPzRYxCT6ZPo/fHwcPsKI7T+E0WfL2kXxP+wShoQnD9k/j1Glp+HD4D8el6NTvAnQP5t2JaGTgMc/DxorReAlEEA3emi1bncMQEiXb28sYRJAWKFF9bhTDkDEXgSsCaMOQJelirTXEApAkbd2sCaXCECmJaNC4wQQQAD5yiGonQ1ANMfKkJIAC0AFXgF44noCQGpq1974RgpA5c8TR+elBUAOlFXc7AIIQM9hRgbdhgNAglB2EBurAUDVLHbXYi76P3WJWiEdNQNAQLCydl0TAEB1iBv91Bz7P57xvXtXngRA/d6+WQ6AA0A5dHwe8LUAQJGzYxX6AwVA1VLEkVNoBkDlFSd44doCQDWe5duSz/0/LQT0yIQrCEB2s+r8sscHQMTvLenjLgVA+NGQHN4aAEC2iCGk10oFQIJMntnNvAZAfIUSnlMMBkCH2WBy01L4P5cHyEP3YPo/MOLhb8HgC0C3vUALWFYHQA5d6VRJlwxAVJpMFzFFA0B3yZoQmTICQLV2+89smP4/f4RLrWCGAUBPSWsCSHQFQMnmbiLxGgFAvCWE9VQJBkB3LXqwK+EHQMCfE6FqVgxAe2FOqNcEEUCfXPg5oU0TQDwSqQjyJwVAVT8BkftXAEAbVmRExeEPQEk+g1tdSAJAHN9aCTpCCkBLsPmRLvX8P5SIC4scowxAb6tCjuIDD0AhPMzA51IQQKDrbscU9AlAxJYpAJ/uC0BWKTW9x5oMQBf3zFIEGRBAt1OKKOROEUBImOk9hRkQQJOvTDQG1Q5AJ8uf5iBeEkC28se+T3wNQNbtey9UfQ5Azoi40mGbD0B8Z3AMgHwOQA==",
          "dtype": "f8"
         },
         "xaxis": "x",
         "y": {
          "bdata": "U9f6i9JO/r9k1mBwrqL+vz/siBJ2XQTA9nFqmp4LBsC+x8DPoaoGwMMsZscpugbAAB0flS/+BsAjmhN0LcsFwPD99fJWyQLAl23dMqZdA8DVS2Rng6oCwARGQRW6Gv+/OUlVgKFzA8Az3w/3SfYFwIpI6IPS5AjA+X36F0y4AMBepBIQ6MgDwJ1SobQhxAbA0lNXgPvvAMDbinfbrYrvv7i0X7uwbQbAj/SWkU4kAcCTHzk1QWsGwHN5NY2rcQTAQ8AZLdxhAcBCjozE+DABwMWdtp6OgADAO4eQTAmuBMCtbso0FJ8EwD8rwve75AXA24oo3PPYBMAOePrNTh4CwN3b4bJ5wQTAyBUD2N58A8Cve3ZrWjP0v7zofIjtDtq/gE+S3dDH+b8IXIVFQ9EFwCcza+qxTwTA1guISo/MBsCQYkinALz4vxIl1zmZCgXAqhebETzHA8CQnb64krwEwJAEEVcDowXAdzHc/ZtGBcChH9UQFgcAwJOLvkqvBve/PvRy8dDSAsDRtyM+LMwBwKg3FW0T2QXABz7tSCrcA8D4NM8+KkQDwD0r73JmDALAM1Hw9udy37/xu+WGl8Pwv8KbH+iCvtS/PlY4My5x7L99JPkaqN/jvwQNk8XIKeK/U7EX45BL9b/pMTW8lY3Sv6h1fCUkSeG/PkZW8AG33b8BAER8Fm79v94rWXTra/S/xOsNe1kY6L8SKx5KZiL3v9YEVT2LAf6/RlJ5C3IW/L9PtcXkw0n+vwjhw3NUqe2/Wb9mSp338r8JoMVF/9n9v0BzE1/UC+e/oQk9TCgA87+d4xzO6tzzv3jf4frWjvS/B69guOgN7r9faIzB6BDwv+uvoxn79/G/Y4rzt63e7b+iFA1L+HH3v/0+rynOV/+/OsH1IgQV+L9QArF1JnIDwGrMCnDLqPC/uNZvlhDR97/VmoA2GlEBwItKx+dKSADAXmpjN1Bywb/LBr5a/Pbdv5l4LBP5ftm/uLakTBut9L/jpSDmLJD3v/Uy7WQK4Pu/L+KPFbiM97+yai8hX/X0vzcmkYH+ZfK/alztc3gx/b8WJ20lLZD7v+9tFYJ1Yfu/AKJLtSiT5r9UWM+0dvbkvxkKZKyBH/m/uVv5lwAaA8Chz2lhn3X2v2TPsYASFfu/u6V89egd8785a7WewM3/v7ytTCYJAeW/CS0T+NNa0b9PFCri+33SvzddZnsJM/G/KTbJLHSh8b+ymkabg1jnv/+ROo8XQ9C/jUxDUCyJs7+RaoyRNtXVv9+WB3gjUdu/VyeiEiR8uD8721W3m27iv/ezdD6dCeC/hAmIzqZR0L+6+ZMspu/rvw==",
          "dtype": "f8"
         },
         "yaxis": "y"
        },
        {
         "hovertemplate": "<b>%{hovertext}</b><br><br>class=Aves<br>PC1=%{x}<br>PC2=%{y}<extra></extra>",
         "hovertext": [
          "Struthio_camelus",
          "Rhynchotus_rufescens",
          "Rhea_americana",
          "Apteryx_mantelli",
          "Dromaius_novaehollandiae",
          "Gallus_gallus",
          "Podilymbus_podiceps",
          "Phoeniconaias_minor",
          "Columba_livia",
          "Mesitornis_variegatus",
          "Pterocles_alchata",
          "Tauraco_erythrolophus",
          "Cuculus_canorus",
          "Ardeotis_kori",
          "Opisthocomus_hoazin",
          "Gallinula_chloropus",
          "Fratercula_arctica",
          "Larus_argentatus",
          "Larus_fuscus",
          "Podargus_strigoides",
          "Aegotheles_cristatus",
          "Apus_apus",
          "Archilochus_alexandri",
          "Rhynochetos_jubatus",
          "Gavia_immer",
          "Diomedea_exulans",
          "Pygoscelis_adeliae",
          "Ciconia_ciconia",
          "Pelecanus_onocrotalus",
          "Tyto_alba",
          "Strix_occidentalis",
          "Urocolius_macrourus",
          "Leptosomus_discolor",
          "Euptilotis_neoxenus",
          "Bucorvus_leadbeateri",
          "Todiramphus_cinnamominus",
          "Ramphastos_toco",
          "Cariama_cristata",
          "Forpus_passerinus",
          "Melopsittacus_undulatus",
          "Toxostoma_curvirostre"
         ],
         "legendgroup": "Aves",
         "marker": {
          "color": "rgb(229,196,148)",
          "opacity": 0.8,
          "size": 7,
          "symbol": "circle"
         },
         "mode": "markers",
         "name": "Aves",
         "showlegend": true,
         "type": "scattergl",
         "x": {
          "bdata": "YMPIjcEaEECNQUv1gaf7Pzx6ghqZtAhA843Efy7TCUDpyKFxjhwNQN9Ps9/YvwBA9dtS9emb+D/NKtTxzw4HQEsrc0G3xfw/76/p1M3a8j/Y9vR7QX78P1wDEceRxP4/9laUxR9g7T87AcbSIDMHQMKhwaR3fQJAfiK/FgSx+D8gy2jtG6cAQPrGzJ4o/gRAIuE5klF0A0A2AhMZ62cBQMo3XCYEgvI/jPcX5IhQ7z8juLEwg9rFv3DWN9Sb6wNAFUyhlh+lBECYrgaRK6UOQAp1AQuU1QNAeaZ4nFUtB0C7bDzIy6IKQGVL2CFg2/s/kLoth+aOAUCOItLxi3bZP8e6P6IEO/o/MRAw0V9y+j8dfFwmkOAJQGN4rVcuDfA/98Pz9DAVAEB7TgiYN5IFQAGSFbUrtOg/CvkCKd077D8SZZFIAcbXPw==",
          "dtype": "f8"
         },
         "xaxis": "x",
         "y": {
          "bdata": "PoHPUHUe57+C3k9BAE73vyH6mGHppfK/4izW4PJ5+b823XJNSlDuv/I547w3pvS/2VQcaLTy+b+8dy/drBL3vxiOr4V4Ive/2EJGnB6V+7/nDOiNTD36v093k6k9/Pm/OOQ8bG6/9b/1/N8oZKTyv6KtDkz3yfe/m0O8+CMy97/vgKn3C0sBwOT7zWsLJve/tBvZ7k72979i/eJuZBX5v2i23RkWB/+/ObSovGnn/7+TFXAOnfMAwObuwjbgjfu/VrXqO68n9b/XHCnRsK75v7fUJtlpLvi/3HKVdbBc8b/IuV5MDurwv41nsAPdVfm/s+WaRe8S+79Y+OpB3jf7v8uaQRkVGfa/JF/RGvuT/L/5FOza6trzv7mKRESP/v6/N33bOA/s9L/Ua91TJOT0vxSdxYwIWP2/O09XxgrM+b+u+aqzhZD9vw==",
          "dtype": "f8"
         },
         "yaxis": "y"
        },
        {
         "hovertemplate": "<b>%{hovertext}</b><br><br>class=Mammalia<br>PC1=%{x}<br>PC2=%{y}<extra></extra>",
         "hovertext": [
          "Ornithorhynchus_anatinus",
          "Tachyglossus_aculeatus"
         ],
         "legendgroup": "Mammalia",
         "marker": {
          "color": "rgb(179,179,179)",
          "opacity": 0.8,
          "size": 7,
          "symbol": "circle"
         },
         "mode": "markers",
         "name": "Mammalia",
         "showlegend": true,
         "type": "scattergl",
         "x": {
          "bdata": "uZ+SYbte/T8XA+pR0YUBQA==",
          "dtype": "f8"
         },
         "xaxis": "x",
         "y": {
          "bdata": "QieBq0b39L8hlrgjAVDzvw==",
          "dtype": "f8"
         },
         "yaxis": "y"
        }
       ],
       "layout": {
        "annotations": [
         {
          "arrowcolor": "black",
          "arrowhead": 2,
          "arrowsize": 2,
          "ax": 0,
          "axref": "x",
          "ay": 0,
          "ayref": "y",
          "showarrow": true,
          "x": 1.1698123614453788,
          "xanchor": "right",
          "y": 0.339132086299944,
          "yanchor": "top"
         },
         {
          "font": {
           "size": 12
          },
          "showarrow": false,
          "text": "am",
          "x": 1.4037748337344544,
          "xanchor": "center",
          "y": 0.4069585035599328,
          "yanchor": "middle"
         },
         {
          "arrowcolor": "black",
          "arrowhead": 2,
          "arrowsize": 2,
          "ax": 0,
          "axref": "x",
          "ay": 0,
          "ayref": "y",
          "showarrow": true,
          "x": 1.1544692797371652,
          "xanchor": "right",
          "y": 0.9037273292471601,
          "yanchor": "top"
         },
         {
          "font": {
           "size": 12
          },
          "showarrow": false,
          "text": "Wwi",
          "x": 1.3853631356845981,
          "xanchor": "center",
          "y": 1.0844727950965922,
          "yanchor": "middle"
         },
         {
          "arrowcolor": "black",
          "arrowhead": 2,
          "arrowsize": 2,
          "ax": 0,
          "axref": "x",
          "ay": 0,
          "ayref": "y",
          "showarrow": true,
          "x": -0.4244876365133017,
          "xanchor": "right",
          "y": 1.3800244916711597,
          "yanchor": "top"
         },
         {
          "font": {
           "size": 12
          },
          "showarrow": false,
          "text": "Ri",
          "x": -0.509385163815962,
          "xanchor": "center",
          "y": 1.6560293900053915,
          "yanchor": "middle"
         },
         {
          "arrowcolor": "black",
          "arrowhead": 2,
          "arrowsize": 2,
          "ax": 0,
          "axref": "x",
          "ay": 0,
          "ayref": "y",
          "showarrow": true,
          "x": 1.2007165557036252,
          "xanchor": "right",
          "y": -0.7707971668342869,
          "yanchor": "top"
         },
         {
          "font": {
           "size": 12
          },
          "showarrow": false,
          "text": "Wwb",
          "x": 1.4408598668443502,
          "xanchor": "center",
          "y": -0.9249566002011442,
          "yanchor": "middle"
         },
         {
          "arrowcolor": "black",
          "arrowhead": 2,
          "arrowsize": 2,
          "ax": 0,
          "axref": "x",
          "ay": 0,
          "ayref": "y",
          "showarrow": true,
          "x": 1.1378779765435094,
          "xanchor": "right",
          "y": 0.8632869816822398,
          "yanchor": "top"
         },
         {
          "font": {
           "size": 12
          },
          "showarrow": false,
          "text": "Li",
          "x": 1.3654535718522112,
          "xanchor": "center",
          "y": 1.0359443780186877,
          "yanchor": "middle"
         },
         {
          "arrowcolor": "black",
          "arrowhead": 2,
          "arrowsize": 2,
          "ax": 0,
          "axref": "x",
          "ay": 0,
          "ayref": "y",
          "showarrow": true,
          "x": 0.9280953366128412,
          "xanchor": "right",
          "y": -0.9816333510539413,
          "yanchor": "top"
         },
         {
          "font": {
           "size": 12
          },
          "showarrow": false,
          "text": "ab",
          "x": 1.1137144039354094,
          "xanchor": "center",
          "y": -1.1779600212647297,
          "yanchor": "middle"
         }
        ],
        "legend": {
         "title": {
          "text": "Class"
         },
         "tracegroupgap": 0
        },
        "margin": {
         "t": 60
        },
        "template": {
         "data": {
          "bar": [
           {
            "error_x": {
             "color": "#2a3f5f"
            },
            "error_y": {
             "color": "#2a3f5f"
            },
            "marker": {
             "line": {
              "color": "#E5ECF6",
              "width": 0.5
             },
             "pattern": {
              "fillmode": "overlay",
              "size": 10,
              "solidity": 0.2
             }
            },
            "type": "bar"
           }
          ],
          "barpolar": [
           {
            "marker": {
             "line": {
              "color": "#E5ECF6",
              "width": 0.5
             },
             "pattern": {
              "fillmode": "overlay",
              "size": 10,
              "solidity": 0.2
             }
            },
            "type": "barpolar"
           }
          ],
          "carpet": [
           {
            "aaxis": {
             "endlinecolor": "#2a3f5f",
             "gridcolor": "white",
             "linecolor": "white",
             "minorgridcolor": "white",
             "startlinecolor": "#2a3f5f"
            },
            "baxis": {
             "endlinecolor": "#2a3f5f",
             "gridcolor": "white",
             "linecolor": "white",
             "minorgridcolor": "white",
             "startlinecolor": "#2a3f5f"
            },
            "type": "carpet"
           }
          ],
          "choropleth": [
           {
            "colorbar": {
             "outlinewidth": 0,
             "ticks": ""
            },
            "type": "choropleth"
           }
          ],
          "contour": [
           {
            "colorbar": {
             "outlinewidth": 0,
             "ticks": ""
            },
            "colorscale": [
             [
              0,
              "#0d0887"
             ],
             [
              0.1111111111111111,
              "#46039f"
             ],
             [
              0.2222222222222222,
              "#7201a8"
             ],
             [
              0.3333333333333333,
              "#9c179e"
             ],
             [
              0.4444444444444444,
              "#bd3786"
             ],
             [
              0.5555555555555556,
              "#d8576b"
             ],
             [
              0.6666666666666666,
              "#ed7953"
             ],
             [
              0.7777777777777778,
              "#fb9f3a"
             ],
             [
              0.8888888888888888,
              "#fdca26"
             ],
             [
              1,
              "#f0f921"
             ]
            ],
            "type": "contour"
           }
          ],
          "contourcarpet": [
           {
            "colorbar": {
             "outlinewidth": 0,
             "ticks": ""
            },
            "type": "contourcarpet"
           }
          ],
          "heatmap": [
           {
            "colorbar": {
             "outlinewidth": 0,
             "ticks": ""
            },
            "colorscale": [
             [
              0,
              "#0d0887"
             ],
             [
              0.1111111111111111,
              "#46039f"
             ],
             [
              0.2222222222222222,
              "#7201a8"
             ],
             [
              0.3333333333333333,
              "#9c179e"
             ],
             [
              0.4444444444444444,
              "#bd3786"
             ],
             [
              0.5555555555555556,
              "#d8576b"
             ],
             [
              0.6666666666666666,
              "#ed7953"
             ],
             [
              0.7777777777777778,
              "#fb9f3a"
             ],
             [
              0.8888888888888888,
              "#fdca26"
             ],
             [
              1,
              "#f0f921"
             ]
            ],
            "type": "heatmap"
           }
          ],
          "histogram": [
           {
            "marker": {
             "pattern": {
              "fillmode": "overlay",
              "size": 10,
              "solidity": 0.2
             }
            },
            "type": "histogram"
           }
          ],
          "histogram2d": [
           {
            "colorbar": {
             "outlinewidth": 0,
             "ticks": ""
            },
            "colorscale": [
             [
              0,
              "#0d0887"
             ],
             [
              0.1111111111111111,
              "#46039f"
             ],
             [
              0.2222222222222222,
              "#7201a8"
             ],
             [
              0.3333333333333333,
              "#9c179e"
             ],
             [
              0.4444444444444444,
              "#bd3786"
             ],
             [
              0.5555555555555556,
              "#d8576b"
             ],
             [
              0.6666666666666666,
              "#ed7953"
             ],
             [
              0.7777777777777778,
              "#fb9f3a"
             ],
             [
              0.8888888888888888,
              "#fdca26"
             ],
             [
              1,
              "#f0f921"
             ]
            ],
            "type": "histogram2d"
           }
          ],
          "histogram2dcontour": [
           {
            "colorbar": {
             "outlinewidth": 0,
             "ticks": ""
            },
            "colorscale": [
             [
              0,
              "#0d0887"
             ],
             [
              0.1111111111111111,
              "#46039f"
             ],
             [
              0.2222222222222222,
              "#7201a8"
             ],
             [
              0.3333333333333333,
              "#9c179e"
             ],
             [
              0.4444444444444444,
              "#bd3786"
             ],
             [
              0.5555555555555556,
              "#d8576b"
             ],
             [
              0.6666666666666666,
              "#ed7953"
             ],
             [
              0.7777777777777778,
              "#fb9f3a"
             ],
             [
              0.8888888888888888,
              "#fdca26"
             ],
             [
              1,
              "#f0f921"
             ]
            ],
            "type": "histogram2dcontour"
           }
          ],
          "mesh3d": [
           {
            "colorbar": {
             "outlinewidth": 0,
             "ticks": ""
            },
            "type": "mesh3d"
           }
          ],
          "parcoords": [
           {
            "line": {
             "colorbar": {
              "outlinewidth": 0,
              "ticks": ""
             }
            },
            "type": "parcoords"
           }
          ],
          "pie": [
           {
            "automargin": true,
            "type": "pie"
           }
          ],
          "scatter": [
           {
            "fillpattern": {
             "fillmode": "overlay",
             "size": 10,
             "solidity": 0.2
            },
            "type": "scatter"
           }
          ],
          "scatter3d": [
           {
            "line": {
             "colorbar": {
              "outlinewidth": 0,
              "ticks": ""
             }
            },
            "marker": {
             "colorbar": {
              "outlinewidth": 0,
              "ticks": ""
             }
            },
            "type": "scatter3d"
           }
          ],
          "scattercarpet": [
           {
            "marker": {
             "colorbar": {
              "outlinewidth": 0,
              "ticks": ""
             }
            },
            "type": "scattercarpet"
           }
          ],
          "scattergeo": [
           {
            "marker": {
             "colorbar": {
              "outlinewidth": 0,
              "ticks": ""
             }
            },
            "type": "scattergeo"
           }
          ],
          "scattergl": [
           {
            "marker": {
             "colorbar": {
              "outlinewidth": 0,
              "ticks": ""
             }
            },
            "type": "scattergl"
           }
          ],
          "scattermap": [
           {
            "marker": {
             "colorbar": {
              "outlinewidth": 0,
              "ticks": ""
             }
            },
            "type": "scattermap"
           }
          ],
          "scattermapbox": [
           {
            "marker": {
             "colorbar": {
              "outlinewidth": 0,
              "ticks": ""
             }
            },
            "type": "scattermapbox"
           }
          ],
          "scatterpolar": [
           {
            "marker": {
             "colorbar": {
              "outlinewidth": 0,
              "ticks": ""
             }
            },
            "type": "scatterpolar"
           }
          ],
          "scatterpolargl": [
           {
            "marker": {
             "colorbar": {
              "outlinewidth": 0,
              "ticks": ""
             }
            },
            "type": "scatterpolargl"
           }
          ],
          "scatterternary": [
           {
            "marker": {
             "colorbar": {
              "outlinewidth": 0,
              "ticks": ""
             }
            },
            "type": "scatterternary"
           }
          ],
          "surface": [
           {
            "colorbar": {
             "outlinewidth": 0,
             "ticks": ""
            },
            "colorscale": [
             [
              0,
              "#0d0887"
             ],
             [
              0.1111111111111111,
              "#46039f"
             ],
             [
              0.2222222222222222,
              "#7201a8"
             ],
             [
              0.3333333333333333,
              "#9c179e"
             ],
             [
              0.4444444444444444,
              "#bd3786"
             ],
             [
              0.5555555555555556,
              "#d8576b"
             ],
             [
              0.6666666666666666,
              "#ed7953"
             ],
             [
              0.7777777777777778,
              "#fb9f3a"
             ],
             [
              0.8888888888888888,
              "#fdca26"
             ],
             [
              1,
              "#f0f921"
             ]
            ],
            "type": "surface"
           }
          ],
          "table": [
           {
            "cells": {
             "fill": {
              "color": "#EBF0F8"
             },
             "line": {
              "color": "white"
             }
            },
            "header": {
             "fill": {
              "color": "#C8D4E3"
             },
             "line": {
              "color": "white"
             }
            },
            "type": "table"
           }
          ]
         },
         "layout": {
          "annotationdefaults": {
           "arrowcolor": "#2a3f5f",
           "arrowhead": 0,
           "arrowwidth": 1
          },
          "autotypenumbers": "strict",
          "coloraxis": {
           "colorbar": {
            "outlinewidth": 0,
            "ticks": ""
           }
          },
          "colorscale": {
           "diverging": [
            [
             0,
             "#8e0152"
            ],
            [
             0.1,
             "#c51b7d"
            ],
            [
             0.2,
             "#de77ae"
            ],
            [
             0.3,
             "#f1b6da"
            ],
            [
             0.4,
             "#fde0ef"
            ],
            [
             0.5,
             "#f7f7f7"
            ],
            [
             0.6,
             "#e6f5d0"
            ],
            [
             0.7,
             "#b8e186"
            ],
            [
             0.8,
             "#7fbc41"
            ],
            [
             0.9,
             "#4d9221"
            ],
            [
             1,
             "#276419"
            ]
           ],
           "sequential": [
            [
             0,
             "#0d0887"
            ],
            [
             0.1111111111111111,
             "#46039f"
            ],
            [
             0.2222222222222222,
             "#7201a8"
            ],
            [
             0.3333333333333333,
             "#9c179e"
            ],
            [
             0.4444444444444444,
             "#bd3786"
            ],
            [
             0.5555555555555556,
             "#d8576b"
            ],
            [
             0.6666666666666666,
             "#ed7953"
            ],
            [
             0.7777777777777778,
             "#fb9f3a"
            ],
            [
             0.8888888888888888,
             "#fdca26"
            ],
            [
             1,
             "#f0f921"
            ]
           ],
           "sequentialminus": [
            [
             0,
             "#0d0887"
            ],
            [
             0.1111111111111111,
             "#46039f"
            ],
            [
             0.2222222222222222,
             "#7201a8"
            ],
            [
             0.3333333333333333,
             "#9c179e"
            ],
            [
             0.4444444444444444,
             "#bd3786"
            ],
            [
             0.5555555555555556,
             "#d8576b"
            ],
            [
             0.6666666666666666,
             "#ed7953"
            ],
            [
             0.7777777777777778,
             "#fb9f3a"
            ],
            [
             0.8888888888888888,
             "#fdca26"
            ],
            [
             1,
             "#f0f921"
            ]
           ]
          },
          "colorway": [
           "#636efa",
           "#EF553B",
           "#00cc96",
           "#ab63fa",
           "#FFA15A",
           "#19d3f3",
           "#FF6692",
           "#B6E880",
           "#FF97FF",
           "#FECB52"
          ],
          "font": {
           "color": "#2a3f5f"
          },
          "geo": {
           "bgcolor": "white",
           "lakecolor": "white",
           "landcolor": "#E5ECF6",
           "showlakes": true,
           "showland": true,
           "subunitcolor": "white"
          },
          "hoverlabel": {
           "align": "left"
          },
          "hovermode": "closest",
          "mapbox": {
           "style": "light"
          },
          "paper_bgcolor": "white",
          "plot_bgcolor": "#E5ECF6",
          "polar": {
           "angularaxis": {
            "gridcolor": "white",
            "linecolor": "white",
            "ticks": ""
           },
           "bgcolor": "#E5ECF6",
           "radialaxis": {
            "gridcolor": "white",
            "linecolor": "white",
            "ticks": ""
           }
          },
          "scene": {
           "xaxis": {
            "backgroundcolor": "#E5ECF6",
            "gridcolor": "white",
            "gridwidth": 2,
            "linecolor": "white",
            "showbackground": true,
            "ticks": "",
            "zerolinecolor": "white"
           },
           "yaxis": {
            "backgroundcolor": "#E5ECF6",
            "gridcolor": "white",
            "gridwidth": 2,
            "linecolor": "white",
            "showbackground": true,
            "ticks": "",
            "zerolinecolor": "white"
           },
           "zaxis": {
            "backgroundcolor": "#E5ECF6",
            "gridcolor": "white",
            "gridwidth": 2,
            "linecolor": "white",
            "showbackground": true,
            "ticks": "",
            "zerolinecolor": "white"
           }
          },
          "shapedefaults": {
           "line": {
            "color": "#2a3f5f"
           }
          },
          "ternary": {
           "aaxis": {
            "gridcolor": "white",
            "linecolor": "white",
            "ticks": ""
           },
           "baxis": {
            "gridcolor": "white",
            "linecolor": "white",
            "ticks": ""
           },
           "bgcolor": "#E5ECF6",
           "caxis": {
            "gridcolor": "white",
            "linecolor": "white",
            "ticks": ""
           }
          },
          "title": {
           "x": 0.05
          },
          "xaxis": {
           "automargin": true,
           "gridcolor": "white",
           "linecolor": "white",
           "ticks": "",
           "title": {
            "standoff": 15
           },
           "zerolinecolor": "white",
           "zerolinewidth": 2
          },
          "yaxis": {
           "automargin": true,
           "gridcolor": "white",
           "linecolor": "white",
           "ticks": "",
           "title": {
            "standoff": 15
           },
           "zerolinecolor": "white",
           "zerolinewidth": 2
          }
         }
        },
        "title": {
         "text": "Biplot of life history traits colored by class"
        },
        "xaxis": {
         "anchor": "y",
         "domain": [
          0,
          1
         ],
         "title": {
          "text": "PC1 (47.4%)"
         }
        },
        "yaxis": {
         "anchor": "x",
         "domain": [
          0,
          1
         ],
         "title": {
          "text": "PC2 (37.6%)"
         }
        }
       }
      }
     },
     "metadata": {},
     "output_type": "display_data"
    }
   ],
   "source": [
    "chordata = final_df[final_df['phylum'] == 'Chordata']\n",
    "#color by size (no zero)\n",
    "size_variable_wwi = final_df[\"Wwi\"] - final_df[\"Wwi\"].min() + 0.1  \n",
    "size_variable_ri = final_df[\"Ri\"] - final_df[\"Ri\"].min() + 0.1\n",
    "size_variable_am = final_df[\"am\"] - final_df[\"am\"].min() + 0.1\n",
    "size_variable_li = final_df[\"Li\"] - final_df[\"Li\"].min() + 0.1\n",
    "size_variable_wwb = final_df[\"Wwb\"] - final_df[\"Wwb\"].min() + 0.1\n",
    "\n",
    "fig = px.scatter(\n",
    "    chordata, \n",
    "    x=\"PC1\", \n",
    "    y=\"PC2\", \n",
    "    color=chordata[\"class\"],\n",
    "    # size=size_variable_wwb,\n",
    "    #symbol=final_df[\"ecozone\"],\n",
    "    color_discrete_sequence=px.colors.qualitative.Set2,\n",
    "    # color_continuous_scale=\"Magma\", \n",
    "    hover_name=chordata[\"species\"],\n",
    "    )\n",
    "\n",
    "for i, feature in enumerate(features):\n",
    "    x = scaled_loadings[i, 0]\n",
    "    y = scaled_loadings[i, 1]\n",
    "\n",
    "    fig.add_annotation(\n",
    "        ax=0, ay=0,\n",
    "        axref=\"x\", ayref=\"y\",\n",
    "        x=scaled_loadings[i, 0],\n",
    "        y=scaled_loadings[i, 1],\n",
    "        showarrow=True,\n",
    "        arrowsize=2,\n",
    "        arrowhead=2,\n",
    "        xanchor=\"right\",\n",
    "        yanchor=\"top\",\n",
    "        arrowcolor=\"black\",\n",
    "    )\n",
    "\n",
    "    fig.add_annotation(\n",
    "        x=x * 1.2,  \n",
    "        y=y * 1.2,\n",
    "        text=feature,\n",
    "        showarrow=False,\n",
    "        font=dict(size=12),\n",
    "        xanchor=\"center\",\n",
    "        yanchor=\"middle\",\n",
    "    )\n",
    "\n",
    "fig.update_layout(\n",
    "    title=\"Biplot of life history traits colored by class\",\n",
    "    xaxis_title=f\"PC1 ({pc1_var:.1f}%)\",\n",
    "    yaxis_title=f\"PC2 ({pc2_var:.1f}%)\",\n",
    "    legend_title=\"Class\"\n",
    "    # xaxis=dict(showgrid=False, zeroline=False),\n",
    "    # yaxis=dict(showgrid=False, zeroline=False),\n",
    ")\n",
    "\n",
    "fig.update_traces(marker=dict(size=7, opacity=0.8))  \n",
    "# fig.update_coloraxes(colorbar_title=\"ab\")\n",
    "fig.show()\n",
    "# fig.write_html(\"../figures/.html\")\n"
   ]
  }
 ],
 "metadata": {
  "kernelspec": {
   "display_name": ".venv",
   "language": "python",
   "name": "python3"
  },
  "language_info": {
   "codemirror_mode": {
    "name": "ipython",
    "version": 3
   },
   "file_extension": ".py",
   "mimetype": "text/x-python",
   "name": "python",
   "nbconvert_exporter": "python",
   "pygments_lexer": "ipython3",
   "version": "3.12.10"
  }
 },
 "nbformat": 4,
 "nbformat_minor": 5
}
